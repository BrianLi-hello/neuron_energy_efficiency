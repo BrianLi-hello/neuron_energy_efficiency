{
 "cells": [
  {
   "cell_type": "code",
   "execution_count": 60,
   "metadata": {},
   "outputs": [],
   "source": [
    "# Imports\n",
    "import torch\n",
    "import torch.nn as nn  # All neural network modules \n",
    "import torch.nn.init as init    # For weight initializations\n",
    "import torch.optim as optim  # For all optimization algorithms, SGD, Adam, etc.\n",
    "import torch.nn.functional as F  # All functions that don't have any parameters\n",
    "from torch.utils.data import (\n",
    "    DataLoader,\n",
    ")  # Gives easier dataset managment and creates mini batches\n",
    "import torchvision.datasets as datasets  # Has standard datasets we can import in a clear way\n",
    "import torchvision.transforms as transforms  # Transformations we can perform on our dataset\n",
    "from tqdm import tqdm # For progress bars \n",
    "import matplotlib.pyplot as plt # For graphing  \n",
    "import numpy as np  # For graphing  \n",
    "import pandas as pd     # For data frames\n",
    "import seaborn as sns   # For graphing\n",
    "\n",
    "device = torch.device(\"cuda\" if torch.cuda.is_available() else \"cpu\") \n"
   ]
  },
  {
   "cell_type": "code",
   "execution_count": 61,
   "metadata": {},
   "outputs": [],
   "source": [
    "# Hyperparameters\n",
    "learning_rate = 1e-3\n",
    "batch_size = 12000\n",
    "num_epoches = 5"
   ]
  },
  {
   "cell_type": "code",
   "execution_count": 62,
   "metadata": {
    "scrolled": true
   },
   "outputs": [
    {
     "name": "stdout",
     "output_type": "stream",
     "text": [
      "Number of training images: 60000\n",
      "Number of test images: 10000\n"
     ]
    }
   ],
   "source": [
    "# Get MNIST data\n",
    "train_ds = datasets.MNIST(\n",
    "    root=\"dataset/\", train=True, transform=transforms.ToTensor(), download=True\n",
    ")\n",
    "train_loader = DataLoader(dataset=train_ds, batch_size=batch_size, shuffle=True)\n",
    "\n",
    "test_ds = datasets.MNIST(\n",
    "    root=\"dataset/\", train=False, transform=transforms.ToTensor(), download=True\n",
    ")\n",
    "test_loader = DataLoader(dataset=test_ds, batch_size=batch_size, shuffle=False)\n",
    "\n",
    "# Print the number of images in the training set\n",
    "print(\"Number of training images:\", len(train_ds))\n",
    "\n",
    "# Print the number of images in the test set\n",
    "print(\"Number of test images:\", len(test_ds))\n"
   ]
  },
  {
   "cell_type": "code",
   "execution_count": 63,
   "metadata": {},
   "outputs": [],
   "source": [
    "class OverallNet(nn.Module):\n",
    "  def __init__(self, num_dendritic_inputs, num_neurons, num_dendrite_neuron_layers):\n",
    "    super().__init__()\n",
    "    # Input: 28 by 28 pixel image = 784 artifical neurons\n",
    "    # Output: Digit from zero to nine\n",
    "    \n",
    "    if num_dendrite_neuron_layers == 1:\n",
    "      self.layer1 = nn.Linear(784, num_dendritic_inputs)\n",
    "      self.layer2 = nn.Linear(num_dendritic_inputs, num_neurons)\n",
    "      self.layer3 = nn.Linear(num_neurons, 10)\n",
    "\n",
    "      # Apply He weight initialization\n",
    "      init.kaiming_uniform_(self.layer1.weight, mode=\"fan_in\", nonlinearity=\"relu\")\n",
    "      init.kaiming_uniform_(self.layer2.weight, mode=\"fan_in\", nonlinearity=\"relu\")\n",
    "      init.kaiming_uniform_(self.layer3.weight, mode=\"fan_in\", nonlinearity=\"relu\")\n",
    "\n",
    "    elif num_dendrite_neuron_layers == 2:\n",
    "      self.layer1 = nn.Linear(784, num_dendritic_inputs)\n",
    "      self.layer2 = nn.Linear(num_dendritic_inputs, num_neurons)\n",
    "      self.layer3 = nn.Linear(num_neurons, num_dendritic_inputs)\n",
    "      self.layer4 = nn.Linear(num_dendritic_inputs, num_neurons)\n",
    "      self.layer5 = nn.Linear(num_neurons, 10)\n",
    "\n",
    "    # Apply He weight initialization\n",
    "      init.kaiming_uniform_(self.layer1.weight, mode=\"fan_in\", nonlinearity=\"relu\")\n",
    "      init.kaiming_uniform_(self.layer2.weight, mode=\"fan_in\", nonlinearity=\"relu\")\n",
    "      init.kaiming_uniform_(self.layer3.weight, mode=\"fan_in\", nonlinearity=\"relu\")\n",
    "      init.kaiming_uniform_(self.layer4.weight, mode=\"fan_in\", nonlinearity=\"relu\")\n",
    "      init.kaiming_uniform_(self.layer5.weight, mode=\"fan_in\", nonlinearity=\"relu\")\n",
    "\n",
    "    self.R = nn.ReLU()\n",
    "\n",
    "  def forward(self, x, num_neurons, chunk_size, num_dendrite_neuron_layers):\n",
    "    x = x.view(-1,28**2)\n",
    "    x = self.R(self.layer1(x))\n",
    "\n",
    "    # Debug only: \n",
    "    # print(x.size())\n",
    "    # print(self.layer2.bias.size())\n",
    "\n",
    "    somas_1 = []\n",
    "  \n",
    "    # Iterate through all output neurons to get their individual feedforward result\n",
    "    # Layer 2 to 3 dendrites to somas\n",
    "    for i in range(num_neurons):\n",
    "      chunk_neuron_input = x[:, (chunk_size * i):(chunk_size * i + chunk_size)]   # Divide chunk of converging inputs by 8\n",
    "      layer2_weights = nn.Parameter(self.layer2.weight[i, (chunk_size * i):(chunk_size * i + chunk_size)].unsqueeze(0))   # Divide chunk of converging weights by 16\n",
    "      layer2_bias = nn.Parameter(self.layer2.bias[i]) # Set bias for the nueron of interest\n",
    "  \n",
    "      # Debug only: \n",
    "      # print(chunk_neuron_input.size())\n",
    "      # print(layer2_weights.size())\n",
    "      # print(layer2_bias.size())\n",
    "      \n",
    "      neuron_forward = self.R(torch.mm(chunk_neuron_input, layer2_weights.t()) + layer2_bias)\n",
    "      \n",
    "      somas_1.append(neuron_forward)\n",
    "      \n",
    "      # Debug only: \n",
    "      # print(somas)\n",
    "\n",
    "    x = torch.cat(somas_1, dim=1) # concatenate the resulting matrices of layer 2\n",
    "    x = self.R(self.layer3(x))\n",
    "\n",
    "    # Debug only: \n",
    "    # print(x.size())\n",
    "    # print(self.layer4.weight.size())\n",
    "    # print(self.layer5.bias.size())\n",
    "    # print(self.layer5.bias)\n",
    "\n",
    "    if num_dendrite_neuron_layers == 2:\n",
    "      somas_2 = []\n",
    "\n",
    "      # Layer 4 to 5 dendrites to somas\n",
    "      for i in range(num_neurons):\n",
    "          # print(i)\n",
    "          chunk_neuron_input = x[:, (chunk_size * i):(chunk_size * i + chunk_size)]   # Divide chunk of converging inputs by 8\n",
    "          layer4_weights = nn.Parameter(self.layer4.weight[i, (chunk_size * i):(chunk_size * i + chunk_size)].unsqueeze(0))   # Divide chunk of converging weights by 16\n",
    "          layer4_bias = nn.Parameter(self.layer4.bias[i]) # Set bias for the nueron of interest\n",
    "      \n",
    "          # Debug only: \n",
    "          # print(layer5_bias)\n",
    "          # print(chunk_neuron_input.size())\n",
    "          # print(layer4_weights.size())\n",
    "          # print(layer5_bias.size())\n",
    "          \n",
    "          neuron_forward = self.R(torch.mm(chunk_neuron_input, layer4_weights.t()) + layer4_bias)\n",
    "          \n",
    "          somas_2.append(neuron_forward)\n",
    "          \n",
    "          # Debug only: \n",
    "          # print(somas)\n",
    "\n",
    "      x = torch.cat(somas_2, dim=1) # concatenate the resulting matrices of layer 4\n",
    "\n",
    "      x = self.R(self.layer5(x))\n",
    "    \n",
    "    return x"
   ]
  },
  {
   "cell_type": "code",
   "execution_count": 64,
   "metadata": {
    "scrolled": true
   },
   "outputs": [],
   "source": [
    "# Check parameter matrix sizes\n",
    "def print_parameter_info(model):\n",
    "    for name, param in model.named_parameters():\n",
    "        print(name)\n",
    "        print(type(param), param.size())"
   ]
  },
  {
   "cell_type": "code",
   "execution_count": 65,
   "metadata": {},
   "outputs": [],
   "source": [
    "def freeze_network_layers(model):\n",
    "  # Freeze weights and biases\n",
    "  for name, param in model.named_parameters():\n",
    "    # Freeze layer 1's weights and biases if set to False\n",
    "    if param.requires_grad and 'layer1' in name:\n",
    "        param.requires_grad = True\n",
    "    # Freeze layer 2's weights and biases\n",
    "    elif param.requires_grad and 'layer2' in name: \n",
    "        param.requires_grad = False               \n",
    "    # # Freeze layer 3's weights and biases if set to False\n",
    "    # elif param.requires_grad and 'layer3' in name:\n",
    "    #     param.requires_grad = True\n",
    "    # # Freeze layer 4's weights and biases \n",
    "    # elif param.requires_grad and 'layer4' in name:\n",
    "    #     # Freeze layer 4's weights and biases if set to False\n",
    "    #     param.requires_grad = True"
   ]
  },
  {
   "cell_type": "code",
   "execution_count": 66,
   "metadata": {},
   "outputs": [],
   "source": [
    "# Train Network\n",
    "def train_network(device, num_epoches, train_loader, model, criterion, optimizer, num_neurons, chunk_size, num_dendrite_neuron_layers):\n",
    "    for epoch in range(num_epoches):\n",
    "        losses = []\n",
    "\n",
    "        for batch_idx, (data, targets) in enumerate(tqdm(train_loader)):\n",
    "            # Get data to cuda if possible\n",
    "            data = data.to(device=device)\n",
    "            targets = targets.to(device=device)\n",
    "\n",
    "            # forward\n",
    "            scores = model(data, num_neurons, chunk_size, num_dendrite_neuron_layers)\n",
    "            loss = criterion(scores, targets)\n",
    "\n",
    "            losses.append(loss.item())\n",
    "            # backward\n",
    "            optimizer.zero_grad()\n",
    "            loss.backward()\n",
    "\n",
    "            # gradient descent or adam step\n",
    "            optimizer.step()\n",
    "\n",
    "        # print(f\"Cost at epoch {epoch} is {sum(losses)/len(losses):.5f}\")\n"
   ]
  },
  {
   "cell_type": "code",
   "execution_count": 67,
   "metadata": {},
   "outputs": [],
   "source": [
    "def check_accuracy(loader, model, num_neurons, chunk_size, num_dendrite_neuron_layers):\n",
    "    if loader.dataset.train:\n",
    "        print(\"Checking accuracy on training data\")\n",
    "    else:\n",
    "        print(\"Checking accuracy on test data\")\n",
    "\n",
    "    num_correct = 0\n",
    "    num_samples = 0\n",
    "    model.eval()\n",
    "\n",
    "    with torch.no_grad():\n",
    "        for x, y in loader:\n",
    "            x = x.to(device=device)\n",
    "            y = y.to(device=device)\n",
    "\n",
    "            scores = model(x, num_neurons, chunk_size, num_dendrite_neuron_layers)\n",
    "            _, predictions = scores.max(1)\n",
    "            num_correct += (predictions == y).sum()\n",
    "            num_samples += predictions.size(0)\n",
    "\n",
    "        accuracy = float(num_correct)/float(num_samples)\n",
    "        print(f\"Got {num_correct} / {num_samples} with accuracy {accuracy*100:.2f}%\")\n",
    "\n",
    "    # Set the model mode to train\n",
    "    model.train()\n",
    "    return accuracy"
   ]
  },
  {
   "cell_type": "code",
   "execution_count": 68,
   "metadata": {
    "scrolled": true
   },
   "outputs": [],
   "source": [
    "def run_trials(num_dendritic_inputs, num_neurons, num_dendrite_neuron_layers, num_trainings):\n",
    "  acc_dict = {}\n",
    "  acc_dict[0] = 0\n",
    "\n",
    "  chunk_size = num_dendritic_inputs // num_neurons\n",
    "  model = OverallNet(num_dendritic_inputs, num_neurons, num_dendrite_neuron_layers)\n",
    "  freeze_network_layers(model)\n",
    "  print_parameter_info(model) \n",
    "  criterion = nn.CrossEntropyLoss()\n",
    "  optimizer = optim.Adam(model.parameters(), lr=learning_rate)\n",
    "  \n",
    "  for training in range(num_trainings):\n",
    "    train_network(device, num_epoches, train_loader, model, criterion, optimizer, num_neurons, chunk_size, num_dendrite_neuron_layers)\n",
    "    \n",
    "    acc_dict[training + 1] = check_accuracy(test_loader, model, num_neurons, chunk_size, num_dendrite_neuron_layers)\n",
    "    print(f\"Row: {training + 1} | {num_dendritic_inputs} | {num_neurons} | {list(acc_dict.values())}\")\n",
    "\n",
    "  # Plot graph of accuracies after the trial\n",
    "  ypoints = np.array(list(acc_dict.values()))\n",
    "  plt.xticks(np.arange(0, len(ypoints), 1.0))\n",
    "  plt.xlabel(\"Number of trainings\")\n",
    "  plt.ylabel(\"Accuracy\")\n",
    "  plt.title(f\"{num_dendrite_neuron_layers} layers of {num_dendritic_inputs} dendrites and {num_neurons} neurons\")\n",
    "  plt.plot(ypoints)\n",
    "  plt.show()\n",
    "\n",
    "  return list(acc_dict.values())"
   ]
  },
  {
   "cell_type": "code",
   "execution_count": 69,
   "metadata": {},
   "outputs": [
    {
     "name": "stdout",
     "output_type": "stream",
     "text": [
      "--- NEW MODEL 0 --- \n",
      "layer1.weight\n",
      "<class 'torch.nn.parameter.Parameter'> torch.Size([392, 784])\n",
      "layer1.bias\n",
      "<class 'torch.nn.parameter.Parameter'> torch.Size([392])\n",
      "layer2.weight\n",
      "<class 'torch.nn.parameter.Parameter'> torch.Size([14, 392])\n",
      "layer2.bias\n",
      "<class 'torch.nn.parameter.Parameter'> torch.Size([14])\n",
      "layer3.weight\n",
      "<class 'torch.nn.parameter.Parameter'> torch.Size([10, 14])\n",
      "layer3.bias\n",
      "<class 'torch.nn.parameter.Parameter'> torch.Size([10])\n"
     ]
    },
    {
     "name": "stderr",
     "output_type": "stream",
     "text": [
      "100%|██████████| 5/5 [00:08<00:00,  1.73s/it]\n",
      "100%|██████████| 5/5 [00:08<00:00,  1.73s/it]\n",
      "100%|██████████| 5/5 [00:08<00:00,  1.72s/it]\n",
      "100%|██████████| 5/5 [00:08<00:00,  1.72s/it]\n",
      "100%|██████████| 5/5 [00:08<00:00,  1.76s/it]\n"
     ]
    },
    {
     "name": "stdout",
     "output_type": "stream",
     "text": [
      "Checking accuracy on test data\n",
      "Got 5846 / 10000 with accuracy 58.46%\n",
      "Row: 1 | 392 | 14 | [0, 0.5846]\n"
     ]
    },
    {
     "name": "stderr",
     "output_type": "stream",
     "text": [
      "100%|██████████| 5/5 [00:08<00:00,  1.71s/it]\n",
      "100%|██████████| 5/5 [00:09<00:00,  1.84s/it]\n",
      "100%|██████████| 5/5 [00:08<00:00,  1.73s/it]\n",
      "100%|██████████| 5/5 [00:08<00:00,  1.73s/it]\n",
      "100%|██████████| 5/5 [00:08<00:00,  1.74s/it]\n"
     ]
    },
    {
     "name": "stdout",
     "output_type": "stream",
     "text": [
      "Checking accuracy on test data\n",
      "Got 6914 / 10000 with accuracy 69.14%\n",
      "Row: 2 | 392 | 14 | [0, 0.5846, 0.6914]\n"
     ]
    },
    {
     "name": "stderr",
     "output_type": "stream",
     "text": [
      "100%|██████████| 5/5 [00:08<00:00,  1.73s/it]\n",
      "100%|██████████| 5/5 [00:08<00:00,  1.73s/it]\n",
      "100%|██████████| 5/5 [00:08<00:00,  1.75s/it]\n",
      "100%|██████████| 5/5 [00:08<00:00,  1.71s/it]\n",
      "100%|██████████| 5/5 [00:08<00:00,  1.74s/it]\n"
     ]
    },
    {
     "name": "stdout",
     "output_type": "stream",
     "text": [
      "Checking accuracy on test data\n",
      "Got 7087 / 10000 with accuracy 70.87%\n",
      "Row: 3 | 392 | 14 | [0, 0.5846, 0.6914, 0.7087]\n"
     ]
    },
    {
     "name": "stderr",
     "output_type": "stream",
     "text": [
      "100%|██████████| 5/5 [00:08<00:00,  1.71s/it]\n",
      "100%|██████████| 5/5 [00:08<00:00,  1.73s/it]\n",
      "100%|██████████| 5/5 [00:08<00:00,  1.72s/it]\n",
      "100%|██████████| 5/5 [00:08<00:00,  1.73s/it]\n",
      "100%|██████████| 5/5 [00:08<00:00,  1.72s/it]\n"
     ]
    },
    {
     "name": "stdout",
     "output_type": "stream",
     "text": [
      "Checking accuracy on test data\n",
      "Got 7174 / 10000 with accuracy 71.74%\n",
      "Row: 4 | 392 | 14 | [0, 0.5846, 0.6914, 0.7087, 0.7174]\n"
     ]
    },
    {
     "name": "stderr",
     "output_type": "stream",
     "text": [
      "100%|██████████| 5/5 [00:08<00:00,  1.70s/it]\n",
      "100%|██████████| 5/5 [00:08<00:00,  1.72s/it]\n",
      "100%|██████████| 5/5 [00:08<00:00,  1.72s/it]\n",
      "100%|██████████| 5/5 [00:08<00:00,  1.71s/it]\n",
      "100%|██████████| 5/5 [00:08<00:00,  1.71s/it]\n"
     ]
    },
    {
     "name": "stdout",
     "output_type": "stream",
     "text": [
      "Checking accuracy on test data\n",
      "Got 7239 / 10000 with accuracy 72.39%\n",
      "Row: 5 | 392 | 14 | [0, 0.5846, 0.6914, 0.7087, 0.7174, 0.7239]\n"
     ]
    },
    {
     "name": "stderr",
     "output_type": "stream",
     "text": [
      "100%|██████████| 5/5 [00:08<00:00,  1.76s/it]\n",
      "100%|██████████| 5/5 [00:08<00:00,  1.71s/it]\n",
      "100%|██████████| 5/5 [00:08<00:00,  1.71s/it]\n",
      "100%|██████████| 5/5 [00:08<00:00,  1.69s/it]\n",
      "100%|██████████| 5/5 [00:08<00:00,  1.75s/it]\n"
     ]
    },
    {
     "name": "stdout",
     "output_type": "stream",
     "text": [
      "Checking accuracy on test data\n",
      "Got 7277 / 10000 with accuracy 72.77%\n",
      "Row: 6 | 392 | 14 | [0, 0.5846, 0.6914, 0.7087, 0.7174, 0.7239, 0.7277]\n"
     ]
    },
    {
     "name": "stderr",
     "output_type": "stream",
     "text": [
      "100%|██████████| 5/5 [00:08<00:00,  1.69s/it]\n",
      "100%|██████████| 5/5 [00:08<00:00,  1.71s/it]\n",
      "100%|██████████| 5/5 [00:08<00:00,  1.71s/it]\n",
      "100%|██████████| 5/5 [00:08<00:00,  1.72s/it]\n",
      "100%|██████████| 5/5 [00:08<00:00,  1.74s/it]\n"
     ]
    },
    {
     "name": "stdout",
     "output_type": "stream",
     "text": [
      "Checking accuracy on test data\n",
      "Got 7314 / 10000 with accuracy 73.14%\n",
      "Row: 7 | 392 | 14 | [0, 0.5846, 0.6914, 0.7087, 0.7174, 0.7239, 0.7277, 0.7314]\n"
     ]
    },
    {
     "name": "stderr",
     "output_type": "stream",
     "text": [
      "100%|██████████| 5/5 [00:08<00:00,  1.70s/it]\n",
      "100%|██████████| 5/5 [00:08<00:00,  1.69s/it]\n",
      "100%|██████████| 5/5 [00:08<00:00,  1.75s/it]\n",
      "100%|██████████| 5/5 [00:08<00:00,  1.73s/it]\n",
      "100%|██████████| 5/5 [00:08<00:00,  1.71s/it]\n"
     ]
    },
    {
     "name": "stdout",
     "output_type": "stream",
     "text": [
      "Checking accuracy on test data\n",
      "Got 7337 / 10000 with accuracy 73.37%\n",
      "Row: 8 | 392 | 14 | [0, 0.5846, 0.6914, 0.7087, 0.7174, 0.7239, 0.7277, 0.7314, 0.7337]\n"
     ]
    },
    {
     "name": "stderr",
     "output_type": "stream",
     "text": [
      "100%|██████████| 5/5 [00:08<00:00,  1.72s/it]\n",
      "100%|██████████| 5/5 [00:08<00:00,  1.76s/it]\n",
      "100%|██████████| 5/5 [00:08<00:00,  1.75s/it]\n",
      "100%|██████████| 5/5 [00:08<00:00,  1.71s/it]\n",
      "100%|██████████| 5/5 [00:08<00:00,  1.71s/it]\n"
     ]
    },
    {
     "name": "stdout",
     "output_type": "stream",
     "text": [
      "Checking accuracy on test data\n",
      "Got 7348 / 10000 with accuracy 73.48%\n",
      "Row: 9 | 392 | 14 | [0, 0.5846, 0.6914, 0.7087, 0.7174, 0.7239, 0.7277, 0.7314, 0.7337, 0.7348]\n"
     ]
    },
    {
     "name": "stderr",
     "output_type": "stream",
     "text": [
      "100%|██████████| 5/5 [00:08<00:00,  1.73s/it]\n",
      "100%|██████████| 5/5 [00:08<00:00,  1.73s/it]\n",
      "100%|██████████| 5/5 [00:08<00:00,  1.72s/it]\n",
      "100%|██████████| 5/5 [00:08<00:00,  1.71s/it]\n",
      "100%|██████████| 5/5 [00:08<00:00,  1.71s/it]\n"
     ]
    },
    {
     "name": "stdout",
     "output_type": "stream",
     "text": [
      "Checking accuracy on test data\n",
      "Got 7377 / 10000 with accuracy 73.77%\n",
      "Row: 10 | 392 | 14 | [0, 0.5846, 0.6914, 0.7087, 0.7174, 0.7239, 0.7277, 0.7314, 0.7337, 0.7348, 0.7377]\n"
     ]
    },
    {
     "name": "stderr",
     "output_type": "stream",
     "text": [
      "100%|██████████| 5/5 [00:08<00:00,  1.73s/it]\n",
      "100%|██████████| 5/5 [00:08<00:00,  1.70s/it]\n",
      "100%|██████████| 5/5 [00:08<00:00,  1.70s/it]\n",
      "100%|██████████| 5/5 [00:08<00:00,  1.73s/it]\n",
      "100%|██████████| 5/5 [00:08<00:00,  1.71s/it]\n"
     ]
    },
    {
     "name": "stdout",
     "output_type": "stream",
     "text": [
      "Checking accuracy on test data\n",
      "Got 7392 / 10000 with accuracy 73.92%\n",
      "Row: 11 | 392 | 14 | [0, 0.5846, 0.6914, 0.7087, 0.7174, 0.7239, 0.7277, 0.7314, 0.7337, 0.7348, 0.7377, 0.7392]\n"
     ]
    },
    {
     "name": "stderr",
     "output_type": "stream",
     "text": [
      "100%|██████████| 5/5 [00:08<00:00,  1.72s/it]\n",
      "100%|██████████| 5/5 [00:08<00:00,  1.71s/it]\n",
      "100%|██████████| 5/5 [00:08<00:00,  1.72s/it]\n",
      "100%|██████████| 5/5 [00:08<00:00,  1.73s/it]\n",
      "100%|██████████| 5/5 [00:08<00:00,  1.71s/it]\n"
     ]
    },
    {
     "name": "stdout",
     "output_type": "stream",
     "text": [
      "Checking accuracy on test data\n",
      "Got 7410 / 10000 with accuracy 74.10%\n",
      "Row: 12 | 392 | 14 | [0, 0.5846, 0.6914, 0.7087, 0.7174, 0.7239, 0.7277, 0.7314, 0.7337, 0.7348, 0.7377, 0.7392, 0.741]\n"
     ]
    },
    {
     "name": "stderr",
     "output_type": "stream",
     "text": [
      "100%|██████████| 5/5 [00:08<00:00,  1.71s/it]\n",
      "100%|██████████| 5/5 [00:08<00:00,  1.71s/it]\n",
      "100%|██████████| 5/5 [00:08<00:00,  1.71s/it]\n",
      "100%|██████████| 5/5 [00:08<00:00,  1.75s/it]\n",
      "100%|██████████| 5/5 [00:08<00:00,  1.74s/it]\n"
     ]
    },
    {
     "name": "stdout",
     "output_type": "stream",
     "text": [
      "Checking accuracy on test data\n",
      "Got 7427 / 10000 with accuracy 74.27%\n",
      "Row: 13 | 392 | 14 | [0, 0.5846, 0.6914, 0.7087, 0.7174, 0.7239, 0.7277, 0.7314, 0.7337, 0.7348, 0.7377, 0.7392, 0.741, 0.7427]\n"
     ]
    },
    {
     "name": "stderr",
     "output_type": "stream",
     "text": [
      "100%|██████████| 5/5 [00:08<00:00,  1.72s/it]\n",
      "100%|██████████| 5/5 [00:08<00:00,  1.72s/it]\n",
      "100%|██████████| 5/5 [00:08<00:00,  1.73s/it]\n",
      "100%|██████████| 5/5 [00:08<00:00,  1.77s/it]\n",
      "100%|██████████| 5/5 [00:08<00:00,  1.73s/it]\n"
     ]
    },
    {
     "name": "stdout",
     "output_type": "stream",
     "text": [
      "Checking accuracy on test data\n",
      "Got 7441 / 10000 with accuracy 74.41%\n",
      "Row: 14 | 392 | 14 | [0, 0.5846, 0.6914, 0.7087, 0.7174, 0.7239, 0.7277, 0.7314, 0.7337, 0.7348, 0.7377, 0.7392, 0.741, 0.7427, 0.7441]\n"
     ]
    },
    {
     "name": "stderr",
     "output_type": "stream",
     "text": [
      "100%|██████████| 5/5 [00:08<00:00,  1.72s/it]\n",
      "100%|██████████| 5/5 [00:08<00:00,  1.72s/it]\n",
      "100%|██████████| 5/5 [00:08<00:00,  1.75s/it]\n",
      "100%|██████████| 5/5 [00:08<00:00,  1.74s/it]\n",
      "100%|██████████| 5/5 [00:08<00:00,  1.74s/it]\n"
     ]
    },
    {
     "name": "stdout",
     "output_type": "stream",
     "text": [
      "Checking accuracy on test data\n",
      "Got 7454 / 10000 with accuracy 74.54%\n",
      "Row: 15 | 392 | 14 | [0, 0.5846, 0.6914, 0.7087, 0.7174, 0.7239, 0.7277, 0.7314, 0.7337, 0.7348, 0.7377, 0.7392, 0.741, 0.7427, 0.7441, 0.7454]\n"
     ]
    },
    {
     "data": {
      "image/png": "[encoded data removed]",
      "text/plain": [
       "<Figure size 640x480 with 1 Axes>"
      ]
     },
     "metadata": {},
     "output_type": "display_data"
    },
    {
     "name": "stdout",
     "output_type": "stream",
     "text": [
      "--- NEW MODEL 1 --- \n",
      "layer1.weight\n",
      "<class 'torch.nn.parameter.Parameter'> torch.Size([392, 784])\n",
      "layer1.bias\n",
      "<class 'torch.nn.parameter.Parameter'> torch.Size([392])\n",
      "layer2.weight\n",
      "<class 'torch.nn.parameter.Parameter'> torch.Size([14, 392])\n",
      "layer2.bias\n",
      "<class 'torch.nn.parameter.Parameter'> torch.Size([14])\n",
      "layer3.weight\n",
      "<class 'torch.nn.parameter.Parameter'> torch.Size([10, 14])\n",
      "layer3.bias\n",
      "<class 'torch.nn.parameter.Parameter'> torch.Size([10])\n"
     ]
    },
    {
     "name": "stderr",
     "output_type": "stream",
     "text": [
      "100%|██████████| 5/5 [00:08<00:00,  1.69s/it]\n",
      "100%|██████████| 5/5 [00:08<00:00,  1.75s/it]\n",
      "100%|██████████| 5/5 [00:08<00:00,  1.73s/it]\n",
      "100%|██████████| 5/5 [00:08<00:00,  1.70s/it]\n",
      "100%|██████████| 5/5 [00:08<00:00,  1.73s/it]\n"
     ]
    },
    {
     "name": "stdout",
     "output_type": "stream",
     "text": [
      "Checking accuracy on test data\n",
      "Got 5623 / 10000 with accuracy 56.23%\n",
      "Row: 1 | 392 | 14 | [0, 0.5623]\n"
     ]
    },
    {
     "name": "stderr",
     "output_type": "stream",
     "text": [
      "100%|██████████| 5/5 [00:08<00:00,  1.69s/it]\n",
      "100%|██████████| 5/5 [00:08<00:00,  1.73s/it]\n",
      "100%|██████████| 5/5 [00:08<00:00,  1.72s/it]\n",
      "100%|██████████| 5/5 [00:08<00:00,  1.74s/it]\n",
      "100%|██████████| 5/5 [00:08<00:00,  1.73s/it]\n"
     ]
    },
    {
     "name": "stdout",
     "output_type": "stream",
     "text": [
      "Checking accuracy on test data\n",
      "Got 7392 / 10000 with accuracy 73.92%\n",
      "Row: 2 | 392 | 14 | [0, 0.5623, 0.7392]\n"
     ]
    },
    {
     "name": "stderr",
     "output_type": "stream",
     "text": [
      "100%|██████████| 5/5 [00:08<00:00,  1.73s/it]\n",
      "100%|██████████| 5/5 [00:08<00:00,  1.79s/it]\n",
      "100%|██████████| 5/5 [00:08<00:00,  1.72s/it]\n",
      "100%|██████████| 5/5 [00:08<00:00,  1.73s/it]\n",
      "100%|██████████| 5/5 [00:08<00:00,  1.71s/it]\n"
     ]
    },
    {
     "name": "stdout",
     "output_type": "stream",
     "text": [
      "Checking accuracy on test data\n",
      "Got 8023 / 10000 with accuracy 80.23%\n",
      "Row: 3 | 392 | 14 | [0, 0.5623, 0.7392, 0.8023]\n"
     ]
    },
    {
     "name": "stderr",
     "output_type": "stream",
     "text": [
      "100%|██████████| 5/5 [00:08<00:00,  1.72s/it]\n",
      "100%|██████████| 5/5 [00:08<00:00,  1.71s/it]\n",
      "100%|██████████| 5/5 [00:08<00:00,  1.71s/it]\n",
      "100%|██████████| 5/5 [00:08<00:00,  1.68s/it]\n",
      "100%|██████████| 5/5 [00:08<00:00,  1.76s/it]\n"
     ]
    },
    {
     "name": "stdout",
     "output_type": "stream",
     "text": [
      "Checking accuracy on test data\n",
      "Got 8145 / 10000 with accuracy 81.45%\n",
      "Row: 4 | 392 | 14 | [0, 0.5623, 0.7392, 0.8023, 0.8145]\n"
     ]
    },
    {
     "name": "stderr",
     "output_type": "stream",
     "text": [
      "100%|██████████| 5/5 [00:08<00:00,  1.73s/it]\n",
      "100%|██████████| 5/5 [00:08<00:00,  1.79s/it]\n",
      "100%|██████████| 5/5 [00:08<00:00,  1.70s/it]\n",
      "100%|██████████| 5/5 [00:08<00:00,  1.70s/it]\n",
      "100%|██████████| 5/5 [00:08<00:00,  1.70s/it]\n"
     ]
    },
    {
     "name": "stdout",
     "output_type": "stream",
     "text": [
      "Checking accuracy on test data\n",
      "Got 8221 / 10000 with accuracy 82.21%\n",
      "Row: 5 | 392 | 14 | [0, 0.5623, 0.7392, 0.8023, 0.8145, 0.8221]\n"
     ]
    },
    {
     "name": "stderr",
     "output_type": "stream",
     "text": [
      "100%|██████████| 5/5 [00:08<00:00,  1.70s/it]\n",
      "100%|██████████| 5/5 [00:08<00:00,  1.73s/it]\n",
      "100%|██████████| 5/5 [00:08<00:00,  1.71s/it]\n",
      "100%|██████████| 5/5 [00:08<00:00,  1.70s/it]\n",
      "100%|██████████| 5/5 [00:08<00:00,  1.72s/it]\n"
     ]
    },
    {
     "name": "stdout",
     "output_type": "stream",
     "text": [
      "Checking accuracy on test data\n",
      "Got 8297 / 10000 with accuracy 82.97%\n",
      "Row: 6 | 392 | 14 | [0, 0.5623, 0.7392, 0.8023, 0.8145, 0.8221, 0.8297]\n"
     ]
    },
    {
     "name": "stderr",
     "output_type": "stream",
     "text": [
      "100%|██████████| 5/5 [00:08<00:00,  1.73s/it]\n",
      "100%|██████████| 5/5 [00:08<00:00,  1.72s/it]\n",
      "100%|██████████| 5/5 [00:08<00:00,  1.70s/it]\n",
      "100%|██████████| 5/5 [00:08<00:00,  1.73s/it]\n",
      "100%|██████████| 5/5 [00:08<00:00,  1.76s/it]\n"
     ]
    },
    {
     "name": "stdout",
     "output_type": "stream",
     "text": [
      "Checking accuracy on test data\n",
      "Got 8341 / 10000 with accuracy 83.41%\n",
      "Row: 7 | 392 | 14 | [0, 0.5623, 0.7392, 0.8023, 0.8145, 0.8221, 0.8297, 0.8341]\n"
     ]
    },
    {
     "name": "stderr",
     "output_type": "stream",
     "text": [
      "100%|██████████| 5/5 [00:08<00:00,  1.71s/it]\n",
      "100%|██████████| 5/5 [00:08<00:00,  1.73s/it]\n",
      "100%|██████████| 5/5 [00:08<00:00,  1.69s/it]\n",
      "100%|██████████| 5/5 [00:08<00:00,  1.71s/it]\n",
      "100%|██████████| 5/5 [00:08<00:00,  1.74s/it]\n"
     ]
    },
    {
     "name": "stdout",
     "output_type": "stream",
     "text": [
      "Checking accuracy on test data\n",
      "Got 8359 / 10000 with accuracy 83.59%\n",
      "Row: 8 | 392 | 14 | [0, 0.5623, 0.7392, 0.8023, 0.8145, 0.8221, 0.8297, 0.8341, 0.8359]\n"
     ]
    },
    {
     "name": "stderr",
     "output_type": "stream",
     "text": [
      "100%|██████████| 5/5 [00:08<00:00,  1.69s/it]\n",
      "100%|██████████| 5/5 [00:08<00:00,  1.67s/it]\n",
      "100%|██████████| 5/5 [00:08<00:00,  1.70s/it]\n",
      "100%|██████████| 5/5 [00:08<00:00,  1.70s/it]\n",
      "100%|██████████| 5/5 [00:08<00:00,  1.71s/it]\n"
     ]
    },
    {
     "name": "stdout",
     "output_type": "stream",
     "text": [
      "Checking accuracy on test data\n",
      "Got 8389 / 10000 with accuracy 83.89%\n",
      "Row: 9 | 392 | 14 | [0, 0.5623, 0.7392, 0.8023, 0.8145, 0.8221, 0.8297, 0.8341, 0.8359, 0.8389]\n"
     ]
    },
    {
     "name": "stderr",
     "output_type": "stream",
     "text": [
      "100%|██████████| 5/5 [00:08<00:00,  1.69s/it]\n",
      "100%|██████████| 5/5 [00:08<00:00,  1.70s/it]\n",
      "100%|██████████| 5/5 [00:08<00:00,  1.74s/it]\n",
      "100%|██████████| 5/5 [00:08<00:00,  1.68s/it]\n",
      "100%|██████████| 5/5 [00:08<00:00,  1.67s/it]\n"
     ]
    },
    {
     "name": "stdout",
     "output_type": "stream",
     "text": [
      "Checking accuracy on test data\n",
      "Got 8419 / 10000 with accuracy 84.19%\n",
      "Row: 10 | 392 | 14 | [0, 0.5623, 0.7392, 0.8023, 0.8145, 0.8221, 0.8297, 0.8341, 0.8359, 0.8389, 0.8419]\n"
     ]
    },
    {
     "name": "stderr",
     "output_type": "stream",
     "text": [
      "100%|██████████| 5/5 [00:08<00:00,  1.66s/it]\n",
      "100%|██████████| 5/5 [00:08<00:00,  1.69s/it]\n",
      "100%|██████████| 5/5 [00:08<00:00,  1.67s/it]\n",
      "100%|██████████| 5/5 [00:08<00:00,  1.71s/it]\n",
      "100%|██████████| 5/5 [00:08<00:00,  1.70s/it]\n"
     ]
    },
    {
     "name": "stdout",
     "output_type": "stream",
     "text": [
      "Checking accuracy on test data\n",
      "Got 8439 / 10000 with accuracy 84.39%\n",
      "Row: 11 | 392 | 14 | [0, 0.5623, 0.7392, 0.8023, 0.8145, 0.8221, 0.8297, 0.8341, 0.8359, 0.8389, 0.8419, 0.8439]\n"
     ]
    },
    {
     "name": "stderr",
     "output_type": "stream",
     "text": [
      "100%|██████████| 5/5 [00:08<00:00,  1.74s/it]\n",
      "100%|██████████| 5/5 [00:08<00:00,  1.69s/it]\n",
      "100%|██████████| 5/5 [00:08<00:00,  1.69s/it]\n",
      "100%|██████████| 5/5 [00:08<00:00,  1.69s/it]\n",
      "100%|██████████| 5/5 [00:08<00:00,  1.66s/it]\n"
     ]
    },
    {
     "name": "stdout",
     "output_type": "stream",
     "text": [
      "Checking accuracy on test data\n",
      "Got 8470 / 10000 with accuracy 84.70%\n",
      "Row: 12 | 392 | 14 | [0, 0.5623, 0.7392, 0.8023, 0.8145, 0.8221, 0.8297, 0.8341, 0.8359, 0.8389, 0.8419, 0.8439, 0.847]\n"
     ]
    },
    {
     "name": "stderr",
     "output_type": "stream",
     "text": [
      "100%|██████████| 5/5 [00:08<00:00,  1.72s/it]\n",
      "100%|██████████| 5/5 [00:08<00:00,  1.68s/it]\n",
      "100%|██████████| 5/5 [00:08<00:00,  1.69s/it]\n",
      "100%|██████████| 5/5 [00:08<00:00,  1.70s/it]\n",
      "100%|██████████| 5/5 [00:08<00:00,  1.69s/it]\n"
     ]
    },
    {
     "name": "stdout",
     "output_type": "stream",
     "text": [
      "Checking accuracy on test data\n",
      "Got 8479 / 10000 with accuracy 84.79%\n",
      "Row: 13 | 392 | 14 | [0, 0.5623, 0.7392, 0.8023, 0.8145, 0.8221, 0.8297, 0.8341, 0.8359, 0.8389, 0.8419, 0.8439, 0.847, 0.8479]\n"
     ]
    },
    {
     "name": "stderr",
     "output_type": "stream",
     "text": [
      "100%|██████████| 5/5 [00:08<00:00,  1.69s/it]\n",
      "100%|██████████| 5/5 [00:08<00:00,  1.71s/it]\n",
      "100%|██████████| 5/5 [00:08<00:00,  1.70s/it]\n",
      "100%|██████████| 5/5 [00:08<00:00,  1.70s/it]\n",
      "100%|██████████| 5/5 [00:08<00:00,  1.73s/it]\n"
     ]
    },
    {
     "name": "stdout",
     "output_type": "stream",
     "text": [
      "Checking accuracy on test data\n",
      "Got 8491 / 10000 with accuracy 84.91%\n",
      "Row: 14 | 392 | 14 | [0, 0.5623, 0.7392, 0.8023, 0.8145, 0.8221, 0.8297, 0.8341, 0.8359, 0.8389, 0.8419, 0.8439, 0.847, 0.8479, 0.8491]\n"
     ]
    },
    {
     "name": "stderr",
     "output_type": "stream",
     "text": [
      "100%|██████████| 5/5 [00:08<00:00,  1.69s/it]\n",
      "100%|██████████| 5/5 [00:08<00:00,  1.70s/it]\n",
      "100%|██████████| 5/5 [00:08<00:00,  1.70s/it]\n",
      "100%|██████████| 5/5 [00:08<00:00,  1.71s/it]\n",
      "100%|██████████| 5/5 [00:08<00:00,  1.69s/it]\n"
     ]
    },
    {
     "name": "stdout",
     "output_type": "stream",
     "text": [
      "Checking accuracy on test data\n",
      "Got 8511 / 10000 with accuracy 85.11%\n",
      "Row: 15 | 392 | 14 | [0, 0.5623, 0.7392, 0.8023, 0.8145, 0.8221, 0.8297, 0.8341, 0.8359, 0.8389, 0.8419, 0.8439, 0.847, 0.8479, 0.8491, 0.8511]\n"
     ]
    },
    {
     "data": {
      "image/png": "[encoded data removed]",
      "text/plain": [
       "<Figure size 640x480 with 1 Axes>"
      ]
     },
     "metadata": {},
     "output_type": "display_data"
    },
    {
     "name": "stdout",
     "output_type": "stream",
     "text": [
      "--- NEW MODEL 2 --- \n",
      "layer1.weight\n",
      "<class 'torch.nn.parameter.Parameter'> torch.Size([392, 784])\n",
      "layer1.bias\n",
      "<class 'torch.nn.parameter.Parameter'> torch.Size([392])\n",
      "layer2.weight\n",
      "<class 'torch.nn.parameter.Parameter'> torch.Size([14, 392])\n",
      "layer2.bias\n",
      "<class 'torch.nn.parameter.Parameter'> torch.Size([14])\n",
      "layer3.weight\n",
      "<class 'torch.nn.parameter.Parameter'> torch.Size([10, 14])\n",
      "layer3.bias\n",
      "<class 'torch.nn.parameter.Parameter'> torch.Size([10])\n"
     ]
    },
    {
     "name": "stderr",
     "output_type": "stream",
     "text": [
      "100%|██████████| 5/5 [00:08<00:00,  1.71s/it]\n",
      "100%|██████████| 5/5 [00:08<00:00,  1.76s/it]\n",
      "100%|██████████| 5/5 [00:08<00:00,  1.71s/it]\n",
      "100%|██████████| 5/5 [00:08<00:00,  1.72s/it]\n",
      "100%|██████████| 5/5 [00:08<00:00,  1.71s/it]\n"
     ]
    },
    {
     "name": "stdout",
     "output_type": "stream",
     "text": [
      "Checking accuracy on test data\n",
      "Got 5634 / 10000 with accuracy 56.34%\n",
      "Row: 1 | 392 | 14 | [0, 0.5634]\n"
     ]
    },
    {
     "name": "stderr",
     "output_type": "stream",
     "text": [
      "100%|██████████| 5/5 [00:09<00:00,  1.83s/it]\n",
      "100%|██████████| 5/5 [00:08<00:00,  1.71s/it]\n",
      "100%|██████████| 5/5 [00:08<00:00,  1.70s/it]\n",
      "100%|██████████| 5/5 [00:08<00:00,  1.70s/it]\n",
      "100%|██████████| 5/5 [00:08<00:00,  1.74s/it]\n"
     ]
    },
    {
     "name": "stdout",
     "output_type": "stream",
     "text": [
      "Checking accuracy on test data\n",
      "Got 6066 / 10000 with accuracy 60.66%\n",
      "Row: 2 | 392 | 14 | [0, 0.5634, 0.6066]\n"
     ]
    },
    {
     "name": "stderr",
     "output_type": "stream",
     "text": [
      "100%|██████████| 5/5 [00:08<00:00,  1.70s/it]\n",
      "100%|██████████| 5/5 [00:08<00:00,  1.69s/it]\n",
      "100%|██████████| 5/5 [00:08<00:00,  1.71s/it]\n",
      "100%|██████████| 5/5 [00:08<00:00,  1.73s/it]\n",
      "100%|██████████| 5/5 [00:08<00:00,  1.76s/it]\n"
     ]
    },
    {
     "name": "stdout",
     "output_type": "stream",
     "text": [
      "Checking accuracy on test data\n",
      "Got 6172 / 10000 with accuracy 61.72%\n",
      "Row: 3 | 392 | 14 | [0, 0.5634, 0.6066, 0.6172]\n"
     ]
    },
    {
     "name": "stderr",
     "output_type": "stream",
     "text": [
      "100%|██████████| 5/5 [00:08<00:00,  1.71s/it]\n",
      "100%|██████████| 5/5 [00:08<00:00,  1.70s/it]\n",
      "100%|██████████| 5/5 [00:08<00:00,  1.74s/it]\n",
      "100%|██████████| 5/5 [00:08<00:00,  1.73s/it]\n",
      "100%|██████████| 5/5 [00:08<00:00,  1.71s/it]\n"
     ]
    },
    {
     "name": "stdout",
     "output_type": "stream",
     "text": [
      "Checking accuracy on test data\n",
      "Got 6252 / 10000 with accuracy 62.52%\n",
      "Row: 4 | 392 | 14 | [0, 0.5634, 0.6066, 0.6172, 0.6252]\n"
     ]
    },
    {
     "name": "stderr",
     "output_type": "stream",
     "text": [
      "100%|██████████| 5/5 [00:08<00:00,  1.72s/it]\n",
      "100%|██████████| 5/5 [00:08<00:00,  1.74s/it]\n",
      "100%|██████████| 5/5 [00:08<00:00,  1.69s/it]\n",
      "100%|██████████| 5/5 [00:08<00:00,  1.70s/it]\n",
      "100%|██████████| 5/5 [00:08<00:00,  1.68s/it]\n"
     ]
    },
    {
     "name": "stdout",
     "output_type": "stream",
     "text": [
      "Checking accuracy on test data\n",
      "Got 6315 / 10000 with accuracy 63.15%\n",
      "Row: 5 | 392 | 14 | [0, 0.5634, 0.6066, 0.6172, 0.6252, 0.6315]\n"
     ]
    },
    {
     "name": "stderr",
     "output_type": "stream",
     "text": [
      "100%|██████████| 5/5 [00:08<00:00,  1.73s/it]\n",
      "100%|██████████| 5/5 [00:08<00:00,  1.72s/it]\n",
      "100%|██████████| 5/5 [00:08<00:00,  1.72s/it]\n",
      "100%|██████████| 5/5 [00:08<00:00,  1.79s/it]\n",
      "100%|██████████| 5/5 [00:08<00:00,  1.74s/it]\n"
     ]
    },
    {
     "name": "stdout",
     "output_type": "stream",
     "text": [
      "Checking accuracy on test data\n",
      "Got 6362 / 10000 with accuracy 63.62%\n",
      "Row: 6 | 392 | 14 | [0, 0.5634, 0.6066, 0.6172, 0.6252, 0.6315, 0.6362]\n"
     ]
    },
    {
     "name": "stderr",
     "output_type": "stream",
     "text": [
      "100%|██████████| 5/5 [00:08<00:00,  1.74s/it]\n",
      "100%|██████████| 5/5 [00:08<00:00,  1.71s/it]\n",
      "100%|██████████| 5/5 [00:08<00:00,  1.69s/it]\n",
      "100%|██████████| 5/5 [00:08<00:00,  1.69s/it]\n",
      "100%|██████████| 5/5 [00:08<00:00,  1.67s/it]\n"
     ]
    },
    {
     "name": "stdout",
     "output_type": "stream",
     "text": [
      "Checking accuracy on test data\n",
      "Got 6404 / 10000 with accuracy 64.04%\n",
      "Row: 7 | 392 | 14 | [0, 0.5634, 0.6066, 0.6172, 0.6252, 0.6315, 0.6362, 0.6404]\n"
     ]
    },
    {
     "name": "stderr",
     "output_type": "stream",
     "text": [
      "100%|██████████| 5/5 [00:08<00:00,  1.72s/it]\n",
      "100%|██████████| 5/5 [00:08<00:00,  1.69s/it]\n",
      "100%|██████████| 5/5 [00:08<00:00,  1.69s/it]\n",
      "100%|██████████| 5/5 [00:08<00:00,  1.68s/it]\n",
      "100%|██████████| 5/5 [00:08<00:00,  1.72s/it]\n"
     ]
    },
    {
     "name": "stdout",
     "output_type": "stream",
     "text": [
      "Checking accuracy on test data\n",
      "Got 6449 / 10000 with accuracy 64.49%\n",
      "Row: 8 | 392 | 14 | [0, 0.5634, 0.6066, 0.6172, 0.6252, 0.6315, 0.6362, 0.6404, 0.6449]\n"
     ]
    },
    {
     "name": "stderr",
     "output_type": "stream",
     "text": [
      "100%|██████████| 5/5 [00:08<00:00,  1.68s/it]\n",
      "100%|██████████| 5/5 [00:08<00:00,  1.68s/it]\n",
      "100%|██████████| 5/5 [00:08<00:00,  1.69s/it]\n",
      "100%|██████████| 5/5 [00:08<00:00,  1.74s/it]\n",
      "100%|██████████| 5/5 [00:08<00:00,  1.72s/it]\n"
     ]
    },
    {
     "name": "stdout",
     "output_type": "stream",
     "text": [
      "Checking accuracy on test data\n",
      "Got 6476 / 10000 with accuracy 64.76%\n",
      "Row: 9 | 392 | 14 | [0, 0.5634, 0.6066, 0.6172, 0.6252, 0.6315, 0.6362, 0.6404, 0.6449, 0.6476]\n"
     ]
    },
    {
     "name": "stderr",
     "output_type": "stream",
     "text": [
      "100%|██████████| 5/5 [00:08<00:00,  1.69s/it]\n",
      "100%|██████████| 5/5 [00:08<00:00,  1.68s/it]\n",
      "100%|██████████| 5/5 [00:08<00:00,  1.72s/it]\n",
      "100%|██████████| 5/5 [00:08<00:00,  1.69s/it]\n",
      "100%|██████████| 5/5 [00:08<00:00,  1.74s/it]\n"
     ]
    },
    {
     "name": "stdout",
     "output_type": "stream",
     "text": [
      "Checking accuracy on test data\n",
      "Got 6501 / 10000 with accuracy 65.01%\n",
      "Row: 10 | 392 | 14 | [0, 0.5634, 0.6066, 0.6172, 0.6252, 0.6315, 0.6362, 0.6404, 0.6449, 0.6476, 0.6501]\n"
     ]
    },
    {
     "name": "stderr",
     "output_type": "stream",
     "text": [
      "100%|██████████| 5/5 [00:08<00:00,  1.72s/it]\n",
      "100%|██████████| 5/5 [00:08<00:00,  1.74s/it]\n",
      "100%|██████████| 5/5 [00:08<00:00,  1.73s/it]\n",
      "100%|██████████| 5/5 [00:08<00:00,  1.70s/it]\n",
      "100%|██████████| 5/5 [00:08<00:00,  1.69s/it]\n"
     ]
    },
    {
     "name": "stdout",
     "output_type": "stream",
     "text": [
      "Checking accuracy on test data\n",
      "Got 6515 / 10000 with accuracy 65.15%\n",
      "Row: 11 | 392 | 14 | [0, 0.5634, 0.6066, 0.6172, 0.6252, 0.6315, 0.6362, 0.6404, 0.6449, 0.6476, 0.6501, 0.6515]\n"
     ]
    },
    {
     "name": "stderr",
     "output_type": "stream",
     "text": [
      "100%|██████████| 5/5 [00:08<00:00,  1.70s/it]\n",
      "100%|██████████| 5/5 [00:08<00:00,  1.72s/it]\n",
      "100%|██████████| 5/5 [00:08<00:00,  1.69s/it]\n",
      "100%|██████████| 5/5 [00:08<00:00,  1.68s/it]\n",
      "100%|██████████| 5/5 [00:08<00:00,  1.69s/it]\n"
     ]
    },
    {
     "name": "stdout",
     "output_type": "stream",
     "text": [
      "Checking accuracy on test data\n",
      "Got 6532 / 10000 with accuracy 65.32%\n",
      "Row: 12 | 392 | 14 | [0, 0.5634, 0.6066, 0.6172, 0.6252, 0.6315, 0.6362, 0.6404, 0.6449, 0.6476, 0.6501, 0.6515, 0.6532]\n"
     ]
    },
    {
     "name": "stderr",
     "output_type": "stream",
     "text": [
      "100%|██████████| 5/5 [00:08<00:00,  1.69s/it]\n",
      "100%|██████████| 5/5 [00:08<00:00,  1.71s/it]\n",
      "100%|██████████| 5/5 [00:08<00:00,  1.68s/it]\n",
      "100%|██████████| 5/5 [00:08<00:00,  1.67s/it]\n",
      "100%|██████████| 5/5 [00:08<00:00,  1.66s/it]\n"
     ]
    },
    {
     "name": "stdout",
     "output_type": "stream",
     "text": [
      "Checking accuracy on test data\n",
      "Got 6548 / 10000 with accuracy 65.48%\n",
      "Row: 13 | 392 | 14 | [0, 0.5634, 0.6066, 0.6172, 0.6252, 0.6315, 0.6362, 0.6404, 0.6449, 0.6476, 0.6501, 0.6515, 0.6532, 0.6548]\n"
     ]
    },
    {
     "name": "stderr",
     "output_type": "stream",
     "text": [
      "100%|██████████| 5/5 [00:08<00:00,  1.65s/it]\n",
      "100%|██████████| 5/5 [00:08<00:00,  1.64s/it]\n",
      "100%|██████████| 5/5 [00:08<00:00,  1.67s/it]\n",
      "100%|██████████| 5/5 [00:08<00:00,  1.66s/it]\n",
      "100%|██████████| 5/5 [00:08<00:00,  1.71s/it]\n"
     ]
    },
    {
     "name": "stdout",
     "output_type": "stream",
     "text": [
      "Checking accuracy on test data\n",
      "Got 6566 / 10000 with accuracy 65.66%\n",
      "Row: 14 | 392 | 14 | [0, 0.5634, 0.6066, 0.6172, 0.6252, 0.6315, 0.6362, 0.6404, 0.6449, 0.6476, 0.6501, 0.6515, 0.6532, 0.6548, 0.6566]\n"
     ]
    },
    {
     "name": "stderr",
     "output_type": "stream",
     "text": [
      "100%|██████████| 5/5 [00:08<00:00,  1.65s/it]\n",
      "100%|██████████| 5/5 [00:08<00:00,  1.67s/it]\n",
      "100%|██████████| 5/5 [00:08<00:00,  1.69s/it]\n",
      "100%|██████████| 5/5 [00:08<00:00,  1.67s/it]\n",
      "100%|██████████| 5/5 [00:08<00:00,  1.66s/it]\n"
     ]
    },
    {
     "name": "stdout",
     "output_type": "stream",
     "text": [
      "Checking accuracy on test data\n",
      "Got 6581 / 10000 with accuracy 65.81%\n",
      "Row: 15 | 392 | 14 | [0, 0.5634, 0.6066, 0.6172, 0.6252, 0.6315, 0.6362, 0.6404, 0.6449, 0.6476, 0.6501, 0.6515, 0.6532, 0.6548, 0.6566, 0.6581]\n"
     ]
    },
    {
     "data": {
      "image/png": "[encoded data removed]",
      "text/plain": [
       "<Figure size 640x480 with 1 Axes>"
      ]
     },
     "metadata": {},
     "output_type": "display_data"
    },
    {
     "name": "stdout",
     "output_type": "stream",
     "text": [
      "--- NEW MODEL 3 --- \n",
      "layer1.weight\n",
      "<class 'torch.nn.parameter.Parameter'> torch.Size([392, 784])\n",
      "layer1.bias\n",
      "<class 'torch.nn.parameter.Parameter'> torch.Size([392])\n",
      "layer2.weight\n",
      "<class 'torch.nn.parameter.Parameter'> torch.Size([14, 392])\n",
      "layer2.bias\n",
      "<class 'torch.nn.parameter.Parameter'> torch.Size([14])\n",
      "layer3.weight\n",
      "<class 'torch.nn.parameter.Parameter'> torch.Size([10, 14])\n",
      "layer3.bias\n",
      "<class 'torch.nn.parameter.Parameter'> torch.Size([10])\n"
     ]
    },
    {
     "name": "stderr",
     "output_type": "stream",
     "text": [
      "100%|██████████| 5/5 [00:08<00:00,  1.69s/it]\n",
      "100%|██████████| 5/5 [00:08<00:00,  1.68s/it]\n",
      "100%|██████████| 5/5 [00:08<00:00,  1.69s/it]\n",
      "100%|██████████| 5/5 [00:08<00:00,  1.68s/it]\n",
      "100%|██████████| 5/5 [00:08<00:00,  1.67s/it]\n"
     ]
    },
    {
     "name": "stdout",
     "output_type": "stream",
     "text": [
      "Checking accuracy on test data\n",
      "Got 5481 / 10000 with accuracy 54.81%\n",
      "Row: 1 | 392 | 14 | [0, 0.5481]\n"
     ]
    },
    {
     "name": "stderr",
     "output_type": "stream",
     "text": [
      "100%|██████████| 5/5 [00:08<00:00,  1.71s/it]\n",
      "100%|██████████| 5/5 [00:08<00:00,  1.73s/it]\n",
      "100%|██████████| 5/5 [00:08<00:00,  1.70s/it]\n",
      "100%|██████████| 5/5 [00:08<00:00,  1.69s/it]\n",
      "100%|██████████| 5/5 [00:08<00:00,  1.70s/it]\n"
     ]
    },
    {
     "name": "stdout",
     "output_type": "stream",
     "text": [
      "Checking accuracy on test data\n",
      "Got 5788 / 10000 with accuracy 57.88%\n",
      "Row: 2 | 392 | 14 | [0, 0.5481, 0.5788]\n"
     ]
    },
    {
     "name": "stderr",
     "output_type": "stream",
     "text": [
      "100%|██████████| 5/5 [00:08<00:00,  1.69s/it]\n",
      "100%|██████████| 5/5 [00:08<00:00,  1.73s/it]\n",
      "100%|██████████| 5/5 [00:08<00:00,  1.69s/it]\n",
      "100%|██████████| 5/5 [00:09<00:00,  1.85s/it]\n",
      "100%|██████████| 5/5 [00:08<00:00,  1.77s/it]\n"
     ]
    },
    {
     "name": "stdout",
     "output_type": "stream",
     "text": [
      "Checking accuracy on test data\n",
      "Got 6438 / 10000 with accuracy 64.38%\n",
      "Row: 3 | 392 | 14 | [0, 0.5481, 0.5788, 0.6438]\n"
     ]
    },
    {
     "name": "stderr",
     "output_type": "stream",
     "text": [
      "100%|██████████| 5/5 [00:08<00:00,  1.79s/it]\n",
      "100%|██████████| 5/5 [00:09<00:00,  1.86s/it]\n",
      "100%|██████████| 5/5 [00:08<00:00,  1.80s/it]\n",
      "100%|██████████| 5/5 [00:08<00:00,  1.74s/it]\n",
      "100%|██████████| 5/5 [00:08<00:00,  1.78s/it]\n"
     ]
    },
    {
     "name": "stdout",
     "output_type": "stream",
     "text": [
      "Checking accuracy on test data\n",
      "Got 7178 / 10000 with accuracy 71.78%\n",
      "Row: 4 | 392 | 14 | [0, 0.5481, 0.5788, 0.6438, 0.7178]\n"
     ]
    },
    {
     "name": "stderr",
     "output_type": "stream",
     "text": [
      "100%|██████████| 5/5 [00:08<00:00,  1.76s/it]\n",
      "100%|██████████| 5/5 [00:08<00:00,  1.73s/it]\n",
      "100%|██████████| 5/5 [00:08<00:00,  1.74s/it]\n",
      "100%|██████████| 5/5 [00:08<00:00,  1.72s/it]\n",
      "100%|██████████| 5/5 [00:08<00:00,  1.71s/it]\n"
     ]
    },
    {
     "name": "stdout",
     "output_type": "stream",
     "text": [
      "Checking accuracy on test data\n",
      "Got 7345 / 10000 with accuracy 73.45%\n",
      "Row: 5 | 392 | 14 | [0, 0.5481, 0.5788, 0.6438, 0.7178, 0.7345]\n"
     ]
    },
    {
     "name": "stderr",
     "output_type": "stream",
     "text": [
      "100%|██████████| 5/5 [00:08<00:00,  1.70s/it]\n",
      "100%|██████████| 5/5 [00:08<00:00,  1.71s/it]\n",
      "100%|██████████| 5/5 [00:08<00:00,  1.76s/it]\n",
      "100%|██████████| 5/5 [00:08<00:00,  1.77s/it]\n",
      "100%|██████████| 5/5 [00:08<00:00,  1.78s/it]\n"
     ]
    },
    {
     "name": "stdout",
     "output_type": "stream",
     "text": [
      "Checking accuracy on test data\n",
      "Got 7413 / 10000 with accuracy 74.13%\n",
      "Row: 6 | 392 | 14 | [0, 0.5481, 0.5788, 0.6438, 0.7178, 0.7345, 0.7413]\n"
     ]
    },
    {
     "name": "stderr",
     "output_type": "stream",
     "text": [
      "100%|██████████| 5/5 [00:08<00:00,  1.71s/it]\n",
      "100%|██████████| 5/5 [00:08<00:00,  1.74s/it]\n",
      "100%|██████████| 5/5 [00:08<00:00,  1.69s/it]\n",
      "100%|██████████| 5/5 [00:08<00:00,  1.68s/it]\n",
      "100%|██████████| 5/5 [00:08<00:00,  1.72s/it]\n"
     ]
    },
    {
     "name": "stdout",
     "output_type": "stream",
     "text": [
      "Checking accuracy on test data\n",
      "Got 7443 / 10000 with accuracy 74.43%\n",
      "Row: 7 | 392 | 14 | [0, 0.5481, 0.5788, 0.6438, 0.7178, 0.7345, 0.7413, 0.7443]\n"
     ]
    },
    {
     "name": "stderr",
     "output_type": "stream",
     "text": [
      "100%|██████████| 5/5 [00:08<00:00,  1.73s/it]\n",
      "100%|██████████| 5/5 [00:08<00:00,  1.77s/it]\n",
      "100%|██████████| 5/5 [00:08<00:00,  1.72s/it]\n",
      "100%|██████████| 5/5 [00:08<00:00,  1.71s/it]\n",
      "100%|██████████| 5/5 [00:08<00:00,  1.70s/it]\n"
     ]
    },
    {
     "name": "stdout",
     "output_type": "stream",
     "text": [
      "Checking accuracy on test data\n",
      "Got 7467 / 10000 with accuracy 74.67%\n",
      "Row: 8 | 392 | 14 | [0, 0.5481, 0.5788, 0.6438, 0.7178, 0.7345, 0.7413, 0.7443, 0.7467]\n"
     ]
    },
    {
     "name": "stderr",
     "output_type": "stream",
     "text": [
      "100%|██████████| 5/5 [00:08<00:00,  1.72s/it]\n",
      "100%|██████████| 5/5 [00:08<00:00,  1.73s/it]\n",
      "100%|██████████| 5/5 [00:08<00:00,  1.73s/it]\n",
      "100%|██████████| 5/5 [00:08<00:00,  1.72s/it]\n",
      "100%|██████████| 5/5 [00:08<00:00,  1.72s/it]\n"
     ]
    },
    {
     "name": "stdout",
     "output_type": "stream",
     "text": [
      "Checking accuracy on test data\n",
      "Got 7492 / 10000 with accuracy 74.92%\n",
      "Row: 9 | 392 | 14 | [0, 0.5481, 0.5788, 0.6438, 0.7178, 0.7345, 0.7413, 0.7443, 0.7467, 0.7492]\n"
     ]
    },
    {
     "name": "stderr",
     "output_type": "stream",
     "text": [
      "100%|██████████| 5/5 [00:08<00:00,  1.68s/it]\n",
      "100%|██████████| 5/5 [00:08<00:00,  1.70s/it]\n",
      "100%|██████████| 5/5 [00:08<00:00,  1.71s/it]\n",
      "100%|██████████| 5/5 [00:08<00:00,  1.69s/it]\n",
      "100%|██████████| 5/5 [00:08<00:00,  1.70s/it]\n"
     ]
    },
    {
     "name": "stdout",
     "output_type": "stream",
     "text": [
      "Checking accuracy on test data\n",
      "Got 7519 / 10000 with accuracy 75.19%\n",
      "Row: 10 | 392 | 14 | [0, 0.5481, 0.5788, 0.6438, 0.7178, 0.7345, 0.7413, 0.7443, 0.7467, 0.7492, 0.7519]\n"
     ]
    },
    {
     "name": "stderr",
     "output_type": "stream",
     "text": [
      "100%|██████████| 5/5 [00:08<00:00,  1.75s/it]\n",
      "100%|██████████| 5/5 [00:08<00:00,  1.72s/it]\n",
      "100%|██████████| 5/5 [00:08<00:00,  1.72s/it]\n",
      "100%|██████████| 5/5 [00:08<00:00,  1.69s/it]\n",
      "100%|██████████| 5/5 [00:08<00:00,  1.72s/it]\n"
     ]
    },
    {
     "name": "stdout",
     "output_type": "stream",
     "text": [
      "Checking accuracy on test data\n",
      "Got 7534 / 10000 with accuracy 75.34%\n",
      "Row: 11 | 392 | 14 | [0, 0.5481, 0.5788, 0.6438, 0.7178, 0.7345, 0.7413, 0.7443, 0.7467, 0.7492, 0.7519, 0.7534]\n"
     ]
    },
    {
     "name": "stderr",
     "output_type": "stream",
     "text": [
      "100%|██████████| 5/5 [00:08<00:00,  1.71s/it]\n",
      "100%|██████████| 5/5 [00:08<00:00,  1.74s/it]\n",
      "100%|██████████| 5/5 [00:08<00:00,  1.70s/it]\n",
      "100%|██████████| 5/5 [00:08<00:00,  1.69s/it]\n",
      "100%|██████████| 5/5 [00:08<00:00,  1.69s/it]\n"
     ]
    },
    {
     "name": "stdout",
     "output_type": "stream",
     "text": [
      "Checking accuracy on test data\n",
      "Got 7554 / 10000 with accuracy 75.54%\n",
      "Row: 12 | 392 | 14 | [0, 0.5481, 0.5788, 0.6438, 0.7178, 0.7345, 0.7413, 0.7443, 0.7467, 0.7492, 0.7519, 0.7534, 0.7554]\n"
     ]
    },
    {
     "name": "stderr",
     "output_type": "stream",
     "text": [
      "100%|██████████| 5/5 [00:08<00:00,  1.71s/it]\n",
      "100%|██████████| 5/5 [00:08<00:00,  1.75s/it]\n",
      "100%|██████████| 5/5 [00:08<00:00,  1.72s/it]\n",
      "100%|██████████| 5/5 [00:08<00:00,  1.73s/it]\n",
      "100%|██████████| 5/5 [00:08<00:00,  1.68s/it]\n"
     ]
    },
    {
     "name": "stdout",
     "output_type": "stream",
     "text": [
      "Checking accuracy on test data\n",
      "Got 7580 / 10000 with accuracy 75.80%\n",
      "Row: 13 | 392 | 14 | [0, 0.5481, 0.5788, 0.6438, 0.7178, 0.7345, 0.7413, 0.7443, 0.7467, 0.7492, 0.7519, 0.7534, 0.7554, 0.758]\n"
     ]
    },
    {
     "name": "stderr",
     "output_type": "stream",
     "text": [
      "100%|██████████| 5/5 [00:08<00:00,  1.71s/it]\n",
      "100%|██████████| 5/5 [00:08<00:00,  1.73s/it]\n",
      "100%|██████████| 5/5 [00:08<00:00,  1.71s/it]\n",
      "100%|██████████| 5/5 [00:08<00:00,  1.73s/it]\n",
      "100%|██████████| 5/5 [00:08<00:00,  1.75s/it]\n"
     ]
    },
    {
     "name": "stdout",
     "output_type": "stream",
     "text": [
      "Checking accuracy on test data\n",
      "Got 7589 / 10000 with accuracy 75.89%\n",
      "Row: 14 | 392 | 14 | [0, 0.5481, 0.5788, 0.6438, 0.7178, 0.7345, 0.7413, 0.7443, 0.7467, 0.7492, 0.7519, 0.7534, 0.7554, 0.758, 0.7589]\n"
     ]
    },
    {
     "name": "stderr",
     "output_type": "stream",
     "text": [
      "100%|██████████| 5/5 [00:08<00:00,  1.71s/it]\n",
      "100%|██████████| 5/5 [00:08<00:00,  1.71s/it]\n",
      "100%|██████████| 5/5 [00:08<00:00,  1.72s/it]\n",
      "100%|██████████| 5/5 [00:08<00:00,  1.75s/it]\n",
      "100%|██████████| 5/5 [00:08<00:00,  1.71s/it]\n"
     ]
    },
    {
     "name": "stdout",
     "output_type": "stream",
     "text": [
      "Checking accuracy on test data\n",
      "Got 7599 / 10000 with accuracy 75.99%\n",
      "Row: 15 | 392 | 14 | [0, 0.5481, 0.5788, 0.6438, 0.7178, 0.7345, 0.7413, 0.7443, 0.7467, 0.7492, 0.7519, 0.7534, 0.7554, 0.758, 0.7589, 0.7599]\n"
     ]
    },
    {
     "data": {
      "image/png": "[encoded data removed]",
      "text/plain": [
       "<Figure size 640x480 with 1 Axes>"
      ]
     },
     "metadata": {},
     "output_type": "display_data"
    },
    {
     "name": "stdout",
     "output_type": "stream",
     "text": [
      "--- NEW MODEL 4 --- \n",
      "layer1.weight\n",
      "<class 'torch.nn.parameter.Parameter'> torch.Size([392, 784])\n",
      "layer1.bias\n",
      "<class 'torch.nn.parameter.Parameter'> torch.Size([392])\n",
      "layer2.weight\n",
      "<class 'torch.nn.parameter.Parameter'> torch.Size([14, 392])\n",
      "layer2.bias\n",
      "<class 'torch.nn.parameter.Parameter'> torch.Size([14])\n",
      "layer3.weight\n",
      "<class 'torch.nn.parameter.Parameter'> torch.Size([10, 14])\n",
      "layer3.bias\n",
      "<class 'torch.nn.parameter.Parameter'> torch.Size([10])\n"
     ]
    },
    {
     "name": "stderr",
     "output_type": "stream",
     "text": [
      "100%|██████████| 5/5 [00:08<00:00,  1.72s/it]\n",
      "100%|██████████| 5/5 [00:08<00:00,  1.71s/it]\n",
      "100%|██████████| 5/5 [00:08<00:00,  1.72s/it]\n",
      "100%|██████████| 5/5 [00:08<00:00,  1.74s/it]\n",
      "100%|██████████| 5/5 [00:08<00:00,  1.79s/it]\n"
     ]
    },
    {
     "name": "stdout",
     "output_type": "stream",
     "text": [
      "Checking accuracy on test data\n",
      "Got 6358 / 10000 with accuracy 63.58%\n",
      "Row: 1 | 392 | 14 | [0, 0.6358]\n"
     ]
    },
    {
     "name": "stderr",
     "output_type": "stream",
     "text": [
      "100%|██████████| 5/5 [00:08<00:00,  1.71s/it]\n",
      "100%|██████████| 5/5 [00:08<00:00,  1.73s/it]\n",
      "100%|██████████| 5/5 [00:08<00:00,  1.73s/it]\n",
      "100%|██████████| 5/5 [00:08<00:00,  1.71s/it]\n",
      "100%|██████████| 5/5 [00:08<00:00,  1.71s/it]\n"
     ]
    },
    {
     "name": "stdout",
     "output_type": "stream",
     "text": [
      "Checking accuracy on test data\n",
      "Got 7510 / 10000 with accuracy 75.10%\n",
      "Row: 2 | 392 | 14 | [0, 0.6358, 0.751]\n"
     ]
    },
    {
     "name": "stderr",
     "output_type": "stream",
     "text": [
      "100%|██████████| 5/5 [00:08<00:00,  1.72s/it]\n",
      "100%|██████████| 5/5 [00:08<00:00,  1.73s/it]\n",
      "100%|██████████| 5/5 [00:08<00:00,  1.71s/it]\n",
      "100%|██████████| 5/5 [00:08<00:00,  1.72s/it]\n",
      "100%|██████████| 5/5 [00:08<00:00,  1.70s/it]\n"
     ]
    },
    {
     "name": "stdout",
     "output_type": "stream",
     "text": [
      "Checking accuracy on test data\n",
      "Got 8683 / 10000 with accuracy 86.83%\n",
      "Row: 3 | 392 | 14 | [0, 0.6358, 0.751, 0.8683]\n"
     ]
    },
    {
     "name": "stderr",
     "output_type": "stream",
     "text": [
      "100%|██████████| 5/5 [00:08<00:00,  1.71s/it]\n",
      "100%|██████████| 5/5 [00:08<00:00,  1.73s/it]\n",
      "100%|██████████| 5/5 [00:08<00:00,  1.72s/it]\n",
      "100%|██████████| 5/5 [00:08<00:00,  1.75s/it]\n",
      "100%|██████████| 5/5 [00:08<00:00,  1.71s/it]\n"
     ]
    },
    {
     "name": "stdout",
     "output_type": "stream",
     "text": [
      "Checking accuracy on test data\n",
      "Got 8992 / 10000 with accuracy 89.92%\n",
      "Row: 4 | 392 | 14 | [0, 0.6358, 0.751, 0.8683, 0.8992]\n"
     ]
    },
    {
     "name": "stderr",
     "output_type": "stream",
     "text": [
      "100%|██████████| 5/5 [00:08<00:00,  1.77s/it]\n",
      "100%|██████████| 5/5 [00:08<00:00,  1.79s/it]\n",
      "100%|██████████| 5/5 [00:08<00:00,  1.78s/it]\n",
      "100%|██████████| 5/5 [00:08<00:00,  1.72s/it]\n",
      "100%|██████████| 5/5 [00:08<00:00,  1.69s/it]\n"
     ]
    },
    {
     "name": "stdout",
     "output_type": "stream",
     "text": [
      "Checking accuracy on test data\n",
      "Got 9115 / 10000 with accuracy 91.15%\n",
      "Row: 5 | 392 | 14 | [0, 0.6358, 0.751, 0.8683, 0.8992, 0.9115]\n"
     ]
    },
    {
     "name": "stderr",
     "output_type": "stream",
     "text": [
      "100%|██████████| 5/5 [00:08<00:00,  1.72s/it]\n",
      "100%|██████████| 5/5 [00:08<00:00,  1.70s/it]\n",
      "100%|██████████| 5/5 [00:08<00:00,  1.72s/it]\n",
      "100%|██████████| 5/5 [00:08<00:00,  1.72s/it]\n",
      "100%|██████████| 5/5 [00:08<00:00,  1.74s/it]\n"
     ]
    },
    {
     "name": "stdout",
     "output_type": "stream",
     "text": [
      "Checking accuracy on test data\n",
      "Got 9178 / 10000 with accuracy 91.78%\n",
      "Row: 6 | 392 | 14 | [0, 0.6358, 0.751, 0.8683, 0.8992, 0.9115, 0.9178]\n"
     ]
    },
    {
     "name": "stderr",
     "output_type": "stream",
     "text": [
      "100%|██████████| 5/5 [00:08<00:00,  1.76s/it]\n",
      "100%|██████████| 5/5 [00:08<00:00,  1.73s/it]\n",
      "100%|██████████| 5/5 [00:08<00:00,  1.71s/it]\n",
      "100%|██████████| 5/5 [00:08<00:00,  1.70s/it]\n",
      "100%|██████████| 5/5 [00:08<00:00,  1.72s/it]\n"
     ]
    },
    {
     "name": "stdout",
     "output_type": "stream",
     "text": [
      "Checking accuracy on test data\n",
      "Got 9226 / 10000 with accuracy 92.26%\n",
      "Row: 7 | 392 | 14 | [0, 0.6358, 0.751, 0.8683, 0.8992, 0.9115, 0.9178, 0.9226]\n"
     ]
    },
    {
     "name": "stderr",
     "output_type": "stream",
     "text": [
      "100%|██████████| 5/5 [00:08<00:00,  1.74s/it]\n",
      "100%|██████████| 5/5 [00:08<00:00,  1.73s/it]\n",
      "100%|██████████| 5/5 [00:08<00:00,  1.74s/it]\n",
      "100%|██████████| 5/5 [00:08<00:00,  1.72s/it]\n",
      "100%|██████████| 5/5 [00:08<00:00,  1.73s/it]\n"
     ]
    },
    {
     "name": "stdout",
     "output_type": "stream",
     "text": [
      "Checking accuracy on test data\n",
      "Got 9271 / 10000 with accuracy 92.71%\n",
      "Row: 8 | 392 | 14 | [0, 0.6358, 0.751, 0.8683, 0.8992, 0.9115, 0.9178, 0.9226, 0.9271]\n"
     ]
    },
    {
     "name": "stderr",
     "output_type": "stream",
     "text": [
      "100%|██████████| 5/5 [00:08<00:00,  1.68s/it]\n",
      "100%|██████████| 5/5 [00:08<00:00,  1.69s/it]\n",
      "100%|██████████| 5/5 [00:08<00:00,  1.70s/it]\n",
      "100%|██████████| 5/5 [00:08<00:00,  1.70s/it]\n",
      "100%|██████████| 5/5 [00:08<00:00,  1.68s/it]\n"
     ]
    },
    {
     "name": "stdout",
     "output_type": "stream",
     "text": [
      "Checking accuracy on test data\n",
      "Got 9299 / 10000 with accuracy 92.99%\n",
      "Row: 9 | 392 | 14 | [0, 0.6358, 0.751, 0.8683, 0.8992, 0.9115, 0.9178, 0.9226, 0.9271, 0.9299]\n"
     ]
    },
    {
     "name": "stderr",
     "output_type": "stream",
     "text": [
      "100%|██████████| 5/5 [00:08<00:00,  1.71s/it]\n",
      "100%|██████████| 5/5 [00:08<00:00,  1.71s/it]\n",
      "100%|██████████| 5/5 [00:08<00:00,  1.71s/it]\n",
      "100%|██████████| 5/5 [00:08<00:00,  1.71s/it]\n",
      "100%|██████████| 5/5 [00:08<00:00,  1.74s/it]\n"
     ]
    },
    {
     "name": "stdout",
     "output_type": "stream",
     "text": [
      "Checking accuracy on test data\n",
      "Got 9319 / 10000 with accuracy 93.19%\n",
      "Row: 10 | 392 | 14 | [0, 0.6358, 0.751, 0.8683, 0.8992, 0.9115, 0.9178, 0.9226, 0.9271, 0.9299, 0.9319]\n"
     ]
    },
    {
     "name": "stderr",
     "output_type": "stream",
     "text": [
      "100%|██████████| 5/5 [00:08<00:00,  1.70s/it]\n",
      "100%|██████████| 5/5 [00:08<00:00,  1.71s/it]\n",
      "100%|██████████| 5/5 [00:08<00:00,  1.69s/it]\n",
      "100%|██████████| 5/5 [00:08<00:00,  1.73s/it]\n",
      "100%|██████████| 5/5 [00:08<00:00,  1.73s/it]\n"
     ]
    },
    {
     "name": "stdout",
     "output_type": "stream",
     "text": [
      "Checking accuracy on test data\n",
      "Got 9343 / 10000 with accuracy 93.43%\n",
      "Row: 11 | 392 | 14 | [0, 0.6358, 0.751, 0.8683, 0.8992, 0.9115, 0.9178, 0.9226, 0.9271, 0.9299, 0.9319, 0.9343]\n"
     ]
    },
    {
     "name": "stderr",
     "output_type": "stream",
     "text": [
      "100%|██████████| 5/5 [00:08<00:00,  1.71s/it]\n",
      "100%|██████████| 5/5 [00:08<00:00,  1.69s/it]\n",
      "100%|██████████| 5/5 [00:08<00:00,  1.70s/it]\n",
      "100%|██████████| 5/5 [00:08<00:00,  1.68s/it]\n",
      "100%|██████████| 5/5 [00:08<00:00,  1.68s/it]\n"
     ]
    },
    {
     "name": "stdout",
     "output_type": "stream",
     "text": [
      "Checking accuracy on test data\n",
      "Got 9371 / 10000 with accuracy 93.71%\n",
      "Row: 12 | 392 | 14 | [0, 0.6358, 0.751, 0.8683, 0.8992, 0.9115, 0.9178, 0.9226, 0.9271, 0.9299, 0.9319, 0.9343, 0.9371]\n"
     ]
    },
    {
     "name": "stderr",
     "output_type": "stream",
     "text": [
      "100%|██████████| 5/5 [00:08<00:00,  1.69s/it]\n",
      "100%|██████████| 5/5 [00:08<00:00,  1.71s/it]\n",
      "100%|██████████| 5/5 [00:08<00:00,  1.73s/it]\n",
      "100%|██████████| 5/5 [00:08<00:00,  1.72s/it]\n",
      "100%|██████████| 5/5 [00:08<00:00,  1.70s/it]\n"
     ]
    },
    {
     "name": "stdout",
     "output_type": "stream",
     "text": [
      "Checking accuracy on test data\n",
      "Got 9398 / 10000 with accuracy 93.98%\n",
      "Row: 13 | 392 | 14 | [0, 0.6358, 0.751, 0.8683, 0.8992, 0.9115, 0.9178, 0.9226, 0.9271, 0.9299, 0.9319, 0.9343, 0.9371, 0.9398]\n"
     ]
    },
    {
     "name": "stderr",
     "output_type": "stream",
     "text": [
      "100%|██████████| 5/5 [00:08<00:00,  1.68s/it]\n",
      "100%|██████████| 5/5 [00:08<00:00,  1.72s/it]\n",
      "100%|██████████| 5/5 [00:08<00:00,  1.70s/it]\n",
      "100%|██████████| 5/5 [00:08<00:00,  1.69s/it]\n",
      "100%|██████████| 5/5 [00:08<00:00,  1.70s/it]\n"
     ]
    },
    {
     "name": "stdout",
     "output_type": "stream",
     "text": [
      "Checking accuracy on test data\n",
      "Got 9404 / 10000 with accuracy 94.04%\n",
      "Row: 14 | 392 | 14 | [0, 0.6358, 0.751, 0.8683, 0.8992, 0.9115, 0.9178, 0.9226, 0.9271, 0.9299, 0.9319, 0.9343, 0.9371, 0.9398, 0.9404]\n"
     ]
    },
    {
     "name": "stderr",
     "output_type": "stream",
     "text": [
      "100%|██████████| 5/5 [00:08<00:00,  1.70s/it]\n",
      "100%|██████████| 5/5 [00:08<00:00,  1.69s/it]\n",
      "100%|██████████| 5/5 [00:08<00:00,  1.72s/it]\n",
      "100%|██████████| 5/5 [00:08<00:00,  1.73s/it]\n",
      "100%|██████████| 5/5 [00:08<00:00,  1.69s/it]\n"
     ]
    },
    {
     "name": "stdout",
     "output_type": "stream",
     "text": [
      "Checking accuracy on test data\n",
      "Got 9422 / 10000 with accuracy 94.22%\n",
      "Row: 15 | 392 | 14 | [0, 0.6358, 0.751, 0.8683, 0.8992, 0.9115, 0.9178, 0.9226, 0.9271, 0.9299, 0.9319, 0.9343, 0.9371, 0.9398, 0.9404, 0.9422]\n"
     ]
    },
    {
     "data": {
      "image/png": "[encoded data removed]",
      "text/plain": [
       "<Figure size 640x480 with 1 Axes>"
      ]
     },
     "metadata": {},
     "output_type": "display_data"
    },
    {
     "name": "stdout",
     "output_type": "stream",
     "text": [
      "Test 0: [0, 0.5846, 0.6914, 0.7087, 0.7174, 0.7239, 0.7277, 0.7314, 0.7337, 0.7348, 0.7377, 0.7392, 0.741, 0.7427, 0.7441, 0.7454]\n",
      "Test 1: [0, 0.5623, 0.7392, 0.8023, 0.8145, 0.8221, 0.8297, 0.8341, 0.8359, 0.8389, 0.8419, 0.8439, 0.847, 0.8479, 0.8491, 0.8511]\n",
      "Test 2: [0, 0.5634, 0.6066, 0.6172, 0.6252, 0.6315, 0.6362, 0.6404, 0.6449, 0.6476, 0.6501, 0.6515, 0.6532, 0.6548, 0.6566, 0.6581]\n",
      "Test 3: [0, 0.5481, 0.5788, 0.6438, 0.7178, 0.7345, 0.7413, 0.7443, 0.7467, 0.7492, 0.7519, 0.7534, 0.7554, 0.758, 0.7589, 0.7599]\n",
      "Test 4: [0, 0.6358, 0.751, 0.8683, 0.8992, 0.9115, 0.9178, 0.9226, 0.9271, 0.9299, 0.9319, 0.9343, 0.9371, 0.9398, 0.9404, 0.9422]\n"
     ]
    }
   ],
   "source": [
    "# Factors of 392\n",
    "# 1, 2, 4, 7, 8, 14, 28, 49, 56, 98, 196, 392.\n",
    "\n",
    "num_dendritic_inputs = 392\n",
    "num_neurons = 14\n",
    "num_dendrite_neuron_layers = 1\n",
    "\n",
    "num_trials = 5\n",
    "num_trainings = 15 \n",
    "data = {}\n",
    "\n",
    "for trial in range(num_trials):\n",
    "  print(f\"--- NEW MODEL {trial} --- \")\n",
    "  data[trial] = run_trials(num_dendritic_inputs, num_neurons, num_dendrite_neuron_layers, num_trainings)\n",
    "\n",
    "# Print data after all runs\n",
    "for i in range(num_trials):\n",
    "  print(f\"Test {i}: {data[i]}\")"
   ]
  },
  {
   "cell_type": "code",
   "execution_count": 76,
   "metadata": {},
   "outputs": [
    {
     "name": "stdout",
     "output_type": "stream",
     "text": [
      "         0       1       2       3       4\n",
      "0   0.0000  0.0000  0.0000  0.0000  0.0000\n",
      "1   0.5846  0.5623  0.5634  0.5481  0.6358\n",
      "2   0.6914  0.7392  0.6066  0.5788  0.7510\n",
      "3   0.7087  0.8023  0.6172  0.6438  0.8683\n",
      "4   0.7174  0.8145  0.6252  0.7178  0.8992\n",
      "5   0.7239  0.8221  0.6315  0.7345  0.9115\n",
      "6   0.7277  0.8297  0.6362  0.7413  0.9178\n",
      "7   0.7314  0.8341  0.6404  0.7443  0.9226\n",
      "8   0.7337  0.8359  0.6449  0.7467  0.9271\n",
      "9   0.7348  0.8389  0.6476  0.7492  0.9299\n",
      "10  0.7377  0.8419  0.6501  0.7519  0.9319\n",
      "11  0.7392  0.8439  0.6515  0.7534  0.9343\n",
      "12  0.7410  0.8470  0.6532  0.7554  0.9371\n",
      "13  0.7427  0.8479  0.6548  0.7580  0.9398\n",
      "14  0.7441  0.8491  0.6566  0.7589  0.9404\n",
      "15  0.7454  0.8511  0.6581  0.7599  0.9422\n",
      "[0, 1, 2, 3, 4, 5, 6, 7, 8, 9, 10, 11, 12, 13, 14, 15]\n"
     ]
    },
    {
     "data": {
      "image/png": "[encoded data removed]",
      "text/plain": [
       "<Figure size 640x480 with 1 Axes>"
      ]
     },
     "metadata": {},
     "output_type": "display_data"
    }
   ],
   "source": [
    "# Convert list of data over tests into a data frame\n",
    "df = pd.DataFrame(data)\n",
    "\n",
    "# Set up x axis ticks\n",
    "x_values = list(range(len(df)))\n",
    "trial_idx_list = list(range(num_trials))\n",
    "\n",
    "# List of confidence intervals at each training\n",
    "ci_values = []\n",
    "\n",
    "mean_values = df[trial_idx_list].mean(axis=1).tolist()\n",
    "\n",
    "for _, row in df[trial_idx_list].iterrows():\n",
    "  mean = row.mean()\n",
    "  sem = row.sem()\n",
    "  ci = sem * 1.96  # 95% confidence interval\n",
    "  ci_values.append(ci)\n",
    "\n",
    "# Plot styling\n",
    "plt.title(f\"Biological Neuron Inspired ANN\\n Average Accuracy Over {num_trials} Trials with {num_trainings} Trainings Each\\n 95% Confidence Intervals\")\n",
    "plt.xlabel(\"Number of trainings\")\n",
    "plt.ylabel(\"Accuracy\")\n",
    "\n",
    "plt.xticks(np.arange(0, 16, 1))\n",
    "plt.yticks(np.arange(0, 1.1, 0.1))\n",
    "\n",
    "sns.lineplot(x = x_values, y = mean_values)\n",
    "plt.errorbar(x = x_values, y = mean_values, yerr=ci_values, linestyle='None', color='red')\n",
    "plt.show()\n"
   ]
  }
 ],
 "metadata": {
  "kernelspec": {
   "display_name": "Python 3 (ipykernel)",
   "language": "python",
   "name": "python3"
  },
  "language_info": {
   "codemirror_mode": {
    "name": "ipython",
    "version": 3
   },
   "file_extension": ".py",
   "mimetype": "text/x-python",
   "name": "python",
   "nbconvert_exporter": "python",
   "pygments_lexer": "ipython3",
   "version": "3.11.3"
  }
 },
 "nbformat": 4,
 "nbformat_minor": 2
}
