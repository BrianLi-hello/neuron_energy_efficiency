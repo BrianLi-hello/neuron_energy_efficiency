{
 "cells": [
  {
   "cell_type": "code",
   "execution_count": 1,
   "metadata": {
    "id": "f23x1HxXNBcU"
   },
   "outputs": [],
   "source": [
    "# Imports\n",
    "import torch\n",
    "import torchvision\n",
    "import torch.nn as nn  # All neural network modules, nn.Linear, nn.Conv2d, BatchNorm, Loss functions\n",
    "import torch.nn.init as init    # For weight initializations\n",
    "import torch.optim as optim  # For all Optimization algorithms, SGD, Adam, etc.\n",
    "import torch.nn.functional as F  # All functions that don't have any parameters\n",
    "from torch.utils.data import (\n",
    "    DataLoader,\n",
    "    # Dataset\n",
    ")  # Gives easier dataset managment and creates mini batches\n",
    "import torchvision.datasets as datasets  # Has standard datasets we can import in a nice way\n",
    "import torchvision.transforms as transforms  # Transformations we can perform on our dataset\n",
    "from tqdm import tqdm # For progress bars \n",
    "import matplotlib.pyplot as plt # For graphing  \n",
    "import numpy as np  # For graphing  \n",
    "import pandas as pd     # For data frames\n",
    "import seaborn as sns   # For graphing\n",
    "\n",
    "device = torch.device(\"cuda\" if torch.cuda.is_available() else \"cpu\") \n"
   ]
  },
  {
   "cell_type": "code",
   "execution_count": 2,
   "metadata": {
    "id": "scrw7HWpNBcW"
   },
   "outputs": [],
   "source": [
    "# Hyperparameters\n",
    "learning_rate = 1e-3\n",
    "batch_size = 12000\n",
    "num_epoches = 5"
   ]
  },
  {
   "cell_type": "code",
   "execution_count": 3,
   "metadata": {
    "colab": {
     "base_uri": "https://localhost:8080/"
    },
    "id": "XZny9qJuNBcX",
    "outputId": "237c956e-3906-471f-e277-49d5be49ef28"
   },
   "outputs": [],
   "source": [
    "# Get MNIST data\n",
    "train_ds = datasets.MNIST(\n",
    "    root=\"dataset/\", train=True, transform=transforms.ToTensor(), download=True\n",
    ")\n",
    "train_loader = DataLoader(dataset=train_ds, batch_size=batch_size, shuffle=True)\n",
    "\n",
    "test_ds = datasets.MNIST(\n",
    "    root=\"dataset/\", train=False, transform=transforms.ToTensor(), download=True\n",
    ")\n",
    "test_loader = DataLoader(dataset=test_ds, batch_size=batch_size, shuffle=False)"
   ]
  },
  {
   "cell_type": "code",
   "execution_count": 4,
   "metadata": {
    "id": "3mmLrBW4NBcX"
   },
   "outputs": [],
   "source": [
    "class StandardFeedforwardNetwork(nn.Module):\n",
    "    def __init__(self):\n",
    "        super().__init__()\n",
    "        self.Matrix1 = nn.Linear(28**2, 392)\n",
    "        self.Matrix2 = nn.Linear(392, 196)\n",
    "        self.Matrix3 = nn.Linear(196, 10)\n",
    "\n",
    "        init.kaiming_uniform_(self.Matrix1.weight, mode=\"fan_in\", nonlinearity=\"relu\")\n",
    "        init.kaiming_uniform_(self.Matrix2.weight, mode=\"fan_in\", nonlinearity=\"relu\") \n",
    "        init.kaiming_uniform_(self.Matrix3.weight, mode=\"fan_in\", nonlinearity=\"relu\")        \n",
    "\n",
    "        self.R = nn.ReLU()\n",
    "\n",
    "    def forward(self,x):\n",
    "        x = x.view(-1,28**2)\n",
    "        x = self.R(self.Matrix1(x))\n",
    "        x = self.R(self.Matrix2(x))\n",
    "        x = self.R(self.Matrix3(x))\n",
    "\n",
    "        return x.squeeze()"
   ]
  },
  {
   "cell_type": "code",
   "execution_count": 5,
   "metadata": {},
   "outputs": [],
   "source": [
    "# Check parameter matrix sizes\n",
    "def print_parameter_info(model):\n",
    "    for name, param in model.named_parameters():\n",
    "        print(name)\n",
    "        print(type(param), param.size())"
   ]
  },
  {
   "cell_type": "code",
   "execution_count": 6,
   "metadata": {
    "colab": {
     "base_uri": "https://localhost:8080/"
    },
    "id": "wLwMo2l8NBca",
    "outputId": "0b3137f4-0aa3-411a-fe8a-c138abd2b292"
   },
   "outputs": [],
   "source": [
    "# Train Network\n",
    "def train_network(device, num_epoches, train_loader, model, criterion, optimizer):\n",
    "    for epoch in range(num_epoches):\n",
    "        losses = []\n",
    "\n",
    "        for batch_idx, (data, targets) in enumerate(tqdm(train_loader)):\n",
    "            # Get data to cuda if possible\n",
    "            data = data.to(device=device)\n",
    "            targets = targets.to(device=device)\n",
    "\n",
    "            # forward\n",
    "            scores = model(data)\n",
    "            loss = criterion(scores, targets)\n",
    "\n",
    "            losses.append(loss.item())\n",
    "            # backward\n",
    "            optimizer.zero_grad()\n",
    "            loss.backward()\n",
    "\n",
    "            # gradient descent or adam step\n",
    "            optimizer.step()\n",
    "\n",
    "        # print(f\"Cost at epoch {epoch} is {sum(losses)/len(losses):.5f}\")"
   ]
  },
  {
   "cell_type": "code",
   "execution_count": 7,
   "metadata": {
    "colab": {
     "base_uri": "https://localhost:8080/"
    },
    "id": "7RnWs9GsNBca",
    "outputId": "ac94c95b-ffc6-4304-d28b-18683626f3ed"
   },
   "outputs": [],
   "source": [
    "def check_accuracy(loader, model):\n",
    "    if loader.dataset.train:\n",
    "        print(\"Checking accuracy on training data\")\n",
    "    else:\n",
    "        print(\"Checking accuracy on test data\")\n",
    "\n",
    "    num_correct = 0\n",
    "    num_samples = 0\n",
    "    model.eval()\n",
    "\n",
    "    with torch.no_grad():\n",
    "        for x, y in loader:\n",
    "            x = x.to(device=device)\n",
    "            y = y.to(device=device)\n",
    "\n",
    "            scores = model(x)\n",
    "            _, predictions = scores.max(1)\n",
    "            num_correct += (predictions == y).sum()\n",
    "            num_samples += predictions.size(0)\n",
    "\n",
    "        accuracy = float(num_correct)/float(num_samples)\n",
    "        print(f\"Got {num_correct} / {num_samples} with accuracy {accuracy*100:.2f}%\")\n",
    "\n",
    "    model.train()\n",
    "    return accuracy"
   ]
  },
  {
   "cell_type": "code",
   "execution_count": 8,
   "metadata": {},
   "outputs": [],
   "source": [
    "def run_trials(num_trainings):\n",
    "  # Define model, loss, and optimizer \n",
    "  model = StandardFeedforwardNetwork()\n",
    "  print_parameter_info(model)\n",
    "  criterion = nn.CrossEntropyLoss()\n",
    "  optimizer = optim.Adam(model.parameters(), lr=learning_rate)\n",
    "  \n",
    "  acc_dict = {}\n",
    "  acc_dict[0] = 0\n",
    "\n",
    "  # Loop for number of trainings\n",
    "  for training in range(num_trainings):\n",
    "    # Train network\n",
    "    train_network(device, num_epoches, train_loader, model, criterion, optimizer)\n",
    "    acc_dict[training + 1] = check_accuracy(test_loader, model)\n",
    "\n",
    "    print(f\"Row: {training + 1} | {list(acc_dict.values())}\")\n",
    "\n",
    "  # Plot graph of accuracies after the trial\n",
    "  ypoints = np.array(list(acc_dict.values()))\n",
    "  plt.xticks(np.arange(0, len(ypoints), 1.0))\n",
    "  plt.xlabel(\"Number of trainings\")\n",
    "  plt.ylabel(\"Accuracy\")\n",
    "  plt.plot(ypoints)\n",
    "  plt.show()\n",
    "\n",
    "  return list(acc_dict.values())"
   ]
  },
  {
   "cell_type": "code",
   "execution_count": 9,
   "metadata": {},
   "outputs": [
    {
     "name": "stdout",
     "output_type": "stream",
     "text": [
      "--- NEW MODEL 0 --- \n",
      "Matrix1.weight\n",
      "<class 'torch.nn.parameter.Parameter'> torch.Size([392, 784])\n",
      "Matrix1.bias\n",
      "<class 'torch.nn.parameter.Parameter'> torch.Size([392])\n",
      "Matrix2.weight\n",
      "<class 'torch.nn.parameter.Parameter'> torch.Size([196, 392])\n",
      "Matrix2.bias\n",
      "<class 'torch.nn.parameter.Parameter'> torch.Size([196])\n",
      "Matrix3.weight\n",
      "<class 'torch.nn.parameter.Parameter'> torch.Size([10, 196])\n",
      "Matrix3.bias\n",
      "<class 'torch.nn.parameter.Parameter'> torch.Size([10])\n"
     ]
    },
    {
     "name": "stderr",
     "output_type": "stream",
     "text": [
      "100%|██████████| 5/5 [00:08<00:00,  1.77s/it]\n",
      "100%|██████████| 5/5 [00:08<00:00,  1.67s/it]\n",
      "100%|██████████| 5/5 [00:08<00:00,  1.69s/it]\n",
      "100%|██████████| 5/5 [00:08<00:00,  1.65s/it]\n",
      "100%|██████████| 5/5 [00:08<00:00,  1.64s/it]\n"
     ]
    },
    {
     "name": "stdout",
     "output_type": "stream",
     "text": [
      "Checking accuracy on test data\n",
      "Got 8005 / 10000 with accuracy 80.05%\n",
      "Row: 1 | [0, 0.8005]\n"
     ]
    },
    {
     "name": "stderr",
     "output_type": "stream",
     "text": [
      "100%|██████████| 5/5 [00:08<00:00,  1.67s/it]\n",
      "100%|██████████| 5/5 [00:08<00:00,  1.62s/it]\n",
      "100%|██████████| 5/5 [00:08<00:00,  1.64s/it]\n",
      "100%|██████████| 5/5 [00:08<00:00,  1.65s/it]\n",
      "100%|██████████| 5/5 [00:08<00:00,  1.67s/it]\n"
     ]
    },
    {
     "name": "stdout",
     "output_type": "stream",
     "text": [
      "Checking accuracy on test data\n",
      "Got 8428 / 10000 with accuracy 84.28%\n",
      "Row: 2 | [0, 0.8005, 0.8428]\n"
     ]
    },
    {
     "name": "stderr",
     "output_type": "stream",
     "text": [
      "100%|██████████| 5/5 [00:08<00:00,  1.65s/it]\n",
      "100%|██████████| 5/5 [00:08<00:00,  1.74s/it]\n",
      "100%|██████████| 5/5 [00:08<00:00,  1.75s/it]\n",
      "100%|██████████| 5/5 [00:08<00:00,  1.71s/it]\n",
      "100%|██████████| 5/5 [00:08<00:00,  1.74s/it]\n"
     ]
    },
    {
     "name": "stdout",
     "output_type": "stream",
     "text": [
      "Checking accuracy on test data\n",
      "Got 8550 / 10000 with accuracy 85.50%\n",
      "Row: 3 | [0, 0.8005, 0.8428, 0.855]\n"
     ]
    },
    {
     "name": "stderr",
     "output_type": "stream",
     "text": [
      "100%|██████████| 5/5 [00:08<00:00,  1.73s/it]\n",
      "100%|██████████| 5/5 [00:08<00:00,  1.74s/it]\n",
      "100%|██████████| 5/5 [00:08<00:00,  1.74s/it]\n",
      "100%|██████████| 5/5 [00:08<00:00,  1.72s/it]\n",
      "100%|██████████| 5/5 [00:08<00:00,  1.71s/it]\n"
     ]
    },
    {
     "name": "stdout",
     "output_type": "stream",
     "text": [
      "Checking accuracy on test data\n",
      "Got 8648 / 10000 with accuracy 86.48%\n",
      "Row: 4 | [0, 0.8005, 0.8428, 0.855, 0.8648]\n"
     ]
    },
    {
     "name": "stderr",
     "output_type": "stream",
     "text": [
      "100%|██████████| 5/5 [00:08<00:00,  1.72s/it]\n",
      "100%|██████████| 5/5 [00:08<00:00,  1.70s/it]\n",
      "100%|██████████| 5/5 [00:08<00:00,  1.74s/it]\n",
      "100%|██████████| 5/5 [00:08<00:00,  1.69s/it]\n",
      "100%|██████████| 5/5 [00:08<00:00,  1.69s/it]\n"
     ]
    },
    {
     "name": "stdout",
     "output_type": "stream",
     "text": [
      "Checking accuracy on test data\n",
      "Got 8716 / 10000 with accuracy 87.16%\n",
      "Row: 5 | [0, 0.8005, 0.8428, 0.855, 0.8648, 0.8716]\n"
     ]
    },
    {
     "name": "stderr",
     "output_type": "stream",
     "text": [
      "100%|██████████| 5/5 [00:08<00:00,  1.68s/it]\n",
      "100%|██████████| 5/5 [00:08<00:00,  1.70s/it]\n",
      "100%|██████████| 5/5 [00:08<00:00,  1.67s/it]\n",
      "100%|██████████| 5/5 [00:08<00:00,  1.72s/it]\n",
      "100%|██████████| 5/5 [00:08<00:00,  1.70s/it]\n"
     ]
    },
    {
     "name": "stdout",
     "output_type": "stream",
     "text": [
      "Checking accuracy on test data\n",
      "Got 8751 / 10000 with accuracy 87.51%\n",
      "Row: 6 | [0, 0.8005, 0.8428, 0.855, 0.8648, 0.8716, 0.8751]\n"
     ]
    },
    {
     "name": "stderr",
     "output_type": "stream",
     "text": [
      "100%|██████████| 5/5 [00:08<00:00,  1.70s/it]\n",
      "100%|██████████| 5/5 [00:08<00:00,  1.72s/it]\n",
      "100%|██████████| 5/5 [00:08<00:00,  1.69s/it]\n",
      "100%|██████████| 5/5 [00:08<00:00,  1.69s/it]\n",
      "100%|██████████| 5/5 [00:08<00:00,  1.69s/it]\n"
     ]
    },
    {
     "name": "stdout",
     "output_type": "stream",
     "text": [
      "Checking accuracy on test data\n",
      "Got 8773 / 10000 with accuracy 87.73%\n",
      "Row: 7 | [0, 0.8005, 0.8428, 0.855, 0.8648, 0.8716, 0.8751, 0.8773]\n"
     ]
    },
    {
     "name": "stderr",
     "output_type": "stream",
     "text": [
      "100%|██████████| 5/5 [00:08<00:00,  1.68s/it]\n",
      "100%|██████████| 5/5 [00:08<00:00,  1.71s/it]\n",
      "100%|██████████| 5/5 [00:08<00:00,  1.67s/it]\n",
      "100%|██████████| 5/5 [00:08<00:00,  1.68s/it]\n",
      "100%|██████████| 5/5 [00:09<00:00,  1.84s/it]\n"
     ]
    },
    {
     "name": "stdout",
     "output_type": "stream",
     "text": [
      "Checking accuracy on test data\n",
      "Got 8791 / 10000 with accuracy 87.91%\n",
      "Row: 8 | [0, 0.8005, 0.8428, 0.855, 0.8648, 0.8716, 0.8751, 0.8773, 0.8791]\n"
     ]
    },
    {
     "name": "stderr",
     "output_type": "stream",
     "text": [
      "100%|██████████| 5/5 [00:08<00:00,  1.67s/it]\n",
      "100%|██████████| 5/5 [00:08<00:00,  1.76s/it]\n",
      "100%|██████████| 5/5 [00:08<00:00,  1.69s/it]\n",
      "100%|██████████| 5/5 [00:08<00:00,  1.70s/it]\n",
      "100%|██████████| 5/5 [00:08<00:00,  1.69s/it]\n"
     ]
    },
    {
     "name": "stdout",
     "output_type": "stream",
     "text": [
      "Checking accuracy on test data\n",
      "Got 8801 / 10000 with accuracy 88.01%\n",
      "Row: 9 | [0, 0.8005, 0.8428, 0.855, 0.8648, 0.8716, 0.8751, 0.8773, 0.8791, 0.8801]\n"
     ]
    },
    {
     "name": "stderr",
     "output_type": "stream",
     "text": [
      "100%|██████████| 5/5 [00:08<00:00,  1.69s/it]\n",
      "100%|██████████| 5/5 [00:08<00:00,  1.68s/it]\n",
      "100%|██████████| 5/5 [00:08<00:00,  1.70s/it]\n",
      "100%|██████████| 5/5 [00:08<00:00,  1.68s/it]\n",
      "100%|██████████| 5/5 [00:08<00:00,  1.70s/it]\n"
     ]
    },
    {
     "name": "stdout",
     "output_type": "stream",
     "text": [
      "Checking accuracy on test data\n",
      "Got 8819 / 10000 with accuracy 88.19%\n",
      "Row: 10 | [0, 0.8005, 0.8428, 0.855, 0.8648, 0.8716, 0.8751, 0.8773, 0.8791, 0.8801, 0.8819]\n"
     ]
    },
    {
     "name": "stderr",
     "output_type": "stream",
     "text": [
      "100%|██████████| 5/5 [00:08<00:00,  1.70s/it]\n",
      "100%|██████████| 5/5 [00:08<00:00,  1.72s/it]\n",
      "100%|██████████| 5/5 [00:08<00:00,  1.68s/it]\n",
      "100%|██████████| 5/5 [00:08<00:00,  1.69s/it]\n",
      "100%|██████████| 5/5 [00:08<00:00,  1.74s/it]\n"
     ]
    },
    {
     "name": "stdout",
     "output_type": "stream",
     "text": [
      "Checking accuracy on test data\n",
      "Got 8824 / 10000 with accuracy 88.24%\n",
      "Row: 11 | [0, 0.8005, 0.8428, 0.855, 0.8648, 0.8716, 0.8751, 0.8773, 0.8791, 0.8801, 0.8819, 0.8824]\n"
     ]
    },
    {
     "name": "stderr",
     "output_type": "stream",
     "text": [
      "100%|██████████| 5/5 [00:08<00:00,  1.67s/it]\n",
      "100%|██████████| 5/5 [00:08<00:00,  1.70s/it]\n",
      "100%|██████████| 5/5 [00:08<00:00,  1.78s/it]\n",
      "100%|██████████| 5/5 [00:08<00:00,  1.79s/it]\n",
      "100%|██████████| 5/5 [00:08<00:00,  1.75s/it]\n"
     ]
    },
    {
     "name": "stdout",
     "output_type": "stream",
     "text": [
      "Checking accuracy on test data\n",
      "Got 8845 / 10000 with accuracy 88.45%\n",
      "Row: 12 | [0, 0.8005, 0.8428, 0.855, 0.8648, 0.8716, 0.8751, 0.8773, 0.8791, 0.8801, 0.8819, 0.8824, 0.8845]\n"
     ]
    },
    {
     "name": "stderr",
     "output_type": "stream",
     "text": [
      "100%|██████████| 5/5 [00:08<00:00,  1.74s/it]\n",
      "100%|██████████| 5/5 [00:08<00:00,  1.70s/it]\n",
      "100%|██████████| 5/5 [00:08<00:00,  1.69s/it]\n",
      "100%|██████████| 5/5 [00:08<00:00,  1.73s/it]\n",
      "100%|██████████| 5/5 [00:08<00:00,  1.70s/it]\n"
     ]
    },
    {
     "name": "stdout",
     "output_type": "stream",
     "text": [
      "Checking accuracy on test data\n",
      "Got 8834 / 10000 with accuracy 88.34%\n",
      "Row: 13 | [0, 0.8005, 0.8428, 0.855, 0.8648, 0.8716, 0.8751, 0.8773, 0.8791, 0.8801, 0.8819, 0.8824, 0.8845, 0.8834]\n"
     ]
    },
    {
     "name": "stderr",
     "output_type": "stream",
     "text": [
      "100%|██████████| 5/5 [00:08<00:00,  1.73s/it]\n",
      "100%|██████████| 5/5 [00:08<00:00,  1.71s/it]\n",
      "100%|██████████| 5/5 [00:14<00:00,  2.89s/it]\n",
      "100%|██████████| 5/5 [00:15<00:00,  3.14s/it]\n",
      "100%|██████████| 5/5 [00:16<00:00,  3.26s/it]\n"
     ]
    },
    {
     "name": "stdout",
     "output_type": "stream",
     "text": [
      "Checking accuracy on test data\n",
      "Got 8844 / 10000 with accuracy 88.44%\n",
      "Row: 14 | [0, 0.8005, 0.8428, 0.855, 0.8648, 0.8716, 0.8751, 0.8773, 0.8791, 0.8801, 0.8819, 0.8824, 0.8845, 0.8834, 0.8844]\n"
     ]
    },
    {
     "name": "stderr",
     "output_type": "stream",
     "text": [
      "100%|██████████| 5/5 [00:16<00:00,  3.23s/it]\n",
      "100%|██████████| 5/5 [00:15<00:00,  3.12s/it]\n",
      "100%|██████████| 5/5 [00:15<00:00,  3.10s/it]\n",
      "100%|██████████| 5/5 [00:15<00:00,  3.15s/it]\n",
      "100%|██████████| 5/5 [00:15<00:00,  3.14s/it]\n"
     ]
    },
    {
     "name": "stdout",
     "output_type": "stream",
     "text": [
      "Checking accuracy on test data\n",
      "Got 8843 / 10000 with accuracy 88.43%\n",
      "Row: 15 | [0, 0.8005, 0.8428, 0.855, 0.8648, 0.8716, 0.8751, 0.8773, 0.8791, 0.8801, 0.8819, 0.8824, 0.8845, 0.8834, 0.8844, 0.8843]\n"
     ]
    },
    {
     "data": {
      "image/png": "[encoded data removed]",
      "text/plain": [
       "<Figure size 640x480 with 1 Axes>"
      ]
     },
     "metadata": {},
     "output_type": "display_data"
    },
    {
     "name": "stdout",
     "output_type": "stream",
     "text": [
      "--- NEW MODEL 1 --- \n",
      "Matrix1.weight\n",
      "<class 'torch.nn.parameter.Parameter'> torch.Size([392, 784])\n",
      "Matrix1.bias\n",
      "<class 'torch.nn.parameter.Parameter'> torch.Size([392])\n",
      "Matrix2.weight\n",
      "<class 'torch.nn.parameter.Parameter'> torch.Size([196, 392])\n",
      "Matrix2.bias\n",
      "<class 'torch.nn.parameter.Parameter'> torch.Size([196])\n",
      "Matrix3.weight\n",
      "<class 'torch.nn.parameter.Parameter'> torch.Size([10, 196])\n",
      "Matrix3.bias\n",
      "<class 'torch.nn.parameter.Parameter'> torch.Size([10])\n"
     ]
    },
    {
     "name": "stderr",
     "output_type": "stream",
     "text": [
      "100%|██████████| 5/5 [00:15<00:00,  3.15s/it]\n",
      "100%|██████████| 5/5 [00:15<00:00,  3.17s/it]\n",
      "100%|██████████| 5/5 [00:15<00:00,  3.17s/it]\n",
      "100%|██████████| 5/5 [00:15<00:00,  3.17s/it]\n",
      "100%|██████████| 5/5 [00:15<00:00,  3.20s/it]\n"
     ]
    },
    {
     "name": "stdout",
     "output_type": "stream",
     "text": [
      "Checking accuracy on test data\n",
      "Got 7446 / 10000 with accuracy 74.46%\n",
      "Row: 1 | [0, 0.7446]\n"
     ]
    },
    {
     "name": "stderr",
     "output_type": "stream",
     "text": [
      "100%|██████████| 5/5 [00:15<00:00,  3.16s/it]\n",
      "100%|██████████| 5/5 [00:16<00:00,  3.21s/it]\n",
      "100%|██████████| 5/5 [00:15<00:00,  3.15s/it]\n",
      "100%|██████████| 5/5 [00:15<00:00,  3.18s/it]\n",
      "100%|██████████| 5/5 [00:15<00:00,  3.11s/it]\n"
     ]
    },
    {
     "name": "stdout",
     "output_type": "stream",
     "text": [
      "Checking accuracy on test data\n",
      "Got 7656 / 10000 with accuracy 76.56%\n",
      "Row: 2 | [0, 0.7446, 0.7656]\n"
     ]
    },
    {
     "name": "stderr",
     "output_type": "stream",
     "text": [
      "100%|██████████| 5/5 [00:15<00:00,  3.15s/it]\n",
      "100%|██████████| 5/5 [00:15<00:00,  3.15s/it]\n",
      "100%|██████████| 5/5 [00:15<00:00,  3.18s/it]\n",
      "100%|██████████| 5/5 [00:15<00:00,  3.13s/it]\n",
      "100%|██████████| 5/5 [00:15<00:00,  3.15s/it]\n"
     ]
    },
    {
     "name": "stdout",
     "output_type": "stream",
     "text": [
      "Checking accuracy on test data\n",
      "Got 7763 / 10000 with accuracy 77.63%\n",
      "Row: 3 | [0, 0.7446, 0.7656, 0.7763]\n"
     ]
    },
    {
     "name": "stderr",
     "output_type": "stream",
     "text": [
      "100%|██████████| 5/5 [00:15<00:00,  3.14s/it]\n",
      "100%|██████████| 5/5 [00:15<00:00,  3.15s/it]\n",
      "100%|██████████| 5/5 [00:15<00:00,  3.10s/it]\n",
      "100%|██████████| 5/5 [00:15<00:00,  3.16s/it]\n",
      "100%|██████████| 5/5 [00:15<00:00,  3.16s/it]\n"
     ]
    },
    {
     "name": "stdout",
     "output_type": "stream",
     "text": [
      "Checking accuracy on test data\n",
      "Got 7824 / 10000 with accuracy 78.24%\n",
      "Row: 4 | [0, 0.7446, 0.7656, 0.7763, 0.7824]\n"
     ]
    },
    {
     "name": "stderr",
     "output_type": "stream",
     "text": [
      "100%|██████████| 5/5 [00:15<00:00,  3.17s/it]\n",
      "100%|██████████| 5/5 [00:15<00:00,  3.15s/it]\n",
      "100%|██████████| 5/5 [00:15<00:00,  3.19s/it]\n",
      "100%|██████████| 5/5 [00:15<00:00,  3.16s/it]\n",
      "100%|██████████| 5/5 [00:15<00:00,  3.13s/it]\n"
     ]
    },
    {
     "name": "stdout",
     "output_type": "stream",
     "text": [
      "Checking accuracy on test data\n",
      "Got 7845 / 10000 with accuracy 78.45%\n",
      "Row: 5 | [0, 0.7446, 0.7656, 0.7763, 0.7824, 0.7845]\n"
     ]
    },
    {
     "name": "stderr",
     "output_type": "stream",
     "text": [
      "100%|██████████| 5/5 [00:15<00:00,  3.11s/it]\n",
      "100%|██████████| 5/5 [00:15<00:00,  3.18s/it]\n",
      "100%|██████████| 5/5 [00:15<00:00,  3.18s/it]\n",
      "100%|██████████| 5/5 [00:15<00:00,  3.15s/it]\n",
      "100%|██████████| 5/5 [00:15<00:00,  3.11s/it]\n"
     ]
    },
    {
     "name": "stdout",
     "output_type": "stream",
     "text": [
      "Checking accuracy on test data\n",
      "Got 7863 / 10000 with accuracy 78.63%\n",
      "Row: 6 | [0, 0.7446, 0.7656, 0.7763, 0.7824, 0.7845, 0.7863]\n"
     ]
    },
    {
     "name": "stderr",
     "output_type": "stream",
     "text": [
      "100%|██████████| 5/5 [00:15<00:00,  3.11s/it]\n",
      "100%|██████████| 5/5 [00:15<00:00,  3.19s/it]\n",
      "100%|██████████| 5/5 [00:15<00:00,  3.16s/it]\n",
      "100%|██████████| 5/5 [00:15<00:00,  3.15s/it]\n",
      "100%|██████████| 5/5 [00:15<00:00,  3.16s/it]\n"
     ]
    },
    {
     "name": "stdout",
     "output_type": "stream",
     "text": [
      "Checking accuracy on test data\n",
      "Got 7873 / 10000 with accuracy 78.73%\n",
      "Row: 7 | [0, 0.7446, 0.7656, 0.7763, 0.7824, 0.7845, 0.7863, 0.7873]\n"
     ]
    },
    {
     "name": "stderr",
     "output_type": "stream",
     "text": [
      "100%|██████████| 5/5 [00:15<00:00,  3.14s/it]\n",
      "100%|██████████| 5/5 [00:15<00:00,  3.15s/it]\n",
      "100%|██████████| 5/5 [00:15<00:00,  3.18s/it]\n",
      "100%|██████████| 5/5 [00:15<00:00,  3.15s/it]\n",
      "100%|██████████| 5/5 [00:15<00:00,  3.17s/it]\n"
     ]
    },
    {
     "name": "stdout",
     "output_type": "stream",
     "text": [
      "Checking accuracy on test data\n",
      "Got 7881 / 10000 with accuracy 78.81%\n",
      "Row: 8 | [0, 0.7446, 0.7656, 0.7763, 0.7824, 0.7845, 0.7863, 0.7873, 0.7881]\n"
     ]
    },
    {
     "name": "stderr",
     "output_type": "stream",
     "text": [
      "100%|██████████| 5/5 [00:15<00:00,  3.12s/it]\n",
      "100%|██████████| 5/5 [00:15<00:00,  3.14s/it]\n",
      "100%|██████████| 5/5 [00:15<00:00,  3.20s/it]\n",
      "100%|██████████| 5/5 [00:16<00:00,  3.23s/it]\n",
      "100%|██████████| 5/5 [00:15<00:00,  3.14s/it]\n"
     ]
    },
    {
     "name": "stdout",
     "output_type": "stream",
     "text": [
      "Checking accuracy on test data\n",
      "Got 7885 / 10000 with accuracy 78.85%\n",
      "Row: 9 | [0, 0.7446, 0.7656, 0.7763, 0.7824, 0.7845, 0.7863, 0.7873, 0.7881, 0.7885]\n"
     ]
    },
    {
     "name": "stderr",
     "output_type": "stream",
     "text": [
      "100%|██████████| 5/5 [00:15<00:00,  3.14s/it]\n",
      "100%|██████████| 5/5 [00:15<00:00,  3.17s/it]\n",
      "100%|██████████| 5/5 [00:15<00:00,  3.19s/it]\n",
      "100%|██████████| 5/5 [00:15<00:00,  3.11s/it]\n",
      "100%|██████████| 5/5 [00:15<00:00,  3.14s/it]\n"
     ]
    },
    {
     "name": "stdout",
     "output_type": "stream",
     "text": [
      "Checking accuracy on test data\n",
      "Got 7881 / 10000 with accuracy 78.81%\n",
      "Row: 10 | [0, 0.7446, 0.7656, 0.7763, 0.7824, 0.7845, 0.7863, 0.7873, 0.7881, 0.7885, 0.7881]\n"
     ]
    },
    {
     "name": "stderr",
     "output_type": "stream",
     "text": [
      "100%|██████████| 5/5 [00:15<00:00,  3.15s/it]\n",
      "100%|██████████| 5/5 [00:15<00:00,  3.14s/it]\n",
      "100%|██████████| 5/5 [00:15<00:00,  3.15s/it]\n",
      "100%|██████████| 5/5 [00:15<00:00,  3.12s/it]\n",
      "100%|██████████| 5/5 [00:15<00:00,  3.16s/it]\n"
     ]
    },
    {
     "name": "stdout",
     "output_type": "stream",
     "text": [
      "Checking accuracy on test data\n",
      "Got 7883 / 10000 with accuracy 78.83%\n",
      "Row: 11 | [0, 0.7446, 0.7656, 0.7763, 0.7824, 0.7845, 0.7863, 0.7873, 0.7881, 0.7885, 0.7881, 0.7883]\n"
     ]
    },
    {
     "name": "stderr",
     "output_type": "stream",
     "text": [
      "100%|██████████| 5/5 [00:15<00:00,  3.11s/it]\n",
      "100%|██████████| 5/5 [00:15<00:00,  3.11s/it]\n",
      "100%|██████████| 5/5 [00:15<00:00,  3.12s/it]\n",
      "100%|██████████| 5/5 [00:15<00:00,  3.16s/it]\n",
      "100%|██████████| 5/5 [00:15<00:00,  3.17s/it]\n"
     ]
    },
    {
     "name": "stdout",
     "output_type": "stream",
     "text": [
      "Checking accuracy on test data\n",
      "Got 7885 / 10000 with accuracy 78.85%\n",
      "Row: 12 | [0, 0.7446, 0.7656, 0.7763, 0.7824, 0.7845, 0.7863, 0.7873, 0.7881, 0.7885, 0.7881, 0.7883, 0.7885]\n"
     ]
    },
    {
     "name": "stderr",
     "output_type": "stream",
     "text": [
      "100%|██████████| 5/5 [00:15<00:00,  3.14s/it]\n",
      "100%|██████████| 5/5 [00:15<00:00,  3.14s/it]\n",
      "100%|██████████| 5/5 [00:15<00:00,  3.11s/it]\n",
      "100%|██████████| 5/5 [00:15<00:00,  3.15s/it]\n",
      "100%|██████████| 5/5 [00:15<00:00,  3.16s/it]\n"
     ]
    },
    {
     "name": "stdout",
     "output_type": "stream",
     "text": [
      "Checking accuracy on test data\n",
      "Got 7888 / 10000 with accuracy 78.88%\n",
      "Row: 13 | [0, 0.7446, 0.7656, 0.7763, 0.7824, 0.7845, 0.7863, 0.7873, 0.7881, 0.7885, 0.7881, 0.7883, 0.7885, 0.7888]\n"
     ]
    },
    {
     "name": "stderr",
     "output_type": "stream",
     "text": [
      "100%|██████████| 5/5 [00:15<00:00,  3.14s/it]\n",
      "100%|██████████| 5/5 [00:15<00:00,  3.14s/it]\n",
      "100%|██████████| 5/5 [00:15<00:00,  3.13s/it]\n",
      "100%|██████████| 5/5 [00:15<00:00,  3.19s/it]\n",
      "100%|██████████| 5/5 [00:15<00:00,  3.20s/it]\n"
     ]
    },
    {
     "name": "stdout",
     "output_type": "stream",
     "text": [
      "Checking accuracy on test data\n",
      "Got 7885 / 10000 with accuracy 78.85%\n",
      "Row: 14 | [0, 0.7446, 0.7656, 0.7763, 0.7824, 0.7845, 0.7863, 0.7873, 0.7881, 0.7885, 0.7881, 0.7883, 0.7885, 0.7888, 0.7885]\n"
     ]
    },
    {
     "name": "stderr",
     "output_type": "stream",
     "text": [
      "100%|██████████| 5/5 [00:15<00:00,  3.17s/it]\n",
      "100%|██████████| 5/5 [00:16<00:00,  3.21s/it]\n",
      "100%|██████████| 5/5 [00:15<00:00,  3.15s/it]\n",
      "100%|██████████| 5/5 [00:17<00:00,  3.52s/it]\n",
      "100%|██████████| 5/5 [00:16<00:00,  3.31s/it]\n"
     ]
    },
    {
     "name": "stdout",
     "output_type": "stream",
     "text": [
      "Checking accuracy on test data\n",
      "Got 7895 / 10000 with accuracy 78.95%\n",
      "Row: 15 | [0, 0.7446, 0.7656, 0.7763, 0.7824, 0.7845, 0.7863, 0.7873, 0.7881, 0.7885, 0.7881, 0.7883, 0.7885, 0.7888, 0.7885, 0.7895]\n"
     ]
    },
    {
     "data": {
      "image/png": "[encoded data removed]",
      "text/plain": [
       "<Figure size 640x480 with 1 Axes>"
      ]
     },
     "metadata": {},
     "output_type": "display_data"
    },
    {
     "name": "stdout",
     "output_type": "stream",
     "text": [
      "--- NEW MODEL 2 --- \n",
      "Matrix1.weight\n",
      "<class 'torch.nn.parameter.Parameter'> torch.Size([392, 784])\n",
      "Matrix1.bias\n",
      "<class 'torch.nn.parameter.Parameter'> torch.Size([392])\n",
      "Matrix2.weight\n",
      "<class 'torch.nn.parameter.Parameter'> torch.Size([196, 392])\n",
      "Matrix2.bias\n",
      "<class 'torch.nn.parameter.Parameter'> torch.Size([196])\n",
      "Matrix3.weight\n",
      "<class 'torch.nn.parameter.Parameter'> torch.Size([10, 196])\n",
      "Matrix3.bias\n",
      "<class 'torch.nn.parameter.Parameter'> torch.Size([10])\n"
     ]
    },
    {
     "name": "stderr",
     "output_type": "stream",
     "text": [
      "100%|██████████| 5/5 [00:16<00:00,  3.23s/it]\n",
      "100%|██████████| 5/5 [00:16<00:00,  3.23s/it]\n",
      "100%|██████████| 5/5 [00:15<00:00,  3.15s/it]\n",
      "100%|██████████| 5/5 [00:15<00:00,  3.15s/it]\n",
      "100%|██████████| 5/5 [00:16<00:00,  3.22s/it]\n"
     ]
    },
    {
     "name": "stdout",
     "output_type": "stream",
     "text": [
      "Checking accuracy on test data\n",
      "Got 9168 / 10000 with accuracy 91.68%\n",
      "Row: 1 | [0, 0.9168]\n"
     ]
    },
    {
     "name": "stderr",
     "output_type": "stream",
     "text": [
      "100%|██████████| 5/5 [00:15<00:00,  3.18s/it]\n",
      "100%|██████████| 5/5 [00:15<00:00,  3.19s/it]\n",
      "100%|██████████| 5/5 [00:15<00:00,  3.16s/it]\n",
      "100%|██████████| 5/5 [00:15<00:00,  3.16s/it]\n",
      "100%|██████████| 5/5 [00:16<00:00,  3.32s/it]\n"
     ]
    },
    {
     "name": "stdout",
     "output_type": "stream",
     "text": [
      "Checking accuracy on test data\n",
      "Got 9452 / 10000 with accuracy 94.52%\n",
      "Row: 2 | [0, 0.9168, 0.9452]\n"
     ]
    },
    {
     "name": "stderr",
     "output_type": "stream",
     "text": [
      "100%|██████████| 5/5 [00:16<00:00,  3.24s/it]\n",
      "100%|██████████| 5/5 [00:16<00:00,  3.29s/it]\n",
      "100%|██████████| 5/5 [00:16<00:00,  3.22s/it]\n",
      "100%|██████████| 5/5 [00:15<00:00,  3.19s/it]\n",
      "100%|██████████| 5/5 [00:15<00:00,  3.18s/it]\n"
     ]
    },
    {
     "name": "stdout",
     "output_type": "stream",
     "text": [
      "Checking accuracy on test data\n",
      "Got 9580 / 10000 with accuracy 95.80%\n",
      "Row: 3 | [0, 0.9168, 0.9452, 0.958]\n"
     ]
    },
    {
     "name": "stderr",
     "output_type": "stream",
     "text": [
      "100%|██████████| 5/5 [00:16<00:00,  3.22s/it]\n",
      "100%|██████████| 5/5 [00:15<00:00,  3.18s/it]\n",
      "100%|██████████| 5/5 [00:15<00:00,  3.19s/it]\n",
      "100%|██████████| 5/5 [00:15<00:00,  3.19s/it]\n",
      "100%|██████████| 5/5 [00:15<00:00,  3.18s/it]\n"
     ]
    },
    {
     "name": "stdout",
     "output_type": "stream",
     "text": [
      "Checking accuracy on test data\n",
      "Got 9650 / 10000 with accuracy 96.50%\n",
      "Row: 4 | [0, 0.9168, 0.9452, 0.958, 0.965]\n"
     ]
    },
    {
     "name": "stderr",
     "output_type": "stream",
     "text": [
      "100%|██████████| 5/5 [00:16<00:00,  3.21s/it]\n",
      "100%|██████████| 5/5 [00:15<00:00,  3.19s/it]\n",
      "100%|██████████| 5/5 [00:15<00:00,  3.19s/it]\n",
      "100%|██████████| 5/5 [00:15<00:00,  3.19s/it]\n",
      "100%|██████████| 5/5 [00:15<00:00,  3.18s/it]\n"
     ]
    },
    {
     "name": "stdout",
     "output_type": "stream",
     "text": [
      "Checking accuracy on test data\n",
      "Got 9701 / 10000 with accuracy 97.01%\n",
      "Row: 5 | [0, 0.9168, 0.9452, 0.958, 0.965, 0.9701]\n"
     ]
    },
    {
     "name": "stderr",
     "output_type": "stream",
     "text": [
      "100%|██████████| 5/5 [00:15<00:00,  3.18s/it]\n",
      "100%|██████████| 5/5 [00:15<00:00,  3.18s/it]\n",
      "100%|██████████| 5/5 [00:15<00:00,  3.18s/it]\n",
      "100%|██████████| 5/5 [00:15<00:00,  3.17s/it]\n",
      "100%|██████████| 5/5 [00:15<00:00,  3.17s/it]\n"
     ]
    },
    {
     "name": "stdout",
     "output_type": "stream",
     "text": [
      "Checking accuracy on test data\n",
      "Got 9719 / 10000 with accuracy 97.19%\n",
      "Row: 6 | [0, 0.9168, 0.9452, 0.958, 0.965, 0.9701, 0.9719]\n"
     ]
    },
    {
     "name": "stderr",
     "output_type": "stream",
     "text": [
      "100%|██████████| 5/5 [00:15<00:00,  3.17s/it]\n",
      "100%|██████████| 5/5 [00:15<00:00,  3.19s/it]\n",
      "100%|██████████| 5/5 [00:15<00:00,  3.19s/it]\n",
      "100%|██████████| 5/5 [00:15<00:00,  3.14s/it]\n",
      "100%|██████████| 5/5 [00:15<00:00,  3.16s/it]\n"
     ]
    },
    {
     "name": "stdout",
     "output_type": "stream",
     "text": [
      "Checking accuracy on test data\n",
      "Got 9744 / 10000 with accuracy 97.44%\n",
      "Row: 7 | [0, 0.9168, 0.9452, 0.958, 0.965, 0.9701, 0.9719, 0.9744]\n"
     ]
    },
    {
     "name": "stderr",
     "output_type": "stream",
     "text": [
      "100%|██████████| 5/5 [00:15<00:00,  3.16s/it]\n",
      "100%|██████████| 5/5 [00:15<00:00,  3.16s/it]\n",
      "100%|██████████| 5/5 [00:15<00:00,  3.17s/it]\n",
      "100%|██████████| 5/5 [00:15<00:00,  3.11s/it]\n",
      "100%|██████████| 5/5 [00:15<00:00,  3.15s/it]\n"
     ]
    },
    {
     "name": "stdout",
     "output_type": "stream",
     "text": [
      "Checking accuracy on test data\n",
      "Got 9766 / 10000 with accuracy 97.66%\n",
      "Row: 8 | [0, 0.9168, 0.9452, 0.958, 0.965, 0.9701, 0.9719, 0.9744, 0.9766]\n"
     ]
    },
    {
     "name": "stderr",
     "output_type": "stream",
     "text": [
      "100%|██████████| 5/5 [00:15<00:00,  3.15s/it]\n",
      "100%|██████████| 5/5 [00:15<00:00,  3.16s/it]\n",
      "100%|██████████| 5/5 [00:15<00:00,  3.18s/it]\n",
      "100%|██████████| 5/5 [00:15<00:00,  3.15s/it]\n",
      "100%|██████████| 5/5 [00:15<00:00,  3.10s/it]\n"
     ]
    },
    {
     "name": "stdout",
     "output_type": "stream",
     "text": [
      "Checking accuracy on test data\n",
      "Got 9774 / 10000 with accuracy 97.74%\n",
      "Row: 9 | [0, 0.9168, 0.9452, 0.958, 0.965, 0.9701, 0.9719, 0.9744, 0.9766, 0.9774]\n"
     ]
    },
    {
     "name": "stderr",
     "output_type": "stream",
     "text": [
      "100%|██████████| 5/5 [00:15<00:00,  3.13s/it]\n",
      "100%|██████████| 5/5 [00:15<00:00,  3.11s/it]\n",
      "100%|██████████| 5/5 [00:15<00:00,  3.16s/it]\n",
      "100%|██████████| 5/5 [00:15<00:00,  3.10s/it]\n",
      "100%|██████████| 5/5 [00:15<00:00,  3.14s/it]\n"
     ]
    },
    {
     "name": "stdout",
     "output_type": "stream",
     "text": [
      "Checking accuracy on test data\n",
      "Got 9786 / 10000 with accuracy 97.86%\n",
      "Row: 10 | [0, 0.9168, 0.9452, 0.958, 0.965, 0.9701, 0.9719, 0.9744, 0.9766, 0.9774, 0.9786]\n"
     ]
    },
    {
     "name": "stderr",
     "output_type": "stream",
     "text": [
      "100%|██████████| 5/5 [00:15<00:00,  3.12s/it]\n",
      "100%|██████████| 5/5 [00:15<00:00,  3.16s/it]\n",
      "100%|██████████| 5/5 [00:15<00:00,  3.12s/it]\n",
      "100%|██████████| 5/5 [00:15<00:00,  3.14s/it]\n",
      "100%|██████████| 5/5 [00:15<00:00,  3.14s/it]\n"
     ]
    },
    {
     "name": "stdout",
     "output_type": "stream",
     "text": [
      "Checking accuracy on test data\n",
      "Got 9786 / 10000 with accuracy 97.86%\n",
      "Row: 11 | [0, 0.9168, 0.9452, 0.958, 0.965, 0.9701, 0.9719, 0.9744, 0.9766, 0.9774, 0.9786, 0.9786]\n"
     ]
    },
    {
     "name": "stderr",
     "output_type": "stream",
     "text": [
      "100%|██████████| 5/5 [00:15<00:00,  3.16s/it]\n",
      "100%|██████████| 5/5 [00:15<00:00,  3.13s/it]\n",
      "100%|██████████| 5/5 [00:15<00:00,  3.10s/it]\n",
      "100%|██████████| 5/5 [00:15<00:00,  3.13s/it]\n",
      "100%|██████████| 5/5 [00:15<00:00,  3.14s/it]\n"
     ]
    },
    {
     "name": "stdout",
     "output_type": "stream",
     "text": [
      "Checking accuracy on test data\n",
      "Got 9791 / 10000 with accuracy 97.91%\n",
      "Row: 12 | [0, 0.9168, 0.9452, 0.958, 0.965, 0.9701, 0.9719, 0.9744, 0.9766, 0.9774, 0.9786, 0.9786, 0.9791]\n"
     ]
    },
    {
     "name": "stderr",
     "output_type": "stream",
     "text": [
      "100%|██████████| 5/5 [00:15<00:00,  3.16s/it]\n",
      "100%|██████████| 5/5 [00:15<00:00,  3.16s/it]\n",
      "100%|██████████| 5/5 [00:15<00:00,  3.16s/it]\n",
      "100%|██████████| 5/5 [00:15<00:00,  3.14s/it]\n",
      "100%|██████████| 5/5 [00:15<00:00,  3.16s/it]\n"
     ]
    },
    {
     "name": "stdout",
     "output_type": "stream",
     "text": [
      "Checking accuracy on test data\n",
      "Got 9791 / 10000 with accuracy 97.91%\n",
      "Row: 13 | [0, 0.9168, 0.9452, 0.958, 0.965, 0.9701, 0.9719, 0.9744, 0.9766, 0.9774, 0.9786, 0.9786, 0.9791, 0.9791]\n"
     ]
    },
    {
     "name": "stderr",
     "output_type": "stream",
     "text": [
      "100%|██████████| 5/5 [00:16<00:00,  3.20s/it]\n",
      "100%|██████████| 5/5 [00:15<00:00,  3.16s/it]\n",
      "100%|██████████| 5/5 [00:15<00:00,  3.17s/it]\n",
      "100%|██████████| 5/5 [00:15<00:00,  3.19s/it]\n",
      "100%|██████████| 5/5 [00:15<00:00,  3.18s/it]\n"
     ]
    },
    {
     "name": "stdout",
     "output_type": "stream",
     "text": [
      "Checking accuracy on test data\n",
      "Got 9796 / 10000 with accuracy 97.96%\n",
      "Row: 14 | [0, 0.9168, 0.9452, 0.958, 0.965, 0.9701, 0.9719, 0.9744, 0.9766, 0.9774, 0.9786, 0.9786, 0.9791, 0.9791, 0.9796]\n"
     ]
    },
    {
     "name": "stderr",
     "output_type": "stream",
     "text": [
      "100%|██████████| 5/5 [00:15<00:00,  3.12s/it]\n",
      "100%|██████████| 5/5 [00:15<00:00,  3.17s/it]\n",
      "100%|██████████| 5/5 [00:15<00:00,  3.16s/it]\n",
      "100%|██████████| 5/5 [00:16<00:00,  3.24s/it]\n",
      "100%|██████████| 5/5 [00:15<00:00,  3.13s/it]\n"
     ]
    },
    {
     "name": "stdout",
     "output_type": "stream",
     "text": [
      "Checking accuracy on test data\n",
      "Got 9798 / 10000 with accuracy 97.98%\n",
      "Row: 15 | [0, 0.9168, 0.9452, 0.958, 0.965, 0.9701, 0.9719, 0.9744, 0.9766, 0.9774, 0.9786, 0.9786, 0.9791, 0.9791, 0.9796, 0.9798]\n"
     ]
    },
    {
     "data": {
      "image/png": "[encoded data removed]",
      "text/plain": [
       "<Figure size 640x480 with 1 Axes>"
      ]
     },
     "metadata": {},
     "output_type": "display_data"
    },
    {
     "name": "stdout",
     "output_type": "stream",
     "text": [
      "--- NEW MODEL 3 --- \n",
      "Matrix1.weight\n",
      "<class 'torch.nn.parameter.Parameter'> torch.Size([392, 784])\n",
      "Matrix1.bias\n",
      "<class 'torch.nn.parameter.Parameter'> torch.Size([392])\n",
      "Matrix2.weight\n",
      "<class 'torch.nn.parameter.Parameter'> torch.Size([196, 392])\n",
      "Matrix2.bias\n",
      "<class 'torch.nn.parameter.Parameter'> torch.Size([196])\n",
      "Matrix3.weight\n",
      "<class 'torch.nn.parameter.Parameter'> torch.Size([10, 196])\n",
      "Matrix3.bias\n",
      "<class 'torch.nn.parameter.Parameter'> torch.Size([10])\n"
     ]
    },
    {
     "name": "stderr",
     "output_type": "stream",
     "text": [
      "100%|██████████| 5/5 [00:15<00:00,  3.18s/it]\n",
      "100%|██████████| 5/5 [00:15<00:00,  3.19s/it]\n",
      "100%|██████████| 5/5 [00:15<00:00,  3.19s/it]\n",
      "100%|██████████| 5/5 [00:15<00:00,  3.14s/it]\n",
      "100%|██████████| 5/5 [00:15<00:00,  3.17s/it]\n"
     ]
    },
    {
     "name": "stdout",
     "output_type": "stream",
     "text": [
      "Checking accuracy on test data\n",
      "Got 9177 / 10000 with accuracy 91.77%\n",
      "Row: 1 | [0, 0.9177]\n"
     ]
    },
    {
     "name": "stderr",
     "output_type": "stream",
     "text": [
      "100%|██████████| 5/5 [00:15<00:00,  3.17s/it]\n",
      "100%|██████████| 5/5 [00:15<00:00,  3.15s/it]\n",
      "100%|██████████| 5/5 [00:16<00:00,  3.22s/it]\n",
      "100%|██████████| 5/5 [00:15<00:00,  3.20s/it]\n",
      "100%|██████████| 5/5 [00:15<00:00,  3.17s/it]\n"
     ]
    },
    {
     "name": "stdout",
     "output_type": "stream",
     "text": [
      "Checking accuracy on test data\n",
      "Got 9457 / 10000 with accuracy 94.57%\n",
      "Row: 2 | [0, 0.9177, 0.9457]\n"
     ]
    },
    {
     "name": "stderr",
     "output_type": "stream",
     "text": [
      "100%|██████████| 5/5 [00:15<00:00,  3.13s/it]\n",
      "100%|██████████| 5/5 [00:15<00:00,  3.19s/it]\n",
      "100%|██████████| 5/5 [00:15<00:00,  3.17s/it]\n",
      "100%|██████████| 5/5 [00:15<00:00,  3.18s/it]\n",
      "100%|██████████| 5/5 [00:15<00:00,  3.14s/it]\n"
     ]
    },
    {
     "name": "stdout",
     "output_type": "stream",
     "text": [
      "Checking accuracy on test data\n",
      "Got 9583 / 10000 with accuracy 95.83%\n",
      "Row: 3 | [0, 0.9177, 0.9457, 0.9583]\n"
     ]
    },
    {
     "name": "stderr",
     "output_type": "stream",
     "text": [
      "100%|██████████| 5/5 [00:15<00:00,  3.18s/it]\n",
      "100%|██████████| 5/5 [00:15<00:00,  3.12s/it]\n",
      "100%|██████████| 5/5 [00:15<00:00,  3.17s/it]\n",
      "100%|██████████| 5/5 [00:15<00:00,  3.20s/it]\n",
      "100%|██████████| 5/5 [00:15<00:00,  3.17s/it]\n"
     ]
    },
    {
     "name": "stdout",
     "output_type": "stream",
     "text": [
      "Checking accuracy on test data\n",
      "Got 9650 / 10000 with accuracy 96.50%\n",
      "Row: 4 | [0, 0.9177, 0.9457, 0.9583, 0.965]\n"
     ]
    },
    {
     "name": "stderr",
     "output_type": "stream",
     "text": [
      "100%|██████████| 5/5 [00:15<00:00,  3.17s/it]\n",
      "100%|██████████| 5/5 [00:15<00:00,  3.19s/it]\n",
      "100%|██████████| 5/5 [00:15<00:00,  3.17s/it]\n",
      "100%|██████████| 5/5 [00:15<00:00,  3.17s/it]\n",
      "100%|██████████| 5/5 [00:15<00:00,  3.18s/it]\n"
     ]
    },
    {
     "name": "stdout",
     "output_type": "stream",
     "text": [
      "Checking accuracy on test data\n",
      "Got 9698 / 10000 with accuracy 96.98%\n",
      "Row: 5 | [0, 0.9177, 0.9457, 0.9583, 0.965, 0.9698]\n"
     ]
    },
    {
     "name": "stderr",
     "output_type": "stream",
     "text": [
      "100%|██████████| 5/5 [00:15<00:00,  3.14s/it]\n",
      "100%|██████████| 5/5 [00:15<00:00,  3.18s/it]\n",
      "100%|██████████| 5/5 [00:17<00:00,  3.49s/it]\n",
      "100%|██████████| 5/5 [00:15<00:00,  3.18s/it]\n",
      "100%|██████████| 5/5 [00:15<00:00,  3.12s/it]\n"
     ]
    },
    {
     "name": "stdout",
     "output_type": "stream",
     "text": [
      "Checking accuracy on test data\n",
      "Got 9730 / 10000 with accuracy 97.30%\n",
      "Row: 6 | [0, 0.9177, 0.9457, 0.9583, 0.965, 0.9698, 0.973]\n"
     ]
    },
    {
     "name": "stderr",
     "output_type": "stream",
     "text": [
      "100%|██████████| 5/5 [00:15<00:00,  3.12s/it]\n",
      "100%|██████████| 5/5 [00:16<00:00,  3.21s/it]\n",
      "100%|██████████| 5/5 [00:15<00:00,  3.18s/it]\n",
      "100%|██████████| 5/5 [00:15<00:00,  3.17s/it]\n",
      "100%|██████████| 5/5 [00:15<00:00,  3.18s/it]\n"
     ]
    },
    {
     "name": "stdout",
     "output_type": "stream",
     "text": [
      "Checking accuracy on test data\n",
      "Got 9754 / 10000 with accuracy 97.54%\n",
      "Row: 7 | [0, 0.9177, 0.9457, 0.9583, 0.965, 0.9698, 0.973, 0.9754]\n"
     ]
    },
    {
     "name": "stderr",
     "output_type": "stream",
     "text": [
      "100%|██████████| 5/5 [00:15<00:00,  3.19s/it]\n",
      "100%|██████████| 5/5 [00:15<00:00,  3.17s/it]\n",
      "100%|██████████| 5/5 [00:15<00:00,  3.18s/it]\n",
      "100%|██████████| 5/5 [00:15<00:00,  3.20s/it]\n",
      "100%|██████████| 5/5 [00:15<00:00,  3.19s/it]\n"
     ]
    },
    {
     "name": "stdout",
     "output_type": "stream",
     "text": [
      "Checking accuracy on test data\n",
      "Got 9762 / 10000 with accuracy 97.62%\n",
      "Row: 8 | [0, 0.9177, 0.9457, 0.9583, 0.965, 0.9698, 0.973, 0.9754, 0.9762]\n"
     ]
    },
    {
     "name": "stderr",
     "output_type": "stream",
     "text": [
      "100%|██████████| 5/5 [00:15<00:00,  3.17s/it]\n",
      "100%|██████████| 5/5 [00:16<00:00,  3.22s/it]\n",
      "100%|██████████| 5/5 [00:15<00:00,  3.17s/it]\n",
      "100%|██████████| 5/5 [00:15<00:00,  3.18s/it]\n",
      "100%|██████████| 5/5 [00:15<00:00,  3.19s/it]\n"
     ]
    },
    {
     "name": "stdout",
     "output_type": "stream",
     "text": [
      "Checking accuracy on test data\n",
      "Got 9780 / 10000 with accuracy 97.80%\n",
      "Row: 9 | [0, 0.9177, 0.9457, 0.9583, 0.965, 0.9698, 0.973, 0.9754, 0.9762, 0.978]\n"
     ]
    },
    {
     "name": "stderr",
     "output_type": "stream",
     "text": [
      "100%|██████████| 5/5 [00:15<00:00,  3.16s/it]\n",
      "100%|██████████| 5/5 [00:15<00:00,  3.18s/it]\n",
      "100%|██████████| 5/5 [00:15<00:00,  3.17s/it]\n",
      "100%|██████████| 5/5 [00:16<00:00,  3.23s/it]\n",
      "100%|██████████| 5/5 [00:15<00:00,  3.16s/it]\n"
     ]
    },
    {
     "name": "stdout",
     "output_type": "stream",
     "text": [
      "Checking accuracy on test data\n",
      "Got 9777 / 10000 with accuracy 97.77%\n",
      "Row: 10 | [0, 0.9177, 0.9457, 0.9583, 0.965, 0.9698, 0.973, 0.9754, 0.9762, 0.978, 0.9777]\n"
     ]
    },
    {
     "name": "stderr",
     "output_type": "stream",
     "text": [
      "100%|██████████| 5/5 [00:15<00:00,  3.17s/it]\n",
      "100%|██████████| 5/5 [00:15<00:00,  3.17s/it]\n",
      "100%|██████████| 5/5 [00:15<00:00,  3.15s/it]\n",
      "100%|██████████| 5/5 [00:15<00:00,  3.18s/it]\n",
      "100%|██████████| 5/5 [00:16<00:00,  3.21s/it]\n"
     ]
    },
    {
     "name": "stdout",
     "output_type": "stream",
     "text": [
      "Checking accuracy on test data\n",
      "Got 9786 / 10000 with accuracy 97.86%\n",
      "Row: 11 | [0, 0.9177, 0.9457, 0.9583, 0.965, 0.9698, 0.973, 0.9754, 0.9762, 0.978, 0.9777, 0.9786]\n"
     ]
    },
    {
     "name": "stderr",
     "output_type": "stream",
     "text": [
      "100%|██████████| 5/5 [00:15<00:00,  3.17s/it]\n",
      "100%|██████████| 5/5 [00:16<00:00,  3.21s/it]\n",
      "100%|██████████| 5/5 [00:15<00:00,  3.11s/it]\n",
      "100%|██████████| 5/5 [00:15<00:00,  3.18s/it]\n",
      "100%|██████████| 5/5 [00:15<00:00,  3.17s/it]\n"
     ]
    },
    {
     "name": "stdout",
     "output_type": "stream",
     "text": [
      "Checking accuracy on test data\n",
      "Got 9786 / 10000 with accuracy 97.86%\n",
      "Row: 12 | [0, 0.9177, 0.9457, 0.9583, 0.965, 0.9698, 0.973, 0.9754, 0.9762, 0.978, 0.9777, 0.9786, 0.9786]\n"
     ]
    },
    {
     "name": "stderr",
     "output_type": "stream",
     "text": [
      "100%|██████████| 5/5 [00:15<00:00,  3.18s/it]\n",
      "100%|██████████| 5/5 [00:16<00:00,  3.20s/it]\n",
      "100%|██████████| 5/5 [00:15<00:00,  3.16s/it]\n",
      "100%|██████████| 5/5 [00:15<00:00,  3.17s/it]\n",
      "100%|██████████| 5/5 [00:15<00:00,  3.13s/it]\n"
     ]
    },
    {
     "name": "stdout",
     "output_type": "stream",
     "text": [
      "Checking accuracy on test data\n",
      "Got 9784 / 10000 with accuracy 97.84%\n",
      "Row: 13 | [0, 0.9177, 0.9457, 0.9583, 0.965, 0.9698, 0.973, 0.9754, 0.9762, 0.978, 0.9777, 0.9786, 0.9786, 0.9784]\n"
     ]
    },
    {
     "name": "stderr",
     "output_type": "stream",
     "text": [
      "100%|██████████| 5/5 [00:15<00:00,  3.19s/it]\n",
      "100%|██████████| 5/5 [00:16<00:00,  3.22s/it]\n",
      "100%|██████████| 5/5 [00:15<00:00,  3.19s/it]\n",
      "100%|██████████| 5/5 [00:15<00:00,  3.18s/it]\n",
      "100%|██████████| 5/5 [00:16<00:00,  3.20s/it]\n"
     ]
    },
    {
     "name": "stdout",
     "output_type": "stream",
     "text": [
      "Checking accuracy on test data\n",
      "Got 9790 / 10000 with accuracy 97.90%\n",
      "Row: 14 | [0, 0.9177, 0.9457, 0.9583, 0.965, 0.9698, 0.973, 0.9754, 0.9762, 0.978, 0.9777, 0.9786, 0.9786, 0.9784, 0.979]\n"
     ]
    },
    {
     "name": "stderr",
     "output_type": "stream",
     "text": [
      "100%|██████████| 5/5 [00:15<00:00,  3.14s/it]\n",
      "100%|██████████| 5/5 [00:15<00:00,  3.18s/it]\n",
      "100%|██████████| 5/5 [00:15<00:00,  3.16s/it]\n",
      "100%|██████████| 5/5 [00:15<00:00,  3.19s/it]\n",
      "100%|██████████| 5/5 [00:16<00:00,  3.21s/it]\n"
     ]
    },
    {
     "name": "stdout",
     "output_type": "stream",
     "text": [
      "Checking accuracy on test data\n",
      "Got 9788 / 10000 with accuracy 97.88%\n",
      "Row: 15 | [0, 0.9177, 0.9457, 0.9583, 0.965, 0.9698, 0.973, 0.9754, 0.9762, 0.978, 0.9777, 0.9786, 0.9786, 0.9784, 0.979, 0.9788]\n"
     ]
    },
    {
     "data": {
      "image/png": "[encoded data removed]",
      "text/plain": [
       "<Figure size 640x480 with 1 Axes>"
      ]
     },
     "metadata": {},
     "output_type": "display_data"
    },
    {
     "name": "stdout",
     "output_type": "stream",
     "text": [
      "--- NEW MODEL 4 --- \n",
      "Matrix1.weight\n",
      "<class 'torch.nn.parameter.Parameter'> torch.Size([392, 784])\n",
      "Matrix1.bias\n",
      "<class 'torch.nn.parameter.Parameter'> torch.Size([392])\n",
      "Matrix2.weight\n",
      "<class 'torch.nn.parameter.Parameter'> torch.Size([196, 392])\n",
      "Matrix2.bias\n",
      "<class 'torch.nn.parameter.Parameter'> torch.Size([196])\n",
      "Matrix3.weight\n",
      "<class 'torch.nn.parameter.Parameter'> torch.Size([10, 196])\n",
      "Matrix3.bias\n",
      "<class 'torch.nn.parameter.Parameter'> torch.Size([10])\n"
     ]
    },
    {
     "name": "stderr",
     "output_type": "stream",
     "text": [
      "100%|██████████| 5/5 [00:15<00:00,  3.19s/it]\n",
      "100%|██████████| 5/5 [00:15<00:00,  3.20s/it]\n",
      "100%|██████████| 5/5 [00:16<00:00,  3.22s/it]\n",
      "100%|██████████| 5/5 [00:16<00:00,  3.20s/it]\n",
      "100%|██████████| 5/5 [00:16<00:00,  3.23s/it]\n"
     ]
    },
    {
     "name": "stdout",
     "output_type": "stream",
     "text": [
      "Checking accuracy on test data\n",
      "Got 9044 / 10000 with accuracy 90.44%\n",
      "Row: 1 | [0, 0.9044]\n"
     ]
    },
    {
     "name": "stderr",
     "output_type": "stream",
     "text": [
      "100%|██████████| 5/5 [00:15<00:00,  3.15s/it]\n",
      "100%|██████████| 5/5 [00:15<00:00,  3.16s/it]\n",
      "100%|██████████| 5/5 [00:15<00:00,  3.14s/it]\n",
      "100%|██████████| 5/5 [00:15<00:00,  3.18s/it]\n",
      "100%|██████████| 5/5 [00:15<00:00,  3.17s/it]\n"
     ]
    },
    {
     "name": "stdout",
     "output_type": "stream",
     "text": [
      "Checking accuracy on test data\n",
      "Got 9397 / 10000 with accuracy 93.97%\n",
      "Row: 2 | [0, 0.9044, 0.9397]\n"
     ]
    },
    {
     "name": "stderr",
     "output_type": "stream",
     "text": [
      "100%|██████████| 5/5 [00:15<00:00,  3.15s/it]\n",
      "100%|██████████| 5/5 [00:15<00:00,  3.11s/it]\n",
      "100%|██████████| 5/5 [00:15<00:00,  3.15s/it]\n",
      "100%|██████████| 5/5 [00:15<00:00,  3.14s/it]\n",
      "100%|██████████| 5/5 [00:15<00:00,  3.13s/it]\n"
     ]
    },
    {
     "name": "stdout",
     "output_type": "stream",
     "text": [
      "Checking accuracy on test data\n",
      "Got 9551 / 10000 with accuracy 95.51%\n",
      "Row: 3 | [0, 0.9044, 0.9397, 0.9551]\n"
     ]
    },
    {
     "name": "stderr",
     "output_type": "stream",
     "text": [
      "100%|██████████| 5/5 [00:16<00:00,  3.20s/it]\n",
      "100%|██████████| 5/5 [00:16<00:00,  3.23s/it]\n",
      "100%|██████████| 5/5 [00:15<00:00,  3.16s/it]\n",
      "100%|██████████| 5/5 [00:15<00:00,  3.15s/it]\n",
      "100%|██████████| 5/5 [00:15<00:00,  3.16s/it]\n"
     ]
    },
    {
     "name": "stdout",
     "output_type": "stream",
     "text": [
      "Checking accuracy on test data\n",
      "Got 9628 / 10000 with accuracy 96.28%\n",
      "Row: 4 | [0, 0.9044, 0.9397, 0.9551, 0.9628]\n"
     ]
    },
    {
     "name": "stderr",
     "output_type": "stream",
     "text": [
      "100%|██████████| 5/5 [00:15<00:00,  3.16s/it]\n",
      "100%|██████████| 5/5 [00:15<00:00,  3.16s/it]\n",
      "100%|██████████| 5/5 [00:15<00:00,  3.15s/it]\n",
      "100%|██████████| 5/5 [00:15<00:00,  3.15s/it]\n",
      "100%|██████████| 5/5 [00:15<00:00,  3.16s/it]\n"
     ]
    },
    {
     "name": "stdout",
     "output_type": "stream",
     "text": [
      "Checking accuracy on test data\n",
      "Got 9670 / 10000 with accuracy 96.70%\n",
      "Row: 5 | [0, 0.9044, 0.9397, 0.9551, 0.9628, 0.967]\n"
     ]
    },
    {
     "name": "stderr",
     "output_type": "stream",
     "text": [
      "100%|██████████| 5/5 [00:15<00:00,  3.17s/it]\n",
      "100%|██████████| 5/5 [00:15<00:00,  3.14s/it]\n",
      "100%|██████████| 5/5 [00:15<00:00,  3.20s/it]\n",
      "100%|██████████| 5/5 [00:15<00:00,  3.14s/it]\n",
      "100%|██████████| 5/5 [00:15<00:00,  3.14s/it]\n"
     ]
    },
    {
     "name": "stdout",
     "output_type": "stream",
     "text": [
      "Checking accuracy on test data\n",
      "Got 9703 / 10000 with accuracy 97.03%\n",
      "Row: 6 | [0, 0.9044, 0.9397, 0.9551, 0.9628, 0.967, 0.9703]\n"
     ]
    },
    {
     "name": "stderr",
     "output_type": "stream",
     "text": [
      "100%|██████████| 5/5 [00:15<00:00,  3.14s/it]\n",
      "100%|██████████| 5/5 [00:15<00:00,  3.16s/it]\n",
      "100%|██████████| 5/5 [00:15<00:00,  3.20s/it]\n",
      "100%|██████████| 5/5 [00:15<00:00,  3.20s/it]\n",
      "100%|██████████| 5/5 [00:15<00:00,  3.17s/it]\n"
     ]
    },
    {
     "name": "stdout",
     "output_type": "stream",
     "text": [
      "Checking accuracy on test data\n",
      "Got 9729 / 10000 with accuracy 97.29%\n",
      "Row: 7 | [0, 0.9044, 0.9397, 0.9551, 0.9628, 0.967, 0.9703, 0.9729]\n"
     ]
    },
    {
     "name": "stderr",
     "output_type": "stream",
     "text": [
      "100%|██████████| 5/5 [00:16<00:00,  3.34s/it]\n",
      "100%|██████████| 5/5 [00:16<00:00,  3.26s/it]\n",
      "100%|██████████| 5/5 [00:16<00:00,  3.32s/it]\n",
      "100%|██████████| 5/5 [00:15<00:00,  3.20s/it]\n",
      "100%|██████████| 5/5 [00:16<00:00,  3.27s/it]\n"
     ]
    },
    {
     "name": "stdout",
     "output_type": "stream",
     "text": [
      "Checking accuracy on test data\n",
      "Got 9758 / 10000 with accuracy 97.58%\n",
      "Row: 8 | [0, 0.9044, 0.9397, 0.9551, 0.9628, 0.967, 0.9703, 0.9729, 0.9758]\n"
     ]
    },
    {
     "name": "stderr",
     "output_type": "stream",
     "text": [
      "100%|██████████| 5/5 [00:16<00:00,  3.23s/it]\n",
      "100%|██████████| 5/5 [00:16<00:00,  3.23s/it]\n",
      "100%|██████████| 5/5 [00:15<00:00,  3.17s/it]\n",
      "100%|██████████| 5/5 [00:16<00:00,  3.23s/it]\n",
      "100%|██████████| 5/5 [00:15<00:00,  3.19s/it]\n"
     ]
    },
    {
     "name": "stdout",
     "output_type": "stream",
     "text": [
      "Checking accuracy on test data\n",
      "Got 9762 / 10000 with accuracy 97.62%\n",
      "Row: 9 | [0, 0.9044, 0.9397, 0.9551, 0.9628, 0.967, 0.9703, 0.9729, 0.9758, 0.9762]\n"
     ]
    },
    {
     "name": "stderr",
     "output_type": "stream",
     "text": [
      "100%|██████████| 5/5 [00:15<00:00,  3.17s/it]\n",
      "100%|██████████| 5/5 [00:13<00:00,  2.75s/it]\n",
      "100%|██████████| 5/5 [00:12<00:00,  2.52s/it]\n",
      "100%|██████████| 5/5 [00:11<00:00,  2.37s/it]\n",
      "100%|██████████| 5/5 [00:07<00:00,  1.57s/it]\n"
     ]
    },
    {
     "name": "stdout",
     "output_type": "stream",
     "text": [
      "Checking accuracy on test data\n",
      "Got 9769 / 10000 with accuracy 97.69%\n",
      "Row: 10 | [0, 0.9044, 0.9397, 0.9551, 0.9628, 0.967, 0.9703, 0.9729, 0.9758, 0.9762, 0.9769]\n"
     ]
    },
    {
     "name": "stderr",
     "output_type": "stream",
     "text": [
      "100%|██████████| 5/5 [00:07<00:00,  1.60s/it]\n",
      "100%|██████████| 5/5 [00:07<00:00,  1.57s/it]\n",
      "100%|██████████| 5/5 [00:07<00:00,  1.57s/it]\n",
      "100%|██████████| 5/5 [00:07<00:00,  1.55s/it]\n",
      "100%|██████████| 5/5 [00:07<00:00,  1.53s/it]\n"
     ]
    },
    {
     "name": "stdout",
     "output_type": "stream",
     "text": [
      "Checking accuracy on test data\n",
      "Got 9770 / 10000 with accuracy 97.70%\n",
      "Row: 11 | [0, 0.9044, 0.9397, 0.9551, 0.9628, 0.967, 0.9703, 0.9729, 0.9758, 0.9762, 0.9769, 0.977]\n"
     ]
    },
    {
     "name": "stderr",
     "output_type": "stream",
     "text": [
      "100%|██████████| 5/5 [00:07<00:00,  1.53s/it]\n",
      "100%|██████████| 5/5 [00:07<00:00,  1.56s/it]\n",
      "100%|██████████| 5/5 [00:07<00:00,  1.55s/it]\n",
      "100%|██████████| 5/5 [00:07<00:00,  1.58s/it]\n",
      "100%|██████████| 5/5 [00:07<00:00,  1.54s/it]\n"
     ]
    },
    {
     "name": "stdout",
     "output_type": "stream",
     "text": [
      "Checking accuracy on test data\n",
      "Got 9779 / 10000 with accuracy 97.79%\n",
      "Row: 12 | [0, 0.9044, 0.9397, 0.9551, 0.9628, 0.967, 0.9703, 0.9729, 0.9758, 0.9762, 0.9769, 0.977, 0.9779]\n"
     ]
    },
    {
     "name": "stderr",
     "output_type": "stream",
     "text": [
      "100%|██████████| 5/5 [00:07<00:00,  1.56s/it]\n",
      "100%|██████████| 5/5 [00:07<00:00,  1.55s/it]\n",
      "100%|██████████| 5/5 [00:07<00:00,  1.56s/it]\n",
      "100%|██████████| 5/5 [00:07<00:00,  1.54s/it]\n",
      "100%|██████████| 5/5 [00:07<00:00,  1.55s/it]\n"
     ]
    },
    {
     "name": "stdout",
     "output_type": "stream",
     "text": [
      "Checking accuracy on test data\n",
      "Got 9779 / 10000 with accuracy 97.79%\n",
      "Row: 13 | [0, 0.9044, 0.9397, 0.9551, 0.9628, 0.967, 0.9703, 0.9729, 0.9758, 0.9762, 0.9769, 0.977, 0.9779, 0.9779]\n"
     ]
    },
    {
     "name": "stderr",
     "output_type": "stream",
     "text": [
      "100%|██████████| 5/5 [00:07<00:00,  1.55s/it]\n",
      "100%|██████████| 5/5 [00:07<00:00,  1.54s/it]\n",
      "100%|██████████| 5/5 [00:07<00:00,  1.55s/it]\n",
      "100%|██████████| 5/5 [00:07<00:00,  1.54s/it]\n",
      "100%|██████████| 5/5 [00:07<00:00,  1.53s/it]\n"
     ]
    },
    {
     "name": "stdout",
     "output_type": "stream",
     "text": [
      "Checking accuracy on test data\n",
      "Got 9780 / 10000 with accuracy 97.80%\n",
      "Row: 14 | [0, 0.9044, 0.9397, 0.9551, 0.9628, 0.967, 0.9703, 0.9729, 0.9758, 0.9762, 0.9769, 0.977, 0.9779, 0.9779, 0.978]\n"
     ]
    },
    {
     "name": "stderr",
     "output_type": "stream",
     "text": [
      "100%|██████████| 5/5 [00:07<00:00,  1.52s/it]\n",
      "100%|██████████| 5/5 [00:07<00:00,  1.53s/it]\n",
      "100%|██████████| 5/5 [00:07<00:00,  1.55s/it]\n",
      "100%|██████████| 5/5 [00:07<00:00,  1.55s/it]\n",
      "100%|██████████| 5/5 [00:07<00:00,  1.51s/it]\n"
     ]
    },
    {
     "name": "stdout",
     "output_type": "stream",
     "text": [
      "Checking accuracy on test data\n",
      "Got 9789 / 10000 with accuracy 97.89%\n",
      "Row: 15 | [0, 0.9044, 0.9397, 0.9551, 0.9628, 0.967, 0.9703, 0.9729, 0.9758, 0.9762, 0.9769, 0.977, 0.9779, 0.9779, 0.978, 0.9789]\n"
     ]
    },
    {
     "data": {
      "image/png": "[encoded data removed]",
      "text/plain": [
       "<Figure size 640x480 with 1 Axes>"
      ]
     },
     "metadata": {},
     "output_type": "display_data"
    },
    {
     "name": "stdout",
     "output_type": "stream",
     "text": [
      "--- NEW MODEL 5 --- \n",
      "Matrix1.weight\n",
      "<class 'torch.nn.parameter.Parameter'> torch.Size([392, 784])\n",
      "Matrix1.bias\n",
      "<class 'torch.nn.parameter.Parameter'> torch.Size([392])\n",
      "Matrix2.weight\n",
      "<class 'torch.nn.parameter.Parameter'> torch.Size([196, 392])\n",
      "Matrix2.bias\n",
      "<class 'torch.nn.parameter.Parameter'> torch.Size([196])\n",
      "Matrix3.weight\n",
      "<class 'torch.nn.parameter.Parameter'> torch.Size([10, 196])\n",
      "Matrix3.bias\n",
      "<class 'torch.nn.parameter.Parameter'> torch.Size([10])\n"
     ]
    },
    {
     "name": "stderr",
     "output_type": "stream",
     "text": [
      "100%|██████████| 5/5 [00:07<00:00,  1.54s/it]\n",
      "100%|██████████| 5/5 [00:07<00:00,  1.55s/it]\n",
      "100%|██████████| 5/5 [00:07<00:00,  1.56s/it]\n",
      "100%|██████████| 5/5 [00:07<00:00,  1.55s/it]\n",
      "100%|██████████| 5/5 [00:07<00:00,  1.53s/it]\n"
     ]
    },
    {
     "name": "stdout",
     "output_type": "stream",
     "text": [
      "Checking accuracy on test data\n",
      "Got 9062 / 10000 with accuracy 90.62%\n",
      "Row: 1 | [0, 0.9062]\n"
     ]
    },
    {
     "name": "stderr",
     "output_type": "stream",
     "text": [
      "100%|██████████| 5/5 [00:07<00:00,  1.54s/it]\n",
      "100%|██████████| 5/5 [00:07<00:00,  1.53s/it]\n",
      "100%|██████████| 5/5 [00:07<00:00,  1.53s/it]\n",
      "100%|██████████| 5/5 [00:07<00:00,  1.54s/it]\n",
      "100%|██████████| 5/5 [00:07<00:00,  1.55s/it]\n"
     ]
    },
    {
     "name": "stdout",
     "output_type": "stream",
     "text": [
      "Checking accuracy on test data\n",
      "Got 9434 / 10000 with accuracy 94.34%\n",
      "Row: 2 | [0, 0.9062, 0.9434]\n"
     ]
    },
    {
     "name": "stderr",
     "output_type": "stream",
     "text": [
      "100%|██████████| 5/5 [00:07<00:00,  1.55s/it]\n",
      "100%|██████████| 5/5 [00:07<00:00,  1.53s/it]\n",
      "100%|██████████| 5/5 [00:07<00:00,  1.55s/it]\n",
      "100%|██████████| 5/5 [00:07<00:00,  1.54s/it]\n",
      "100%|██████████| 5/5 [00:07<00:00,  1.55s/it]\n"
     ]
    },
    {
     "name": "stdout",
     "output_type": "stream",
     "text": [
      "Checking accuracy on test data\n",
      "Got 9560 / 10000 with accuracy 95.60%\n",
      "Row: 3 | [0, 0.9062, 0.9434, 0.956]\n"
     ]
    },
    {
     "name": "stderr",
     "output_type": "stream",
     "text": [
      "100%|██████████| 5/5 [00:07<00:00,  1.55s/it]\n",
      "100%|██████████| 5/5 [00:07<00:00,  1.55s/it]\n",
      "100%|██████████| 5/5 [00:07<00:00,  1.53s/it]\n",
      "100%|██████████| 5/5 [00:07<00:00,  1.54s/it]\n",
      "100%|██████████| 5/5 [00:07<00:00,  1.50s/it]\n"
     ]
    },
    {
     "name": "stdout",
     "output_type": "stream",
     "text": [
      "Checking accuracy on test data\n",
      "Got 9643 / 10000 with accuracy 96.43%\n",
      "Row: 4 | [0, 0.9062, 0.9434, 0.956, 0.9643]\n"
     ]
    },
    {
     "name": "stderr",
     "output_type": "stream",
     "text": [
      "100%|██████████| 5/5 [00:07<00:00,  1.53s/it]\n",
      "100%|██████████| 5/5 [00:07<00:00,  1.52s/it]\n",
      "100%|██████████| 5/5 [00:07<00:00,  1.57s/it]\n",
      "100%|██████████| 5/5 [00:07<00:00,  1.56s/it]\n",
      "100%|██████████| 5/5 [00:07<00:00,  1.53s/it]\n"
     ]
    },
    {
     "name": "stdout",
     "output_type": "stream",
     "text": [
      "Checking accuracy on test data\n",
      "Got 9691 / 10000 with accuracy 96.91%\n",
      "Row: 5 | [0, 0.9062, 0.9434, 0.956, 0.9643, 0.9691]\n"
     ]
    },
    {
     "name": "stderr",
     "output_type": "stream",
     "text": [
      "100%|██████████| 5/5 [00:07<00:00,  1.53s/it]\n",
      "100%|██████████| 5/5 [00:07<00:00,  1.53s/it]\n",
      "100%|██████████| 5/5 [00:07<00:00,  1.55s/it]\n",
      "100%|██████████| 5/5 [00:07<00:00,  1.54s/it]\n",
      "100%|██████████| 5/5 [00:07<00:00,  1.53s/it]\n"
     ]
    },
    {
     "name": "stdout",
     "output_type": "stream",
     "text": [
      "Checking accuracy on test data\n",
      "Got 9723 / 10000 with accuracy 97.23%\n",
      "Row: 6 | [0, 0.9062, 0.9434, 0.956, 0.9643, 0.9691, 0.9723]\n"
     ]
    },
    {
     "name": "stderr",
     "output_type": "stream",
     "text": [
      "100%|██████████| 5/5 [00:07<00:00,  1.54s/it]\n",
      "100%|██████████| 5/5 [00:07<00:00,  1.50s/it]\n",
      "100%|██████████| 5/5 [00:07<00:00,  1.54s/it]\n",
      "100%|██████████| 5/5 [00:07<00:00,  1.54s/it]\n",
      "100%|██████████| 5/5 [00:07<00:00,  1.54s/it]\n"
     ]
    },
    {
     "name": "stdout",
     "output_type": "stream",
     "text": [
      "Checking accuracy on test data\n",
      "Got 9752 / 10000 with accuracy 97.52%\n",
      "Row: 7 | [0, 0.9062, 0.9434, 0.956, 0.9643, 0.9691, 0.9723, 0.9752]\n"
     ]
    },
    {
     "name": "stderr",
     "output_type": "stream",
     "text": [
      "100%|██████████| 5/5 [00:07<00:00,  1.53s/it]\n",
      "100%|██████████| 5/5 [00:07<00:00,  1.53s/it]\n",
      "100%|██████████| 5/5 [00:07<00:00,  1.52s/it]\n",
      "100%|██████████| 5/5 [00:07<00:00,  1.56s/it]\n",
      "100%|██████████| 5/5 [00:07<00:00,  1.54s/it]\n"
     ]
    },
    {
     "name": "stdout",
     "output_type": "stream",
     "text": [
      "Checking accuracy on test data\n",
      "Got 9773 / 10000 with accuracy 97.73%\n",
      "Row: 8 | [0, 0.9062, 0.9434, 0.956, 0.9643, 0.9691, 0.9723, 0.9752, 0.9773]\n"
     ]
    },
    {
     "name": "stderr",
     "output_type": "stream",
     "text": [
      "100%|██████████| 5/5 [00:07<00:00,  1.57s/it]\n",
      "100%|██████████| 5/5 [00:07<00:00,  1.53s/it]\n",
      "100%|██████████| 5/5 [00:07<00:00,  1.56s/it]\n",
      "100%|██████████| 5/5 [00:07<00:00,  1.58s/it]\n",
      "100%|██████████| 5/5 [00:07<00:00,  1.55s/it]\n"
     ]
    },
    {
     "name": "stdout",
     "output_type": "stream",
     "text": [
      "Checking accuracy on test data\n",
      "Got 9781 / 10000 with accuracy 97.81%\n",
      "Row: 9 | [0, 0.9062, 0.9434, 0.956, 0.9643, 0.9691, 0.9723, 0.9752, 0.9773, 0.9781]\n"
     ]
    },
    {
     "name": "stderr",
     "output_type": "stream",
     "text": [
      "100%|██████████| 5/5 [00:07<00:00,  1.57s/it]\n",
      "100%|██████████| 5/5 [00:07<00:00,  1.59s/it]\n",
      "100%|██████████| 5/5 [00:07<00:00,  1.56s/it]\n",
      "100%|██████████| 5/5 [00:07<00:00,  1.56s/it]\n",
      "100%|██████████| 5/5 [00:07<00:00,  1.55s/it]\n"
     ]
    },
    {
     "name": "stdout",
     "output_type": "stream",
     "text": [
      "Checking accuracy on test data\n",
      "Got 9788 / 10000 with accuracy 97.88%\n",
      "Row: 10 | [0, 0.9062, 0.9434, 0.956, 0.9643, 0.9691, 0.9723, 0.9752, 0.9773, 0.9781, 0.9788]\n"
     ]
    },
    {
     "name": "stderr",
     "output_type": "stream",
     "text": [
      "100%|██████████| 5/5 [00:07<00:00,  1.55s/it]\n",
      "100%|██████████| 5/5 [00:07<00:00,  1.57s/it]\n",
      "100%|██████████| 5/5 [00:07<00:00,  1.56s/it]\n",
      "100%|██████████| 5/5 [00:07<00:00,  1.54s/it]\n",
      "100%|██████████| 5/5 [00:07<00:00,  1.53s/it]\n"
     ]
    },
    {
     "name": "stdout",
     "output_type": "stream",
     "text": [
      "Checking accuracy on test data\n",
      "Got 9803 / 10000 with accuracy 98.03%\n",
      "Row: 11 | [0, 0.9062, 0.9434, 0.956, 0.9643, 0.9691, 0.9723, 0.9752, 0.9773, 0.9781, 0.9788, 0.9803]\n"
     ]
    },
    {
     "name": "stderr",
     "output_type": "stream",
     "text": [
      "100%|██████████| 5/5 [00:07<00:00,  1.53s/it]\n",
      "100%|██████████| 5/5 [00:07<00:00,  1.53s/it]\n",
      "100%|██████████| 5/5 [00:07<00:00,  1.54s/it]\n",
      "100%|██████████| 5/5 [00:07<00:00,  1.52s/it]\n",
      "100%|██████████| 5/5 [00:07<00:00,  1.56s/it]\n"
     ]
    },
    {
     "name": "stdout",
     "output_type": "stream",
     "text": [
      "Checking accuracy on test data\n",
      "Got 9798 / 10000 with accuracy 97.98%\n",
      "Row: 12 | [0, 0.9062, 0.9434, 0.956, 0.9643, 0.9691, 0.9723, 0.9752, 0.9773, 0.9781, 0.9788, 0.9803, 0.9798]\n"
     ]
    },
    {
     "name": "stderr",
     "output_type": "stream",
     "text": [
      "100%|██████████| 5/5 [00:07<00:00,  1.57s/it]\n",
      "100%|██████████| 5/5 [00:07<00:00,  1.55s/it]\n",
      "100%|██████████| 5/5 [00:07<00:00,  1.55s/it]\n",
      "100%|██████████| 5/5 [00:07<00:00,  1.54s/it]\n",
      "100%|██████████| 5/5 [00:07<00:00,  1.52s/it]\n"
     ]
    },
    {
     "name": "stdout",
     "output_type": "stream",
     "text": [
      "Checking accuracy on test data\n",
      "Got 9798 / 10000 with accuracy 97.98%\n",
      "Row: 13 | [0, 0.9062, 0.9434, 0.956, 0.9643, 0.9691, 0.9723, 0.9752, 0.9773, 0.9781, 0.9788, 0.9803, 0.9798, 0.9798]\n"
     ]
    },
    {
     "name": "stderr",
     "output_type": "stream",
     "text": [
      "100%|██████████| 5/5 [00:07<00:00,  1.51s/it]\n",
      "100%|██████████| 5/5 [00:07<00:00,  1.53s/it]\n",
      "100%|██████████| 5/5 [00:07<00:00,  1.56s/it]\n",
      "100%|██████████| 5/5 [00:07<00:00,  1.55s/it]\n",
      "100%|██████████| 5/5 [00:07<00:00,  1.53s/it]\n"
     ]
    },
    {
     "name": "stdout",
     "output_type": "stream",
     "text": [
      "Checking accuracy on test data\n",
      "Got 9801 / 10000 with accuracy 98.01%\n",
      "Row: 14 | [0, 0.9062, 0.9434, 0.956, 0.9643, 0.9691, 0.9723, 0.9752, 0.9773, 0.9781, 0.9788, 0.9803, 0.9798, 0.9798, 0.9801]\n"
     ]
    },
    {
     "name": "stderr",
     "output_type": "stream",
     "text": [
      "100%|██████████| 5/5 [00:07<00:00,  1.55s/it]\n",
      "100%|██████████| 5/5 [00:07<00:00,  1.52s/it]\n",
      "100%|██████████| 5/5 [00:07<00:00,  1.52s/it]\n",
      "100%|██████████| 5/5 [00:07<00:00,  1.53s/it]\n",
      "100%|██████████| 5/5 [00:07<00:00,  1.54s/it]\n"
     ]
    },
    {
     "name": "stdout",
     "output_type": "stream",
     "text": [
      "Checking accuracy on test data\n",
      "Got 9802 / 10000 with accuracy 98.02%\n",
      "Row: 15 | [0, 0.9062, 0.9434, 0.956, 0.9643, 0.9691, 0.9723, 0.9752, 0.9773, 0.9781, 0.9788, 0.9803, 0.9798, 0.9798, 0.9801, 0.9802]\n"
     ]
    },
    {
     "data": {
      "image/png": "[encoded data removed]",
      "text/plain": [
       "<Figure size 640x480 with 1 Axes>"
      ]
     },
     "metadata": {},
     "output_type": "display_data"
    },
    {
     "name": "stdout",
     "output_type": "stream",
     "text": [
      "--- NEW MODEL 6 --- \n",
      "Matrix1.weight\n",
      "<class 'torch.nn.parameter.Parameter'> torch.Size([392, 784])\n",
      "Matrix1.bias\n",
      "<class 'torch.nn.parameter.Parameter'> torch.Size([392])\n",
      "Matrix2.weight\n",
      "<class 'torch.nn.parameter.Parameter'> torch.Size([196, 392])\n",
      "Matrix2.bias\n",
      "<class 'torch.nn.parameter.Parameter'> torch.Size([196])\n",
      "Matrix3.weight\n",
      "<class 'torch.nn.parameter.Parameter'> torch.Size([10, 196])\n",
      "Matrix3.bias\n",
      "<class 'torch.nn.parameter.Parameter'> torch.Size([10])\n"
     ]
    },
    {
     "name": "stderr",
     "output_type": "stream",
     "text": [
      "100%|██████████| 5/5 [00:07<00:00,  1.53s/it]\n",
      "100%|██████████| 5/5 [00:07<00:00,  1.54s/it]\n",
      "100%|██████████| 5/5 [00:07<00:00,  1.55s/it]\n",
      "100%|██████████| 5/5 [00:07<00:00,  1.55s/it]\n",
      "100%|██████████| 5/5 [00:07<00:00,  1.56s/it]\n"
     ]
    },
    {
     "name": "stdout",
     "output_type": "stream",
     "text": [
      "Checking accuracy on test data\n",
      "Got 8770 / 10000 with accuracy 87.70%\n",
      "Row: 1 | [0, 0.877]\n"
     ]
    },
    {
     "name": "stderr",
     "output_type": "stream",
     "text": [
      "100%|██████████| 5/5 [00:07<00:00,  1.55s/it]\n",
      "100%|██████████| 5/5 [00:07<00:00,  1.55s/it]\n",
      "100%|██████████| 5/5 [00:07<00:00,  1.56s/it]\n",
      "100%|██████████| 5/5 [00:07<00:00,  1.58s/it]\n",
      "100%|██████████| 5/5 [00:07<00:00,  1.56s/it]\n"
     ]
    },
    {
     "name": "stdout",
     "output_type": "stream",
     "text": [
      "Checking accuracy on test data\n",
      "Got 9346 / 10000 with accuracy 93.46%\n",
      "Row: 2 | [0, 0.877, 0.9346]\n"
     ]
    },
    {
     "name": "stderr",
     "output_type": "stream",
     "text": [
      "100%|██████████| 5/5 [00:07<00:00,  1.53s/it]\n",
      "100%|██████████| 5/5 [00:07<00:00,  1.56s/it]\n",
      "100%|██████████| 5/5 [00:07<00:00,  1.55s/it]\n",
      "100%|██████████| 5/5 [00:07<00:00,  1.55s/it]\n",
      "100%|██████████| 5/5 [00:07<00:00,  1.51s/it]\n"
     ]
    },
    {
     "name": "stdout",
     "output_type": "stream",
     "text": [
      "Checking accuracy on test data\n",
      "Got 9510 / 10000 with accuracy 95.10%\n",
      "Row: 3 | [0, 0.877, 0.9346, 0.951]\n"
     ]
    },
    {
     "name": "stderr",
     "output_type": "stream",
     "text": [
      "100%|██████████| 5/5 [00:07<00:00,  1.52s/it]\n",
      "100%|██████████| 5/5 [00:07<00:00,  1.53s/it]\n",
      "100%|██████████| 5/5 [00:07<00:00,  1.53s/it]\n",
      "100%|██████████| 5/5 [00:07<00:00,  1.54s/it]\n",
      "100%|██████████| 5/5 [00:07<00:00,  1.52s/it]\n"
     ]
    },
    {
     "name": "stdout",
     "output_type": "stream",
     "text": [
      "Checking accuracy on test data\n",
      "Got 9601 / 10000 with accuracy 96.01%\n",
      "Row: 4 | [0, 0.877, 0.9346, 0.951, 0.9601]\n"
     ]
    },
    {
     "name": "stderr",
     "output_type": "stream",
     "text": [
      "100%|██████████| 5/5 [00:07<00:00,  1.54s/it]\n",
      "100%|██████████| 5/5 [00:07<00:00,  1.55s/it]\n",
      "100%|██████████| 5/5 [00:07<00:00,  1.55s/it]\n",
      "100%|██████████| 5/5 [00:07<00:00,  1.55s/it]\n",
      "100%|██████████| 5/5 [00:07<00:00,  1.53s/it]\n"
     ]
    },
    {
     "name": "stdout",
     "output_type": "stream",
     "text": [
      "Checking accuracy on test data\n",
      "Got 9648 / 10000 with accuracy 96.48%\n",
      "Row: 5 | [0, 0.877, 0.9346, 0.951, 0.9601, 0.9648]\n"
     ]
    },
    {
     "name": "stderr",
     "output_type": "stream",
     "text": [
      "100%|██████████| 5/5 [00:07<00:00,  1.54s/it]\n",
      "100%|██████████| 5/5 [00:07<00:00,  1.54s/it]\n",
      "100%|██████████| 5/5 [00:07<00:00,  1.54s/it]\n",
      "100%|██████████| 5/5 [00:07<00:00,  1.53s/it]\n",
      "100%|██████████| 5/5 [00:07<00:00,  1.54s/it]\n"
     ]
    },
    {
     "name": "stdout",
     "output_type": "stream",
     "text": [
      "Checking accuracy on test data\n",
      "Got 9690 / 10000 with accuracy 96.90%\n",
      "Row: 6 | [0, 0.877, 0.9346, 0.951, 0.9601, 0.9648, 0.969]\n"
     ]
    },
    {
     "name": "stderr",
     "output_type": "stream",
     "text": [
      "100%|██████████| 5/5 [00:07<00:00,  1.58s/it]\n",
      "100%|██████████| 5/5 [00:07<00:00,  1.56s/it]\n",
      "100%|██████████| 5/5 [00:07<00:00,  1.54s/it]\n",
      "100%|██████████| 5/5 [00:07<00:00,  1.55s/it]\n",
      "100%|██████████| 5/5 [00:07<00:00,  1.53s/it]\n"
     ]
    },
    {
     "name": "stdout",
     "output_type": "stream",
     "text": [
      "Checking accuracy on test data\n",
      "Got 9717 / 10000 with accuracy 97.17%\n",
      "Row: 7 | [0, 0.877, 0.9346, 0.951, 0.9601, 0.9648, 0.969, 0.9717]\n"
     ]
    },
    {
     "name": "stderr",
     "output_type": "stream",
     "text": [
      "100%|██████████| 5/5 [00:07<00:00,  1.53s/it]\n",
      "100%|██████████| 5/5 [00:07<00:00,  1.55s/it]\n",
      "100%|██████████| 5/5 [00:07<00:00,  1.55s/it]\n",
      "100%|██████████| 5/5 [00:07<00:00,  1.55s/it]\n",
      "100%|██████████| 5/5 [00:07<00:00,  1.54s/it]\n"
     ]
    },
    {
     "name": "stdout",
     "output_type": "stream",
     "text": [
      "Checking accuracy on test data\n",
      "Got 9728 / 10000 with accuracy 97.28%\n",
      "Row: 8 | [0, 0.877, 0.9346, 0.951, 0.9601, 0.9648, 0.969, 0.9717, 0.9728]\n"
     ]
    },
    {
     "name": "stderr",
     "output_type": "stream",
     "text": [
      "100%|██████████| 5/5 [00:07<00:00,  1.54s/it]\n",
      "100%|██████████| 5/5 [00:07<00:00,  1.57s/it]\n",
      "100%|██████████| 5/5 [00:07<00:00,  1.53s/it]\n",
      "100%|██████████| 5/5 [00:07<00:00,  1.53s/it]\n",
      "100%|██████████| 5/5 [00:07<00:00,  1.54s/it]\n"
     ]
    },
    {
     "name": "stdout",
     "output_type": "stream",
     "text": [
      "Checking accuracy on test data\n",
      "Got 9740 / 10000 with accuracy 97.40%\n",
      "Row: 9 | [0, 0.877, 0.9346, 0.951, 0.9601, 0.9648, 0.969, 0.9717, 0.9728, 0.974]\n"
     ]
    },
    {
     "name": "stderr",
     "output_type": "stream",
     "text": [
      "100%|██████████| 5/5 [00:07<00:00,  1.55s/it]\n",
      "100%|██████████| 5/5 [00:07<00:00,  1.53s/it]\n",
      "100%|██████████| 5/5 [00:07<00:00,  1.54s/it]\n",
      "100%|██████████| 5/5 [00:07<00:00,  1.54s/it]\n",
      "100%|██████████| 5/5 [00:07<00:00,  1.54s/it]\n"
     ]
    },
    {
     "name": "stdout",
     "output_type": "stream",
     "text": [
      "Checking accuracy on test data\n",
      "Got 9747 / 10000 with accuracy 97.47%\n",
      "Row: 10 | [0, 0.877, 0.9346, 0.951, 0.9601, 0.9648, 0.969, 0.9717, 0.9728, 0.974, 0.9747]\n"
     ]
    },
    {
     "name": "stderr",
     "output_type": "stream",
     "text": [
      "100%|██████████| 5/5 [00:07<00:00,  1.52s/it]\n",
      "100%|██████████| 5/5 [00:07<00:00,  1.56s/it]\n",
      "100%|██████████| 5/5 [00:07<00:00,  1.53s/it]\n",
      "100%|██████████| 5/5 [00:07<00:00,  1.53s/it]\n",
      "100%|██████████| 5/5 [00:07<00:00,  1.53s/it]\n"
     ]
    },
    {
     "name": "stdout",
     "output_type": "stream",
     "text": [
      "Checking accuracy on test data\n",
      "Got 9765 / 10000 with accuracy 97.65%\n",
      "Row: 11 | [0, 0.877, 0.9346, 0.951, 0.9601, 0.9648, 0.969, 0.9717, 0.9728, 0.974, 0.9747, 0.9765]\n"
     ]
    },
    {
     "name": "stderr",
     "output_type": "stream",
     "text": [
      "100%|██████████| 5/5 [00:07<00:00,  1.55s/it]\n",
      "100%|██████████| 5/5 [00:07<00:00,  1.54s/it]\n",
      "100%|██████████| 5/5 [00:07<00:00,  1.54s/it]\n",
      "100%|██████████| 5/5 [00:07<00:00,  1.51s/it]\n",
      "100%|██████████| 5/5 [00:07<00:00,  1.54s/it]\n"
     ]
    },
    {
     "name": "stdout",
     "output_type": "stream",
     "text": [
      "Checking accuracy on test data\n",
      "Got 9764 / 10000 with accuracy 97.64%\n",
      "Row: 12 | [0, 0.877, 0.9346, 0.951, 0.9601, 0.9648, 0.969, 0.9717, 0.9728, 0.974, 0.9747, 0.9765, 0.9764]\n"
     ]
    },
    {
     "name": "stderr",
     "output_type": "stream",
     "text": [
      "100%|██████████| 5/5 [00:07<00:00,  1.55s/it]\n",
      "100%|██████████| 5/5 [00:07<00:00,  1.56s/it]\n",
      "100%|██████████| 5/5 [00:07<00:00,  1.55s/it]\n",
      "100%|██████████| 5/5 [00:07<00:00,  1.55s/it]\n",
      "100%|██████████| 5/5 [00:07<00:00,  1.52s/it]\n"
     ]
    },
    {
     "name": "stdout",
     "output_type": "stream",
     "text": [
      "Checking accuracy on test data\n",
      "Got 9773 / 10000 with accuracy 97.73%\n",
      "Row: 13 | [0, 0.877, 0.9346, 0.951, 0.9601, 0.9648, 0.969, 0.9717, 0.9728, 0.974, 0.9747, 0.9765, 0.9764, 0.9773]\n"
     ]
    },
    {
     "name": "stderr",
     "output_type": "stream",
     "text": [
      "100%|██████████| 5/5 [00:07<00:00,  1.52s/it]\n",
      "100%|██████████| 5/5 [00:07<00:00,  1.55s/it]\n",
      "100%|██████████| 5/5 [00:07<00:00,  1.53s/it]\n",
      "100%|██████████| 5/5 [00:07<00:00,  1.55s/it]\n",
      "100%|██████████| 5/5 [00:07<00:00,  1.52s/it]\n"
     ]
    },
    {
     "name": "stdout",
     "output_type": "stream",
     "text": [
      "Checking accuracy on test data\n",
      "Got 9779 / 10000 with accuracy 97.79%\n",
      "Row: 14 | [0, 0.877, 0.9346, 0.951, 0.9601, 0.9648, 0.969, 0.9717, 0.9728, 0.974, 0.9747, 0.9765, 0.9764, 0.9773, 0.9779]\n"
     ]
    },
    {
     "name": "stderr",
     "output_type": "stream",
     "text": [
      "100%|██████████| 5/5 [00:07<00:00,  1.54s/it]\n",
      "100%|██████████| 5/5 [00:07<00:00,  1.55s/it]\n",
      "100%|██████████| 5/5 [00:07<00:00,  1.54s/it]\n",
      "100%|██████████| 5/5 [00:07<00:00,  1.55s/it]\n",
      "100%|██████████| 5/5 [00:07<00:00,  1.56s/it]\n"
     ]
    },
    {
     "name": "stdout",
     "output_type": "stream",
     "text": [
      "Checking accuracy on test data\n",
      "Got 9774 / 10000 with accuracy 97.74%\n",
      "Row: 15 | [0, 0.877, 0.9346, 0.951, 0.9601, 0.9648, 0.969, 0.9717, 0.9728, 0.974, 0.9747, 0.9765, 0.9764, 0.9773, 0.9779, 0.9774]\n"
     ]
    },
    {
     "data": {
      "image/png": "[encoded data removed]",
      "text/plain": [
       "<Figure size 640x480 with 1 Axes>"
      ]
     },
     "metadata": {},
     "output_type": "display_data"
    },
    {
     "name": "stdout",
     "output_type": "stream",
     "text": [
      "--- NEW MODEL 7 --- \n",
      "Matrix1.weight\n",
      "<class 'torch.nn.parameter.Parameter'> torch.Size([392, 784])\n",
      "Matrix1.bias\n",
      "<class 'torch.nn.parameter.Parameter'> torch.Size([392])\n",
      "Matrix2.weight\n",
      "<class 'torch.nn.parameter.Parameter'> torch.Size([196, 392])\n",
      "Matrix2.bias\n",
      "<class 'torch.nn.parameter.Parameter'> torch.Size([196])\n",
      "Matrix3.weight\n",
      "<class 'torch.nn.parameter.Parameter'> torch.Size([10, 196])\n",
      "Matrix3.bias\n",
      "<class 'torch.nn.parameter.Parameter'> torch.Size([10])\n"
     ]
    },
    {
     "name": "stderr",
     "output_type": "stream",
     "text": [
      "100%|██████████| 5/5 [00:07<00:00,  1.55s/it]\n",
      "100%|██████████| 5/5 [00:07<00:00,  1.56s/it]\n",
      "100%|██████████| 5/5 [00:07<00:00,  1.54s/it]\n",
      "100%|██████████| 5/5 [00:07<00:00,  1.54s/it]\n",
      "100%|██████████| 5/5 [00:07<00:00,  1.54s/it]\n"
     ]
    },
    {
     "name": "stdout",
     "output_type": "stream",
     "text": [
      "Checking accuracy on test data\n",
      "Got 7459 / 10000 with accuracy 74.59%\n",
      "Row: 1 | [0, 0.7459]\n"
     ]
    },
    {
     "name": "stderr",
     "output_type": "stream",
     "text": [
      "100%|██████████| 5/5 [00:07<00:00,  1.51s/it]\n",
      "100%|██████████| 5/5 [00:07<00:00,  1.51s/it]\n",
      "100%|██████████| 5/5 [00:07<00:00,  1.49s/it]\n",
      "100%|██████████| 5/5 [00:07<00:00,  1.50s/it]\n",
      "100%|██████████| 5/5 [00:07<00:00,  1.55s/it]\n"
     ]
    },
    {
     "name": "stdout",
     "output_type": "stream",
     "text": [
      "Checking accuracy on test data\n",
      "Got 7676 / 10000 with accuracy 76.76%\n",
      "Row: 2 | [0, 0.7459, 0.7676]\n"
     ]
    },
    {
     "name": "stderr",
     "output_type": "stream",
     "text": [
      "100%|██████████| 5/5 [00:07<00:00,  1.53s/it]\n",
      "100%|██████████| 5/5 [00:07<00:00,  1.52s/it]\n",
      "100%|██████████| 5/5 [00:07<00:00,  1.53s/it]\n",
      "100%|██████████| 5/5 [00:07<00:00,  1.53s/it]\n",
      "100%|██████████| 5/5 [00:07<00:00,  1.51s/it]\n"
     ]
    },
    {
     "name": "stdout",
     "output_type": "stream",
     "text": [
      "Checking accuracy on test data\n",
      "Got 7776 / 10000 with accuracy 77.76%\n",
      "Row: 3 | [0, 0.7459, 0.7676, 0.7776]\n"
     ]
    },
    {
     "name": "stderr",
     "output_type": "stream",
     "text": [
      "100%|██████████| 5/5 [00:07<00:00,  1.49s/it]\n",
      "100%|██████████| 5/5 [00:07<00:00,  1.52s/it]\n",
      "100%|██████████| 5/5 [00:07<00:00,  1.53s/it]\n",
      "100%|██████████| 5/5 [00:07<00:00,  1.51s/it]\n",
      "100%|██████████| 5/5 [00:07<00:00,  1.51s/it]\n"
     ]
    },
    {
     "name": "stdout",
     "output_type": "stream",
     "text": [
      "Checking accuracy on test data\n",
      "Got 7826 / 10000 with accuracy 78.26%\n",
      "Row: 4 | [0, 0.7459, 0.7676, 0.7776, 0.7826]\n"
     ]
    },
    {
     "name": "stderr",
     "output_type": "stream",
     "text": [
      "100%|██████████| 5/5 [00:07<00:00,  1.50s/it]\n",
      "100%|██████████| 5/5 [00:07<00:00,  1.53s/it]\n",
      "100%|██████████| 5/5 [00:07<00:00,  1.55s/it]\n",
      "100%|██████████| 5/5 [00:07<00:00,  1.54s/it]\n",
      "100%|██████████| 5/5 [00:07<00:00,  1.52s/it]\n"
     ]
    },
    {
     "name": "stdout",
     "output_type": "stream",
     "text": [
      "Checking accuracy on test data\n",
      "Got 7851 / 10000 with accuracy 78.51%\n",
      "Row: 5 | [0, 0.7459, 0.7676, 0.7776, 0.7826, 0.7851]\n"
     ]
    },
    {
     "name": "stderr",
     "output_type": "stream",
     "text": [
      "100%|██████████| 5/5 [00:07<00:00,  1.49s/it]\n",
      "100%|██████████| 5/5 [00:07<00:00,  1.53s/it]\n",
      "100%|██████████| 5/5 [00:07<00:00,  1.50s/it]\n",
      "100%|██████████| 5/5 [00:07<00:00,  1.52s/it]\n",
      "100%|██████████| 5/5 [00:07<00:00,  1.52s/it]\n"
     ]
    },
    {
     "name": "stdout",
     "output_type": "stream",
     "text": [
      "Checking accuracy on test data\n",
      "Got 7886 / 10000 with accuracy 78.86%\n",
      "Row: 6 | [0, 0.7459, 0.7676, 0.7776, 0.7826, 0.7851, 0.7886]\n"
     ]
    },
    {
     "name": "stderr",
     "output_type": "stream",
     "text": [
      "100%|██████████| 5/5 [00:07<00:00,  1.51s/it]\n",
      "100%|██████████| 5/5 [00:07<00:00,  1.53s/it]\n",
      "100%|██████████| 5/5 [00:07<00:00,  1.53s/it]\n",
      "100%|██████████| 5/5 [00:07<00:00,  1.54s/it]\n",
      "100%|██████████| 5/5 [00:07<00:00,  1.55s/it]\n"
     ]
    },
    {
     "name": "stdout",
     "output_type": "stream",
     "text": [
      "Checking accuracy on test data\n",
      "Got 7894 / 10000 with accuracy 78.94%\n",
      "Row: 7 | [0, 0.7459, 0.7676, 0.7776, 0.7826, 0.7851, 0.7886, 0.7894]\n"
     ]
    },
    {
     "name": "stderr",
     "output_type": "stream",
     "text": [
      "100%|██████████| 5/5 [00:07<00:00,  1.50s/it]\n",
      "100%|██████████| 5/5 [00:07<00:00,  1.54s/it]\n",
      "100%|██████████| 5/5 [00:07<00:00,  1.51s/it]\n",
      "100%|██████████| 5/5 [00:07<00:00,  1.52s/it]\n",
      "100%|██████████| 5/5 [00:07<00:00,  1.51s/it]\n"
     ]
    },
    {
     "name": "stdout",
     "output_type": "stream",
     "text": [
      "Checking accuracy on test data\n",
      "Got 7906 / 10000 with accuracy 79.06%\n",
      "Row: 8 | [0, 0.7459, 0.7676, 0.7776, 0.7826, 0.7851, 0.7886, 0.7894, 0.7906]\n"
     ]
    },
    {
     "name": "stderr",
     "output_type": "stream",
     "text": [
      "100%|██████████| 5/5 [00:07<00:00,  1.52s/it]\n",
      "100%|██████████| 5/5 [00:07<00:00,  1.53s/it]\n",
      "100%|██████████| 5/5 [00:07<00:00,  1.53s/it]\n",
      "100%|██████████| 5/5 [00:07<00:00,  1.54s/it]\n",
      "100%|██████████| 5/5 [00:07<00:00,  1.50s/it]\n"
     ]
    },
    {
     "name": "stdout",
     "output_type": "stream",
     "text": [
      "Checking accuracy on test data\n",
      "Got 7910 / 10000 with accuracy 79.10%\n",
      "Row: 9 | [0, 0.7459, 0.7676, 0.7776, 0.7826, 0.7851, 0.7886, 0.7894, 0.7906, 0.791]\n"
     ]
    },
    {
     "name": "stderr",
     "output_type": "stream",
     "text": [
      "100%|██████████| 5/5 [00:07<00:00,  1.54s/it]\n",
      "100%|██████████| 5/5 [00:07<00:00,  1.54s/it]\n",
      "100%|██████████| 5/5 [00:07<00:00,  1.55s/it]\n",
      "100%|██████████| 5/5 [00:07<00:00,  1.51s/it]\n",
      "100%|██████████| 5/5 [00:07<00:00,  1.50s/it]\n"
     ]
    },
    {
     "name": "stdout",
     "output_type": "stream",
     "text": [
      "Checking accuracy on test data\n",
      "Got 7915 / 10000 with accuracy 79.15%\n",
      "Row: 10 | [0, 0.7459, 0.7676, 0.7776, 0.7826, 0.7851, 0.7886, 0.7894, 0.7906, 0.791, 0.7915]\n"
     ]
    },
    {
     "name": "stderr",
     "output_type": "stream",
     "text": [
      "100%|██████████| 5/5 [00:07<00:00,  1.50s/it]\n",
      "100%|██████████| 5/5 [00:07<00:00,  1.54s/it]\n",
      "100%|██████████| 5/5 [00:07<00:00,  1.53s/it]\n",
      "100%|██████████| 5/5 [00:07<00:00,  1.53s/it]\n",
      "100%|██████████| 5/5 [00:07<00:00,  1.52s/it]\n"
     ]
    },
    {
     "name": "stdout",
     "output_type": "stream",
     "text": [
      "Checking accuracy on test data\n",
      "Got 7914 / 10000 with accuracy 79.14%\n",
      "Row: 11 | [0, 0.7459, 0.7676, 0.7776, 0.7826, 0.7851, 0.7886, 0.7894, 0.7906, 0.791, 0.7915, 0.7914]\n"
     ]
    },
    {
     "name": "stderr",
     "output_type": "stream",
     "text": [
      "100%|██████████| 5/5 [00:07<00:00,  1.53s/it]\n",
      "100%|██████████| 5/5 [00:07<00:00,  1.52s/it]\n",
      "100%|██████████| 5/5 [00:07<00:00,  1.53s/it]\n",
      "100%|██████████| 5/5 [00:07<00:00,  1.53s/it]\n",
      "100%|██████████| 5/5 [00:07<00:00,  1.53s/it]\n"
     ]
    },
    {
     "name": "stdout",
     "output_type": "stream",
     "text": [
      "Checking accuracy on test data\n",
      "Got 7920 / 10000 with accuracy 79.20%\n",
      "Row: 12 | [0, 0.7459, 0.7676, 0.7776, 0.7826, 0.7851, 0.7886, 0.7894, 0.7906, 0.791, 0.7915, 0.7914, 0.792]\n"
     ]
    },
    {
     "name": "stderr",
     "output_type": "stream",
     "text": [
      "100%|██████████| 5/5 [00:07<00:00,  1.54s/it]\n",
      "100%|██████████| 5/5 [00:07<00:00,  1.53s/it]\n",
      "100%|██████████| 5/5 [00:07<00:00,  1.54s/it]\n",
      "100%|██████████| 5/5 [00:07<00:00,  1.52s/it]\n",
      "100%|██████████| 5/5 [00:07<00:00,  1.52s/it]\n"
     ]
    },
    {
     "name": "stdout",
     "output_type": "stream",
     "text": [
      "Checking accuracy on test data\n",
      "Got 7926 / 10000 with accuracy 79.26%\n",
      "Row: 13 | [0, 0.7459, 0.7676, 0.7776, 0.7826, 0.7851, 0.7886, 0.7894, 0.7906, 0.791, 0.7915, 0.7914, 0.792, 0.7926]\n"
     ]
    },
    {
     "name": "stderr",
     "output_type": "stream",
     "text": [
      "100%|██████████| 5/5 [00:07<00:00,  1.51s/it]\n",
      "100%|██████████| 5/5 [00:07<00:00,  1.54s/it]\n",
      "100%|██████████| 5/5 [00:07<00:00,  1.55s/it]\n",
      "100%|██████████| 5/5 [00:07<00:00,  1.52s/it]\n",
      "100%|██████████| 5/5 [00:07<00:00,  1.51s/it]\n"
     ]
    },
    {
     "name": "stdout",
     "output_type": "stream",
     "text": [
      "Checking accuracy on test data\n",
      "Got 7932 / 10000 with accuracy 79.32%\n",
      "Row: 14 | [0, 0.7459, 0.7676, 0.7776, 0.7826, 0.7851, 0.7886, 0.7894, 0.7906, 0.791, 0.7915, 0.7914, 0.792, 0.7926, 0.7932]\n"
     ]
    },
    {
     "name": "stderr",
     "output_type": "stream",
     "text": [
      "100%|██████████| 5/5 [00:07<00:00,  1.53s/it]\n",
      "100%|██████████| 5/5 [00:07<00:00,  1.52s/it]\n",
      "100%|██████████| 5/5 [00:07<00:00,  1.52s/it]\n",
      "100%|██████████| 5/5 [00:07<00:00,  1.52s/it]\n",
      "100%|██████████| 5/5 [00:07<00:00,  1.55s/it]\n"
     ]
    },
    {
     "name": "stdout",
     "output_type": "stream",
     "text": [
      "Checking accuracy on test data\n",
      "Got 7929 / 10000 with accuracy 79.29%\n",
      "Row: 15 | [0, 0.7459, 0.7676, 0.7776, 0.7826, 0.7851, 0.7886, 0.7894, 0.7906, 0.791, 0.7915, 0.7914, 0.792, 0.7926, 0.7932, 0.7929]\n"
     ]
    },
    {
     "data": {
      "image/png": "[encoded data removed]",
      "text/plain": [
       "<Figure size 640x480 with 1 Axes>"
      ]
     },
     "metadata": {},
     "output_type": "display_data"
    },
    {
     "name": "stdout",
     "output_type": "stream",
     "text": [
      "--- NEW MODEL 8 --- \n",
      "Matrix1.weight\n",
      "<class 'torch.nn.parameter.Parameter'> torch.Size([392, 784])\n",
      "Matrix1.bias\n",
      "<class 'torch.nn.parameter.Parameter'> torch.Size([392])\n",
      "Matrix2.weight\n",
      "<class 'torch.nn.parameter.Parameter'> torch.Size([196, 392])\n",
      "Matrix2.bias\n",
      "<class 'torch.nn.parameter.Parameter'> torch.Size([196])\n",
      "Matrix3.weight\n",
      "<class 'torch.nn.parameter.Parameter'> torch.Size([10, 196])\n",
      "Matrix3.bias\n",
      "<class 'torch.nn.parameter.Parameter'> torch.Size([10])\n"
     ]
    },
    {
     "name": "stderr",
     "output_type": "stream",
     "text": [
      "100%|██████████| 5/5 [00:07<00:00,  1.55s/it]\n",
      "100%|██████████| 5/5 [00:07<00:00,  1.51s/it]\n",
      "100%|██████████| 5/5 [00:07<00:00,  1.56s/it]\n",
      "100%|██████████| 5/5 [00:07<00:00,  1.53s/it]\n",
      "100%|██████████| 5/5 [00:07<00:00,  1.55s/it]\n"
     ]
    },
    {
     "name": "stdout",
     "output_type": "stream",
     "text": [
      "Checking accuracy on test data\n",
      "Got 8206 / 10000 with accuracy 82.06%\n",
      "Row: 1 | [0, 0.8206]\n"
     ]
    },
    {
     "name": "stderr",
     "output_type": "stream",
     "text": [
      "100%|██████████| 5/5 [00:07<00:00,  1.53s/it]\n",
      "100%|██████████| 5/5 [00:07<00:00,  1.51s/it]\n",
      "100%|██████████| 5/5 [00:07<00:00,  1.51s/it]\n",
      "100%|██████████| 5/5 [00:07<00:00,  1.50s/it]\n",
      "100%|██████████| 5/5 [00:07<00:00,  1.53s/it]\n"
     ]
    },
    {
     "name": "stdout",
     "output_type": "stream",
     "text": [
      "Checking accuracy on test data\n",
      "Got 8500 / 10000 with accuracy 85.00%\n",
      "Row: 2 | [0, 0.8206, 0.85]\n"
     ]
    },
    {
     "name": "stderr",
     "output_type": "stream",
     "text": [
      "100%|██████████| 5/5 [00:07<00:00,  1.51s/it]\n",
      "100%|██████████| 5/5 [00:07<00:00,  1.52s/it]\n",
      "100%|██████████| 5/5 [00:07<00:00,  1.54s/it]\n",
      "100%|██████████| 5/5 [00:07<00:00,  1.52s/it]\n",
      "100%|██████████| 5/5 [00:07<00:00,  1.49s/it]\n"
     ]
    },
    {
     "name": "stdout",
     "output_type": "stream",
     "text": [
      "Checking accuracy on test data\n",
      "Got 8627 / 10000 with accuracy 86.27%\n",
      "Row: 3 | [0, 0.8206, 0.85, 0.8627]\n"
     ]
    },
    {
     "name": "stderr",
     "output_type": "stream",
     "text": [
      "100%|██████████| 5/5 [00:07<00:00,  1.53s/it]\n",
      "100%|██████████| 5/5 [00:07<00:00,  1.53s/it]\n",
      "100%|██████████| 5/5 [00:07<00:00,  1.53s/it]\n",
      "100%|██████████| 5/5 [00:07<00:00,  1.53s/it]\n",
      "100%|██████████| 5/5 [00:07<00:00,  1.54s/it]\n"
     ]
    },
    {
     "name": "stdout",
     "output_type": "stream",
     "text": [
      "Checking accuracy on test data\n",
      "Got 8685 / 10000 with accuracy 86.85%\n",
      "Row: 4 | [0, 0.8206, 0.85, 0.8627, 0.8685]\n"
     ]
    },
    {
     "name": "stderr",
     "output_type": "stream",
     "text": [
      "100%|██████████| 5/5 [00:07<00:00,  1.48s/it]\n",
      "100%|██████████| 5/5 [00:07<00:00,  1.53s/it]\n",
      "100%|██████████| 5/5 [00:07<00:00,  1.53s/it]\n",
      "100%|██████████| 5/5 [00:07<00:00,  1.52s/it]\n",
      "100%|██████████| 5/5 [00:07<00:00,  1.51s/it]\n"
     ]
    },
    {
     "name": "stdout",
     "output_type": "stream",
     "text": [
      "Checking accuracy on test data\n",
      "Got 8720 / 10000 with accuracy 87.20%\n",
      "Row: 5 | [0, 0.8206, 0.85, 0.8627, 0.8685, 0.872]\n"
     ]
    },
    {
     "name": "stderr",
     "output_type": "stream",
     "text": [
      "100%|██████████| 5/5 [00:07<00:00,  1.50s/it]\n",
      "100%|██████████| 5/5 [00:07<00:00,  1.53s/it]\n",
      "100%|██████████| 5/5 [00:07<00:00,  1.55s/it]\n",
      "100%|██████████| 5/5 [00:07<00:00,  1.52s/it]\n",
      "100%|██████████| 5/5 [00:07<00:00,  1.54s/it]\n"
     ]
    },
    {
     "name": "stdout",
     "output_type": "stream",
     "text": [
      "Checking accuracy on test data\n",
      "Got 8751 / 10000 with accuracy 87.51%\n",
      "Row: 6 | [0, 0.8206, 0.85, 0.8627, 0.8685, 0.872, 0.8751]\n"
     ]
    },
    {
     "name": "stderr",
     "output_type": "stream",
     "text": [
      "100%|██████████| 5/5 [00:07<00:00,  1.52s/it]\n",
      "100%|██████████| 5/5 [00:07<00:00,  1.51s/it]\n",
      "100%|██████████| 5/5 [00:07<00:00,  1.53s/it]\n",
      "100%|██████████| 5/5 [00:07<00:00,  1.52s/it]\n",
      "100%|██████████| 5/5 [00:07<00:00,  1.59s/it]\n"
     ]
    },
    {
     "name": "stdout",
     "output_type": "stream",
     "text": [
      "Checking accuracy on test data\n",
      "Got 8772 / 10000 with accuracy 87.72%\n",
      "Row: 7 | [0, 0.8206, 0.85, 0.8627, 0.8685, 0.872, 0.8751, 0.8772]\n"
     ]
    },
    {
     "name": "stderr",
     "output_type": "stream",
     "text": [
      "100%|██████████| 5/5 [00:09<00:00,  1.80s/it]\n",
      "100%|██████████| 5/5 [00:08<00:00,  1.71s/it]\n",
      "100%|██████████| 5/5 [00:08<00:00,  1.65s/it]\n",
      "100%|██████████| 5/5 [00:08<00:00,  1.62s/it]\n",
      "100%|██████████| 5/5 [00:08<00:00,  1.63s/it]\n"
     ]
    },
    {
     "name": "stdout",
     "output_type": "stream",
     "text": [
      "Checking accuracy on test data\n",
      "Got 8787 / 10000 with accuracy 87.87%\n",
      "Row: 8 | [0, 0.8206, 0.85, 0.8627, 0.8685, 0.872, 0.8751, 0.8772, 0.8787]\n"
     ]
    },
    {
     "name": "stderr",
     "output_type": "stream",
     "text": [
      "100%|██████████| 5/5 [00:08<00:00,  1.61s/it]\n",
      "100%|██████████| 5/5 [00:08<00:00,  1.60s/it]\n",
      "100%|██████████| 5/5 [00:07<00:00,  1.56s/it]\n",
      "100%|██████████| 5/5 [00:07<00:00,  1.58s/it]\n",
      "100%|██████████| 5/5 [00:07<00:00,  1.59s/it]\n"
     ]
    },
    {
     "name": "stdout",
     "output_type": "stream",
     "text": [
      "Checking accuracy on test data\n",
      "Got 8795 / 10000 with accuracy 87.95%\n",
      "Row: 9 | [0, 0.8206, 0.85, 0.8627, 0.8685, 0.872, 0.8751, 0.8772, 0.8787, 0.8795]\n"
     ]
    },
    {
     "name": "stderr",
     "output_type": "stream",
     "text": [
      "100%|██████████| 5/5 [00:07<00:00,  1.59s/it]\n",
      "100%|██████████| 5/5 [00:07<00:00,  1.57s/it]\n",
      "100%|██████████| 5/5 [00:07<00:00,  1.57s/it]\n",
      "100%|██████████| 5/5 [00:07<00:00,  1.55s/it]\n",
      "100%|██████████| 5/5 [00:07<00:00,  1.58s/it]\n"
     ]
    },
    {
     "name": "stdout",
     "output_type": "stream",
     "text": [
      "Checking accuracy on test data\n",
      "Got 8804 / 10000 with accuracy 88.04%\n",
      "Row: 10 | [0, 0.8206, 0.85, 0.8627, 0.8685, 0.872, 0.8751, 0.8772, 0.8787, 0.8795, 0.8804]\n"
     ]
    },
    {
     "name": "stderr",
     "output_type": "stream",
     "text": [
      "100%|██████████| 5/5 [00:07<00:00,  1.58s/it]\n",
      "100%|██████████| 5/5 [00:07<00:00,  1.53s/it]\n",
      "100%|██████████| 5/5 [00:07<00:00,  1.54s/it]\n",
      "100%|██████████| 5/5 [00:07<00:00,  1.53s/it]\n",
      "100%|██████████| 5/5 [00:07<00:00,  1.54s/it]\n"
     ]
    },
    {
     "name": "stdout",
     "output_type": "stream",
     "text": [
      "Checking accuracy on test data\n",
      "Got 8812 / 10000 with accuracy 88.12%\n",
      "Row: 11 | [0, 0.8206, 0.85, 0.8627, 0.8685, 0.872, 0.8751, 0.8772, 0.8787, 0.8795, 0.8804, 0.8812]\n"
     ]
    },
    {
     "name": "stderr",
     "output_type": "stream",
     "text": [
      "100%|██████████| 5/5 [00:07<00:00,  1.54s/it]\n",
      "100%|██████████| 5/5 [00:07<00:00,  1.52s/it]\n",
      "100%|██████████| 5/5 [00:07<00:00,  1.49s/it]\n",
      "100%|██████████| 5/5 [00:07<00:00,  1.54s/it]\n",
      "100%|██████████| 5/5 [00:07<00:00,  1.54s/it]\n"
     ]
    },
    {
     "name": "stdout",
     "output_type": "stream",
     "text": [
      "Checking accuracy on test data\n",
      "Got 8821 / 10000 with accuracy 88.21%\n",
      "Row: 12 | [0, 0.8206, 0.85, 0.8627, 0.8685, 0.872, 0.8751, 0.8772, 0.8787, 0.8795, 0.8804, 0.8812, 0.8821]\n"
     ]
    },
    {
     "name": "stderr",
     "output_type": "stream",
     "text": [
      "100%|██████████| 5/5 [00:07<00:00,  1.55s/it]\n",
      "100%|██████████| 5/5 [00:07<00:00,  1.51s/it]\n",
      "100%|██████████| 5/5 [00:07<00:00,  1.53s/it]\n",
      "100%|██████████| 5/5 [00:07<00:00,  1.54s/it]\n",
      "100%|██████████| 5/5 [00:07<00:00,  1.52s/it]\n"
     ]
    },
    {
     "name": "stdout",
     "output_type": "stream",
     "text": [
      "Checking accuracy on test data\n",
      "Got 8819 / 10000 with accuracy 88.19%\n",
      "Row: 13 | [0, 0.8206, 0.85, 0.8627, 0.8685, 0.872, 0.8751, 0.8772, 0.8787, 0.8795, 0.8804, 0.8812, 0.8821, 0.8819]\n"
     ]
    },
    {
     "name": "stderr",
     "output_type": "stream",
     "text": [
      "100%|██████████| 5/5 [00:07<00:00,  1.51s/it]\n",
      "100%|██████████| 5/5 [00:07<00:00,  1.51s/it]\n",
      "100%|██████████| 5/5 [00:07<00:00,  1.55s/it]\n",
      "100%|██████████| 5/5 [00:07<00:00,  1.54s/it]\n",
      "100%|██████████| 5/5 [00:07<00:00,  1.55s/it]\n"
     ]
    },
    {
     "name": "stdout",
     "output_type": "stream",
     "text": [
      "Checking accuracy on test data\n",
      "Got 8829 / 10000 with accuracy 88.29%\n",
      "Row: 14 | [0, 0.8206, 0.85, 0.8627, 0.8685, 0.872, 0.8751, 0.8772, 0.8787, 0.8795, 0.8804, 0.8812, 0.8821, 0.8819, 0.8829]\n"
     ]
    },
    {
     "name": "stderr",
     "output_type": "stream",
     "text": [
      "100%|██████████| 5/5 [00:07<00:00,  1.53s/it]\n",
      "100%|██████████| 5/5 [00:07<00:00,  1.53s/it]\n",
      "100%|██████████| 5/5 [00:07<00:00,  1.50s/it]\n",
      "100%|██████████| 5/5 [00:07<00:00,  1.55s/it]\n",
      "100%|██████████| 5/5 [00:07<00:00,  1.50s/it]\n"
     ]
    },
    {
     "name": "stdout",
     "output_type": "stream",
     "text": [
      "Checking accuracy on test data\n",
      "Got 8830 / 10000 with accuracy 88.30%\n",
      "Row: 15 | [0, 0.8206, 0.85, 0.8627, 0.8685, 0.872, 0.8751, 0.8772, 0.8787, 0.8795, 0.8804, 0.8812, 0.8821, 0.8819, 0.8829, 0.883]\n"
     ]
    },
    {
     "data": {
      "image/png": "[encoded data removed]",
      "text/plain": [
       "<Figure size 640x480 with 1 Axes>"
      ]
     },
     "metadata": {},
     "output_type": "display_data"
    },
    {
     "name": "stdout",
     "output_type": "stream",
     "text": [
      "--- NEW MODEL 9 --- \n",
      "Matrix1.weight\n",
      "<class 'torch.nn.parameter.Parameter'> torch.Size([392, 784])\n",
      "Matrix1.bias\n",
      "<class 'torch.nn.parameter.Parameter'> torch.Size([392])\n",
      "Matrix2.weight\n",
      "<class 'torch.nn.parameter.Parameter'> torch.Size([196, 392])\n",
      "Matrix2.bias\n",
      "<class 'torch.nn.parameter.Parameter'> torch.Size([196])\n",
      "Matrix3.weight\n",
      "<class 'torch.nn.parameter.Parameter'> torch.Size([10, 196])\n",
      "Matrix3.bias\n",
      "<class 'torch.nn.parameter.Parameter'> torch.Size([10])\n"
     ]
    },
    {
     "name": "stderr",
     "output_type": "stream",
     "text": [
      "100%|██████████| 5/5 [00:07<00:00,  1.53s/it]\n",
      "100%|██████████| 5/5 [00:07<00:00,  1.52s/it]\n",
      "100%|██████████| 5/5 [00:07<00:00,  1.54s/it]\n",
      "100%|██████████| 5/5 [00:07<00:00,  1.54s/it]\n",
      "100%|██████████| 5/5 [00:07<00:00,  1.54s/it]\n"
     ]
    },
    {
     "name": "stdout",
     "output_type": "stream",
     "text": [
      "Checking accuracy on test data\n",
      "Got 8980 / 10000 with accuracy 89.80%\n",
      "Row: 1 | [0, 0.898]\n"
     ]
    },
    {
     "name": "stderr",
     "output_type": "stream",
     "text": [
      "100%|██████████| 5/5 [00:07<00:00,  1.55s/it]\n",
      "100%|██████████| 5/5 [00:07<00:00,  1.55s/it]\n",
      "100%|██████████| 5/5 [00:07<00:00,  1.55s/it]\n",
      "100%|██████████| 5/5 [00:07<00:00,  1.55s/it]\n",
      "100%|██████████| 5/5 [00:07<00:00,  1.54s/it]\n"
     ]
    },
    {
     "name": "stdout",
     "output_type": "stream",
     "text": [
      "Checking accuracy on test data\n",
      "Got 9366 / 10000 with accuracy 93.66%\n",
      "Row: 2 | [0, 0.898, 0.9366]\n"
     ]
    },
    {
     "name": "stderr",
     "output_type": "stream",
     "text": [
      "100%|██████████| 5/5 [00:07<00:00,  1.55s/it]\n",
      "100%|██████████| 5/5 [00:07<00:00,  1.51s/it]\n",
      "100%|██████████| 5/5 [00:07<00:00,  1.55s/it]\n",
      "100%|██████████| 5/5 [00:07<00:00,  1.56s/it]\n",
      "100%|██████████| 5/5 [00:07<00:00,  1.51s/it]\n"
     ]
    },
    {
     "name": "stdout",
     "output_type": "stream",
     "text": [
      "Checking accuracy on test data\n",
      "Got 9530 / 10000 with accuracy 95.30%\n",
      "Row: 3 | [0, 0.898, 0.9366, 0.953]\n"
     ]
    },
    {
     "name": "stderr",
     "output_type": "stream",
     "text": [
      "100%|██████████| 5/5 [00:07<00:00,  1.53s/it]\n",
      "100%|██████████| 5/5 [00:07<00:00,  1.52s/it]\n",
      "100%|██████████| 5/5 [00:07<00:00,  1.54s/it]\n",
      "100%|██████████| 5/5 [00:07<00:00,  1.54s/it]\n",
      "100%|██████████| 5/5 [00:07<00:00,  1.52s/it]\n"
     ]
    },
    {
     "name": "stdout",
     "output_type": "stream",
     "text": [
      "Checking accuracy on test data\n",
      "Got 9607 / 10000 with accuracy 96.07%\n",
      "Row: 4 | [0, 0.898, 0.9366, 0.953, 0.9607]\n"
     ]
    },
    {
     "name": "stderr",
     "output_type": "stream",
     "text": [
      "100%|██████████| 5/5 [00:07<00:00,  1.57s/it]\n",
      "100%|██████████| 5/5 [00:08<00:00,  1.67s/it]\n",
      "100%|██████████| 5/5 [00:07<00:00,  1.58s/it]\n",
      "100%|██████████| 5/5 [00:07<00:00,  1.55s/it]\n",
      "100%|██████████| 5/5 [00:07<00:00,  1.53s/it]\n"
     ]
    },
    {
     "name": "stdout",
     "output_type": "stream",
     "text": [
      "Checking accuracy on test data\n",
      "Got 9665 / 10000 with accuracy 96.65%\n",
      "Row: 5 | [0, 0.898, 0.9366, 0.953, 0.9607, 0.9665]\n"
     ]
    },
    {
     "name": "stderr",
     "output_type": "stream",
     "text": [
      "100%|██████████| 5/5 [00:07<00:00,  1.48s/it]\n",
      "100%|██████████| 5/5 [00:07<00:00,  1.53s/it]\n",
      "100%|██████████| 5/5 [00:07<00:00,  1.52s/it]\n",
      "100%|██████████| 5/5 [00:07<00:00,  1.50s/it]\n",
      "100%|██████████| 5/5 [00:08<00:00,  1.63s/it]\n"
     ]
    },
    {
     "name": "stdout",
     "output_type": "stream",
     "text": [
      "Checking accuracy on test data\n",
      "Got 9710 / 10000 with accuracy 97.10%\n",
      "Row: 6 | [0, 0.898, 0.9366, 0.953, 0.9607, 0.9665, 0.971]\n"
     ]
    },
    {
     "name": "stderr",
     "output_type": "stream",
     "text": [
      "100%|██████████| 5/5 [00:08<00:00,  1.62s/it]\n",
      "100%|██████████| 5/5 [00:07<00:00,  1.57s/it]\n",
      "100%|██████████| 5/5 [00:07<00:00,  1.57s/it]\n",
      "100%|██████████| 5/5 [00:07<00:00,  1.58s/it]\n",
      "100%|██████████| 5/5 [00:07<00:00,  1.56s/it]\n"
     ]
    },
    {
     "name": "stdout",
     "output_type": "stream",
     "text": [
      "Checking accuracy on test data\n",
      "Got 9724 / 10000 with accuracy 97.24%\n",
      "Row: 7 | [0, 0.898, 0.9366, 0.953, 0.9607, 0.9665, 0.971, 0.9724]\n"
     ]
    },
    {
     "name": "stderr",
     "output_type": "stream",
     "text": [
      "100%|██████████| 5/5 [00:07<00:00,  1.58s/it]\n",
      "100%|██████████| 5/5 [00:07<00:00,  1.59s/it]\n",
      "100%|██████████| 5/5 [00:07<00:00,  1.58s/it]\n",
      "100%|██████████| 5/5 [00:07<00:00,  1.54s/it]\n",
      "100%|██████████| 5/5 [00:07<00:00,  1.55s/it]\n"
     ]
    },
    {
     "name": "stdout",
     "output_type": "stream",
     "text": [
      "Checking accuracy on test data\n",
      "Got 9741 / 10000 with accuracy 97.41%\n",
      "Row: 8 | [0, 0.898, 0.9366, 0.953, 0.9607, 0.9665, 0.971, 0.9724, 0.9741]\n"
     ]
    },
    {
     "name": "stderr",
     "output_type": "stream",
     "text": [
      "100%|██████████| 5/5 [00:07<00:00,  1.56s/it]\n",
      "100%|██████████| 5/5 [00:07<00:00,  1.55s/it]\n",
      "100%|██████████| 5/5 [00:07<00:00,  1.56s/it]\n",
      "100%|██████████| 5/5 [00:07<00:00,  1.56s/it]\n",
      "100%|██████████| 5/5 [00:07<00:00,  1.55s/it]\n"
     ]
    },
    {
     "name": "stdout",
     "output_type": "stream",
     "text": [
      "Checking accuracy on test data\n",
      "Got 9762 / 10000 with accuracy 97.62%\n",
      "Row: 9 | [0, 0.898, 0.9366, 0.953, 0.9607, 0.9665, 0.971, 0.9724, 0.9741, 0.9762]\n"
     ]
    },
    {
     "name": "stderr",
     "output_type": "stream",
     "text": [
      "100%|██████████| 5/5 [00:07<00:00,  1.57s/it]\n",
      "100%|██████████| 5/5 [00:07<00:00,  1.56s/it]\n",
      "100%|██████████| 5/5 [00:07<00:00,  1.54s/it]\n",
      "100%|██████████| 5/5 [00:07<00:00,  1.55s/it]\n",
      "100%|██████████| 5/5 [00:07<00:00,  1.54s/it]\n"
     ]
    },
    {
     "name": "stdout",
     "output_type": "stream",
     "text": [
      "Checking accuracy on test data\n",
      "Got 9771 / 10000 with accuracy 97.71%\n",
      "Row: 10 | [0, 0.898, 0.9366, 0.953, 0.9607, 0.9665, 0.971, 0.9724, 0.9741, 0.9762, 0.9771]\n"
     ]
    },
    {
     "name": "stderr",
     "output_type": "stream",
     "text": [
      "100%|██████████| 5/5 [00:07<00:00,  1.54s/it]\n",
      "100%|██████████| 5/5 [00:07<00:00,  1.50s/it]\n",
      "100%|██████████| 5/5 [00:07<00:00,  1.53s/it]\n",
      "100%|██████████| 5/5 [00:07<00:00,  1.53s/it]\n",
      "100%|██████████| 5/5 [00:07<00:00,  1.51s/it]\n"
     ]
    },
    {
     "name": "stdout",
     "output_type": "stream",
     "text": [
      "Checking accuracy on test data\n",
      "Got 9767 / 10000 with accuracy 97.67%\n",
      "Row: 11 | [0, 0.898, 0.9366, 0.953, 0.9607, 0.9665, 0.971, 0.9724, 0.9741, 0.9762, 0.9771, 0.9767]\n"
     ]
    },
    {
     "name": "stderr",
     "output_type": "stream",
     "text": [
      "100%|██████████| 5/5 [00:07<00:00,  1.51s/it]\n",
      "100%|██████████| 5/5 [00:07<00:00,  1.53s/it]\n",
      "100%|██████████| 5/5 [00:07<00:00,  1.55s/it]\n",
      "100%|██████████| 5/5 [00:07<00:00,  1.54s/it]\n",
      "100%|██████████| 5/5 [00:07<00:00,  1.53s/it]\n"
     ]
    },
    {
     "name": "stdout",
     "output_type": "stream",
     "text": [
      "Checking accuracy on test data\n",
      "Got 9777 / 10000 with accuracy 97.77%\n",
      "Row: 12 | [0, 0.898, 0.9366, 0.953, 0.9607, 0.9665, 0.971, 0.9724, 0.9741, 0.9762, 0.9771, 0.9767, 0.9777]\n"
     ]
    },
    {
     "name": "stderr",
     "output_type": "stream",
     "text": [
      "100%|██████████| 5/5 [00:07<00:00,  1.55s/it]\n",
      "100%|██████████| 5/5 [00:07<00:00,  1.52s/it]\n",
      "100%|██████████| 5/5 [00:07<00:00,  1.55s/it]\n",
      "100%|██████████| 5/5 [00:07<00:00,  1.54s/it]\n",
      "100%|██████████| 5/5 [00:07<00:00,  1.54s/it]\n"
     ]
    },
    {
     "name": "stdout",
     "output_type": "stream",
     "text": [
      "Checking accuracy on test data\n",
      "Got 9789 / 10000 with accuracy 97.89%\n",
      "Row: 13 | [0, 0.898, 0.9366, 0.953, 0.9607, 0.9665, 0.971, 0.9724, 0.9741, 0.9762, 0.9771, 0.9767, 0.9777, 0.9789]\n"
     ]
    },
    {
     "name": "stderr",
     "output_type": "stream",
     "text": [
      "100%|██████████| 5/5 [00:07<00:00,  1.55s/it]\n",
      "100%|██████████| 5/5 [00:07<00:00,  1.54s/it]\n",
      "100%|██████████| 5/5 [00:07<00:00,  1.57s/it]\n",
      "100%|██████████| 5/5 [00:07<00:00,  1.55s/it]\n",
      "100%|██████████| 5/5 [00:07<00:00,  1.55s/it]\n"
     ]
    },
    {
     "name": "stdout",
     "output_type": "stream",
     "text": [
      "Checking accuracy on test data\n",
      "Got 9789 / 10000 with accuracy 97.89%\n",
      "Row: 14 | [0, 0.898, 0.9366, 0.953, 0.9607, 0.9665, 0.971, 0.9724, 0.9741, 0.9762, 0.9771, 0.9767, 0.9777, 0.9789, 0.9789]\n"
     ]
    },
    {
     "name": "stderr",
     "output_type": "stream",
     "text": [
      "100%|██████████| 5/5 [00:07<00:00,  1.55s/it]\n",
      "100%|██████████| 5/5 [00:07<00:00,  1.52s/it]\n",
      "100%|██████████| 5/5 [00:07<00:00,  1.54s/it]\n",
      "100%|██████████| 5/5 [00:07<00:00,  1.54s/it]\n",
      "100%|██████████| 5/5 [00:07<00:00,  1.50s/it]\n"
     ]
    },
    {
     "name": "stdout",
     "output_type": "stream",
     "text": [
      "Checking accuracy on test data\n",
      "Got 9785 / 10000 with accuracy 97.85%\n",
      "Row: 15 | [0, 0.898, 0.9366, 0.953, 0.9607, 0.9665, 0.971, 0.9724, 0.9741, 0.9762, 0.9771, 0.9767, 0.9777, 0.9789, 0.9789, 0.9785]\n"
     ]
    },
    {
     "data": {
      "image/png": "[encoded data removed]",
      "text/plain": [
       "<Figure size 640x480 with 1 Axes>"
      ]
     },
     "metadata": {},
     "output_type": "display_data"
    },
    {
     "name": "stdout",
     "output_type": "stream",
     "text": [
      "Test 0: [0, 0.8005, 0.8428, 0.855, 0.8648, 0.8716, 0.8751, 0.8773, 0.8791, 0.8801, 0.8819, 0.8824, 0.8845, 0.8834, 0.8844, 0.8843]\n",
      "Test 1: [0, 0.7446, 0.7656, 0.7763, 0.7824, 0.7845, 0.7863, 0.7873, 0.7881, 0.7885, 0.7881, 0.7883, 0.7885, 0.7888, 0.7885, 0.7895]\n",
      "Test 2: [0, 0.9168, 0.9452, 0.958, 0.965, 0.9701, 0.9719, 0.9744, 0.9766, 0.9774, 0.9786, 0.9786, 0.9791, 0.9791, 0.9796, 0.9798]\n",
      "Test 3: [0, 0.9177, 0.9457, 0.9583, 0.965, 0.9698, 0.973, 0.9754, 0.9762, 0.978, 0.9777, 0.9786, 0.9786, 0.9784, 0.979, 0.9788]\n",
      "Test 4: [0, 0.9044, 0.9397, 0.9551, 0.9628, 0.967, 0.9703, 0.9729, 0.9758, 0.9762, 0.9769, 0.977, 0.9779, 0.9779, 0.978, 0.9789]\n",
      "Test 5: [0, 0.9062, 0.9434, 0.956, 0.9643, 0.9691, 0.9723, 0.9752, 0.9773, 0.9781, 0.9788, 0.9803, 0.9798, 0.9798, 0.9801, 0.9802]\n",
      "Test 6: [0, 0.877, 0.9346, 0.951, 0.9601, 0.9648, 0.969, 0.9717, 0.9728, 0.974, 0.9747, 0.9765, 0.9764, 0.9773, 0.9779, 0.9774]\n",
      "Test 7: [0, 0.7459, 0.7676, 0.7776, 0.7826, 0.7851, 0.7886, 0.7894, 0.7906, 0.791, 0.7915, 0.7914, 0.792, 0.7926, 0.7932, 0.7929]\n",
      "Test 8: [0, 0.8206, 0.85, 0.8627, 0.8685, 0.872, 0.8751, 0.8772, 0.8787, 0.8795, 0.8804, 0.8812, 0.8821, 0.8819, 0.8829, 0.883]\n",
      "Test 9: [0, 0.898, 0.9366, 0.953, 0.9607, 0.9665, 0.971, 0.9724, 0.9741, 0.9762, 0.9771, 0.9767, 0.9777, 0.9789, 0.9789, 0.9785]\n"
     ]
    }
   ],
   "source": [
    "num_trainings = 15\n",
    "num_trials = 10\n",
    "\n",
    "acc_dict = {}\n",
    "acc_dict[0] = 0\n",
    "\n",
    "data = {}\n",
    "\n",
    "# Loop through number of trials\n",
    "for trial in range(num_trials):\n",
    "  print(f\"--- NEW MODEL {trial} --- \")\n",
    "  data[trial] = run_trials(num_trainings)\n",
    "\n",
    "# Print data after all runs\n",
    "for i in range(num_trials):\n",
    "  print(f\"Test {i}: {data[i]}\")\n"
   ]
  },
  {
   "cell_type": "code",
   "execution_count": 10,
   "metadata": {},
   "outputs": [
    {
     "name": "stdout",
     "output_type": "stream",
     "text": [
      "         0       1       2       3       4       5       6       7       8  \\\n",
      "0   0.0000  0.0000  0.0000  0.0000  0.0000  0.0000  0.0000  0.0000  0.0000   \n",
      "1   0.8005  0.7446  0.9168  0.9177  0.9044  0.9062  0.8770  0.7459  0.8206   \n",
      "2   0.8428  0.7656  0.9452  0.9457  0.9397  0.9434  0.9346  0.7676  0.8500   \n",
      "3   0.8550  0.7763  0.9580  0.9583  0.9551  0.9560  0.9510  0.7776  0.8627   \n",
      "4   0.8648  0.7824  0.9650  0.9650  0.9628  0.9643  0.9601  0.7826  0.8685   \n",
      "5   0.8716  0.7845  0.9701  0.9698  0.9670  0.9691  0.9648  0.7851  0.8720   \n",
      "6   0.8751  0.7863  0.9719  0.9730  0.9703  0.9723  0.9690  0.7886  0.8751   \n",
      "7   0.8773  0.7873  0.9744  0.9754  0.9729  0.9752  0.9717  0.7894  0.8772   \n",
      "8   0.8791  0.7881  0.9766  0.9762  0.9758  0.9773  0.9728  0.7906  0.8787   \n",
      "9   0.8801  0.7885  0.9774  0.9780  0.9762  0.9781  0.9740  0.7910  0.8795   \n",
      "10  0.8819  0.7881  0.9786  0.9777  0.9769  0.9788  0.9747  0.7915  0.8804   \n",
      "11  0.8824  0.7883  0.9786  0.9786  0.9770  0.9803  0.9765  0.7914  0.8812   \n",
      "12  0.8845  0.7885  0.9791  0.9786  0.9779  0.9798  0.9764  0.7920  0.8821   \n",
      "13  0.8834  0.7888  0.9791  0.9784  0.9779  0.9798  0.9773  0.7926  0.8819   \n",
      "14  0.8844  0.7885  0.9796  0.9790  0.9780  0.9801  0.9779  0.7932  0.8829   \n",
      "15  0.8843  0.7895  0.9798  0.9788  0.9789  0.9802  0.9774  0.7929  0.8830   \n",
      "\n",
      "         9  \n",
      "0   0.0000  \n",
      "1   0.8980  \n",
      "2   0.9366  \n",
      "3   0.9530  \n",
      "4   0.9607  \n",
      "5   0.9665  \n",
      "6   0.9710  \n",
      "7   0.9724  \n",
      "8   0.9741  \n",
      "9   0.9762  \n",
      "10  0.9771  \n",
      "11  0.9767  \n",
      "12  0.9777  \n",
      "13  0.9789  \n",
      "14  0.9789  \n",
      "15  0.9785  \n"
     ]
    },
    {
     "data": {
      "text/plain": [
       "<ErrorbarContainer object of 3 artists>"
      ]
     },
     "execution_count": 10,
     "metadata": {},
     "output_type": "execute_result"
    },
    {
     "data": {
      "image/png": "[encoded data removed]",
      "text/plain": [
       "<Figure size 640x480 with 1 Axes>"
      ]
     },
     "metadata": {},
     "output_type": "display_data"
    }
   ],
   "source": [
    "# Convert list of data over tests into a data frame\n",
    "df = pd.DataFrame(data)\n",
    "print(df)\n",
    "\n",
    "x_values = list(range(len(df)))\n",
    "trial_idx_list = list(range(num_trials))\n",
    "\n",
    "ci_values = []\n",
    "\n",
    "# Calculate the mean accuracy for each training per trial\n",
    "mean_values = df[trial_idx_list].mean(axis=1).tolist()\n",
    "\n",
    "# Calculate confidence intervals for each training\n",
    "for _, row in df[trial_idx_list].iterrows():\n",
    "  mean = row.mean()\n",
    "  sem = row.sem()\n",
    "  ci = sem * 1.96  # 95% confidence interval\n",
    "  ci_values.append(ci)\n",
    "\n",
    "plt.title(f\"Standard Feedforward ANN\\n Average Accuracy Over {num_trials} Trials with {num_trainings} Trainings Per Trial\\n 95% Confidence Intervals\", fontsize = 17)\n",
    "plt.xlabel(\"Number of trainings\", fontsize = 16)\n",
    "plt.ylabel(\"Accuracy\", fontsize = 16)\n",
    "plt.xticks(np.arange(0, num_trainings + 1, 1), fontsize = 13)\n",
    "plt.yticks(np.arange(0, 1.1, 0.1), fontsize = 13)\n",
    "\n",
    "sns.lineplot(x = x_values, y = mean_values)\n",
    "plt.errorbar(x = x_values, y = mean_values, yerr=ci_values, linestyle='None', color='red')"
   ]
  },
  {
   "cell_type": "code",
   "execution_count": null,
   "metadata": {},
   "outputs": [],
   "source": []
  }
 ],
 "metadata": {
  "colab": {
   "provenance": []
  },
  "kernelspec": {
   "display_name": "Python 3 (ipykernel)",
   "language": "python",
   "name": "python3"
  },
  "language_info": {
   "codemirror_mode": {
    "name": "ipython",
    "version": 3
   },
   "file_extension": ".py",
   "mimetype": "text/x-python",
   "name": "python",
   "nbconvert_exporter": "python",
   "pygments_lexer": "ipython3",
   "version": "3.11.3"
  }
 },
 "nbformat": 4,
 "nbformat_minor": 1
}
