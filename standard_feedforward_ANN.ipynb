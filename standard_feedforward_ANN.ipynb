{
 "cells": [
  {
   "cell_type": "code",
   "execution_count": 1,
   "metadata": {
    "id": "f23x1HxXNBcU"
   },
   "outputs": [],
   "source": [
    "# Imports\n",
    "import torch\n",
    "import torchvision\n",
    "import torch.nn as nn  # All neural network modules, nn.Linear, nn.Conv2d, BatchNorm, Loss functions\n",
    "import torch.nn.init as init    # For weight initializations\n",
    "import torch.optim as optim  # For all Optimization algorithms, SGD, Adam, etc.\n",
    "import torch.nn.functional as F  # All functions that don't have any parameters\n",
    "from torch.utils.data import (\n",
    "    DataLoader,\n",
    "    # Dataset\n",
    ")  # Gives easier dataset managment and creates mini batches\n",
    "import torchvision.datasets as datasets  # Has standard datasets we can import in a nice way\n",
    "import torchvision.transforms as transforms  # Transformations we can perform on our dataset\n",
    "from tqdm import tqdm # For progress bars \n",
    "import matplotlib.pyplot as plt # For graphing  \n",
    "import numpy as np  # For graphing  \n",
    "import pandas as pd     # For data frames\n",
    "import seaborn as sns   # For graphing\n",
    "\n",
    "device = torch.device(\"cuda\" if torch.cuda.is_available() else \"cpu\") \n"
   ]
  },
  {
   "cell_type": "code",
   "execution_count": 2,
   "metadata": {
    "id": "scrw7HWpNBcW"
   },
   "outputs": [],
   "source": [
    "# Hyperparameters\n",
    "learning_rate = 1e-3\n",
    "batch_size = 12000\n",
    "num_epoches = 5"
   ]
  },
  {
   "cell_type": "code",
   "execution_count": 3,
   "metadata": {
    "colab": {
     "base_uri": "https://localhost:8080/"
    },
    "id": "XZny9qJuNBcX",
    "outputId": "237c956e-3906-471f-e277-49d5be49ef28"
   },
   "outputs": [],
   "source": [
    "# Get MNIST data\n",
    "train_ds = datasets.MNIST(\n",
    "    root=\"dataset/\", train=True, transform=transforms.ToTensor(), download=True\n",
    ")\n",
    "train_loader = DataLoader(dataset=train_ds, batch_size=batch_size, shuffle=True)\n",
    "\n",
    "test_ds = datasets.MNIST(\n",
    "    root=\"dataset/\", train=False, transform=transforms.ToTensor(), download=True\n",
    ")\n",
    "test_loader = DataLoader(dataset=test_ds, batch_size=batch_size, shuffle=False)"
   ]
  },
  {
   "cell_type": "code",
   "execution_count": 4,
   "metadata": {
    "id": "3mmLrBW4NBcX"
   },
   "outputs": [],
   "source": [
    "class StandardFeedforwardNetwork(nn.Module):\n",
    "    def __init__(self):\n",
    "        super().__init__()\n",
    "        self.Matrix1 = nn.Linear(28**2, 392)\n",
    "        self.Matrix2 = nn.Linear(392, 10)\n",
    "\n",
    "        init.kaiming_uniform_(self.Matrix1.weight, mode=\"fan_in\", nonlinearity=\"relu\")\n",
    "        init.kaiming_uniform_(self.Matrix2.weight, mode=\"fan_in\", nonlinearity=\"relu\")        \n",
    "\n",
    "        self.R = nn.ReLU()\n",
    "\n",
    "    def forward(self,x):\n",
    "        x = x.view(-1,28**2)\n",
    "        x = self.R(self.Matrix1(x))\n",
    "        x = self.R(self.Matrix2(x))\n",
    "        return x.squeeze()"
   ]
  },
  {
   "cell_type": "code",
   "execution_count": 5,
   "metadata": {},
   "outputs": [],
   "source": [
    "# Check parameter matrix sizes\n",
    "def print_parameter_info(model):\n",
    "    for name, param in model.named_parameters():\n",
    "        print(name)\n",
    "        print(type(param), param.size())"
   ]
  },
  {
   "cell_type": "code",
   "execution_count": 6,
   "metadata": {
    "colab": {
     "base_uri": "https://localhost:8080/"
    },
    "id": "wLwMo2l8NBca",
    "outputId": "0b3137f4-0aa3-411a-fe8a-c138abd2b292"
   },
   "outputs": [],
   "source": [
    "# Train Network\n",
    "def train_network(device, num_epoches, train_loader, model, criterion, optimizer):\n",
    "    for epoch in range(num_epoches):\n",
    "        losses = []\n",
    "\n",
    "        for batch_idx, (data, targets) in enumerate(tqdm(train_loader)):\n",
    "            # Get data to cuda if possible\n",
    "            data = data.to(device=device)\n",
    "            targets = targets.to(device=device)\n",
    "\n",
    "            # forward\n",
    "            scores = model(data)\n",
    "            loss = criterion(scores, targets)\n",
    "\n",
    "            losses.append(loss.item())\n",
    "            # backward\n",
    "            optimizer.zero_grad()\n",
    "            loss.backward()\n",
    "\n",
    "            # gradient descent or adam step\n",
    "            optimizer.step()\n",
    "\n",
    "        # print(f\"Cost at epoch {epoch} is {sum(losses)/len(losses):.5f}\")"
   ]
  },
  {
   "cell_type": "code",
   "execution_count": 7,
   "metadata": {
    "colab": {
     "base_uri": "https://localhost:8080/"
    },
    "id": "7RnWs9GsNBca",
    "outputId": "ac94c95b-ffc6-4304-d28b-18683626f3ed"
   },
   "outputs": [],
   "source": [
    "def check_accuracy(loader, model):\n",
    "    if loader.dataset.train:\n",
    "        print(\"Checking accuracy on training data\")\n",
    "    else:\n",
    "        print(\"Checking accuracy on test data\")\n",
    "\n",
    "    num_correct = 0\n",
    "    num_samples = 0\n",
    "    model.eval()\n",
    "\n",
    "    with torch.no_grad():\n",
    "        for x, y in loader:\n",
    "            x = x.to(device=device)\n",
    "            y = y.to(device=device)\n",
    "\n",
    "            scores = model(x)\n",
    "            _, predictions = scores.max(1)\n",
    "            num_correct += (predictions == y).sum()\n",
    "            num_samples += predictions.size(0)\n",
    "\n",
    "        accuracy = float(num_correct)/float(num_samples)\n",
    "        print(f\"Got {num_correct} / {num_samples} with accuracy {accuracy*100:.2f}%\")\n",
    "\n",
    "    model.train()\n",
    "    return accuracy"
   ]
  },
  {
   "cell_type": "code",
   "execution_count": 8,
   "metadata": {},
   "outputs": [],
   "source": [
    "def run_trials(num_trainings):\n",
    "  # Define model, loss, and optimizer \n",
    "  model = StandardFeedforwardNetwork()\n",
    "  print_parameter_info(model)\n",
    "  criterion = nn.CrossEntropyLoss()\n",
    "  optimizer = optim.Adam(model.parameters(), lr=learning_rate)\n",
    "  \n",
    "  acc_dict = {}\n",
    "  acc_dict[0] = 0\n",
    "\n",
    "  # Loop for number of trainings\n",
    "  for training in range(num_trainings):\n",
    "    # Train network\n",
    "    train_network(device, num_epoches, train_loader, model, criterion, optimizer)\n",
    "    acc_dict[training + 1] = check_accuracy(test_loader, model)\n",
    "\n",
    "    print(f\"Row: {training + 1} | {list(acc_dict.values())}\")\n",
    "\n",
    "  # Plot graph of accuracies after the trial\n",
    "  ypoints = np.array(list(acc_dict.values()))\n",
    "  plt.xticks(np.arange(0, len(ypoints), 1.0))\n",
    "  plt.xlabel(\"Number of trainings\")\n",
    "  plt.ylabel(\"Accuracy\")\n",
    "  plt.plot(ypoints)\n",
    "  plt.show()\n",
    "\n",
    "  return list(acc_dict.values())"
   ]
  },
  {
   "cell_type": "code",
   "execution_count": 9,
   "metadata": {},
   "outputs": [
    {
     "name": "stdout",
     "output_type": "stream",
     "text": [
      "--- NEW MODEL 0 --- \n",
      "Matrix1.weight\n",
      "<class 'torch.nn.parameter.Parameter'> torch.Size([392, 784])\n",
      "Matrix1.bias\n",
      "<class 'torch.nn.parameter.Parameter'> torch.Size([392])\n",
      "Matrix2.weight\n",
      "<class 'torch.nn.parameter.Parameter'> torch.Size([10, 392])\n",
      "Matrix2.bias\n",
      "<class 'torch.nn.parameter.Parameter'> torch.Size([10])\n"
     ]
    },
    {
     "name": "stderr",
     "output_type": "stream",
     "text": [
      "100%|██████████| 5/5 [00:09<00:00,  1.81s/it]\n",
      "100%|██████████| 5/5 [00:08<00:00,  1.79s/it]\n",
      "100%|██████████| 5/5 [00:08<00:00,  1.73s/it]\n",
      "100%|██████████| 5/5 [00:08<00:00,  1.77s/it]\n",
      "100%|██████████| 5/5 [00:08<00:00,  1.79s/it]\n"
     ]
    },
    {
     "name": "stdout",
     "output_type": "stream",
     "text": [
      "Checking accuracy on test data\n",
      "Got 7862 / 10000 with accuracy 78.62%\n",
      "Row: 1 | [0, 0.7862]\n"
     ]
    },
    {
     "name": "stderr",
     "output_type": "stream",
     "text": [
      "100%|██████████| 5/5 [00:08<00:00,  1.76s/it]\n",
      "100%|██████████| 5/5 [00:08<00:00,  1.79s/it]\n",
      "100%|██████████| 5/5 [00:08<00:00,  1.74s/it]\n",
      "100%|██████████| 5/5 [00:08<00:00,  1.73s/it]\n",
      "100%|██████████| 5/5 [00:08<00:00,  1.76s/it]\n"
     ]
    },
    {
     "name": "stdout",
     "output_type": "stream",
     "text": [
      "Checking accuracy on test data\n",
      "Got 8148 / 10000 with accuracy 81.48%\n",
      "Row: 2 | [0, 0.7862, 0.8148]\n"
     ]
    },
    {
     "name": "stderr",
     "output_type": "stream",
     "text": [
      "100%|██████████| 5/5 [00:09<00:00,  1.90s/it]\n",
      "100%|██████████| 5/5 [00:09<00:00,  1.85s/it]\n",
      "100%|██████████| 5/5 [00:09<00:00,  1.83s/it]\n",
      "100%|██████████| 5/5 [00:08<00:00,  1.72s/it]\n",
      "100%|██████████| 5/5 [00:08<00:00,  1.72s/it]\n"
     ]
    },
    {
     "name": "stdout",
     "output_type": "stream",
     "text": [
      "Checking accuracy on test data\n",
      "Got 8284 / 10000 with accuracy 82.84%\n",
      "Row: 3 | [0, 0.7862, 0.8148, 0.8284]\n"
     ]
    },
    {
     "name": "stderr",
     "output_type": "stream",
     "text": [
      "100%|██████████| 5/5 [00:08<00:00,  1.77s/it]\n",
      "100%|██████████| 5/5 [00:08<00:00,  1.74s/it]\n",
      "100%|██████████| 5/5 [00:08<00:00,  1.75s/it]\n",
      "100%|██████████| 5/5 [00:08<00:00,  1.79s/it]\n",
      "100%|██████████| 5/5 [00:08<00:00,  1.74s/it]\n"
     ]
    },
    {
     "name": "stdout",
     "output_type": "stream",
     "text": [
      "Checking accuracy on test data\n",
      "Got 8355 / 10000 with accuracy 83.55%\n",
      "Row: 4 | [0, 0.7862, 0.8148, 0.8284, 0.8355]\n"
     ]
    },
    {
     "name": "stderr",
     "output_type": "stream",
     "text": [
      "100%|██████████| 5/5 [00:08<00:00,  1.74s/it]\n",
      "100%|██████████| 5/5 [00:08<00:00,  1.76s/it]\n",
      "100%|██████████| 5/5 [00:08<00:00,  1.78s/it]\n",
      "100%|██████████| 5/5 [00:08<00:00,  1.76s/it]\n",
      "100%|██████████| 5/5 [00:08<00:00,  1.72s/it]\n"
     ]
    },
    {
     "name": "stdout",
     "output_type": "stream",
     "text": [
      "Checking accuracy on test data\n",
      "Got 8410 / 10000 with accuracy 84.10%\n",
      "Row: 5 | [0, 0.7862, 0.8148, 0.8284, 0.8355, 0.841]\n"
     ]
    },
    {
     "name": "stderr",
     "output_type": "stream",
     "text": [
      "100%|██████████| 5/5 [00:08<00:00,  1.72s/it]\n",
      "100%|██████████| 5/5 [00:08<00:00,  1.74s/it]\n",
      "100%|██████████| 5/5 [00:08<00:00,  1.74s/it]\n",
      "100%|██████████| 5/5 [00:08<00:00,  1.78s/it]\n",
      "100%|██████████| 5/5 [00:08<00:00,  1.73s/it]\n"
     ]
    },
    {
     "name": "stdout",
     "output_type": "stream",
     "text": [
      "Checking accuracy on test data\n",
      "Got 8473 / 10000 with accuracy 84.73%\n",
      "Row: 6 | [0, 0.7862, 0.8148, 0.8284, 0.8355, 0.841, 0.8473]\n"
     ]
    },
    {
     "name": "stderr",
     "output_type": "stream",
     "text": [
      "100%|██████████| 5/5 [00:08<00:00,  1.76s/it]\n",
      "100%|██████████| 5/5 [00:09<00:00,  1.80s/it]\n",
      "100%|██████████| 5/5 [00:08<00:00,  1.78s/it]\n",
      "100%|██████████| 5/5 [00:08<00:00,  1.75s/it]\n",
      "100%|██████████| 5/5 [00:08<00:00,  1.78s/it]\n"
     ]
    },
    {
     "name": "stdout",
     "output_type": "stream",
     "text": [
      "Checking accuracy on test data\n",
      "Got 8514 / 10000 with accuracy 85.14%\n",
      "Row: 7 | [0, 0.7862, 0.8148, 0.8284, 0.8355, 0.841, 0.8473, 0.8514]\n"
     ]
    },
    {
     "name": "stderr",
     "output_type": "stream",
     "text": [
      "100%|██████████| 5/5 [00:08<00:00,  1.76s/it]\n",
      "100%|██████████| 5/5 [00:08<00:00,  1.77s/it]\n",
      "100%|██████████| 5/5 [00:08<00:00,  1.75s/it]\n",
      "100%|██████████| 5/5 [00:08<00:00,  1.74s/it]\n",
      "100%|██████████| 5/5 [00:08<00:00,  1.72s/it]\n"
     ]
    },
    {
     "name": "stdout",
     "output_type": "stream",
     "text": [
      "Checking accuracy on test data\n",
      "Got 8543 / 10000 with accuracy 85.43%\n",
      "Row: 8 | [0, 0.7862, 0.8148, 0.8284, 0.8355, 0.841, 0.8473, 0.8514, 0.8543]\n"
     ]
    },
    {
     "name": "stderr",
     "output_type": "stream",
     "text": [
      "100%|██████████| 5/5 [00:08<00:00,  1.71s/it]\n",
      "100%|██████████| 5/5 [00:08<00:00,  1.72s/it]\n",
      "100%|██████████| 5/5 [00:08<00:00,  1.72s/it]\n",
      "100%|██████████| 5/5 [00:08<00:00,  1.75s/it]\n",
      "100%|██████████| 5/5 [00:08<00:00,  1.73s/it]\n"
     ]
    },
    {
     "name": "stdout",
     "output_type": "stream",
     "text": [
      "Checking accuracy on test data\n",
      "Got 8566 / 10000 with accuracy 85.66%\n",
      "Row: 9 | [0, 0.7862, 0.8148, 0.8284, 0.8355, 0.841, 0.8473, 0.8514, 0.8543, 0.8566]\n"
     ]
    },
    {
     "name": "stderr",
     "output_type": "stream",
     "text": [
      "100%|██████████| 5/5 [00:08<00:00,  1.70s/it]\n",
      "100%|██████████| 5/5 [00:08<00:00,  1.75s/it]\n",
      "100%|██████████| 5/5 [00:08<00:00,  1.74s/it]\n",
      "100%|██████████| 5/5 [00:08<00:00,  1.76s/it]\n",
      "100%|██████████| 5/5 [00:08<00:00,  1.73s/it]\n"
     ]
    },
    {
     "name": "stdout",
     "output_type": "stream",
     "text": [
      "Checking accuracy on test data\n",
      "Got 8586 / 10000 with accuracy 85.86%\n",
      "Row: 10 | [0, 0.7862, 0.8148, 0.8284, 0.8355, 0.841, 0.8473, 0.8514, 0.8543, 0.8566, 0.8586]\n"
     ]
    },
    {
     "name": "stderr",
     "output_type": "stream",
     "text": [
      "100%|██████████| 5/5 [00:08<00:00,  1.77s/it]\n",
      "100%|██████████| 5/5 [00:08<00:00,  1.75s/it]\n",
      "100%|██████████| 5/5 [00:08<00:00,  1.75s/it]\n",
      "100%|██████████| 5/5 [00:08<00:00,  1.73s/it]\n",
      "100%|██████████| 5/5 [00:08<00:00,  1.74s/it]\n"
     ]
    },
    {
     "name": "stdout",
     "output_type": "stream",
     "text": [
      "Checking accuracy on test data\n",
      "Got 8604 / 10000 with accuracy 86.04%\n",
      "Row: 11 | [0, 0.7862, 0.8148, 0.8284, 0.8355, 0.841, 0.8473, 0.8514, 0.8543, 0.8566, 0.8586, 0.8604]\n"
     ]
    },
    {
     "name": "stderr",
     "output_type": "stream",
     "text": [
      "100%|██████████| 5/5 [00:08<00:00,  1.71s/it]\n",
      "100%|██████████| 5/5 [00:08<00:00,  1.70s/it]\n",
      "100%|██████████| 5/5 [00:08<00:00,  1.72s/it]\n",
      "100%|██████████| 5/5 [00:08<00:00,  1.74s/it]\n",
      "100%|██████████| 5/5 [00:08<00:00,  1.73s/it]\n"
     ]
    },
    {
     "name": "stdout",
     "output_type": "stream",
     "text": [
      "Checking accuracy on test data\n",
      "Got 8607 / 10000 with accuracy 86.07%\n",
      "Row: 12 | [0, 0.7862, 0.8148, 0.8284, 0.8355, 0.841, 0.8473, 0.8514, 0.8543, 0.8566, 0.8586, 0.8604, 0.8607]\n"
     ]
    },
    {
     "name": "stderr",
     "output_type": "stream",
     "text": [
      "100%|██████████| 5/5 [00:08<00:00,  1.75s/it]\n",
      "100%|██████████| 5/5 [00:08<00:00,  1.73s/it]\n",
      "100%|██████████| 5/5 [00:08<00:00,  1.76s/it]\n",
      "100%|██████████| 5/5 [00:08<00:00,  1.79s/it]\n",
      "100%|██████████| 5/5 [00:08<00:00,  1.75s/it]\n"
     ]
    },
    {
     "name": "stdout",
     "output_type": "stream",
     "text": [
      "Checking accuracy on test data\n",
      "Got 8631 / 10000 with accuracy 86.31%\n",
      "Row: 13 | [0, 0.7862, 0.8148, 0.8284, 0.8355, 0.841, 0.8473, 0.8514, 0.8543, 0.8566, 0.8586, 0.8604, 0.8607, 0.8631]\n"
     ]
    },
    {
     "name": "stderr",
     "output_type": "stream",
     "text": [
      "100%|██████████| 5/5 [00:08<00:00,  1.73s/it]\n",
      "100%|██████████| 5/5 [00:08<00:00,  1.71s/it]\n",
      "100%|██████████| 5/5 [00:08<00:00,  1.74s/it]\n",
      "100%|██████████| 5/5 [00:08<00:00,  1.75s/it]\n",
      "100%|██████████| 5/5 [00:08<00:00,  1.78s/it]\n"
     ]
    },
    {
     "name": "stdout",
     "output_type": "stream",
     "text": [
      "Checking accuracy on test data\n",
      "Got 8636 / 10000 with accuracy 86.36%\n",
      "Row: 14 | [0, 0.7862, 0.8148, 0.8284, 0.8355, 0.841, 0.8473, 0.8514, 0.8543, 0.8566, 0.8586, 0.8604, 0.8607, 0.8631, 0.8636]\n"
     ]
    },
    {
     "name": "stderr",
     "output_type": "stream",
     "text": [
      "100%|██████████| 5/5 [00:08<00:00,  1.76s/it]\n",
      "100%|██████████| 5/5 [00:08<00:00,  1.73s/it]\n",
      "100%|██████████| 5/5 [00:08<00:00,  1.74s/it]\n",
      "100%|██████████| 5/5 [00:08<00:00,  1.74s/it]\n",
      "100%|██████████| 5/5 [00:08<00:00,  1.75s/it]\n"
     ]
    },
    {
     "name": "stdout",
     "output_type": "stream",
     "text": [
      "Checking accuracy on test data\n",
      "Got 8642 / 10000 with accuracy 86.42%\n",
      "Row: 15 | [0, 0.7862, 0.8148, 0.8284, 0.8355, 0.841, 0.8473, 0.8514, 0.8543, 0.8566, 0.8586, 0.8604, 0.8607, 0.8631, 0.8636, 0.8642]\n"
     ]
    },
    {
     "data": {
      "image/png": "[encoded data removed]",
      "text/plain": [
       "<Figure size 640x480 with 1 Axes>"
      ]
     },
     "metadata": {},
     "output_type": "display_data"
    },
    {
     "name": "stdout",
     "output_type": "stream",
     "text": [
      "--- NEW MODEL 1 --- \n",
      "Matrix1.weight\n",
      "<class 'torch.nn.parameter.Parameter'> torch.Size([392, 784])\n",
      "Matrix1.bias\n",
      "<class 'torch.nn.parameter.Parameter'> torch.Size([392])\n",
      "Matrix2.weight\n",
      "<class 'torch.nn.parameter.Parameter'> torch.Size([10, 392])\n",
      "Matrix2.bias\n",
      "<class 'torch.nn.parameter.Parameter'> torch.Size([10])\n"
     ]
    },
    {
     "name": "stderr",
     "output_type": "stream",
     "text": [
      "100%|██████████| 5/5 [00:08<00:00,  1.76s/it]\n",
      "100%|██████████| 5/5 [00:08<00:00,  1.75s/it]\n",
      "100%|██████████| 5/5 [00:08<00:00,  1.75s/it]\n",
      "100%|██████████| 5/5 [00:08<00:00,  1.76s/it]\n",
      "100%|██████████| 5/5 [00:08<00:00,  1.77s/it]\n"
     ]
    },
    {
     "name": "stdout",
     "output_type": "stream",
     "text": [
      "Checking accuracy on test data\n",
      "Got 7390 / 10000 with accuracy 73.90%\n",
      "Row: 1 | [0, 0.739]\n"
     ]
    },
    {
     "name": "stderr",
     "output_type": "stream",
     "text": [
      "100%|██████████| 5/5 [00:08<00:00,  1.76s/it]\n",
      "100%|██████████| 5/5 [00:08<00:00,  1.76s/it]\n",
      "100%|██████████| 5/5 [00:08<00:00,  1.72s/it]\n",
      "100%|██████████| 5/5 [00:08<00:00,  1.77s/it]\n",
      "100%|██████████| 5/5 [00:08<00:00,  1.79s/it]\n"
     ]
    },
    {
     "name": "stdout",
     "output_type": "stream",
     "text": [
      "Checking accuracy on test data\n",
      "Got 7536 / 10000 with accuracy 75.36%\n",
      "Row: 2 | [0, 0.739, 0.7536]\n"
     ]
    },
    {
     "name": "stderr",
     "output_type": "stream",
     "text": [
      "100%|██████████| 5/5 [00:08<00:00,  1.79s/it]\n",
      "100%|██████████| 5/5 [00:09<00:00,  1.80s/it]\n",
      "100%|██████████| 5/5 [00:08<00:00,  1.79s/it]\n",
      "100%|██████████| 5/5 [00:08<00:00,  1.79s/it]\n",
      "100%|██████████| 5/5 [00:08<00:00,  1.79s/it]\n"
     ]
    },
    {
     "name": "stdout",
     "output_type": "stream",
     "text": [
      "Checking accuracy on test data\n",
      "Got 7632 / 10000 with accuracy 76.32%\n",
      "Row: 3 | [0, 0.739, 0.7536, 0.7632]\n"
     ]
    },
    {
     "name": "stderr",
     "output_type": "stream",
     "text": [
      "100%|██████████| 5/5 [00:08<00:00,  1.75s/it]\n",
      "100%|██████████| 5/5 [00:08<00:00,  1.75s/it]\n",
      "100%|██████████| 5/5 [00:08<00:00,  1.78s/it]\n",
      "100%|██████████| 5/5 [00:08<00:00,  1.77s/it]\n",
      "100%|██████████| 5/5 [00:08<00:00,  1.78s/it]\n"
     ]
    },
    {
     "name": "stdout",
     "output_type": "stream",
     "text": [
      "Checking accuracy on test data\n",
      "Got 7699 / 10000 with accuracy 76.99%\n",
      "Row: 4 | [0, 0.739, 0.7536, 0.7632, 0.7699]\n"
     ]
    },
    {
     "name": "stderr",
     "output_type": "stream",
     "text": [
      "100%|██████████| 5/5 [00:08<00:00,  1.73s/it]\n",
      "100%|██████████| 5/5 [00:09<00:00,  1.85s/it]\n",
      "100%|██████████| 5/5 [00:08<00:00,  1.79s/it]\n",
      "100%|██████████| 5/5 [00:08<00:00,  1.79s/it]\n",
      "100%|██████████| 5/5 [00:08<00:00,  1.74s/it]\n"
     ]
    },
    {
     "name": "stdout",
     "output_type": "stream",
     "text": [
      "Checking accuracy on test data\n",
      "Got 7731 / 10000 with accuracy 77.31%\n",
      "Row: 5 | [0, 0.739, 0.7536, 0.7632, 0.7699, 0.7731]\n"
     ]
    },
    {
     "name": "stderr",
     "output_type": "stream",
     "text": [
      "100%|██████████| 5/5 [00:08<00:00,  1.75s/it]\n",
      "100%|██████████| 5/5 [00:08<00:00,  1.77s/it]\n",
      "100%|██████████| 5/5 [00:08<00:00,  1.74s/it]\n",
      "100%|██████████| 5/5 [00:08<00:00,  1.77s/it]\n",
      "100%|██████████| 5/5 [00:08<00:00,  1.72s/it]\n"
     ]
    },
    {
     "name": "stdout",
     "output_type": "stream",
     "text": [
      "Checking accuracy on test data\n",
      "Got 7765 / 10000 with accuracy 77.65%\n",
      "Row: 6 | [0, 0.739, 0.7536, 0.7632, 0.7699, 0.7731, 0.7765]\n"
     ]
    },
    {
     "name": "stderr",
     "output_type": "stream",
     "text": [
      "100%|██████████| 5/5 [00:08<00:00,  1.75s/it]\n",
      "100%|██████████| 5/5 [00:09<00:00,  1.80s/it]\n",
      "100%|██████████| 5/5 [00:08<00:00,  1.76s/it]\n",
      "100%|██████████| 5/5 [00:08<00:00,  1.79s/it]\n",
      "100%|██████████| 5/5 [00:08<00:00,  1.78s/it]\n"
     ]
    },
    {
     "name": "stdout",
     "output_type": "stream",
     "text": [
      "Checking accuracy on test data\n",
      "Got 7798 / 10000 with accuracy 77.98%\n",
      "Row: 7 | [0, 0.739, 0.7536, 0.7632, 0.7699, 0.7731, 0.7765, 0.7798]\n"
     ]
    },
    {
     "name": "stderr",
     "output_type": "stream",
     "text": [
      "100%|██████████| 5/5 [00:08<00:00,  1.78s/it]\n",
      "100%|██████████| 5/5 [00:09<00:00,  1.86s/it]\n",
      "100%|██████████| 5/5 [00:08<00:00,  1.78s/it]\n",
      "100%|██████████| 5/5 [00:14<00:00,  2.99s/it]\n",
      "100%|██████████| 5/5 [00:15<00:00,  3.17s/it]\n"
     ]
    },
    {
     "name": "stdout",
     "output_type": "stream",
     "text": [
      "Checking accuracy on test data\n",
      "Got 7823 / 10000 with accuracy 78.23%\n",
      "Row: 8 | [0, 0.739, 0.7536, 0.7632, 0.7699, 0.7731, 0.7765, 0.7798, 0.7823]\n"
     ]
    },
    {
     "name": "stderr",
     "output_type": "stream",
     "text": [
      "100%|██████████| 5/5 [00:14<00:00,  2.86s/it]\n",
      "100%|██████████| 5/5 [00:16<00:00,  3.22s/it]\n",
      "100%|██████████| 5/5 [00:15<00:00,  3.17s/it]\n",
      "100%|██████████| 5/5 [00:15<00:00,  3.12s/it]\n",
      "100%|██████████| 5/5 [00:15<00:00,  3.13s/it]\n"
     ]
    },
    {
     "name": "stdout",
     "output_type": "stream",
     "text": [
      "Checking accuracy on test data\n",
      "Got 7831 / 10000 with accuracy 78.31%\n",
      "Row: 9 | [0, 0.739, 0.7536, 0.7632, 0.7699, 0.7731, 0.7765, 0.7798, 0.7823, 0.7831]\n"
     ]
    },
    {
     "name": "stderr",
     "output_type": "stream",
     "text": [
      "100%|██████████| 5/5 [00:15<00:00,  3.05s/it]\n",
      "100%|██████████| 5/5 [00:15<00:00,  3.20s/it]\n",
      "100%|██████████| 5/5 [00:15<00:00,  3.10s/it]\n",
      "100%|██████████| 5/5 [00:15<00:00,  3.19s/it]\n",
      "100%|██████████| 5/5 [00:15<00:00,  3.16s/it]\n"
     ]
    },
    {
     "name": "stdout",
     "output_type": "stream",
     "text": [
      "Checking accuracy on test data\n",
      "Got 7843 / 10000 with accuracy 78.43%\n",
      "Row: 10 | [0, 0.739, 0.7536, 0.7632, 0.7699, 0.7731, 0.7765, 0.7798, 0.7823, 0.7831, 0.7843]\n"
     ]
    },
    {
     "name": "stderr",
     "output_type": "stream",
     "text": [
      "100%|██████████| 5/5 [00:15<00:00,  3.13s/it]\n",
      "100%|██████████| 5/5 [00:15<00:00,  3.15s/it]\n",
      "100%|██████████| 5/5 [00:15<00:00,  3.18s/it]\n",
      "100%|██████████| 5/5 [00:15<00:00,  3.16s/it]\n",
      "100%|██████████| 5/5 [00:15<00:00,  3.13s/it]\n"
     ]
    },
    {
     "name": "stdout",
     "output_type": "stream",
     "text": [
      "Checking accuracy on test data\n",
      "Got 7858 / 10000 with accuracy 78.58%\n",
      "Row: 11 | [0, 0.739, 0.7536, 0.7632, 0.7699, 0.7731, 0.7765, 0.7798, 0.7823, 0.7831, 0.7843, 0.7858]\n"
     ]
    },
    {
     "name": "stderr",
     "output_type": "stream",
     "text": [
      "100%|██████████| 5/5 [00:15<00:00,  3.10s/it]\n",
      "100%|██████████| 5/5 [00:15<00:00,  3.10s/it]\n",
      "100%|██████████| 5/5 [00:15<00:00,  3.15s/it]\n",
      "100%|██████████| 5/5 [00:16<00:00,  3.23s/it]\n",
      "100%|██████████| 5/5 [00:16<00:00,  3.32s/it]\n"
     ]
    },
    {
     "name": "stdout",
     "output_type": "stream",
     "text": [
      "Checking accuracy on test data\n",
      "Got 7863 / 10000 with accuracy 78.63%\n",
      "Row: 12 | [0, 0.739, 0.7536, 0.7632, 0.7699, 0.7731, 0.7765, 0.7798, 0.7823, 0.7831, 0.7843, 0.7858, 0.7863]\n"
     ]
    },
    {
     "name": "stderr",
     "output_type": "stream",
     "text": [
      "100%|██████████| 5/5 [00:16<00:00,  3.23s/it]\n",
      "100%|██████████| 5/5 [00:16<00:00,  3.20s/it]\n",
      "100%|██████████| 5/5 [00:16<00:00,  3.25s/it]\n",
      "100%|██████████| 5/5 [00:16<00:00,  3.20s/it]\n",
      "100%|██████████| 5/5 [00:15<00:00,  3.20s/it]\n"
     ]
    },
    {
     "name": "stdout",
     "output_type": "stream",
     "text": [
      "Checking accuracy on test data\n",
      "Got 7871 / 10000 with accuracy 78.71%\n",
      "Row: 13 | [0, 0.739, 0.7536, 0.7632, 0.7699, 0.7731, 0.7765, 0.7798, 0.7823, 0.7831, 0.7843, 0.7858, 0.7863, 0.7871]\n"
     ]
    },
    {
     "name": "stderr",
     "output_type": "stream",
     "text": [
      "100%|██████████| 5/5 [00:15<00:00,  3.11s/it]\n",
      "100%|██████████| 5/5 [00:16<00:00,  3.22s/it]\n",
      "100%|██████████| 5/5 [00:15<00:00,  3.09s/it]\n",
      "100%|██████████| 5/5 [00:15<00:00,  3.17s/it]\n",
      "100%|██████████| 5/5 [00:15<00:00,  3.17s/it]\n"
     ]
    },
    {
     "name": "stdout",
     "output_type": "stream",
     "text": [
      "Checking accuracy on test data\n",
      "Got 7876 / 10000 with accuracy 78.76%\n",
      "Row: 14 | [0, 0.739, 0.7536, 0.7632, 0.7699, 0.7731, 0.7765, 0.7798, 0.7823, 0.7831, 0.7843, 0.7858, 0.7863, 0.7871, 0.7876]\n"
     ]
    },
    {
     "name": "stderr",
     "output_type": "stream",
     "text": [
      "100%|██████████| 5/5 [00:15<00:00,  3.17s/it]\n",
      "100%|██████████| 5/5 [00:16<00:00,  3.21s/it]\n",
      "100%|██████████| 5/5 [00:15<00:00,  3.16s/it]\n",
      "100%|██████████| 5/5 [00:16<00:00,  3.37s/it]\n",
      "100%|██████████| 5/5 [00:15<00:00,  3.15s/it]\n"
     ]
    },
    {
     "name": "stdout",
     "output_type": "stream",
     "text": [
      "Checking accuracy on test data\n",
      "Got 7883 / 10000 with accuracy 78.83%\n",
      "Row: 15 | [0, 0.739, 0.7536, 0.7632, 0.7699, 0.7731, 0.7765, 0.7798, 0.7823, 0.7831, 0.7843, 0.7858, 0.7863, 0.7871, 0.7876, 0.7883]\n"
     ]
    },
    {
     "data": {
      "image/png": "[encoded data removed]",
      "text/plain": [
       "<Figure size 640x480 with 1 Axes>"
      ]
     },
     "metadata": {},
     "output_type": "display_data"
    },
    {
     "name": "stdout",
     "output_type": "stream",
     "text": [
      "--- NEW MODEL 2 --- \n",
      "Matrix1.weight\n",
      "<class 'torch.nn.parameter.Parameter'> torch.Size([392, 784])\n",
      "Matrix1.bias\n",
      "<class 'torch.nn.parameter.Parameter'> torch.Size([392])\n",
      "Matrix2.weight\n",
      "<class 'torch.nn.parameter.Parameter'> torch.Size([10, 392])\n",
      "Matrix2.bias\n",
      "<class 'torch.nn.parameter.Parameter'> torch.Size([10])\n"
     ]
    },
    {
     "name": "stderr",
     "output_type": "stream",
     "text": [
      "100%|██████████| 5/5 [00:15<00:00,  3.18s/it]\n",
      "100%|██████████| 5/5 [00:15<00:00,  3.17s/it]\n",
      "100%|██████████| 5/5 [00:15<00:00,  3.06s/it]\n",
      "100%|██████████| 5/5 [00:16<00:00,  3.23s/it]\n",
      "100%|██████████| 5/5 [00:16<00:00,  3.25s/it]\n"
     ]
    },
    {
     "name": "stdout",
     "output_type": "stream",
     "text": [
      "Checking accuracy on test data\n",
      "Got 7088 / 10000 with accuracy 70.88%\n",
      "Row: 1 | [0, 0.7088]\n"
     ]
    },
    {
     "name": "stderr",
     "output_type": "stream",
     "text": [
      "100%|██████████| 5/5 [00:15<00:00,  3.14s/it]\n",
      "100%|██████████| 5/5 [00:15<00:00,  3.13s/it]\n",
      "100%|██████████| 5/5 [00:16<00:00,  3.21s/it]\n",
      "100%|██████████| 5/5 [00:15<00:00,  3.17s/it]\n",
      "100%|██████████| 5/5 [00:15<00:00,  3.16s/it]\n"
     ]
    },
    {
     "name": "stdout",
     "output_type": "stream",
     "text": [
      "Checking accuracy on test data\n",
      "Got 7270 / 10000 with accuracy 72.70%\n",
      "Row: 2 | [0, 0.7088, 0.727]\n"
     ]
    },
    {
     "name": "stderr",
     "output_type": "stream",
     "text": [
      "100%|██████████| 5/5 [00:15<00:00,  3.19s/it]\n",
      "100%|██████████| 5/5 [00:16<00:00,  3.28s/it]\n",
      "100%|██████████| 5/5 [00:15<00:00,  3.14s/it]\n",
      "100%|██████████| 5/5 [00:15<00:00,  3.20s/it]\n",
      "100%|██████████| 5/5 [00:15<00:00,  3.20s/it]\n"
     ]
    },
    {
     "name": "stdout",
     "output_type": "stream",
     "text": [
      "Checking accuracy on test data\n",
      "Got 7402 / 10000 with accuracy 74.02%\n",
      "Row: 3 | [0, 0.7088, 0.727, 0.7402]\n"
     ]
    },
    {
     "name": "stderr",
     "output_type": "stream",
     "text": [
      "100%|██████████| 5/5 [00:16<00:00,  3.21s/it]\n",
      "100%|██████████| 5/5 [00:15<00:00,  3.15s/it]\n",
      "100%|██████████| 5/5 [00:14<00:00,  2.91s/it]\n",
      "100%|██████████| 5/5 [00:14<00:00,  2.87s/it]\n",
      "100%|██████████| 5/5 [00:16<00:00,  3.23s/it]\n"
     ]
    },
    {
     "name": "stdout",
     "output_type": "stream",
     "text": [
      "Checking accuracy on test data\n",
      "Got 7470 / 10000 with accuracy 74.70%\n",
      "Row: 4 | [0, 0.7088, 0.727, 0.7402, 0.747]\n"
     ]
    },
    {
     "name": "stderr",
     "output_type": "stream",
     "text": [
      "100%|██████████| 5/5 [00:15<00:00,  3.20s/it]\n",
      "100%|██████████| 5/5 [00:15<00:00,  3.18s/it]\n",
      "100%|██████████| 5/5 [00:16<00:00,  3.22s/it]\n",
      "100%|██████████| 5/5 [00:15<00:00,  3.19s/it]\n",
      "100%|██████████| 5/5 [00:15<00:00,  3.18s/it]\n"
     ]
    },
    {
     "name": "stdout",
     "output_type": "stream",
     "text": [
      "Checking accuracy on test data\n",
      "Got 7518 / 10000 with accuracy 75.18%\n",
      "Row: 5 | [0, 0.7088, 0.727, 0.7402, 0.747, 0.7518]\n"
     ]
    },
    {
     "name": "stderr",
     "output_type": "stream",
     "text": [
      "100%|██████████| 5/5 [00:15<00:00,  3.10s/it]\n",
      "100%|██████████| 5/5 [00:15<00:00,  3.18s/it]\n",
      "100%|██████████| 5/5 [00:15<00:00,  3.15s/it]\n",
      "100%|██████████| 5/5 [00:15<00:00,  3.15s/it]\n",
      "100%|██████████| 5/5 [00:15<00:00,  3.17s/it]\n"
     ]
    },
    {
     "name": "stdout",
     "output_type": "stream",
     "text": [
      "Checking accuracy on test data\n",
      "Got 7555 / 10000 with accuracy 75.55%\n",
      "Row: 6 | [0, 0.7088, 0.727, 0.7402, 0.747, 0.7518, 0.7555]\n"
     ]
    },
    {
     "name": "stderr",
     "output_type": "stream",
     "text": [
      "100%|██████████| 5/5 [00:16<00:00,  3.21s/it]\n",
      "100%|██████████| 5/5 [00:15<00:00,  3.18s/it]\n",
      "100%|██████████| 5/5 [00:15<00:00,  3.17s/it]\n",
      "100%|██████████| 5/5 [00:15<00:00,  3.11s/it]\n",
      "100%|██████████| 5/5 [00:12<00:00,  2.49s/it]\n"
     ]
    },
    {
     "name": "stdout",
     "output_type": "stream",
     "text": [
      "Checking accuracy on test data\n",
      "Got 7585 / 10000 with accuracy 75.85%\n",
      "Row: 7 | [0, 0.7088, 0.727, 0.7402, 0.747, 0.7518, 0.7555, 0.7585]\n"
     ]
    },
    {
     "name": "stderr",
     "output_type": "stream",
     "text": [
      "100%|██████████| 5/5 [00:15<00:00,  3.18s/it]\n",
      "100%|██████████| 5/5 [00:15<00:00,  3.15s/it]\n",
      "100%|██████████| 5/5 [00:15<00:00,  3.16s/it]\n",
      "100%|██████████| 5/5 [00:15<00:00,  3.14s/it]\n",
      "100%|██████████| 5/5 [00:15<00:00,  3.12s/it]\n"
     ]
    },
    {
     "name": "stdout",
     "output_type": "stream",
     "text": [
      "Checking accuracy on test data\n",
      "Got 7606 / 10000 with accuracy 76.06%\n",
      "Row: 8 | [0, 0.7088, 0.727, 0.7402, 0.747, 0.7518, 0.7555, 0.7585, 0.7606]\n"
     ]
    },
    {
     "name": "stderr",
     "output_type": "stream",
     "text": [
      "100%|██████████| 5/5 [00:15<00:00,  3.11s/it]\n",
      "100%|██████████| 5/5 [00:16<00:00,  3.39s/it]\n",
      "100%|██████████| 5/5 [00:16<00:00,  3.30s/it]\n",
      "100%|██████████| 5/5 [00:16<00:00,  3.24s/it]\n",
      "100%|██████████| 5/5 [00:16<00:00,  3.20s/it]\n"
     ]
    },
    {
     "name": "stdout",
     "output_type": "stream",
     "text": [
      "Checking accuracy on test data\n",
      "Got 7627 / 10000 with accuracy 76.27%\n",
      "Row: 9 | [0, 0.7088, 0.727, 0.7402, 0.747, 0.7518, 0.7555, 0.7585, 0.7606, 0.7627]\n"
     ]
    },
    {
     "name": "stderr",
     "output_type": "stream",
     "text": [
      "100%|██████████| 5/5 [00:15<00:00,  3.13s/it]\n",
      "100%|██████████| 5/5 [00:15<00:00,  3.19s/it]\n",
      "100%|██████████| 5/5 [00:15<00:00,  3.18s/it]\n",
      "100%|██████████| 5/5 [00:15<00:00,  3.15s/it]\n",
      "100%|██████████| 5/5 [00:15<00:00,  3.19s/it]\n"
     ]
    },
    {
     "name": "stdout",
     "output_type": "stream",
     "text": [
      "Checking accuracy on test data\n",
      "Got 7639 / 10000 with accuracy 76.39%\n",
      "Row: 10 | [0, 0.7088, 0.727, 0.7402, 0.747, 0.7518, 0.7555, 0.7585, 0.7606, 0.7627, 0.7639]\n"
     ]
    },
    {
     "name": "stderr",
     "output_type": "stream",
     "text": [
      "100%|██████████| 5/5 [00:16<00:00,  3.21s/it]\n",
      "100%|██████████| 5/5 [00:15<00:00,  3.08s/it]\n",
      "100%|██████████| 5/5 [00:15<00:00,  3.08s/it]\n",
      "100%|██████████| 5/5 [00:15<00:00,  3.14s/it]\n",
      "100%|██████████| 5/5 [00:15<00:00,  3.18s/it]\n"
     ]
    },
    {
     "name": "stdout",
     "output_type": "stream",
     "text": [
      "Checking accuracy on test data\n",
      "Got 7646 / 10000 with accuracy 76.46%\n",
      "Row: 11 | [0, 0.7088, 0.727, 0.7402, 0.747, 0.7518, 0.7555, 0.7585, 0.7606, 0.7627, 0.7639, 0.7646]\n"
     ]
    },
    {
     "name": "stderr",
     "output_type": "stream",
     "text": [
      "100%|██████████| 5/5 [00:15<00:00,  3.08s/it]\n",
      "100%|██████████| 5/5 [00:15<00:00,  3.10s/it]\n",
      "100%|██████████| 5/5 [00:15<00:00,  3.18s/it]\n",
      "100%|██████████| 5/5 [00:15<00:00,  3.18s/it]\n",
      "100%|██████████| 5/5 [00:15<00:00,  3.14s/it]\n"
     ]
    },
    {
     "name": "stdout",
     "output_type": "stream",
     "text": [
      "Checking accuracy on test data\n",
      "Got 7656 / 10000 with accuracy 76.56%\n",
      "Row: 12 | [0, 0.7088, 0.727, 0.7402, 0.747, 0.7518, 0.7555, 0.7585, 0.7606, 0.7627, 0.7639, 0.7646, 0.7656]\n"
     ]
    },
    {
     "name": "stderr",
     "output_type": "stream",
     "text": [
      "100%|██████████| 5/5 [00:15<00:00,  3.11s/it]\n",
      "100%|██████████| 5/5 [00:15<00:00,  3.14s/it]\n",
      "100%|██████████| 5/5 [00:16<00:00,  3.21s/it]\n",
      "100%|██████████| 5/5 [00:15<00:00,  3.16s/it]\n",
      "100%|██████████| 5/5 [00:15<00:00,  3.09s/it]\n"
     ]
    },
    {
     "name": "stdout",
     "output_type": "stream",
     "text": [
      "Checking accuracy on test data\n",
      "Got 7663 / 10000 with accuracy 76.63%\n",
      "Row: 13 | [0, 0.7088, 0.727, 0.7402, 0.747, 0.7518, 0.7555, 0.7585, 0.7606, 0.7627, 0.7639, 0.7646, 0.7656, 0.7663]\n"
     ]
    },
    {
     "name": "stderr",
     "output_type": "stream",
     "text": [
      "100%|██████████| 5/5 [00:15<00:00,  3.16s/it]\n",
      "100%|██████████| 5/5 [00:15<00:00,  3.17s/it]\n",
      "100%|██████████| 5/5 [00:15<00:00,  3.15s/it]\n",
      "100%|██████████| 5/5 [00:15<00:00,  3.12s/it]\n",
      "100%|██████████| 5/5 [00:15<00:00,  3.12s/it]\n"
     ]
    },
    {
     "name": "stdout",
     "output_type": "stream",
     "text": [
      "Checking accuracy on test data\n",
      "Got 7674 / 10000 with accuracy 76.74%\n",
      "Row: 14 | [0, 0.7088, 0.727, 0.7402, 0.747, 0.7518, 0.7555, 0.7585, 0.7606, 0.7627, 0.7639, 0.7646, 0.7656, 0.7663, 0.7674]\n"
     ]
    },
    {
     "name": "stderr",
     "output_type": "stream",
     "text": [
      "100%|██████████| 5/5 [00:15<00:00,  3.15s/it]\n",
      "100%|██████████| 5/5 [00:15<00:00,  3.14s/it]\n",
      "100%|██████████| 5/5 [00:15<00:00,  3.18s/it]\n",
      "100%|██████████| 5/5 [00:15<00:00,  3.17s/it]\n",
      "100%|██████████| 5/5 [00:15<00:00,  3.14s/it]\n"
     ]
    },
    {
     "name": "stdout",
     "output_type": "stream",
     "text": [
      "Checking accuracy on test data\n",
      "Got 7676 / 10000 with accuracy 76.76%\n",
      "Row: 15 | [0, 0.7088, 0.727, 0.7402, 0.747, 0.7518, 0.7555, 0.7585, 0.7606, 0.7627, 0.7639, 0.7646, 0.7656, 0.7663, 0.7674, 0.7676]\n"
     ]
    },
    {
     "data": {
      "image/png": "[encoded data removed]",
      "text/plain": [
       "<Figure size 640x480 with 1 Axes>"
      ]
     },
     "metadata": {},
     "output_type": "display_data"
    },
    {
     "name": "stdout",
     "output_type": "stream",
     "text": [
      "--- NEW MODEL 3 --- \n",
      "Matrix1.weight\n",
      "<class 'torch.nn.parameter.Parameter'> torch.Size([392, 784])\n",
      "Matrix1.bias\n",
      "<class 'torch.nn.parameter.Parameter'> torch.Size([392])\n",
      "Matrix2.weight\n",
      "<class 'torch.nn.parameter.Parameter'> torch.Size([10, 392])\n",
      "Matrix2.bias\n",
      "<class 'torch.nn.parameter.Parameter'> torch.Size([10])\n"
     ]
    },
    {
     "name": "stderr",
     "output_type": "stream",
     "text": [
      "100%|██████████| 5/5 [00:15<00:00,  3.15s/it]\n",
      "100%|██████████| 5/5 [00:15<00:00,  3.14s/it]\n",
      "100%|██████████| 5/5 [00:16<00:00,  3.29s/it]\n",
      "100%|██████████| 5/5 [00:16<00:00,  3.20s/it]\n",
      "100%|██████████| 5/5 [00:15<00:00,  3.09s/it]\n"
     ]
    },
    {
     "name": "stdout",
     "output_type": "stream",
     "text": [
      "Checking accuracy on test data\n",
      "Got 8057 / 10000 with accuracy 80.57%\n",
      "Row: 1 | [0, 0.8057]\n"
     ]
    },
    {
     "name": "stderr",
     "output_type": "stream",
     "text": [
      "100%|██████████| 5/5 [00:15<00:00,  3.18s/it]\n",
      "100%|██████████| 5/5 [00:15<00:00,  3.12s/it]\n",
      "100%|██████████| 5/5 [00:15<00:00,  3.15s/it]\n",
      "100%|██████████| 5/5 [00:16<00:00,  3.33s/it]\n",
      "100%|██████████| 5/5 [00:15<00:00,  3.13s/it]\n"
     ]
    },
    {
     "name": "stdout",
     "output_type": "stream",
     "text": [
      "Checking accuracy on test data\n",
      "Got 8366 / 10000 with accuracy 83.66%\n",
      "Row: 2 | [0, 0.8057, 0.8366]\n"
     ]
    },
    {
     "name": "stderr",
     "output_type": "stream",
     "text": [
      "100%|██████████| 5/5 [00:16<00:00,  3.25s/it]\n",
      "100%|██████████| 5/5 [00:15<00:00,  3.14s/it]\n",
      "100%|██████████| 5/5 [00:15<00:00,  3.13s/it]\n",
      "100%|██████████| 5/5 [00:16<00:00,  3.20s/it]\n",
      "100%|██████████| 5/5 [00:16<00:00,  3.25s/it]\n"
     ]
    },
    {
     "name": "stdout",
     "output_type": "stream",
     "text": [
      "Checking accuracy on test data\n",
      "Got 8483 / 10000 with accuracy 84.83%\n",
      "Row: 3 | [0, 0.8057, 0.8366, 0.8483]\n"
     ]
    },
    {
     "name": "stderr",
     "output_type": "stream",
     "text": [
      "100%|██████████| 5/5 [00:16<00:00,  3.40s/it]\n",
      "100%|██████████| 5/5 [00:15<00:00,  3.16s/it]\n",
      "100%|██████████| 5/5 [00:15<00:00,  3.20s/it]\n",
      "100%|██████████| 5/5 [00:15<00:00,  3.20s/it]\n",
      "100%|██████████| 5/5 [00:15<00:00,  3.18s/it]\n"
     ]
    },
    {
     "name": "stdout",
     "output_type": "stream",
     "text": [
      "Checking accuracy on test data\n",
      "Got 8570 / 10000 with accuracy 85.70%\n",
      "Row: 4 | [0, 0.8057, 0.8366, 0.8483, 0.857]\n"
     ]
    },
    {
     "name": "stderr",
     "output_type": "stream",
     "text": [
      "100%|██████████| 5/5 [00:15<00:00,  3.19s/it]\n",
      "100%|██████████| 5/5 [00:15<00:00,  3.12s/it]\n",
      "100%|██████████| 5/5 [00:15<00:00,  3.12s/it]\n",
      "100%|██████████| 5/5 [00:16<00:00,  3.21s/it]\n",
      "100%|██████████| 5/5 [00:15<00:00,  3.13s/it]\n"
     ]
    },
    {
     "name": "stdout",
     "output_type": "stream",
     "text": [
      "Checking accuracy on test data\n",
      "Got 8642 / 10000 with accuracy 86.42%\n",
      "Row: 5 | [0, 0.8057, 0.8366, 0.8483, 0.857, 0.8642]\n"
     ]
    },
    {
     "name": "stderr",
     "output_type": "stream",
     "text": [
      "100%|██████████| 5/5 [00:15<00:00,  3.19s/it]\n",
      "100%|██████████| 5/5 [00:15<00:00,  3.11s/it]\n",
      "100%|██████████| 5/5 [00:15<00:00,  3.07s/it]\n",
      "100%|██████████| 5/5 [00:15<00:00,  3.13s/it]\n",
      "100%|██████████| 5/5 [00:15<00:00,  3.19s/it]\n"
     ]
    },
    {
     "name": "stdout",
     "output_type": "stream",
     "text": [
      "Checking accuracy on test data\n",
      "Got 8679 / 10000 with accuracy 86.79%\n",
      "Row: 6 | [0, 0.8057, 0.8366, 0.8483, 0.857, 0.8642, 0.8679]\n"
     ]
    },
    {
     "name": "stderr",
     "output_type": "stream",
     "text": [
      "100%|██████████| 5/5 [00:15<00:00,  3.11s/it]\n",
      "100%|██████████| 5/5 [00:15<00:00,  3.16s/it]\n",
      "100%|██████████| 5/5 [00:15<00:00,  3.12s/it]\n",
      "100%|██████████| 5/5 [00:15<00:00,  3.10s/it]\n",
      "100%|██████████| 5/5 [00:15<00:00,  3.14s/it]\n"
     ]
    },
    {
     "name": "stdout",
     "output_type": "stream",
     "text": [
      "Checking accuracy on test data\n",
      "Got 8720 / 10000 with accuracy 87.20%\n",
      "Row: 7 | [0, 0.8057, 0.8366, 0.8483, 0.857, 0.8642, 0.8679, 0.872]\n"
     ]
    },
    {
     "name": "stderr",
     "output_type": "stream",
     "text": [
      "100%|██████████| 5/5 [00:15<00:00,  3.07s/it]\n",
      "100%|██████████| 5/5 [00:15<00:00,  3.19s/it]\n",
      "100%|██████████| 5/5 [00:15<00:00,  3.14s/it]\n",
      "100%|██████████| 5/5 [00:14<00:00,  2.82s/it]\n",
      "100%|██████████| 5/5 [00:15<00:00,  3.17s/it]\n"
     ]
    },
    {
     "name": "stdout",
     "output_type": "stream",
     "text": [
      "Checking accuracy on test data\n",
      "Got 8756 / 10000 with accuracy 87.56%\n",
      "Row: 8 | [0, 0.8057, 0.8366, 0.8483, 0.857, 0.8642, 0.8679, 0.872, 0.8756]\n"
     ]
    },
    {
     "name": "stderr",
     "output_type": "stream",
     "text": [
      "100%|██████████| 5/5 [00:15<00:00,  3.16s/it]\n",
      "100%|██████████| 5/5 [00:15<00:00,  3.13s/it]\n",
      "100%|██████████| 5/5 [00:14<00:00,  2.88s/it]\n",
      "100%|██████████| 5/5 [00:16<00:00,  3.20s/it]\n",
      "100%|██████████| 5/5 [00:15<00:00,  3.15s/it]\n"
     ]
    },
    {
     "name": "stdout",
     "output_type": "stream",
     "text": [
      "Checking accuracy on test data\n",
      "Got 8776 / 10000 with accuracy 87.76%\n",
      "Row: 9 | [0, 0.8057, 0.8366, 0.8483, 0.857, 0.8642, 0.8679, 0.872, 0.8756, 0.8776]\n"
     ]
    },
    {
     "name": "stderr",
     "output_type": "stream",
     "text": [
      "100%|██████████| 5/5 [00:15<00:00,  3.17s/it]\n",
      "100%|██████████| 5/5 [00:15<00:00,  3.15s/it]\n",
      "100%|██████████| 5/5 [00:15<00:00,  3.13s/it]\n",
      "100%|██████████| 5/5 [00:15<00:00,  3.13s/it]\n",
      "100%|██████████| 5/5 [00:16<00:00,  3.24s/it]\n"
     ]
    },
    {
     "name": "stdout",
     "output_type": "stream",
     "text": [
      "Checking accuracy on test data\n",
      "Got 8789 / 10000 with accuracy 87.89%\n",
      "Row: 10 | [0, 0.8057, 0.8366, 0.8483, 0.857, 0.8642, 0.8679, 0.872, 0.8756, 0.8776, 0.8789]\n"
     ]
    },
    {
     "name": "stderr",
     "output_type": "stream",
     "text": [
      "100%|██████████| 5/5 [00:15<00:00,  3.16s/it]\n",
      "100%|██████████| 5/5 [00:15<00:00,  3.14s/it]\n",
      "100%|██████████| 5/5 [00:15<00:00,  3.14s/it]\n",
      "100%|██████████| 5/5 [00:16<00:00,  3.26s/it]\n",
      "100%|██████████| 5/5 [00:15<00:00,  3.08s/it]\n"
     ]
    },
    {
     "name": "stdout",
     "output_type": "stream",
     "text": [
      "Checking accuracy on test data\n",
      "Got 8805 / 10000 with accuracy 88.05%\n",
      "Row: 11 | [0, 0.8057, 0.8366, 0.8483, 0.857, 0.8642, 0.8679, 0.872, 0.8756, 0.8776, 0.8789, 0.8805]\n"
     ]
    },
    {
     "name": "stderr",
     "output_type": "stream",
     "text": [
      "100%|██████████| 5/5 [00:15<00:00,  3.12s/it]\n",
      "100%|██████████| 5/5 [00:15<00:00,  3.16s/it]\n",
      "100%|██████████| 5/5 [00:15<00:00,  3.14s/it]\n",
      "100%|██████████| 5/5 [00:15<00:00,  3.16s/it]\n",
      "100%|██████████| 5/5 [00:15<00:00,  3.16s/it]\n"
     ]
    },
    {
     "name": "stdout",
     "output_type": "stream",
     "text": [
      "Checking accuracy on test data\n",
      "Got 8807 / 10000 with accuracy 88.07%\n",
      "Row: 12 | [0, 0.8057, 0.8366, 0.8483, 0.857, 0.8642, 0.8679, 0.872, 0.8756, 0.8776, 0.8789, 0.8805, 0.8807]\n"
     ]
    },
    {
     "name": "stderr",
     "output_type": "stream",
     "text": [
      "100%|██████████| 5/5 [00:15<00:00,  3.10s/it]\n",
      "100%|██████████| 5/5 [00:16<00:00,  3.34s/it]\n",
      "100%|██████████| 5/5 [00:16<00:00,  3.21s/it]\n",
      "100%|██████████| 5/5 [00:15<00:00,  3.14s/it]\n",
      "100%|██████████| 5/5 [00:15<00:00,  3.17s/it]\n"
     ]
    },
    {
     "name": "stdout",
     "output_type": "stream",
     "text": [
      "Checking accuracy on test data\n",
      "Got 8815 / 10000 with accuracy 88.15%\n",
      "Row: 13 | [0, 0.8057, 0.8366, 0.8483, 0.857, 0.8642, 0.8679, 0.872, 0.8756, 0.8776, 0.8789, 0.8805, 0.8807, 0.8815]\n"
     ]
    },
    {
     "name": "stderr",
     "output_type": "stream",
     "text": [
      "100%|██████████| 5/5 [00:15<00:00,  3.17s/it]\n",
      "100%|██████████| 5/5 [00:15<00:00,  3.14s/it]\n",
      "100%|██████████| 5/5 [00:15<00:00,  3.15s/it]\n",
      "100%|██████████| 5/5 [00:15<00:00,  3.13s/it]\n",
      "100%|██████████| 5/5 [00:15<00:00,  3.13s/it]\n"
     ]
    },
    {
     "name": "stdout",
     "output_type": "stream",
     "text": [
      "Checking accuracy on test data\n",
      "Got 8832 / 10000 with accuracy 88.32%\n",
      "Row: 14 | [0, 0.8057, 0.8366, 0.8483, 0.857, 0.8642, 0.8679, 0.872, 0.8756, 0.8776, 0.8789, 0.8805, 0.8807, 0.8815, 0.8832]\n"
     ]
    },
    {
     "name": "stderr",
     "output_type": "stream",
     "text": [
      "100%|██████████| 5/5 [00:15<00:00,  3.18s/it]\n",
      "100%|██████████| 5/5 [00:15<00:00,  3.19s/it]\n",
      "100%|██████████| 5/5 [00:15<00:00,  3.20s/it]\n",
      "100%|██████████| 5/5 [00:15<00:00,  3.12s/it]\n",
      "100%|██████████| 5/5 [00:15<00:00,  3.08s/it]\n"
     ]
    },
    {
     "name": "stdout",
     "output_type": "stream",
     "text": [
      "Checking accuracy on test data\n",
      "Got 8835 / 10000 with accuracy 88.35%\n",
      "Row: 15 | [0, 0.8057, 0.8366, 0.8483, 0.857, 0.8642, 0.8679, 0.872, 0.8756, 0.8776, 0.8789, 0.8805, 0.8807, 0.8815, 0.8832, 0.8835]\n"
     ]
    },
    {
     "data": {
      "image/png": "[encoded data removed]",
      "text/plain": [
       "<Figure size 640x480 with 1 Axes>"
      ]
     },
     "metadata": {},
     "output_type": "display_data"
    },
    {
     "name": "stdout",
     "output_type": "stream",
     "text": [
      "--- NEW MODEL 4 --- \n",
      "Matrix1.weight\n",
      "<class 'torch.nn.parameter.Parameter'> torch.Size([392, 784])\n",
      "Matrix1.bias\n",
      "<class 'torch.nn.parameter.Parameter'> torch.Size([392])\n",
      "Matrix2.weight\n",
      "<class 'torch.nn.parameter.Parameter'> torch.Size([10, 392])\n",
      "Matrix2.bias\n",
      "<class 'torch.nn.parameter.Parameter'> torch.Size([10])\n"
     ]
    },
    {
     "name": "stderr",
     "output_type": "stream",
     "text": [
      "100%|██████████| 5/5 [00:15<00:00,  3.10s/it]\n",
      "100%|██████████| 5/5 [00:15<00:00,  3.12s/it]\n",
      "100%|██████████| 5/5 [00:15<00:00,  3.11s/it]\n",
      "100%|██████████| 5/5 [00:15<00:00,  3.16s/it]\n",
      "100%|██████████| 5/5 [00:15<00:00,  3.15s/it]\n"
     ]
    },
    {
     "name": "stdout",
     "output_type": "stream",
     "text": [
      "Checking accuracy on test data\n",
      "Got 6309 / 10000 with accuracy 63.09%\n",
      "Row: 1 | [0, 0.6309]\n"
     ]
    },
    {
     "name": "stderr",
     "output_type": "stream",
     "text": [
      "100%|██████████| 5/5 [00:15<00:00,  3.10s/it]\n",
      "100%|██████████| 5/5 [00:15<00:00,  3.12s/it]\n",
      "100%|██████████| 5/5 [00:15<00:00,  3.18s/it]\n",
      "100%|██████████| 5/5 [00:16<00:00,  3.20s/it]\n",
      "100%|██████████| 5/5 [00:15<00:00,  3.19s/it]\n"
     ]
    },
    {
     "name": "stdout",
     "output_type": "stream",
     "text": [
      "Checking accuracy on test data\n",
      "Got 6432 / 10000 with accuracy 64.32%\n",
      "Row: 2 | [0, 0.6309, 0.6432]\n"
     ]
    },
    {
     "name": "stderr",
     "output_type": "stream",
     "text": [
      "100%|██████████| 5/5 [00:15<00:00,  3.17s/it]\n",
      "100%|██████████| 5/5 [00:15<00:00,  3.19s/it]\n",
      "100%|██████████| 5/5 [00:15<00:00,  3.12s/it]\n",
      "100%|██████████| 5/5 [00:15<00:00,  3.14s/it]\n",
      "100%|██████████| 5/5 [00:15<00:00,  3.19s/it]\n"
     ]
    },
    {
     "name": "stdout",
     "output_type": "stream",
     "text": [
      "Checking accuracy on test data\n",
      "Got 6498 / 10000 with accuracy 64.98%\n",
      "Row: 3 | [0, 0.6309, 0.6432, 0.6498]\n"
     ]
    },
    {
     "name": "stderr",
     "output_type": "stream",
     "text": [
      "100%|██████████| 5/5 [00:15<00:00,  3.12s/it]\n",
      "100%|██████████| 5/5 [00:15<00:00,  3.18s/it]\n",
      "100%|██████████| 5/5 [00:16<00:00,  3.25s/it]\n",
      "100%|██████████| 5/5 [00:15<00:00,  3.15s/it]\n",
      "100%|██████████| 5/5 [00:15<00:00,  3.14s/it]\n"
     ]
    },
    {
     "name": "stdout",
     "output_type": "stream",
     "text": [
      "Checking accuracy on test data\n",
      "Got 6538 / 10000 with accuracy 65.38%\n",
      "Row: 4 | [0, 0.6309, 0.6432, 0.6498, 0.6538]\n"
     ]
    },
    {
     "name": "stderr",
     "output_type": "stream",
     "text": [
      "100%|██████████| 5/5 [00:16<00:00,  3.22s/it]\n",
      "100%|██████████| 5/5 [00:15<00:00,  3.17s/it]\n",
      "100%|██████████| 5/5 [00:15<00:00,  3.13s/it]\n",
      "100%|██████████| 5/5 [00:15<00:00,  3.14s/it]\n",
      "100%|██████████| 5/5 [00:15<00:00,  3.15s/it]\n"
     ]
    },
    {
     "name": "stdout",
     "output_type": "stream",
     "text": [
      "Checking accuracy on test data\n",
      "Got 6574 / 10000 with accuracy 65.74%\n",
      "Row: 5 | [0, 0.6309, 0.6432, 0.6498, 0.6538, 0.6574]\n"
     ]
    },
    {
     "name": "stderr",
     "output_type": "stream",
     "text": [
      "100%|██████████| 5/5 [00:15<00:00,  3.16s/it]\n",
      "100%|██████████| 5/5 [00:15<00:00,  3.03s/it]\n",
      "100%|██████████| 5/5 [00:15<00:00,  3.16s/it]\n",
      "100%|██████████| 5/5 [00:15<00:00,  3.18s/it]\n",
      "100%|██████████| 5/5 [00:15<00:00,  3.09s/it]\n"
     ]
    },
    {
     "name": "stdout",
     "output_type": "stream",
     "text": [
      "Checking accuracy on test data\n",
      "Got 6602 / 10000 with accuracy 66.02%\n",
      "Row: 6 | [0, 0.6309, 0.6432, 0.6498, 0.6538, 0.6574, 0.6602]\n"
     ]
    },
    {
     "name": "stderr",
     "output_type": "stream",
     "text": [
      "100%|██████████| 5/5 [00:15<00:00,  3.12s/it]\n",
      "100%|██████████| 5/5 [00:15<00:00,  3.11s/it]\n",
      "100%|██████████| 5/5 [00:15<00:00,  3.17s/it]\n",
      "100%|██████████| 5/5 [00:15<00:00,  3.11s/it]\n",
      "100%|██████████| 5/5 [00:15<00:00,  3.14s/it]\n"
     ]
    },
    {
     "name": "stdout",
     "output_type": "stream",
     "text": [
      "Checking accuracy on test data\n",
      "Got 6624 / 10000 with accuracy 66.24%\n",
      "Row: 7 | [0, 0.6309, 0.6432, 0.6498, 0.6538, 0.6574, 0.6602, 0.6624]\n"
     ]
    },
    {
     "name": "stderr",
     "output_type": "stream",
     "text": [
      "100%|██████████| 5/5 [00:15<00:00,  3.09s/it]\n",
      "100%|██████████| 5/5 [00:15<00:00,  3.11s/it]\n",
      "100%|██████████| 5/5 [00:15<00:00,  3.06s/it]\n",
      "100%|██████████| 5/5 [00:14<00:00,  3.00s/it]\n",
      "100%|██████████| 5/5 [00:14<00:00,  2.92s/it]\n"
     ]
    },
    {
     "name": "stdout",
     "output_type": "stream",
     "text": [
      "Checking accuracy on test data\n",
      "Got 6630 / 10000 with accuracy 66.30%\n",
      "Row: 8 | [0, 0.6309, 0.6432, 0.6498, 0.6538, 0.6574, 0.6602, 0.6624, 0.663]\n"
     ]
    },
    {
     "name": "stderr",
     "output_type": "stream",
     "text": [
      "100%|██████████| 5/5 [00:14<00:00,  2.84s/it]\n",
      "100%|██████████| 5/5 [00:15<00:00,  3.19s/it]\n",
      "100%|██████████| 5/5 [00:15<00:00,  3.15s/it]\n",
      "100%|██████████| 5/5 [00:15<00:00,  3.16s/it]\n",
      "100%|██████████| 5/5 [00:15<00:00,  3.16s/it]\n"
     ]
    },
    {
     "name": "stdout",
     "output_type": "stream",
     "text": [
      "Checking accuracy on test data\n",
      "Got 6645 / 10000 with accuracy 66.45%\n",
      "Row: 9 | [0, 0.6309, 0.6432, 0.6498, 0.6538, 0.6574, 0.6602, 0.6624, 0.663, 0.6645]\n"
     ]
    },
    {
     "name": "stderr",
     "output_type": "stream",
     "text": [
      "100%|██████████| 5/5 [00:15<00:00,  3.05s/it]\n",
      "100%|██████████| 5/5 [00:15<00:00,  3.10s/it]\n",
      "100%|██████████| 5/5 [00:13<00:00,  2.80s/it]\n",
      "100%|██████████| 5/5 [00:15<00:00,  3.12s/it]\n",
      "100%|██████████| 5/5 [00:15<00:00,  3.12s/it]\n"
     ]
    },
    {
     "name": "stdout",
     "output_type": "stream",
     "text": [
      "Checking accuracy on test data\n",
      "Got 6658 / 10000 with accuracy 66.58%\n",
      "Row: 10 | [0, 0.6309, 0.6432, 0.6498, 0.6538, 0.6574, 0.6602, 0.6624, 0.663, 0.6645, 0.6658]\n"
     ]
    },
    {
     "name": "stderr",
     "output_type": "stream",
     "text": [
      "100%|██████████| 5/5 [00:15<00:00,  3.13s/it]\n",
      "100%|██████████| 5/5 [00:14<00:00,  2.83s/it]\n",
      "100%|██████████| 5/5 [00:15<00:00,  3.08s/it]\n",
      "100%|██████████| 5/5 [00:15<00:00,  3.07s/it]\n",
      "100%|██████████| 5/5 [00:15<00:00,  3.02s/it]\n"
     ]
    },
    {
     "name": "stdout",
     "output_type": "stream",
     "text": [
      "Checking accuracy on test data\n",
      "Got 6671 / 10000 with accuracy 66.71%\n",
      "Row: 11 | [0, 0.6309, 0.6432, 0.6498, 0.6538, 0.6574, 0.6602, 0.6624, 0.663, 0.6645, 0.6658, 0.6671]\n"
     ]
    },
    {
     "name": "stderr",
     "output_type": "stream",
     "text": [
      "100%|██████████| 5/5 [00:13<00:00,  2.76s/it]\n",
      "100%|██████████| 5/5 [00:15<00:00,  3.19s/it]\n",
      "100%|██████████| 5/5 [00:15<00:00,  3.20s/it]\n",
      "100%|██████████| 5/5 [00:15<00:00,  3.16s/it]\n",
      "100%|██████████| 5/5 [00:15<00:00,  3.19s/it]\n"
     ]
    },
    {
     "name": "stdout",
     "output_type": "stream",
     "text": [
      "Checking accuracy on test data\n",
      "Got 6678 / 10000 with accuracy 66.78%\n",
      "Row: 12 | [0, 0.6309, 0.6432, 0.6498, 0.6538, 0.6574, 0.6602, 0.6624, 0.663, 0.6645, 0.6658, 0.6671, 0.6678]\n"
     ]
    },
    {
     "name": "stderr",
     "output_type": "stream",
     "text": [
      "100%|██████████| 5/5 [00:15<00:00,  3.09s/it]\n",
      "100%|██████████| 5/5 [00:14<00:00,  2.91s/it]\n",
      "100%|██████████| 5/5 [00:12<00:00,  2.49s/it]\n",
      "100%|██████████| 5/5 [00:12<00:00,  2.52s/it]\n",
      "100%|██████████| 5/5 [00:12<00:00,  2.50s/it]\n"
     ]
    },
    {
     "name": "stdout",
     "output_type": "stream",
     "text": [
      "Checking accuracy on test data\n",
      "Got 6677 / 10000 with accuracy 66.77%\n",
      "Row: 13 | [0, 0.6309, 0.6432, 0.6498, 0.6538, 0.6574, 0.6602, 0.6624, 0.663, 0.6645, 0.6658, 0.6671, 0.6678, 0.6677]\n"
     ]
    },
    {
     "name": "stderr",
     "output_type": "stream",
     "text": [
      "100%|██████████| 5/5 [00:10<00:00,  2.04s/it]\n",
      "100%|██████████| 5/5 [00:08<00:00,  1.64s/it]\n",
      "100%|██████████| 5/5 [00:08<00:00,  1.62s/it]\n",
      "100%|██████████| 5/5 [00:07<00:00,  1.58s/it]\n",
      "100%|██████████| 5/5 [00:07<00:00,  1.56s/it]\n"
     ]
    },
    {
     "name": "stdout",
     "output_type": "stream",
     "text": [
      "Checking accuracy on test data\n",
      "Got 6679 / 10000 with accuracy 66.79%\n",
      "Row: 14 | [0, 0.6309, 0.6432, 0.6498, 0.6538, 0.6574, 0.6602, 0.6624, 0.663, 0.6645, 0.6658, 0.6671, 0.6678, 0.6677, 0.6679]\n"
     ]
    },
    {
     "name": "stderr",
     "output_type": "stream",
     "text": [
      "100%|██████████| 5/5 [00:07<00:00,  1.51s/it]\n",
      "100%|██████████| 5/5 [00:08<00:00,  1.62s/it]\n",
      "100%|██████████| 5/5 [00:07<00:00,  1.59s/it]\n",
      "100%|██████████| 5/5 [00:07<00:00,  1.59s/it]\n",
      "100%|██████████| 5/5 [00:07<00:00,  1.57s/it]\n"
     ]
    },
    {
     "name": "stdout",
     "output_type": "stream",
     "text": [
      "Checking accuracy on test data\n",
      "Got 6683 / 10000 with accuracy 66.83%\n",
      "Row: 15 | [0, 0.6309, 0.6432, 0.6498, 0.6538, 0.6574, 0.6602, 0.6624, 0.663, 0.6645, 0.6658, 0.6671, 0.6678, 0.6677, 0.6679, 0.6683]\n"
     ]
    },
    {
     "data": {
      "image/png": "[encoded data removed]",
      "text/plain": [
       "<Figure size 640x480 with 1 Axes>"
      ]
     },
     "metadata": {},
     "output_type": "display_data"
    },
    {
     "name": "stdout",
     "output_type": "stream",
     "text": [
      "--- NEW MODEL 5 --- \n",
      "Matrix1.weight\n",
      "<class 'torch.nn.parameter.Parameter'> torch.Size([392, 784])\n",
      "Matrix1.bias\n",
      "<class 'torch.nn.parameter.Parameter'> torch.Size([392])\n",
      "Matrix2.weight\n",
      "<class 'torch.nn.parameter.Parameter'> torch.Size([10, 392])\n",
      "Matrix2.bias\n",
      "<class 'torch.nn.parameter.Parameter'> torch.Size([10])\n"
     ]
    },
    {
     "name": "stderr",
     "output_type": "stream",
     "text": [
      "100%|██████████| 5/5 [00:07<00:00,  1.55s/it]\n",
      "100%|██████████| 5/5 [00:07<00:00,  1.59s/it]\n",
      "100%|██████████| 5/5 [00:07<00:00,  1.58s/it]\n",
      "100%|██████████| 5/5 [00:08<00:00,  1.62s/it]\n",
      "100%|██████████| 5/5 [00:07<00:00,  1.57s/it]\n"
     ]
    },
    {
     "name": "stdout",
     "output_type": "stream",
     "text": [
      "Checking accuracy on test data\n",
      "Got 8901 / 10000 with accuracy 89.01%\n",
      "Row: 1 | [0, 0.8901]\n"
     ]
    },
    {
     "name": "stderr",
     "output_type": "stream",
     "text": [
      "100%|██████████| 5/5 [00:08<00:00,  1.62s/it]\n",
      "100%|██████████| 5/5 [00:07<00:00,  1.59s/it]\n",
      "100%|██████████| 5/5 [00:07<00:00,  1.57s/it]\n",
      "100%|██████████| 5/5 [00:07<00:00,  1.60s/it]\n",
      "100%|██████████| 5/5 [00:08<00:00,  1.60s/it]\n"
     ]
    },
    {
     "name": "stdout",
     "output_type": "stream",
     "text": [
      "Checking accuracy on test data\n",
      "Got 9192 / 10000 with accuracy 91.92%\n",
      "Row: 2 | [0, 0.8901, 0.9192]\n"
     ]
    },
    {
     "name": "stderr",
     "output_type": "stream",
     "text": [
      "100%|██████████| 5/5 [00:07<00:00,  1.58s/it]\n",
      "100%|██████████| 5/5 [00:07<00:00,  1.59s/it]\n",
      "100%|██████████| 5/5 [00:07<00:00,  1.59s/it]\n",
      "100%|██████████| 5/5 [00:08<00:00,  1.63s/it]\n",
      "100%|██████████| 5/5 [00:07<00:00,  1.58s/it]\n"
     ]
    },
    {
     "name": "stdout",
     "output_type": "stream",
     "text": [
      "Checking accuracy on test data\n",
      "Got 9348 / 10000 with accuracy 93.48%\n",
      "Row: 3 | [0, 0.8901, 0.9192, 0.9348]\n"
     ]
    },
    {
     "name": "stderr",
     "output_type": "stream",
     "text": [
      "100%|██████████| 5/5 [00:07<00:00,  1.57s/it]\n",
      "100%|██████████| 5/5 [00:08<00:00,  1.61s/it]\n",
      "100%|██████████| 5/5 [00:07<00:00,  1.59s/it]\n",
      "100%|██████████| 5/5 [00:08<00:00,  1.61s/it]\n",
      "100%|██████████| 5/5 [00:07<00:00,  1.56s/it]\n"
     ]
    },
    {
     "name": "stdout",
     "output_type": "stream",
     "text": [
      "Checking accuracy on test data\n",
      "Got 9441 / 10000 with accuracy 94.41%\n",
      "Row: 4 | [0, 0.8901, 0.9192, 0.9348, 0.9441]\n"
     ]
    },
    {
     "name": "stderr",
     "output_type": "stream",
     "text": [
      "100%|██████████| 5/5 [00:07<00:00,  1.57s/it]\n",
      "100%|██████████| 5/5 [00:07<00:00,  1.60s/it]\n",
      "100%|██████████| 5/5 [00:07<00:00,  1.60s/it]\n",
      "100%|██████████| 5/5 [00:07<00:00,  1.58s/it]\n",
      "100%|██████████| 5/5 [00:07<00:00,  1.54s/it]\n"
     ]
    },
    {
     "name": "stdout",
     "output_type": "stream",
     "text": [
      "Checking accuracy on test data\n",
      "Got 9510 / 10000 with accuracy 95.10%\n",
      "Row: 5 | [0, 0.8901, 0.9192, 0.9348, 0.9441, 0.951]\n"
     ]
    },
    {
     "name": "stderr",
     "output_type": "stream",
     "text": [
      "100%|██████████| 5/5 [00:07<00:00,  1.59s/it]\n",
      "100%|██████████| 5/5 [00:07<00:00,  1.56s/it]\n",
      "100%|██████████| 5/5 [00:08<00:00,  1.61s/it]\n",
      "100%|██████████| 5/5 [00:07<00:00,  1.57s/it]\n",
      "100%|██████████| 5/5 [00:08<00:00,  1.67s/it]\n"
     ]
    },
    {
     "name": "stdout",
     "output_type": "stream",
     "text": [
      "Checking accuracy on test data\n",
      "Got 9576 / 10000 with accuracy 95.76%\n",
      "Row: 6 | [0, 0.8901, 0.9192, 0.9348, 0.9441, 0.951, 0.9576]\n"
     ]
    },
    {
     "name": "stderr",
     "output_type": "stream",
     "text": [
      "100%|██████████| 5/5 [00:08<00:00,  1.61s/it]\n",
      "100%|██████████| 5/5 [00:07<00:00,  1.59s/it]\n",
      "100%|██████████| 5/5 [00:08<00:00,  1.60s/it]\n",
      "100%|██████████| 5/5 [00:07<00:00,  1.57s/it]\n",
      "100%|██████████| 5/5 [00:07<00:00,  1.55s/it]\n"
     ]
    },
    {
     "name": "stdout",
     "output_type": "stream",
     "text": [
      "Checking accuracy on test data\n",
      "Got 9609 / 10000 with accuracy 96.09%\n",
      "Row: 7 | [0, 0.8901, 0.9192, 0.9348, 0.9441, 0.951, 0.9576, 0.9609]\n"
     ]
    },
    {
     "name": "stderr",
     "output_type": "stream",
     "text": [
      "100%|██████████| 5/5 [00:07<00:00,  1.52s/it]\n",
      "100%|██████████| 5/5 [00:07<00:00,  1.58s/it]\n",
      "100%|██████████| 5/5 [00:07<00:00,  1.57s/it]\n",
      "100%|██████████| 5/5 [00:07<00:00,  1.58s/it]\n",
      "100%|██████████| 5/5 [00:07<00:00,  1.58s/it]\n"
     ]
    },
    {
     "name": "stdout",
     "output_type": "stream",
     "text": [
      "Checking accuracy on test data\n",
      "Got 9635 / 10000 with accuracy 96.35%\n",
      "Row: 8 | [0, 0.8901, 0.9192, 0.9348, 0.9441, 0.951, 0.9576, 0.9609, 0.9635]\n"
     ]
    },
    {
     "name": "stderr",
     "output_type": "stream",
     "text": [
      "100%|██████████| 5/5 [00:07<00:00,  1.57s/it]\n",
      "100%|██████████| 5/5 [00:07<00:00,  1.56s/it]\n",
      "100%|██████████| 5/5 [00:07<00:00,  1.56s/it]\n",
      "100%|██████████| 5/5 [00:07<00:00,  1.52s/it]\n",
      "100%|██████████| 5/5 [00:07<00:00,  1.51s/it]\n"
     ]
    },
    {
     "name": "stdout",
     "output_type": "stream",
     "text": [
      "Checking accuracy on test data\n",
      "Got 9659 / 10000 with accuracy 96.59%\n",
      "Row: 9 | [0, 0.8901, 0.9192, 0.9348, 0.9441, 0.951, 0.9576, 0.9609, 0.9635, 0.9659]\n"
     ]
    },
    {
     "name": "stderr",
     "output_type": "stream",
     "text": [
      "100%|██████████| 5/5 [00:07<00:00,  1.58s/it]\n",
      "100%|██████████| 5/5 [00:07<00:00,  1.55s/it]\n",
      "100%|██████████| 5/5 [00:07<00:00,  1.56s/it]\n",
      "100%|██████████| 5/5 [00:07<00:00,  1.59s/it]\n",
      "100%|██████████| 5/5 [00:07<00:00,  1.56s/it]\n"
     ]
    },
    {
     "name": "stdout",
     "output_type": "stream",
     "text": [
      "Checking accuracy on test data\n",
      "Got 9678 / 10000 with accuracy 96.78%\n",
      "Row: 10 | [0, 0.8901, 0.9192, 0.9348, 0.9441, 0.951, 0.9576, 0.9609, 0.9635, 0.9659, 0.9678]\n"
     ]
    },
    {
     "name": "stderr",
     "output_type": "stream",
     "text": [
      "100%|██████████| 5/5 [00:07<00:00,  1.53s/it]\n",
      "100%|██████████| 5/5 [00:08<00:00,  1.60s/it]\n",
      "100%|██████████| 5/5 [00:07<00:00,  1.58s/it]\n",
      "100%|██████████| 5/5 [00:07<00:00,  1.58s/it]\n",
      "100%|██████████| 5/5 [00:07<00:00,  1.60s/it]\n"
     ]
    },
    {
     "name": "stdout",
     "output_type": "stream",
     "text": [
      "Checking accuracy on test data\n",
      "Got 9693 / 10000 with accuracy 96.93%\n",
      "Row: 11 | [0, 0.8901, 0.9192, 0.9348, 0.9441, 0.951, 0.9576, 0.9609, 0.9635, 0.9659, 0.9678, 0.9693]\n"
     ]
    },
    {
     "name": "stderr",
     "output_type": "stream",
     "text": [
      "100%|██████████| 5/5 [00:08<00:00,  1.60s/it]\n",
      "100%|██████████| 5/5 [00:07<00:00,  1.56s/it]\n",
      "100%|██████████| 5/5 [00:07<00:00,  1.56s/it]\n",
      "100%|██████████| 5/5 [00:07<00:00,  1.51s/it]\n",
      "100%|██████████| 5/5 [00:07<00:00,  1.53s/it]\n"
     ]
    },
    {
     "name": "stdout",
     "output_type": "stream",
     "text": [
      "Checking accuracy on test data\n",
      "Got 9705 / 10000 with accuracy 97.05%\n",
      "Row: 12 | [0, 0.8901, 0.9192, 0.9348, 0.9441, 0.951, 0.9576, 0.9609, 0.9635, 0.9659, 0.9678, 0.9693, 0.9705]\n"
     ]
    },
    {
     "name": "stderr",
     "output_type": "stream",
     "text": [
      "100%|██████████| 5/5 [00:07<00:00,  1.54s/it]\n",
      "100%|██████████| 5/5 [00:07<00:00,  1.58s/it]\n",
      "100%|██████████| 5/5 [00:08<00:00,  1.65s/it]\n",
      "100%|██████████| 5/5 [00:08<00:00,  1.62s/it]\n",
      "100%|██████████| 5/5 [00:07<00:00,  1.57s/it]\n"
     ]
    },
    {
     "name": "stdout",
     "output_type": "stream",
     "text": [
      "Checking accuracy on test data\n",
      "Got 9708 / 10000 with accuracy 97.08%\n",
      "Row: 13 | [0, 0.8901, 0.9192, 0.9348, 0.9441, 0.951, 0.9576, 0.9609, 0.9635, 0.9659, 0.9678, 0.9693, 0.9705, 0.9708]\n"
     ]
    },
    {
     "name": "stderr",
     "output_type": "stream",
     "text": [
      "100%|██████████| 5/5 [00:07<00:00,  1.56s/it]\n",
      "100%|██████████| 5/5 [00:07<00:00,  1.57s/it]\n",
      "100%|██████████| 5/5 [00:08<00:00,  1.64s/it]\n",
      "100%|██████████| 5/5 [00:07<00:00,  1.56s/it]\n",
      "100%|██████████| 5/5 [00:07<00:00,  1.56s/it]\n"
     ]
    },
    {
     "name": "stdout",
     "output_type": "stream",
     "text": [
      "Checking accuracy on test data\n",
      "Got 9730 / 10000 with accuracy 97.30%\n",
      "Row: 14 | [0, 0.8901, 0.9192, 0.9348, 0.9441, 0.951, 0.9576, 0.9609, 0.9635, 0.9659, 0.9678, 0.9693, 0.9705, 0.9708, 0.973]\n"
     ]
    },
    {
     "name": "stderr",
     "output_type": "stream",
     "text": [
      "100%|██████████| 5/5 [00:07<00:00,  1.55s/it]\n",
      "100%|██████████| 5/5 [00:07<00:00,  1.57s/it]\n",
      "100%|██████████| 5/5 [00:07<00:00,  1.56s/it]\n",
      "100%|██████████| 5/5 [00:07<00:00,  1.54s/it]\n",
      "100%|██████████| 5/5 [00:07<00:00,  1.57s/it]\n"
     ]
    },
    {
     "name": "stdout",
     "output_type": "stream",
     "text": [
      "Checking accuracy on test data\n",
      "Got 9736 / 10000 with accuracy 97.36%\n",
      "Row: 15 | [0, 0.8901, 0.9192, 0.9348, 0.9441, 0.951, 0.9576, 0.9609, 0.9635, 0.9659, 0.9678, 0.9693, 0.9705, 0.9708, 0.973, 0.9736]\n"
     ]
    },
    {
     "data": {
      "image/png": "[encoded data removed]",
      "text/plain": [
       "<Figure size 640x480 with 1 Axes>"
      ]
     },
     "metadata": {},
     "output_type": "display_data"
    },
    {
     "name": "stdout",
     "output_type": "stream",
     "text": [
      "--- NEW MODEL 6 --- \n",
      "Matrix1.weight\n",
      "<class 'torch.nn.parameter.Parameter'> torch.Size([392, 784])\n",
      "Matrix1.bias\n",
      "<class 'torch.nn.parameter.Parameter'> torch.Size([392])\n",
      "Matrix2.weight\n",
      "<class 'torch.nn.parameter.Parameter'> torch.Size([10, 392])\n",
      "Matrix2.bias\n",
      "<class 'torch.nn.parameter.Parameter'> torch.Size([10])\n"
     ]
    },
    {
     "name": "stderr",
     "output_type": "stream",
     "text": [
      "100%|██████████| 5/5 [00:07<00:00,  1.54s/it]\n",
      "100%|██████████| 5/5 [00:07<00:00,  1.59s/it]\n",
      "100%|██████████| 5/5 [00:07<00:00,  1.57s/it]\n",
      "100%|██████████| 5/5 [00:07<00:00,  1.58s/it]\n",
      "100%|██████████| 5/5 [00:08<00:00,  1.61s/it]\n"
     ]
    },
    {
     "name": "stdout",
     "output_type": "stream",
     "text": [
      "Checking accuracy on test data\n",
      "Got 7476 / 10000 with accuracy 74.76%\n",
      "Row: 1 | [0, 0.7476]\n"
     ]
    },
    {
     "name": "stderr",
     "output_type": "stream",
     "text": [
      "100%|██████████| 5/5 [00:07<00:00,  1.56s/it]\n",
      "100%|██████████| 5/5 [00:07<00:00,  1.57s/it]\n",
      "100%|██████████| 5/5 [00:07<00:00,  1.58s/it]\n",
      "100%|██████████| 5/5 [00:08<00:00,  1.62s/it]\n",
      "100%|██████████| 5/5 [00:08<00:00,  1.60s/it]\n"
     ]
    },
    {
     "name": "stdout",
     "output_type": "stream",
     "text": [
      "Checking accuracy on test data\n",
      "Got 7647 / 10000 with accuracy 76.47%\n",
      "Row: 2 | [0, 0.7476, 0.7647]\n"
     ]
    },
    {
     "name": "stderr",
     "output_type": "stream",
     "text": [
      "100%|██████████| 5/5 [00:07<00:00,  1.59s/it]\n",
      "100%|██████████| 5/5 [00:08<00:00,  1.64s/it]\n",
      "100%|██████████| 5/5 [00:08<00:00,  1.60s/it]\n",
      "100%|██████████| 5/5 [00:07<00:00,  1.59s/it]\n",
      "100%|██████████| 5/5 [00:07<00:00,  1.57s/it]\n"
     ]
    },
    {
     "name": "stdout",
     "output_type": "stream",
     "text": [
      "Checking accuracy on test data\n",
      "Got 7713 / 10000 with accuracy 77.13%\n",
      "Row: 3 | [0, 0.7476, 0.7647, 0.7713]\n"
     ]
    },
    {
     "name": "stderr",
     "output_type": "stream",
     "text": [
      "100%|██████████| 5/5 [00:07<00:00,  1.56s/it]\n",
      "100%|██████████| 5/5 [00:08<00:00,  1.64s/it]\n",
      "100%|██████████| 5/5 [00:07<00:00,  1.59s/it]\n",
      "100%|██████████| 5/5 [00:08<00:00,  1.63s/it]\n",
      "100%|██████████| 5/5 [00:08<00:00,  1.64s/it]\n"
     ]
    },
    {
     "name": "stdout",
     "output_type": "stream",
     "text": [
      "Checking accuracy on test data\n",
      "Got 7785 / 10000 with accuracy 77.85%\n",
      "Row: 4 | [0, 0.7476, 0.7647, 0.7713, 0.7785]\n"
     ]
    },
    {
     "name": "stderr",
     "output_type": "stream",
     "text": [
      "100%|██████████| 5/5 [00:09<00:00,  1.85s/it]\n",
      "100%|██████████| 5/5 [00:08<00:00,  1.72s/it]\n",
      "100%|██████████| 5/5 [00:08<00:00,  1.62s/it]\n",
      "100%|██████████| 5/5 [00:08<00:00,  1.64s/it]\n",
      "100%|██████████| 5/5 [00:07<00:00,  1.57s/it]\n"
     ]
    },
    {
     "name": "stdout",
     "output_type": "stream",
     "text": [
      "Checking accuracy on test data\n",
      "Got 7819 / 10000 with accuracy 78.19%\n",
      "Row: 5 | [0, 0.7476, 0.7647, 0.7713, 0.7785, 0.7819]\n"
     ]
    },
    {
     "name": "stderr",
     "output_type": "stream",
     "text": [
      "100%|██████████| 5/5 [00:07<00:00,  1.58s/it]\n",
      "100%|██████████| 5/5 [00:08<00:00,  1.61s/it]\n",
      "100%|██████████| 5/5 [00:08<00:00,  1.63s/it]\n",
      "100%|██████████| 5/5 [00:07<00:00,  1.57s/it]\n",
      "100%|██████████| 5/5 [00:08<00:00,  1.61s/it]\n"
     ]
    },
    {
     "name": "stdout",
     "output_type": "stream",
     "text": [
      "Checking accuracy on test data\n",
      "Got 7840 / 10000 with accuracy 78.40%\n",
      "Row: 6 | [0, 0.7476, 0.7647, 0.7713, 0.7785, 0.7819, 0.784]\n"
     ]
    },
    {
     "name": "stderr",
     "output_type": "stream",
     "text": [
      "100%|██████████| 5/5 [00:07<00:00,  1.57s/it]\n",
      "100%|██████████| 5/5 [00:08<00:00,  1.61s/it]\n",
      "100%|██████████| 5/5 [00:07<00:00,  1.60s/it]\n",
      "100%|██████████| 5/5 [00:08<00:00,  1.60s/it]\n",
      "100%|██████████| 5/5 [00:07<00:00,  1.56s/it]\n"
     ]
    },
    {
     "name": "stdout",
     "output_type": "stream",
     "text": [
      "Checking accuracy on test data\n",
      "Got 7871 / 10000 with accuracy 78.71%\n",
      "Row: 7 | [0, 0.7476, 0.7647, 0.7713, 0.7785, 0.7819, 0.784, 0.7871]\n"
     ]
    },
    {
     "name": "stderr",
     "output_type": "stream",
     "text": [
      "100%|██████████| 5/5 [00:07<00:00,  1.58s/it]\n",
      "100%|██████████| 5/5 [00:08<00:00,  1.61s/it]\n",
      "100%|██████████| 5/5 [00:07<00:00,  1.58s/it]\n",
      "100%|██████████| 5/5 [00:07<00:00,  1.58s/it]\n",
      "100%|██████████| 5/5 [00:07<00:00,  1.55s/it]\n"
     ]
    },
    {
     "name": "stdout",
     "output_type": "stream",
     "text": [
      "Checking accuracy on test data\n",
      "Got 7888 / 10000 with accuracy 78.88%\n",
      "Row: 8 | [0, 0.7476, 0.7647, 0.7713, 0.7785, 0.7819, 0.784, 0.7871, 0.7888]\n"
     ]
    },
    {
     "name": "stderr",
     "output_type": "stream",
     "text": [
      "100%|██████████| 5/5 [00:07<00:00,  1.59s/it]\n",
      "100%|██████████| 5/5 [00:08<00:00,  1.61s/it]\n",
      "100%|██████████| 5/5 [00:08<00:00,  1.61s/it]\n",
      "100%|██████████| 5/5 [00:07<00:00,  1.57s/it]\n",
      "100%|██████████| 5/5 [00:07<00:00,  1.58s/it]\n"
     ]
    },
    {
     "name": "stdout",
     "output_type": "stream",
     "text": [
      "Checking accuracy on test data\n",
      "Got 7908 / 10000 with accuracy 79.08%\n",
      "Row: 9 | [0, 0.7476, 0.7647, 0.7713, 0.7785, 0.7819, 0.784, 0.7871, 0.7888, 0.7908]\n"
     ]
    },
    {
     "name": "stderr",
     "output_type": "stream",
     "text": [
      "100%|██████████| 5/5 [00:07<00:00,  1.59s/it]\n",
      "100%|██████████| 5/5 [00:07<00:00,  1.57s/it]\n",
      "100%|██████████| 5/5 [00:07<00:00,  1.60s/it]\n",
      "100%|██████████| 5/5 [00:07<00:00,  1.59s/it]\n",
      "100%|██████████| 5/5 [00:07<00:00,  1.58s/it]\n"
     ]
    },
    {
     "name": "stdout",
     "output_type": "stream",
     "text": [
      "Checking accuracy on test data\n",
      "Got 7919 / 10000 with accuracy 79.19%\n",
      "Row: 10 | [0, 0.7476, 0.7647, 0.7713, 0.7785, 0.7819, 0.784, 0.7871, 0.7888, 0.7908, 0.7919]\n"
     ]
    },
    {
     "name": "stderr",
     "output_type": "stream",
     "text": [
      "100%|██████████| 5/5 [00:07<00:00,  1.57s/it]\n",
      "100%|██████████| 5/5 [00:07<00:00,  1.58s/it]\n",
      "100%|██████████| 5/5 [00:08<00:00,  1.62s/it]\n",
      "100%|██████████| 5/5 [00:07<00:00,  1.56s/it]\n",
      "100%|██████████| 5/5 [00:07<00:00,  1.56s/it]\n"
     ]
    },
    {
     "name": "stdout",
     "output_type": "stream",
     "text": [
      "Checking accuracy on test data\n",
      "Got 7954 / 10000 with accuracy 79.54%\n",
      "Row: 11 | [0, 0.7476, 0.7647, 0.7713, 0.7785, 0.7819, 0.784, 0.7871, 0.7888, 0.7908, 0.7919, 0.7954]\n"
     ]
    },
    {
     "name": "stderr",
     "output_type": "stream",
     "text": [
      "100%|██████████| 5/5 [00:08<00:00,  1.61s/it]\n",
      "100%|██████████| 5/5 [00:08<00:00,  1.62s/it]\n",
      "100%|██████████| 5/5 [00:07<00:00,  1.59s/it]\n",
      "100%|██████████| 5/5 [00:07<00:00,  1.55s/it]\n",
      "100%|██████████| 5/5 [00:07<00:00,  1.57s/it]\n"
     ]
    },
    {
     "name": "stdout",
     "output_type": "stream",
     "text": [
      "Checking accuracy on test data\n",
      "Got 8736 / 10000 with accuracy 87.36%\n",
      "Row: 12 | [0, 0.7476, 0.7647, 0.7713, 0.7785, 0.7819, 0.784, 0.7871, 0.7888, 0.7908, 0.7919, 0.7954, 0.8736]\n"
     ]
    },
    {
     "name": "stderr",
     "output_type": "stream",
     "text": [
      "100%|██████████| 5/5 [00:07<00:00,  1.57s/it]\n",
      "100%|██████████| 5/5 [00:07<00:00,  1.59s/it]\n",
      "100%|██████████| 5/5 [00:07<00:00,  1.56s/it]\n",
      "100%|██████████| 5/5 [00:08<00:00,  1.61s/it]\n",
      "100%|██████████| 5/5 [00:07<00:00,  1.59s/it]\n"
     ]
    },
    {
     "name": "stdout",
     "output_type": "stream",
     "text": [
      "Checking accuracy on test data\n",
      "Got 8785 / 10000 with accuracy 87.85%\n",
      "Row: 13 | [0, 0.7476, 0.7647, 0.7713, 0.7785, 0.7819, 0.784, 0.7871, 0.7888, 0.7908, 0.7919, 0.7954, 0.8736, 0.8785]\n"
     ]
    },
    {
     "name": "stderr",
     "output_type": "stream",
     "text": [
      "100%|██████████| 5/5 [00:07<00:00,  1.59s/it]\n",
      "100%|██████████| 5/5 [00:08<00:00,  1.60s/it]\n",
      "100%|██████████| 5/5 [00:07<00:00,  1.58s/it]\n",
      "100%|██████████| 5/5 [00:07<00:00,  1.58s/it]\n",
      "100%|██████████| 5/5 [00:07<00:00,  1.58s/it]\n"
     ]
    },
    {
     "name": "stdout",
     "output_type": "stream",
     "text": [
      "Checking accuracy on test data\n",
      "Got 8790 / 10000 with accuracy 87.90%\n",
      "Row: 14 | [0, 0.7476, 0.7647, 0.7713, 0.7785, 0.7819, 0.784, 0.7871, 0.7888, 0.7908, 0.7919, 0.7954, 0.8736, 0.8785, 0.879]\n"
     ]
    },
    {
     "name": "stderr",
     "output_type": "stream",
     "text": [
      "100%|██████████| 5/5 [00:07<00:00,  1.57s/it]\n",
      "100%|██████████| 5/5 [00:07<00:00,  1.58s/it]\n",
      "100%|██████████| 5/5 [00:07<00:00,  1.57s/it]\n",
      "100%|██████████| 5/5 [00:07<00:00,  1.58s/it]\n",
      "100%|██████████| 5/5 [00:07<00:00,  1.58s/it]\n"
     ]
    },
    {
     "name": "stdout",
     "output_type": "stream",
     "text": [
      "Checking accuracy on test data\n",
      "Got 8807 / 10000 with accuracy 88.07%\n",
      "Row: 15 | [0, 0.7476, 0.7647, 0.7713, 0.7785, 0.7819, 0.784, 0.7871, 0.7888, 0.7908, 0.7919, 0.7954, 0.8736, 0.8785, 0.879, 0.8807]\n"
     ]
    },
    {
     "data": {
      "image/png": "[encoded data removed]",
      "text/plain": [
       "<Figure size 640x480 with 1 Axes>"
      ]
     },
     "metadata": {},
     "output_type": "display_data"
    },
    {
     "name": "stdout",
     "output_type": "stream",
     "text": [
      "--- NEW MODEL 7 --- \n",
      "Matrix1.weight\n",
      "<class 'torch.nn.parameter.Parameter'> torch.Size([392, 784])\n",
      "Matrix1.bias\n",
      "<class 'torch.nn.parameter.Parameter'> torch.Size([392])\n",
      "Matrix2.weight\n",
      "<class 'torch.nn.parameter.Parameter'> torch.Size([10, 392])\n",
      "Matrix2.bias\n",
      "<class 'torch.nn.parameter.Parameter'> torch.Size([10])\n"
     ]
    },
    {
     "name": "stderr",
     "output_type": "stream",
     "text": [
      "100%|██████████| 5/5 [00:07<00:00,  1.56s/it]\n",
      "100%|██████████| 5/5 [00:07<00:00,  1.57s/it]\n",
      "100%|██████████| 5/5 [00:07<00:00,  1.57s/it]\n",
      "100%|██████████| 5/5 [00:07<00:00,  1.57s/it]\n",
      "100%|██████████| 5/5 [00:07<00:00,  1.56s/it]\n"
     ]
    },
    {
     "name": "stdout",
     "output_type": "stream",
     "text": [
      "Checking accuracy on test data\n",
      "Got 8345 / 10000 with accuracy 83.45%\n",
      "Row: 1 | [0, 0.8345]\n"
     ]
    },
    {
     "name": "stderr",
     "output_type": "stream",
     "text": [
      "100%|██████████| 5/5 [00:07<00:00,  1.58s/it]\n",
      "100%|██████████| 5/5 [00:07<00:00,  1.58s/it]\n",
      "100%|██████████| 5/5 [00:07<00:00,  1.55s/it]\n",
      "100%|██████████| 5/5 [00:07<00:00,  1.58s/it]\n",
      "100%|██████████| 5/5 [00:07<00:00,  1.55s/it]\n"
     ]
    },
    {
     "name": "stdout",
     "output_type": "stream",
     "text": [
      "Checking accuracy on test data\n",
      "Got 8949 / 10000 with accuracy 89.49%\n",
      "Row: 2 | [0, 0.8345, 0.8949]\n"
     ]
    },
    {
     "name": "stderr",
     "output_type": "stream",
     "text": [
      "100%|██████████| 5/5 [00:07<00:00,  1.54s/it]\n",
      "100%|██████████| 5/5 [00:07<00:00,  1.56s/it]\n",
      "100%|██████████| 5/5 [00:08<00:00,  1.61s/it]\n",
      "100%|██████████| 5/5 [00:07<00:00,  1.58s/it]\n",
      "100%|██████████| 5/5 [00:07<00:00,  1.54s/it]\n"
     ]
    },
    {
     "name": "stdout",
     "output_type": "stream",
     "text": [
      "Checking accuracy on test data\n",
      "Got 9170 / 10000 with accuracy 91.70%\n",
      "Row: 3 | [0, 0.8345, 0.8949, 0.917]\n"
     ]
    },
    {
     "name": "stderr",
     "output_type": "stream",
     "text": [
      "100%|██████████| 5/5 [00:07<00:00,  1.59s/it]\n",
      "100%|██████████| 5/5 [00:08<00:00,  1.78s/it]\n",
      "100%|██████████| 5/5 [00:08<00:00,  1.62s/it]\n",
      "100%|██████████| 5/5 [00:08<00:00,  1.62s/it]\n",
      "100%|██████████| 5/5 [00:08<00:00,  1.61s/it]\n"
     ]
    },
    {
     "name": "stdout",
     "output_type": "stream",
     "text": [
      "Checking accuracy on test data\n",
      "Got 9293 / 10000 with accuracy 92.93%\n",
      "Row: 4 | [0, 0.8345, 0.8949, 0.917, 0.9293]\n"
     ]
    },
    {
     "name": "stderr",
     "output_type": "stream",
     "text": [
      "100%|██████████| 5/5 [00:08<00:00,  1.61s/it]\n",
      "100%|██████████| 5/5 [00:07<00:00,  1.60s/it]\n",
      "100%|██████████| 5/5 [00:08<00:00,  1.63s/it]\n",
      "100%|██████████| 5/5 [00:08<00:00,  1.62s/it]\n",
      "100%|██████████| 5/5 [00:08<00:00,  1.61s/it]\n"
     ]
    },
    {
     "name": "stdout",
     "output_type": "stream",
     "text": [
      "Checking accuracy on test data\n",
      "Got 9366 / 10000 with accuracy 93.66%\n",
      "Row: 5 | [0, 0.8345, 0.8949, 0.917, 0.9293, 0.9366]\n"
     ]
    },
    {
     "name": "stderr",
     "output_type": "stream",
     "text": [
      "100%|██████████| 5/5 [00:07<00:00,  1.55s/it]\n",
      "100%|██████████| 5/5 [00:08<00:00,  1.63s/it]\n",
      "100%|██████████| 5/5 [00:08<00:00,  1.63s/it]\n",
      "100%|██████████| 5/5 [00:08<00:00,  1.65s/it]\n",
      "100%|██████████| 5/5 [00:08<00:00,  1.67s/it]\n"
     ]
    },
    {
     "name": "stdout",
     "output_type": "stream",
     "text": [
      "Checking accuracy on test data\n",
      "Got 9463 / 10000 with accuracy 94.63%\n",
      "Row: 6 | [0, 0.8345, 0.8949, 0.917, 0.9293, 0.9366, 0.9463]\n"
     ]
    },
    {
     "name": "stderr",
     "output_type": "stream",
     "text": [
      "100%|██████████| 5/5 [00:08<00:00,  1.60s/it]\n",
      "100%|██████████| 5/5 [00:08<00:00,  1.60s/it]\n",
      "100%|██████████| 5/5 [00:08<00:00,  1.62s/it]\n",
      "100%|██████████| 5/5 [00:08<00:00,  1.62s/it]\n",
      "100%|██████████| 5/5 [00:08<00:00,  1.61s/it]\n"
     ]
    },
    {
     "name": "stdout",
     "output_type": "stream",
     "text": [
      "Checking accuracy on test data\n",
      "Got 9512 / 10000 with accuracy 95.12%\n",
      "Row: 7 | [0, 0.8345, 0.8949, 0.917, 0.9293, 0.9366, 0.9463, 0.9512]\n"
     ]
    },
    {
     "name": "stderr",
     "output_type": "stream",
     "text": [
      "100%|██████████| 5/5 [00:07<00:00,  1.59s/it]\n",
      "100%|██████████| 5/5 [00:07<00:00,  1.57s/it]\n",
      "100%|██████████| 5/5 [00:07<00:00,  1.59s/it]\n",
      "100%|██████████| 5/5 [00:07<00:00,  1.60s/it]\n",
      "100%|██████████| 5/5 [00:08<00:00,  1.68s/it]\n"
     ]
    },
    {
     "name": "stdout",
     "output_type": "stream",
     "text": [
      "Checking accuracy on test data\n",
      "Got 9555 / 10000 with accuracy 95.55%\n",
      "Row: 8 | [0, 0.8345, 0.8949, 0.917, 0.9293, 0.9366, 0.9463, 0.9512, 0.9555]\n"
     ]
    },
    {
     "name": "stderr",
     "output_type": "stream",
     "text": [
      "100%|██████████| 5/5 [00:07<00:00,  1.59s/it]\n",
      "100%|██████████| 5/5 [00:08<00:00,  1.71s/it]\n",
      "100%|██████████| 5/5 [00:08<00:00,  1.64s/it]\n",
      "100%|██████████| 5/5 [00:07<00:00,  1.60s/it]\n",
      "100%|██████████| 5/5 [00:07<00:00,  1.59s/it]\n"
     ]
    },
    {
     "name": "stdout",
     "output_type": "stream",
     "text": [
      "Checking accuracy on test data\n",
      "Got 9581 / 10000 with accuracy 95.81%\n",
      "Row: 9 | [0, 0.8345, 0.8949, 0.917, 0.9293, 0.9366, 0.9463, 0.9512, 0.9555, 0.9581]\n"
     ]
    },
    {
     "name": "stderr",
     "output_type": "stream",
     "text": [
      "100%|██████████| 5/5 [00:08<00:00,  1.61s/it]\n",
      "100%|██████████| 5/5 [00:08<00:00,  1.63s/it]\n",
      "100%|██████████| 5/5 [00:07<00:00,  1.57s/it]\n",
      "100%|██████████| 5/5 [00:08<00:00,  1.61s/it]\n",
      "100%|██████████| 5/5 [00:08<00:00,  1.63s/it]\n"
     ]
    },
    {
     "name": "stdout",
     "output_type": "stream",
     "text": [
      "Checking accuracy on test data\n",
      "Got 9612 / 10000 with accuracy 96.12%\n",
      "Row: 10 | [0, 0.8345, 0.8949, 0.917, 0.9293, 0.9366, 0.9463, 0.9512, 0.9555, 0.9581, 0.9612]\n"
     ]
    },
    {
     "name": "stderr",
     "output_type": "stream",
     "text": [
      "100%|██████████| 5/5 [00:07<00:00,  1.59s/it]\n",
      "100%|██████████| 5/5 [00:08<00:00,  1.61s/it]\n",
      "100%|██████████| 5/5 [00:08<00:00,  1.62s/it]\n",
      "100%|██████████| 5/5 [00:08<00:00,  1.63s/it]\n",
      "100%|██████████| 5/5 [00:08<00:00,  1.63s/it]\n"
     ]
    },
    {
     "name": "stdout",
     "output_type": "stream",
     "text": [
      "Checking accuracy on test data\n",
      "Got 9624 / 10000 with accuracy 96.24%\n",
      "Row: 11 | [0, 0.8345, 0.8949, 0.917, 0.9293, 0.9366, 0.9463, 0.9512, 0.9555, 0.9581, 0.9612, 0.9624]\n"
     ]
    },
    {
     "name": "stderr",
     "output_type": "stream",
     "text": [
      "100%|██████████| 5/5 [00:08<00:00,  1.61s/it]\n",
      "100%|██████████| 5/5 [00:08<00:00,  1.62s/it]\n",
      "100%|██████████| 5/5 [00:07<00:00,  1.59s/it]\n",
      "100%|██████████| 5/5 [00:07<00:00,  1.57s/it]\n",
      "100%|██████████| 5/5 [00:07<00:00,  1.59s/it]\n"
     ]
    },
    {
     "name": "stdout",
     "output_type": "stream",
     "text": [
      "Checking accuracy on test data\n",
      "Got 9654 / 10000 with accuracy 96.54%\n",
      "Row: 12 | [0, 0.8345, 0.8949, 0.917, 0.9293, 0.9366, 0.9463, 0.9512, 0.9555, 0.9581, 0.9612, 0.9624, 0.9654]\n"
     ]
    },
    {
     "name": "stderr",
     "output_type": "stream",
     "text": [
      "100%|██████████| 5/5 [00:07<00:00,  1.58s/it]\n",
      "100%|██████████| 5/5 [00:07<00:00,  1.58s/it]\n",
      "100%|██████████| 5/5 [00:07<00:00,  1.60s/it]\n",
      "100%|██████████| 5/5 [00:08<00:00,  1.60s/it]\n",
      "100%|██████████| 5/5 [00:07<00:00,  1.60s/it]\n"
     ]
    },
    {
     "name": "stdout",
     "output_type": "stream",
     "text": [
      "Checking accuracy on test data\n",
      "Got 9666 / 10000 with accuracy 96.66%\n",
      "Row: 13 | [0, 0.8345, 0.8949, 0.917, 0.9293, 0.9366, 0.9463, 0.9512, 0.9555, 0.9581, 0.9612, 0.9624, 0.9654, 0.9666]\n"
     ]
    },
    {
     "name": "stderr",
     "output_type": "stream",
     "text": [
      "100%|██████████| 5/5 [00:08<00:00,  1.65s/it]\n",
      "100%|██████████| 5/5 [00:07<00:00,  1.58s/it]\n",
      "100%|██████████| 5/5 [00:07<00:00,  1.58s/it]\n",
      "100%|██████████| 5/5 [00:08<00:00,  1.61s/it]\n",
      "100%|██████████| 5/5 [00:07<00:00,  1.60s/it]\n"
     ]
    },
    {
     "name": "stdout",
     "output_type": "stream",
     "text": [
      "Checking accuracy on test data\n",
      "Got 9667 / 10000 with accuracy 96.67%\n",
      "Row: 14 | [0, 0.8345, 0.8949, 0.917, 0.9293, 0.9366, 0.9463, 0.9512, 0.9555, 0.9581, 0.9612, 0.9624, 0.9654, 0.9666, 0.9667]\n"
     ]
    },
    {
     "name": "stderr",
     "output_type": "stream",
     "text": [
      "100%|██████████| 5/5 [00:08<00:00,  1.61s/it]\n",
      "100%|██████████| 5/5 [00:08<00:00,  1.63s/it]\n",
      "100%|██████████| 5/5 [00:08<00:00,  1.60s/it]\n",
      "100%|██████████| 5/5 [00:08<00:00,  1.61s/it]\n",
      "100%|██████████| 5/5 [00:07<00:00,  1.60s/it]\n"
     ]
    },
    {
     "name": "stdout",
     "output_type": "stream",
     "text": [
      "Checking accuracy on test data\n",
      "Got 9673 / 10000 with accuracy 96.73%\n",
      "Row: 15 | [0, 0.8345, 0.8949, 0.917, 0.9293, 0.9366, 0.9463, 0.9512, 0.9555, 0.9581, 0.9612, 0.9624, 0.9654, 0.9666, 0.9667, 0.9673]\n"
     ]
    },
    {
     "data": {
      "image/png": "[encoded data removed]",
      "text/plain": [
       "<Figure size 640x480 with 1 Axes>"
      ]
     },
     "metadata": {},
     "output_type": "display_data"
    },
    {
     "name": "stdout",
     "output_type": "stream",
     "text": [
      "--- NEW MODEL 8 --- \n",
      "Matrix1.weight\n",
      "<class 'torch.nn.parameter.Parameter'> torch.Size([392, 784])\n",
      "Matrix1.bias\n",
      "<class 'torch.nn.parameter.Parameter'> torch.Size([392])\n",
      "Matrix2.weight\n",
      "<class 'torch.nn.parameter.Parameter'> torch.Size([10, 392])\n",
      "Matrix2.bias\n",
      "<class 'torch.nn.parameter.Parameter'> torch.Size([10])\n"
     ]
    },
    {
     "name": "stderr",
     "output_type": "stream",
     "text": [
      "100%|██████████| 5/5 [00:08<00:00,  1.63s/it]\n",
      "100%|██████████| 5/5 [00:07<00:00,  1.59s/it]\n",
      "100%|██████████| 5/5 [00:08<00:00,  1.61s/it]\n",
      "100%|██████████| 5/5 [00:08<00:00,  1.62s/it]\n",
      "100%|██████████| 5/5 [00:07<00:00,  1.59s/it]\n"
     ]
    },
    {
     "name": "stdout",
     "output_type": "stream",
     "text": [
      "Checking accuracy on test data\n",
      "Got 8032 / 10000 with accuracy 80.32%\n",
      "Row: 1 | [0, 0.8032]\n"
     ]
    },
    {
     "name": "stderr",
     "output_type": "stream",
     "text": [
      "100%|██████████| 5/5 [00:08<00:00,  1.60s/it]\n",
      "100%|██████████| 5/5 [00:07<00:00,  1.59s/it]\n",
      "100%|██████████| 5/5 [00:07<00:00,  1.59s/it]\n",
      "100%|██████████| 5/5 [00:08<00:00,  1.61s/it]\n",
      "100%|██████████| 5/5 [00:08<00:00,  1.63s/it]\n"
     ]
    },
    {
     "name": "stdout",
     "output_type": "stream",
     "text": [
      "Checking accuracy on test data\n",
      "Got 8336 / 10000 with accuracy 83.36%\n",
      "Row: 2 | [0, 0.8032, 0.8336]\n"
     ]
    },
    {
     "name": "stderr",
     "output_type": "stream",
     "text": [
      "100%|██████████| 5/5 [00:07<00:00,  1.57s/it]\n",
      "100%|██████████| 5/5 [00:08<00:00,  1.60s/it]\n",
      "100%|██████████| 5/5 [00:08<00:00,  1.64s/it]\n",
      "100%|██████████| 5/5 [00:07<00:00,  1.59s/it]\n",
      "100%|██████████| 5/5 [00:07<00:00,  1.58s/it]\n"
     ]
    },
    {
     "name": "stdout",
     "output_type": "stream",
     "text": [
      "Checking accuracy on test data\n",
      "Got 8450 / 10000 with accuracy 84.50%\n",
      "Row: 3 | [0, 0.8032, 0.8336, 0.845]\n"
     ]
    },
    {
     "name": "stderr",
     "output_type": "stream",
     "text": [
      "100%|██████████| 5/5 [00:07<00:00,  1.58s/it]\n",
      "100%|██████████| 5/5 [00:07<00:00,  1.55s/it]\n",
      "100%|██████████| 5/5 [00:07<00:00,  1.59s/it]\n",
      "100%|██████████| 5/5 [00:08<00:00,  1.63s/it]\n",
      "100%|██████████| 5/5 [00:07<00:00,  1.57s/it]\n"
     ]
    },
    {
     "name": "stdout",
     "output_type": "stream",
     "text": [
      "Checking accuracy on test data\n",
      "Got 8533 / 10000 with accuracy 85.33%\n",
      "Row: 4 | [0, 0.8032, 0.8336, 0.845, 0.8533]\n"
     ]
    },
    {
     "name": "stderr",
     "output_type": "stream",
     "text": [
      "100%|██████████| 5/5 [00:07<00:00,  1.55s/it]\n",
      "100%|██████████| 5/5 [00:07<00:00,  1.57s/it]\n",
      "100%|██████████| 5/5 [00:07<00:00,  1.60s/it]\n",
      "100%|██████████| 5/5 [00:08<00:00,  1.62s/it]\n",
      "100%|██████████| 5/5 [00:07<00:00,  1.57s/it]\n"
     ]
    },
    {
     "name": "stdout",
     "output_type": "stream",
     "text": [
      "Checking accuracy on test data\n",
      "Got 8600 / 10000 with accuracy 86.00%\n",
      "Row: 5 | [0, 0.8032, 0.8336, 0.845, 0.8533, 0.86]\n"
     ]
    },
    {
     "name": "stderr",
     "output_type": "stream",
     "text": [
      "100%|██████████| 5/5 [00:07<00:00,  1.57s/it]\n",
      "100%|██████████| 5/5 [00:08<00:00,  1.64s/it]\n",
      "100%|██████████| 5/5 [00:08<00:00,  1.62s/it]\n",
      "100%|██████████| 5/5 [00:08<00:00,  1.61s/it]\n",
      "100%|██████████| 5/5 [00:07<00:00,  1.58s/it]\n"
     ]
    },
    {
     "name": "stdout",
     "output_type": "stream",
     "text": [
      "Checking accuracy on test data\n",
      "Got 8641 / 10000 with accuracy 86.41%\n",
      "Row: 6 | [0, 0.8032, 0.8336, 0.845, 0.8533, 0.86, 0.8641]\n"
     ]
    },
    {
     "name": "stderr",
     "output_type": "stream",
     "text": [
      "100%|██████████| 5/5 [00:07<00:00,  1.59s/it]\n",
      "100%|██████████| 5/5 [00:08<00:00,  1.61s/it]\n",
      "100%|██████████| 5/5 [00:07<00:00,  1.58s/it]\n",
      "100%|██████████| 5/5 [00:07<00:00,  1.57s/it]\n",
      "100%|██████████| 5/5 [00:08<00:00,  1.60s/it]\n"
     ]
    },
    {
     "name": "stdout",
     "output_type": "stream",
     "text": [
      "Checking accuracy on test data\n",
      "Got 8667 / 10000 with accuracy 86.67%\n",
      "Row: 7 | [0, 0.8032, 0.8336, 0.845, 0.8533, 0.86, 0.8641, 0.8667]\n"
     ]
    },
    {
     "name": "stderr",
     "output_type": "stream",
     "text": [
      "100%|██████████| 5/5 [00:07<00:00,  1.58s/it]\n",
      "100%|██████████| 5/5 [00:08<00:00,  1.61s/it]\n",
      "100%|██████████| 5/5 [00:07<00:00,  1.58s/it]\n",
      "100%|██████████| 5/5 [00:07<00:00,  1.59s/it]\n",
      "100%|██████████| 5/5 [00:08<00:00,  1.60s/it]\n"
     ]
    },
    {
     "name": "stdout",
     "output_type": "stream",
     "text": [
      "Checking accuracy on test data\n",
      "Got 8685 / 10000 with accuracy 86.85%\n",
      "Row: 8 | [0, 0.8032, 0.8336, 0.845, 0.8533, 0.86, 0.8641, 0.8667, 0.8685]\n"
     ]
    },
    {
     "name": "stderr",
     "output_type": "stream",
     "text": [
      "100%|██████████| 5/5 [00:07<00:00,  1.57s/it]\n",
      "100%|██████████| 5/5 [00:08<00:00,  1.62s/it]\n",
      "100%|██████████| 5/5 [00:08<00:00,  1.62s/it]\n",
      "100%|██████████| 5/5 [00:07<00:00,  1.58s/it]\n",
      "100%|██████████| 5/5 [00:08<00:00,  1.62s/it]\n"
     ]
    },
    {
     "name": "stdout",
     "output_type": "stream",
     "text": [
      "Checking accuracy on test data\n",
      "Got 8709 / 10000 with accuracy 87.09%\n",
      "Row: 9 | [0, 0.8032, 0.8336, 0.845, 0.8533, 0.86, 0.8641, 0.8667, 0.8685, 0.8709]\n"
     ]
    },
    {
     "name": "stderr",
     "output_type": "stream",
     "text": [
      "100%|██████████| 5/5 [00:07<00:00,  1.59s/it]\n",
      "100%|██████████| 5/5 [00:08<00:00,  1.61s/it]\n",
      "100%|██████████| 5/5 [00:07<00:00,  1.59s/it]\n",
      "100%|██████████| 5/5 [00:07<00:00,  1.56s/it]\n",
      "100%|██████████| 5/5 [00:07<00:00,  1.59s/it]\n"
     ]
    },
    {
     "name": "stdout",
     "output_type": "stream",
     "text": [
      "Checking accuracy on test data\n",
      "Got 8721 / 10000 with accuracy 87.21%\n",
      "Row: 10 | [0, 0.8032, 0.8336, 0.845, 0.8533, 0.86, 0.8641, 0.8667, 0.8685, 0.8709, 0.8721]\n"
     ]
    },
    {
     "name": "stderr",
     "output_type": "stream",
     "text": [
      "100%|██████████| 5/5 [00:07<00:00,  1.58s/it]\n",
      "100%|██████████| 5/5 [00:07<00:00,  1.59s/it]\n",
      "100%|██████████| 5/5 [00:07<00:00,  1.58s/it]\n",
      "100%|██████████| 5/5 [00:08<00:00,  1.60s/it]\n",
      "100%|██████████| 5/5 [00:07<00:00,  1.57s/it]\n"
     ]
    },
    {
     "name": "stdout",
     "output_type": "stream",
     "text": [
      "Checking accuracy on test data\n",
      "Got 8735 / 10000 with accuracy 87.35%\n",
      "Row: 11 | [0, 0.8032, 0.8336, 0.845, 0.8533, 0.86, 0.8641, 0.8667, 0.8685, 0.8709, 0.8721, 0.8735]\n"
     ]
    },
    {
     "name": "stderr",
     "output_type": "stream",
     "text": [
      "100%|██████████| 5/5 [00:08<00:00,  1.61s/it]\n",
      "100%|██████████| 5/5 [00:08<00:00,  1.60s/it]\n",
      "100%|██████████| 5/5 [00:07<00:00,  1.60s/it]\n",
      "100%|██████████| 5/5 [00:08<00:00,  1.61s/it]\n",
      "100%|██████████| 5/5 [00:08<00:00,  1.62s/it]\n"
     ]
    },
    {
     "name": "stdout",
     "output_type": "stream",
     "text": [
      "Checking accuracy on test data\n",
      "Got 8746 / 10000 with accuracy 87.46%\n",
      "Row: 12 | [0, 0.8032, 0.8336, 0.845, 0.8533, 0.86, 0.8641, 0.8667, 0.8685, 0.8709, 0.8721, 0.8735, 0.8746]\n"
     ]
    },
    {
     "name": "stderr",
     "output_type": "stream",
     "text": [
      "100%|██████████| 5/5 [00:08<00:00,  1.60s/it]\n",
      "100%|██████████| 5/5 [00:07<00:00,  1.58s/it]\n",
      "100%|██████████| 5/5 [00:08<00:00,  1.64s/it]\n",
      "100%|██████████| 5/5 [00:08<00:00,  1.62s/it]\n",
      "100%|██████████| 5/5 [00:08<00:00,  1.60s/it]\n"
     ]
    },
    {
     "name": "stdout",
     "output_type": "stream",
     "text": [
      "Checking accuracy on test data\n",
      "Got 8763 / 10000 with accuracy 87.63%\n",
      "Row: 13 | [0, 0.8032, 0.8336, 0.845, 0.8533, 0.86, 0.8641, 0.8667, 0.8685, 0.8709, 0.8721, 0.8735, 0.8746, 0.8763]\n"
     ]
    },
    {
     "name": "stderr",
     "output_type": "stream",
     "text": [
      "100%|██████████| 5/5 [00:07<00:00,  1.59s/it]\n",
      "100%|██████████| 5/5 [00:08<00:00,  1.60s/it]\n",
      "100%|██████████| 5/5 [00:07<00:00,  1.56s/it]\n",
      "100%|██████████| 5/5 [00:08<00:00,  1.60s/it]\n",
      "100%|██████████| 5/5 [00:08<00:00,  1.62s/it]\n"
     ]
    },
    {
     "name": "stdout",
     "output_type": "stream",
     "text": [
      "Checking accuracy on test data\n",
      "Got 8772 / 10000 with accuracy 87.72%\n",
      "Row: 14 | [0, 0.8032, 0.8336, 0.845, 0.8533, 0.86, 0.8641, 0.8667, 0.8685, 0.8709, 0.8721, 0.8735, 0.8746, 0.8763, 0.8772]\n"
     ]
    },
    {
     "name": "stderr",
     "output_type": "stream",
     "text": [
      "100%|██████████| 5/5 [00:07<00:00,  1.57s/it]\n",
      "100%|██████████| 5/5 [00:07<00:00,  1.59s/it]\n",
      "100%|██████████| 5/5 [00:07<00:00,  1.60s/it]\n",
      "100%|██████████| 5/5 [00:08<00:00,  1.60s/it]\n",
      "100%|██████████| 5/5 [00:08<00:00,  1.60s/it]\n"
     ]
    },
    {
     "name": "stdout",
     "output_type": "stream",
     "text": [
      "Checking accuracy on test data\n",
      "Got 8782 / 10000 with accuracy 87.82%\n",
      "Row: 15 | [0, 0.8032, 0.8336, 0.845, 0.8533, 0.86, 0.8641, 0.8667, 0.8685, 0.8709, 0.8721, 0.8735, 0.8746, 0.8763, 0.8772, 0.8782]\n"
     ]
    },
    {
     "data": {
      "image/png": "[encoded data removed]",
      "text/plain": [
       "<Figure size 640x480 with 1 Axes>"
      ]
     },
     "metadata": {},
     "output_type": "display_data"
    },
    {
     "name": "stdout",
     "output_type": "stream",
     "text": [
      "--- NEW MODEL 9 --- \n",
      "Matrix1.weight\n",
      "<class 'torch.nn.parameter.Parameter'> torch.Size([392, 784])\n",
      "Matrix1.bias\n",
      "<class 'torch.nn.parameter.Parameter'> torch.Size([392])\n",
      "Matrix2.weight\n",
      "<class 'torch.nn.parameter.Parameter'> torch.Size([10, 392])\n",
      "Matrix2.bias\n",
      "<class 'torch.nn.parameter.Parameter'> torch.Size([10])\n"
     ]
    },
    {
     "name": "stderr",
     "output_type": "stream",
     "text": [
      "100%|██████████| 5/5 [00:08<00:00,  1.60s/it]\n",
      "100%|██████████| 5/5 [00:08<00:00,  1.62s/it]\n",
      "100%|██████████| 5/5 [00:07<00:00,  1.59s/it]\n",
      "100%|██████████| 5/5 [00:08<00:00,  1.66s/it]\n",
      "100%|██████████| 5/5 [00:08<00:00,  1.64s/it]\n"
     ]
    },
    {
     "name": "stdout",
     "output_type": "stream",
     "text": [
      "Checking accuracy on test data\n",
      "Got 7333 / 10000 with accuracy 73.33%\n",
      "Row: 1 | [0, 0.7333]\n"
     ]
    },
    {
     "name": "stderr",
     "output_type": "stream",
     "text": [
      "100%|██████████| 5/5 [00:08<00:00,  1.61s/it]\n",
      "100%|██████████| 5/5 [00:07<00:00,  1.58s/it]\n",
      "100%|██████████| 5/5 [00:07<00:00,  1.60s/it]\n",
      "100%|██████████| 5/5 [00:08<00:00,  1.60s/it]\n",
      "100%|██████████| 5/5 [00:08<00:00,  1.62s/it]\n"
     ]
    },
    {
     "name": "stdout",
     "output_type": "stream",
     "text": [
      "Checking accuracy on test data\n",
      "Got 7519 / 10000 with accuracy 75.19%\n",
      "Row: 2 | [0, 0.7333, 0.7519]\n"
     ]
    },
    {
     "name": "stderr",
     "output_type": "stream",
     "text": [
      "100%|██████████| 5/5 [00:08<00:00,  1.61s/it]\n",
      "100%|██████████| 5/5 [00:07<00:00,  1.59s/it]\n",
      "100%|██████████| 5/5 [00:07<00:00,  1.57s/it]\n",
      "100%|██████████| 5/5 [00:07<00:00,  1.59s/it]\n",
      "100%|██████████| 5/5 [00:08<00:00,  1.61s/it]\n"
     ]
    },
    {
     "name": "stdout",
     "output_type": "stream",
     "text": [
      "Checking accuracy on test data\n",
      "Got 7606 / 10000 with accuracy 76.06%\n",
      "Row: 3 | [0, 0.7333, 0.7519, 0.7606]\n"
     ]
    },
    {
     "name": "stderr",
     "output_type": "stream",
     "text": [
      "100%|██████████| 5/5 [00:07<00:00,  1.58s/it]\n",
      "100%|██████████| 5/5 [00:07<00:00,  1.58s/it]\n",
      "100%|██████████| 5/5 [00:07<00:00,  1.59s/it]\n",
      "100%|██████████| 5/5 [00:07<00:00,  1.58s/it]\n",
      "100%|██████████| 5/5 [00:08<00:00,  1.60s/it]\n"
     ]
    },
    {
     "name": "stdout",
     "output_type": "stream",
     "text": [
      "Checking accuracy on test data\n",
      "Got 7657 / 10000 with accuracy 76.57%\n",
      "Row: 4 | [0, 0.7333, 0.7519, 0.7606, 0.7657]\n"
     ]
    },
    {
     "name": "stderr",
     "output_type": "stream",
     "text": [
      "100%|██████████| 5/5 [00:08<00:00,  1.60s/it]\n",
      "100%|██████████| 5/5 [00:08<00:00,  1.61s/it]\n",
      "100%|██████████| 5/5 [00:07<00:00,  1.60s/it]\n",
      "100%|██████████| 5/5 [00:08<00:00,  1.63s/it]\n",
      "100%|██████████| 5/5 [00:07<00:00,  1.60s/it]\n"
     ]
    },
    {
     "name": "stdout",
     "output_type": "stream",
     "text": [
      "Checking accuracy on test data\n",
      "Got 7693 / 10000 with accuracy 76.93%\n",
      "Row: 5 | [0, 0.7333, 0.7519, 0.7606, 0.7657, 0.7693]\n"
     ]
    },
    {
     "name": "stderr",
     "output_type": "stream",
     "text": [
      "100%|██████████| 5/5 [00:07<00:00,  1.59s/it]\n",
      "100%|██████████| 5/5 [00:08<00:00,  1.61s/it]\n",
      "100%|██████████| 5/5 [00:08<00:00,  1.66s/it]\n",
      "100%|██████████| 5/5 [00:08<00:00,  1.71s/it]\n",
      "100%|██████████| 5/5 [00:08<00:00,  1.70s/it]\n"
     ]
    },
    {
     "name": "stdout",
     "output_type": "stream",
     "text": [
      "Checking accuracy on test data\n",
      "Got 7728 / 10000 with accuracy 77.28%\n",
      "Row: 6 | [0, 0.7333, 0.7519, 0.7606, 0.7657, 0.7693, 0.7728]\n"
     ]
    },
    {
     "name": "stderr",
     "output_type": "stream",
     "text": [
      "100%|██████████| 5/5 [00:08<00:00,  1.65s/it]\n",
      "100%|██████████| 5/5 [00:08<00:00,  1.62s/it]\n",
      "100%|██████████| 5/5 [00:08<00:00,  1.64s/it]\n",
      "100%|██████████| 5/5 [00:08<00:00,  1.65s/it]\n",
      "100%|██████████| 5/5 [00:08<00:00,  1.65s/it]\n"
     ]
    },
    {
     "name": "stdout",
     "output_type": "stream",
     "text": [
      "Checking accuracy on test data\n",
      "Got 7758 / 10000 with accuracy 77.58%\n",
      "Row: 7 | [0, 0.7333, 0.7519, 0.7606, 0.7657, 0.7693, 0.7728, 0.7758]\n"
     ]
    },
    {
     "name": "stderr",
     "output_type": "stream",
     "text": [
      "100%|██████████| 5/5 [00:07<00:00,  1.58s/it]\n",
      "100%|██████████| 5/5 [00:08<00:00,  1.64s/it]\n",
      "100%|██████████| 5/5 [00:08<00:00,  1.62s/it]\n",
      "100%|██████████| 5/5 [00:08<00:00,  1.61s/it]\n",
      "100%|██████████| 5/5 [00:07<00:00,  1.60s/it]\n"
     ]
    },
    {
     "name": "stdout",
     "output_type": "stream",
     "text": [
      "Checking accuracy on test data\n",
      "Got 7776 / 10000 with accuracy 77.76%\n",
      "Row: 8 | [0, 0.7333, 0.7519, 0.7606, 0.7657, 0.7693, 0.7728, 0.7758, 0.7776]\n"
     ]
    },
    {
     "name": "stderr",
     "output_type": "stream",
     "text": [
      "100%|██████████| 5/5 [00:07<00:00,  1.56s/it]\n",
      "100%|██████████| 5/5 [00:08<00:00,  1.73s/it]\n",
      "100%|██████████| 5/5 [00:08<00:00,  1.79s/it]\n",
      "100%|██████████| 5/5 [00:08<00:00,  1.72s/it]\n",
      "100%|██████████| 5/5 [00:08<00:00,  1.69s/it]\n"
     ]
    },
    {
     "name": "stdout",
     "output_type": "stream",
     "text": [
      "Checking accuracy on test data\n",
      "Got 7796 / 10000 with accuracy 77.96%\n",
      "Row: 9 | [0, 0.7333, 0.7519, 0.7606, 0.7657, 0.7693, 0.7728, 0.7758, 0.7776, 0.7796]\n"
     ]
    },
    {
     "name": "stderr",
     "output_type": "stream",
     "text": [
      "100%|██████████| 5/5 [00:08<00:00,  1.71s/it]\n",
      "100%|██████████| 5/5 [00:08<00:00,  1.71s/it]\n",
      "100%|██████████| 5/5 [00:08<00:00,  1.73s/it]\n",
      "100%|██████████| 5/5 [00:08<00:00,  1.71s/it]\n",
      "100%|██████████| 5/5 [00:08<00:00,  1.69s/it]\n"
     ]
    },
    {
     "name": "stdout",
     "output_type": "stream",
     "text": [
      "Checking accuracy on test data\n",
      "Got 7805 / 10000 with accuracy 78.05%\n",
      "Row: 10 | [0, 0.7333, 0.7519, 0.7606, 0.7657, 0.7693, 0.7728, 0.7758, 0.7776, 0.7796, 0.7805]\n"
     ]
    },
    {
     "name": "stderr",
     "output_type": "stream",
     "text": [
      "100%|██████████| 5/5 [00:08<00:00,  1.70s/it]\n",
      "100%|██████████| 5/5 [00:08<00:00,  1.72s/it]\n",
      "100%|██████████| 5/5 [00:08<00:00,  1.69s/it]\n",
      "100%|██████████| 5/5 [00:08<00:00,  1.70s/it]\n",
      "100%|██████████| 5/5 [00:08<00:00,  1.72s/it]\n"
     ]
    },
    {
     "name": "stdout",
     "output_type": "stream",
     "text": [
      "Checking accuracy on test data\n",
      "Got 7815 / 10000 with accuracy 78.15%\n",
      "Row: 11 | [0, 0.7333, 0.7519, 0.7606, 0.7657, 0.7693, 0.7728, 0.7758, 0.7776, 0.7796, 0.7805, 0.7815]\n"
     ]
    },
    {
     "name": "stderr",
     "output_type": "stream",
     "text": [
      "100%|██████████| 5/5 [00:08<00:00,  1.70s/it]\n",
      "100%|██████████| 5/5 [00:08<00:00,  1.74s/it]\n",
      "100%|██████████| 5/5 [00:08<00:00,  1.75s/it]\n",
      "100%|██████████| 5/5 [00:08<00:00,  1.70s/it]\n",
      "100%|██████████| 5/5 [00:08<00:00,  1.74s/it]\n"
     ]
    },
    {
     "name": "stdout",
     "output_type": "stream",
     "text": [
      "Checking accuracy on test data\n",
      "Got 7828 / 10000 with accuracy 78.28%\n",
      "Row: 12 | [0, 0.7333, 0.7519, 0.7606, 0.7657, 0.7693, 0.7728, 0.7758, 0.7776, 0.7796, 0.7805, 0.7815, 0.7828]\n"
     ]
    },
    {
     "name": "stderr",
     "output_type": "stream",
     "text": [
      "100%|██████████| 5/5 [00:08<00:00,  1.64s/it]\n",
      "100%|██████████| 5/5 [00:08<00:00,  1.74s/it]\n",
      "100%|██████████| 5/5 [00:08<00:00,  1.73s/it]\n",
      "100%|██████████| 5/5 [00:08<00:00,  1.78s/it]\n",
      "100%|██████████| 5/5 [00:08<00:00,  1.76s/it]\n"
     ]
    },
    {
     "name": "stdout",
     "output_type": "stream",
     "text": [
      "Checking accuracy on test data\n",
      "Got 7835 / 10000 with accuracy 78.35%\n",
      "Row: 13 | [0, 0.7333, 0.7519, 0.7606, 0.7657, 0.7693, 0.7728, 0.7758, 0.7776, 0.7796, 0.7805, 0.7815, 0.7828, 0.7835]\n"
     ]
    },
    {
     "name": "stderr",
     "output_type": "stream",
     "text": [
      "100%|██████████| 5/5 [00:08<00:00,  1.73s/it]\n",
      "100%|██████████| 5/5 [00:08<00:00,  1.74s/it]\n",
      "100%|██████████| 5/5 [00:08<00:00,  1.70s/it]\n",
      "100%|██████████| 5/5 [00:08<00:00,  1.73s/it]\n",
      "100%|██████████| 5/5 [00:08<00:00,  1.77s/it]\n"
     ]
    },
    {
     "name": "stdout",
     "output_type": "stream",
     "text": [
      "Checking accuracy on test data\n",
      "Got 7843 / 10000 with accuracy 78.43%\n",
      "Row: 14 | [0, 0.7333, 0.7519, 0.7606, 0.7657, 0.7693, 0.7728, 0.7758, 0.7776, 0.7796, 0.7805, 0.7815, 0.7828, 0.7835, 0.7843]\n"
     ]
    },
    {
     "name": "stderr",
     "output_type": "stream",
     "text": [
      "100%|██████████| 5/5 [00:08<00:00,  1.71s/it]\n",
      "100%|██████████| 5/5 [00:08<00:00,  1.70s/it]\n",
      "100%|██████████| 5/5 [00:08<00:00,  1.77s/it]\n",
      "100%|██████████| 5/5 [00:08<00:00,  1.79s/it]\n",
      "100%|██████████| 5/5 [00:09<00:00,  1.81s/it]\n"
     ]
    },
    {
     "name": "stdout",
     "output_type": "stream",
     "text": [
      "Checking accuracy on test data\n",
      "Got 7842 / 10000 with accuracy 78.42%\n",
      "Row: 15 | [0, 0.7333, 0.7519, 0.7606, 0.7657, 0.7693, 0.7728, 0.7758, 0.7776, 0.7796, 0.7805, 0.7815, 0.7828, 0.7835, 0.7843, 0.7842]\n"
     ]
    },
    {
     "data": {
      "image/png": "[encoded data removed]",
      "text/plain": [
       "<Figure size 640x480 with 1 Axes>"
      ]
     },
     "metadata": {},
     "output_type": "display_data"
    },
    {
     "name": "stdout",
     "output_type": "stream",
     "text": [
      "Test 0: [0, 0.7862, 0.8148, 0.8284, 0.8355, 0.841, 0.8473, 0.8514, 0.8543, 0.8566, 0.8586, 0.8604, 0.8607, 0.8631, 0.8636, 0.8642]\n",
      "Test 1: [0, 0.739, 0.7536, 0.7632, 0.7699, 0.7731, 0.7765, 0.7798, 0.7823, 0.7831, 0.7843, 0.7858, 0.7863, 0.7871, 0.7876, 0.7883]\n",
      "Test 2: [0, 0.7088, 0.727, 0.7402, 0.747, 0.7518, 0.7555, 0.7585, 0.7606, 0.7627, 0.7639, 0.7646, 0.7656, 0.7663, 0.7674, 0.7676]\n",
      "Test 3: [0, 0.8057, 0.8366, 0.8483, 0.857, 0.8642, 0.8679, 0.872, 0.8756, 0.8776, 0.8789, 0.8805, 0.8807, 0.8815, 0.8832, 0.8835]\n",
      "Test 4: [0, 0.6309, 0.6432, 0.6498, 0.6538, 0.6574, 0.6602, 0.6624, 0.663, 0.6645, 0.6658, 0.6671, 0.6678, 0.6677, 0.6679, 0.6683]\n",
      "Test 5: [0, 0.8901, 0.9192, 0.9348, 0.9441, 0.951, 0.9576, 0.9609, 0.9635, 0.9659, 0.9678, 0.9693, 0.9705, 0.9708, 0.973, 0.9736]\n",
      "Test 6: [0, 0.7476, 0.7647, 0.7713, 0.7785, 0.7819, 0.784, 0.7871, 0.7888, 0.7908, 0.7919, 0.7954, 0.8736, 0.8785, 0.879, 0.8807]\n",
      "Test 7: [0, 0.8345, 0.8949, 0.917, 0.9293, 0.9366, 0.9463, 0.9512, 0.9555, 0.9581, 0.9612, 0.9624, 0.9654, 0.9666, 0.9667, 0.9673]\n",
      "Test 8: [0, 0.8032, 0.8336, 0.845, 0.8533, 0.86, 0.8641, 0.8667, 0.8685, 0.8709, 0.8721, 0.8735, 0.8746, 0.8763, 0.8772, 0.8782]\n",
      "Test 9: [0, 0.7333, 0.7519, 0.7606, 0.7657, 0.7693, 0.7728, 0.7758, 0.7776, 0.7796, 0.7805, 0.7815, 0.7828, 0.7835, 0.7843, 0.7842]\n"
     ]
    }
   ],
   "source": [
    "num_trainings = 15\n",
    "num_trials = 10\n",
    "\n",
    "acc_dict = {}\n",
    "acc_dict[0] = 0\n",
    "\n",
    "data = {}\n",
    "\n",
    "# Loop through number of trials\n",
    "for trial in range(num_trials):\n",
    "  print(f\"--- NEW MODEL {trial} --- \")\n",
    "  data[trial] = run_trials(num_trainings)\n",
    "\n",
    "# Print data after all runs\n",
    "for i in range(num_trials):\n",
    "  print(f\"Test {i}: {data[i]}\")\n"
   ]
  },
  {
   "cell_type": "code",
   "execution_count": 16,
   "metadata": {},
   "outputs": [
    {
     "name": "stdout",
     "output_type": "stream",
     "text": [
      "         0       1       2       3       4       5       6       7       8  \\\n",
      "0   0.0000  0.0000  0.0000  0.0000  0.0000  0.0000  0.0000  0.0000  0.0000   \n",
      "1   0.7862  0.7390  0.7088  0.8057  0.6309  0.8901  0.7476  0.8345  0.8032   \n",
      "2   0.8148  0.7536  0.7270  0.8366  0.6432  0.9192  0.7647  0.8949  0.8336   \n",
      "3   0.8284  0.7632  0.7402  0.8483  0.6498  0.9348  0.7713  0.9170  0.8450   \n",
      "4   0.8355  0.7699  0.7470  0.8570  0.6538  0.9441  0.7785  0.9293  0.8533   \n",
      "5   0.8410  0.7731  0.7518  0.8642  0.6574  0.9510  0.7819  0.9366  0.8600   \n",
      "6   0.8473  0.7765  0.7555  0.8679  0.6602  0.9576  0.7840  0.9463  0.8641   \n",
      "7   0.8514  0.7798  0.7585  0.8720  0.6624  0.9609  0.7871  0.9512  0.8667   \n",
      "8   0.8543  0.7823  0.7606  0.8756  0.6630  0.9635  0.7888  0.9555  0.8685   \n",
      "9   0.8566  0.7831  0.7627  0.8776  0.6645  0.9659  0.7908  0.9581  0.8709   \n",
      "10  0.8586  0.7843  0.7639  0.8789  0.6658  0.9678  0.7919  0.9612  0.8721   \n",
      "11  0.8604  0.7858  0.7646  0.8805  0.6671  0.9693  0.7954  0.9624  0.8735   \n",
      "12  0.8607  0.7863  0.7656  0.8807  0.6678  0.9705  0.8736  0.9654  0.8746   \n",
      "13  0.8631  0.7871  0.7663  0.8815  0.6677  0.9708  0.8785  0.9666  0.8763   \n",
      "14  0.8636  0.7876  0.7674  0.8832  0.6679  0.9730  0.8790  0.9667  0.8772   \n",
      "15  0.8642  0.7883  0.7676  0.8835  0.6683  0.9736  0.8807  0.9673  0.8782   \n",
      "\n",
      "         9  \n",
      "0   0.0000  \n",
      "1   0.7333  \n",
      "2   0.7519  \n",
      "3   0.7606  \n",
      "4   0.7657  \n",
      "5   0.7693  \n",
      "6   0.7728  \n",
      "7   0.7758  \n",
      "8   0.7776  \n",
      "9   0.7796  \n",
      "10  0.7805  \n",
      "11  0.7815  \n",
      "12  0.7828  \n",
      "13  0.7835  \n",
      "14  0.7843  \n",
      "15  0.7842  \n"
     ]
    },
    {
     "data": {
      "text/plain": [
       "<ErrorbarContainer object of 3 artists>"
      ]
     },
     "execution_count": 16,
     "metadata": {},
     "output_type": "execute_result"
    },
    {
     "data": {
      "image/png": "[encoded data removed]",
      "text/plain": [
       "<Figure size 640x480 with 1 Axes>"
      ]
     },
     "metadata": {},
     "output_type": "display_data"
    }
   ],
   "source": [
    "# Convert list of data over tests into a data frame\n",
    "df = pd.DataFrame(data)\n",
    "print(df)\n",
    "\n",
    "x_values = list(range(len(df)))\n",
    "trial_idx_list = list(range(num_trials))\n",
    "\n",
    "ci_values = []\n",
    "\n",
    "# Calculate the mean accuracy for each training per trial\n",
    "mean_values = df[trial_idx_list].mean(axis=1).tolist()\n",
    "\n",
    "# Calculate confidence intervals for each training\n",
    "for _, row in df[trial_idx_list].iterrows():\n",
    "  mean = row.mean()\n",
    "  sem = row.sem()\n",
    "  ci = sem * 1.96  # 95% confidence interval\n",
    "  ci_values.append(ci)\n",
    "\n",
    "plt.title(f\"Standard Feedforward ANN\\n Average Accuracy Over {num_trials} Trials with {num_trainings} Trainings Per Trial\\n 95% Confidence Intervals\", fontsize = 17)\n",
    "plt.xlabel(\"Number of trainings\", fontsize = 16)\n",
    "plt.ylabel(\"Accuracy\", fontsize = 16)\n",
    "plt.xticks(np.arange(0, num_trainings + 1, 1), fontsize = 13)\n",
    "plt.yticks(np.arange(0, 1.1, 0.1), fontsize = 13)\n",
    "\n",
    "sns.lineplot(x = x_values, y = mean_values)\n",
    "plt.errorbar(x = x_values, y = mean_values, yerr=ci_values, linestyle='None', color='red')"
   ]
  },
  {
   "cell_type": "code",
   "execution_count": null,
   "metadata": {},
   "outputs": [],
   "source": []
  }
 ],
 "metadata": {
  "colab": {
   "provenance": []
  },
  "kernelspec": {
   "display_name": "Python 3 (ipykernel)",
   "language": "python",
   "name": "python3"
  },
  "language_info": {
   "codemirror_mode": {
    "name": "ipython",
    "version": 3
   },
   "file_extension": ".py",
   "mimetype": "text/x-python",
   "name": "python",
   "nbconvert_exporter": "python",
   "pygments_lexer": "ipython3",
   "version": "3.11.3"
  }
 },
 "nbformat": 4,
 "nbformat_minor": 1
}
