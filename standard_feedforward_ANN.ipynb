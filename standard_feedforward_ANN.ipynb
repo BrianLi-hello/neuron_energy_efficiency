{
 "cells": [
  {
   "cell_type": "code",
   "execution_count": 81,
   "metadata": {
    "id": "f23x1HxXNBcU"
   },
   "outputs": [],
   "source": [
    "# Imports\n",
    "import torch\n",
    "import torchvision\n",
    "import torch.nn as nn  # All neural network modules, nn.Linear, nn.Conv2d, BatchNorm, Loss functions\n",
    "import torch.nn.init as init    # For weight initializations\n",
    "import torch.optim as optim  # For all Optimization algorithms, SGD, Adam, etc.\n",
    "import torch.nn.functional as F  # All functions that don't have any parameters\n",
    "from torch.utils.data import (\n",
    "    DataLoader,\n",
    "    # Dataset\n",
    ")  # Gives easier dataset managment and creates mini batches\n",
    "import torchvision.datasets as datasets  # Has standard datasets we can import in a nice way\n",
    "import torchvision.transforms as transforms  # Transformations we can perform on our dataset\n",
    "from tqdm import tqdm # For progress bars \n",
    "import matplotlib.pyplot as plt # For graphing  \n",
    "import numpy as np  # For graphing  \n",
    "import pandas as pd     # For data frames\n",
    "import seaborn as sns   # For graphing\n",
    "\n",
    "device = torch.device(\"cuda\" if torch.cuda.is_available() else \"cpu\") \n"
   ]
  },
  {
   "cell_type": "code",
   "execution_count": 82,
   "metadata": {
    "id": "scrw7HWpNBcW"
   },
   "outputs": [],
   "source": [
    "# Hyperparameters\n",
    "learning_rate = 1e-3\n",
    "batch_size = 12000\n",
    "num_epoches = 5"
   ]
  },
  {
   "cell_type": "code",
   "execution_count": 83,
   "metadata": {
    "colab": {
     "base_uri": "https://localhost:8080/"
    },
    "id": "XZny9qJuNBcX",
    "outputId": "237c956e-3906-471f-e277-49d5be49ef28"
   },
   "outputs": [],
   "source": [
    "# Get MNIST data\n",
    "train_ds = datasets.MNIST(\n",
    "    root=\"dataset/\", train=True, transform=transforms.ToTensor(), download=True\n",
    ")\n",
    "train_loader = DataLoader(dataset=train_ds, batch_size=batch_size, shuffle=True)\n",
    "\n",
    "test_ds = datasets.MNIST(\n",
    "    root=\"dataset/\", train=False, transform=transforms.ToTensor(), download=True\n",
    ")\n",
    "test_loader = DataLoader(dataset=test_ds, batch_size=batch_size, shuffle=False)"
   ]
  },
  {
   "cell_type": "code",
   "execution_count": 84,
   "metadata": {
    "id": "3mmLrBW4NBcX"
   },
   "outputs": [],
   "source": [
    "class StandardFeedforwardNetwork(nn.Module):\n",
    "    def __init__(self):\n",
    "        super().__init__()\n",
    "        self.Matrix1 = nn.Linear(28**2, 392)\n",
    "        self.Matrix2 = nn.Linear(392, 10)\n",
    "\n",
    "        init.kaiming_uniform_(self.Matrix1.weight, mode=\"fan_in\", nonlinearity=\"relu\")\n",
    "        init.kaiming_uniform_(self.Matrix2.weight, mode=\"fan_in\", nonlinearity=\"relu\")        \n",
    "\n",
    "        self.R = nn.ReLU()\n",
    "\n",
    "    def forward(self,x):\n",
    "        x = x.view(-1,28**2)\n",
    "        x = self.R(self.Matrix1(x))\n",
    "        x = self.R(self.Matrix2(x))\n",
    "        return x.squeeze()"
   ]
  },
  {
   "cell_type": "code",
   "execution_count": null,
   "metadata": {},
   "outputs": [],
   "source": [
    "# Check parameter matrix sizes\n",
    "def print_parameter_info(model):\n",
    "    for name, param in model.named_parameters():\n",
    "        print(name)\n",
    "        print(type(param), param.size())"
   ]
  },
  {
   "cell_type": "code",
   "execution_count": 85,
   "metadata": {
    "colab": {
     "base_uri": "https://localhost:8080/"
    },
    "id": "wLwMo2l8NBca",
    "outputId": "0b3137f4-0aa3-411a-fe8a-c138abd2b292"
   },
   "outputs": [],
   "source": [
    "# Train Network\n",
    "def train_network(device, num_epoches, train_loader, model, criterion, optimizer):\n",
    "    for epoch in range(num_epoches):\n",
    "        losses = []\n",
    "\n",
    "        for batch_idx, (data, targets) in enumerate(tqdm(train_loader)):\n",
    "            # Get data to cuda if possible\n",
    "            data = data.to(device=device)\n",
    "            targets = targets.to(device=device)\n",
    "\n",
    "            # forward\n",
    "            scores = model(data)\n",
    "            loss = criterion(scores, targets)\n",
    "\n",
    "            losses.append(loss.item())\n",
    "            # backward\n",
    "            optimizer.zero_grad()\n",
    "            loss.backward()\n",
    "\n",
    "            # gradient descent or adam step\n",
    "            optimizer.step()\n",
    "\n",
    "        # print(f\"Cost at epoch {epoch} is {sum(losses)/len(losses):.5f}\")"
   ]
  },
  {
   "cell_type": "code",
   "execution_count": 86,
   "metadata": {
    "colab": {
     "base_uri": "https://localhost:8080/"
    },
    "id": "7RnWs9GsNBca",
    "outputId": "ac94c95b-ffc6-4304-d28b-18683626f3ed"
   },
   "outputs": [],
   "source": [
    "def check_accuracy(loader, model):\n",
    "    if loader.dataset.train:\n",
    "        print(\"Checking accuracy on training data\")\n",
    "    else:\n",
    "        print(\"Checking accuracy on test data\")\n",
    "\n",
    "    num_correct = 0\n",
    "    num_samples = 0\n",
    "    model.eval()\n",
    "\n",
    "    with torch.no_grad():\n",
    "        for x, y in loader:\n",
    "            x = x.to(device=device)\n",
    "            y = y.to(device=device)\n",
    "\n",
    "            scores = model(x)\n",
    "            _, predictions = scores.max(1)\n",
    "            num_correct += (predictions == y).sum()\n",
    "            num_samples += predictions.size(0)\n",
    "\n",
    "        accuracy = float(num_correct)/float(num_samples)\n",
    "        print(f\"Got {num_correct} / {num_samples} with accuracy {accuracy*100:.2f}%\")\n",
    "\n",
    "    model.train()\n",
    "    return accuracy"
   ]
  },
  {
   "cell_type": "code",
   "execution_count": 87,
   "metadata": {},
   "outputs": [],
   "source": [
    "def run_trials(num_trainings):\n",
    "  # Define model, loss, and optimizer \n",
    "  model = StandardFeedforwardNetwork()\n",
    "  print_parameter_info(model)\n",
    "  criterion = nn.CrossEntropyLoss()\n",
    "  optimizer = optim.Adam(model.parameters(), lr=learning_rate)\n",
    "  \n",
    "  acc_dict = {}\n",
    "  acc_dict[0] = 0\n",
    "\n",
    "  # Loop for number of tests\n",
    "  for training in range(num_trainings):\n",
    "    # Train network\n",
    "    train_network(device, num_epoches, train_loader, model, criterion, optimizer)\n",
    "    acc_dict[training + 1] = check_accuracy(test_loader, model)\n",
    "\n",
    "    print(f\"Row: {training + 1} | {list(acc_dict.values())}\")\n",
    "\n",
    "  # Plot graph of accuracies after the trial\n",
    "  ypoints = np.array(list(acc_dict.values()))\n",
    "  plt.xticks(np.arange(0, len(ypoints), 1.0))\n",
    "  plt.xlabel(\"Number of trainings\")\n",
    "  plt.ylabel(\"Accuracy\")\n",
    "  plt.plot(ypoints)\n",
    "  plt.show()\n",
    "\n",
    "  return list(acc_dict.values())"
   ]
  },
  {
   "cell_type": "code",
   "execution_count": 88,
   "metadata": {},
   "outputs": [
    {
     "name": "stdout",
     "output_type": "stream",
     "text": [
      "--- NEW MODEL 0 --- \n"
     ]
    },
    {
     "name": "stderr",
     "output_type": "stream",
     "text": [
      "100%|██████████| 5/5 [00:07<00:00,  1.46s/it]\n",
      "100%|██████████| 5/5 [00:07<00:00,  1.50s/it]\n",
      "100%|██████████| 5/5 [00:07<00:00,  1.50s/it]\n",
      "100%|██████████| 5/5 [00:08<00:00,  1.60s/it]\n",
      "100%|██████████| 5/5 [00:07<00:00,  1.49s/it]\n"
     ]
    },
    {
     "name": "stdout",
     "output_type": "stream",
     "text": [
      "Checking accuracy on test data\n",
      "Got 7974 / 10000 with accuracy 79.74%\n",
      "Row: 1 | [0, 0.7974]\n"
     ]
    },
    {
     "name": "stderr",
     "output_type": "stream",
     "text": [
      "100%|██████████| 5/5 [00:07<00:00,  1.45s/it]\n",
      "100%|██████████| 5/5 [00:07<00:00,  1.47s/it]\n",
      "100%|██████████| 5/5 [00:07<00:00,  1.52s/it]\n",
      "100%|██████████| 5/5 [00:07<00:00,  1.53s/it]\n",
      "100%|██████████| 5/5 [00:07<00:00,  1.51s/it]\n"
     ]
    },
    {
     "name": "stdout",
     "output_type": "stream",
     "text": [
      "Checking accuracy on test data\n",
      "Got 8889 / 10000 with accuracy 88.89%\n",
      "Row: 2 | [0, 0.7974, 0.8889]\n"
     ]
    },
    {
     "name": "stderr",
     "output_type": "stream",
     "text": [
      "100%|██████████| 5/5 [00:07<00:00,  1.50s/it]\n",
      "100%|██████████| 5/5 [00:07<00:00,  1.48s/it]\n",
      "100%|██████████| 5/5 [00:07<00:00,  1.49s/it]\n",
      "100%|██████████| 5/5 [00:07<00:00,  1.51s/it]\n",
      "100%|██████████| 5/5 [00:07<00:00,  1.49s/it]\n"
     ]
    },
    {
     "name": "stdout",
     "output_type": "stream",
     "text": [
      "Checking accuracy on test data\n",
      "Got 9147 / 10000 with accuracy 91.47%\n",
      "Row: 3 | [0, 0.7974, 0.8889, 0.9147]\n"
     ]
    },
    {
     "name": "stderr",
     "output_type": "stream",
     "text": [
      "100%|██████████| 5/5 [00:07<00:00,  1.47s/it]\n",
      "100%|██████████| 5/5 [00:07<00:00,  1.47s/it]\n",
      "100%|██████████| 5/5 [00:07<00:00,  1.47s/it]\n",
      "100%|██████████| 5/5 [00:07<00:00,  1.50s/it]\n",
      "100%|██████████| 5/5 [00:07<00:00,  1.49s/it]\n"
     ]
    },
    {
     "name": "stdout",
     "output_type": "stream",
     "text": [
      "Checking accuracy on test data\n",
      "Got 9287 / 10000 with accuracy 92.87%\n",
      "Row: 4 | [0, 0.7974, 0.8889, 0.9147, 0.9287]\n"
     ]
    },
    {
     "name": "stderr",
     "output_type": "stream",
     "text": [
      "100%|██████████| 5/5 [00:07<00:00,  1.53s/it]\n",
      "100%|██████████| 5/5 [00:07<00:00,  1.50s/it]\n",
      "100%|██████████| 5/5 [00:07<00:00,  1.48s/it]\n",
      "100%|██████████| 5/5 [00:07<00:00,  1.54s/it]\n",
      "100%|██████████| 5/5 [00:07<00:00,  1.49s/it]\n"
     ]
    },
    {
     "name": "stdout",
     "output_type": "stream",
     "text": [
      "Checking accuracy on test data\n",
      "Got 9373 / 10000 with accuracy 93.73%\n",
      "Row: 5 | [0, 0.7974, 0.8889, 0.9147, 0.9287, 0.9373]\n"
     ]
    },
    {
     "name": "stderr",
     "output_type": "stream",
     "text": [
      "100%|██████████| 5/5 [00:07<00:00,  1.48s/it]\n",
      "100%|██████████| 5/5 [00:07<00:00,  1.49s/it]\n",
      "100%|██████████| 5/5 [00:07<00:00,  1.49s/it]\n",
      "100%|██████████| 5/5 [00:07<00:00,  1.52s/it]\n",
      "100%|██████████| 5/5 [00:07<00:00,  1.48s/it]\n"
     ]
    },
    {
     "name": "stdout",
     "output_type": "stream",
     "text": [
      "Checking accuracy on test data\n",
      "Got 9448 / 10000 with accuracy 94.48%\n",
      "Row: 6 | [0, 0.7974, 0.8889, 0.9147, 0.9287, 0.9373, 0.9448]\n"
     ]
    },
    {
     "name": "stderr",
     "output_type": "stream",
     "text": [
      "100%|██████████| 5/5 [00:07<00:00,  1.59s/it]\n",
      "100%|██████████| 5/5 [00:08<00:00,  1.60s/it]\n",
      "100%|██████████| 5/5 [00:07<00:00,  1.59s/it]\n",
      "100%|██████████| 5/5 [00:08<00:00,  1.61s/it]\n",
      "100%|██████████| 5/5 [00:08<00:00,  1.61s/it]\n"
     ]
    },
    {
     "name": "stdout",
     "output_type": "stream",
     "text": [
      "Checking accuracy on test data\n",
      "Got 9505 / 10000 with accuracy 95.05%\n",
      "Row: 7 | [0, 0.7974, 0.8889, 0.9147, 0.9287, 0.9373, 0.9448, 0.9505]\n"
     ]
    },
    {
     "name": "stderr",
     "output_type": "stream",
     "text": [
      "100%|██████████| 5/5 [00:08<00:00,  1.60s/it]\n",
      "100%|██████████| 5/5 [00:08<00:00,  1.63s/it]\n",
      "100%|██████████| 5/5 [00:08<00:00,  1.68s/it]\n",
      "100%|██████████| 5/5 [00:08<00:00,  1.67s/it]\n",
      "100%|██████████| 5/5 [00:08<00:00,  1.63s/it]\n"
     ]
    },
    {
     "name": "stdout",
     "output_type": "stream",
     "text": [
      "Checking accuracy on test data\n",
      "Got 9547 / 10000 with accuracy 95.47%\n",
      "Row: 8 | [0, 0.7974, 0.8889, 0.9147, 0.9287, 0.9373, 0.9448, 0.9505, 0.9547]\n"
     ]
    },
    {
     "name": "stderr",
     "output_type": "stream",
     "text": [
      "100%|██████████| 5/5 [00:07<00:00,  1.60s/it]\n",
      "100%|██████████| 5/5 [00:08<00:00,  1.61s/it]\n",
      "100%|██████████| 5/5 [00:08<00:00,  1.60s/it]\n",
      "100%|██████████| 5/5 [00:08<00:00,  1.68s/it]\n",
      "100%|██████████| 5/5 [00:07<00:00,  1.60s/it]\n"
     ]
    },
    {
     "name": "stdout",
     "output_type": "stream",
     "text": [
      "Checking accuracy on test data\n",
      "Got 9587 / 10000 with accuracy 95.87%\n",
      "Row: 9 | [0, 0.7974, 0.8889, 0.9147, 0.9287, 0.9373, 0.9448, 0.9505, 0.9547, 0.9587]\n"
     ]
    },
    {
     "name": "stderr",
     "output_type": "stream",
     "text": [
      "100%|██████████| 5/5 [00:08<00:00,  1.60s/it]\n",
      "100%|██████████| 5/5 [00:08<00:00,  1.62s/it]\n",
      "100%|██████████| 5/5 [00:08<00:00,  1.66s/it]\n",
      "100%|██████████| 5/5 [00:08<00:00,  1.66s/it]\n",
      "100%|██████████| 5/5 [00:08<00:00,  1.62s/it]\n"
     ]
    },
    {
     "name": "stdout",
     "output_type": "stream",
     "text": [
      "Checking accuracy on test data\n",
      "Got 9614 / 10000 with accuracy 96.14%\n",
      "Row: 10 | [0, 0.7974, 0.8889, 0.9147, 0.9287, 0.9373, 0.9448, 0.9505, 0.9547, 0.9587, 0.9614]\n"
     ]
    },
    {
     "name": "stderr",
     "output_type": "stream",
     "text": [
      "100%|██████████| 5/5 [00:08<00:00,  1.61s/it]\n",
      "100%|██████████| 5/5 [00:07<00:00,  1.58s/it]\n",
      "100%|██████████| 5/5 [00:07<00:00,  1.56s/it]\n",
      "100%|██████████| 5/5 [00:08<00:00,  1.63s/it]\n",
      "100%|██████████| 5/5 [00:07<00:00,  1.60s/it]\n"
     ]
    },
    {
     "name": "stdout",
     "output_type": "stream",
     "text": [
      "Checking accuracy on test data\n",
      "Got 9638 / 10000 with accuracy 96.38%\n",
      "Row: 11 | [0, 0.7974, 0.8889, 0.9147, 0.9287, 0.9373, 0.9448, 0.9505, 0.9547, 0.9587, 0.9614, 0.9638]\n"
     ]
    },
    {
     "name": "stderr",
     "output_type": "stream",
     "text": [
      "100%|██████████| 5/5 [00:08<00:00,  1.60s/it]\n",
      "100%|██████████| 5/5 [00:07<00:00,  1.60s/it]\n",
      "100%|██████████| 5/5 [00:07<00:00,  1.59s/it]\n",
      "100%|██████████| 5/5 [00:08<00:00,  1.64s/it]\n",
      "100%|██████████| 5/5 [00:08<00:00,  1.66s/it]\n"
     ]
    },
    {
     "name": "stdout",
     "output_type": "stream",
     "text": [
      "Checking accuracy on test data\n",
      "Got 9663 / 10000 with accuracy 96.63%\n",
      "Row: 12 | [0, 0.7974, 0.8889, 0.9147, 0.9287, 0.9373, 0.9448, 0.9505, 0.9547, 0.9587, 0.9614, 0.9638, 0.9663]\n"
     ]
    },
    {
     "name": "stderr",
     "output_type": "stream",
     "text": [
      "100%|██████████| 5/5 [00:08<00:00,  1.65s/it]\n",
      "100%|██████████| 5/5 [00:08<00:00,  1.67s/it]\n",
      "100%|██████████| 5/5 [00:08<00:00,  1.68s/it]\n",
      "100%|██████████| 5/5 [00:08<00:00,  1.64s/it]\n",
      "100%|██████████| 5/5 [00:08<00:00,  1.60s/it]\n"
     ]
    },
    {
     "name": "stdout",
     "output_type": "stream",
     "text": [
      "Checking accuracy on test data\n",
      "Got 9673 / 10000 with accuracy 96.73%\n",
      "Row: 13 | [0, 0.7974, 0.8889, 0.9147, 0.9287, 0.9373, 0.9448, 0.9505, 0.9547, 0.9587, 0.9614, 0.9638, 0.9663, 0.9673]\n"
     ]
    },
    {
     "name": "stderr",
     "output_type": "stream",
     "text": [
      "100%|██████████| 5/5 [00:08<00:00,  1.61s/it]\n",
      "100%|██████████| 5/5 [00:08<00:00,  1.61s/it]\n",
      "100%|██████████| 5/5 [00:08<00:00,  1.62s/it]\n",
      "100%|██████████| 5/5 [00:08<00:00,  1.67s/it]\n",
      "100%|██████████| 5/5 [00:07<00:00,  1.60s/it]\n"
     ]
    },
    {
     "name": "stdout",
     "output_type": "stream",
     "text": [
      "Checking accuracy on test data\n",
      "Got 9685 / 10000 with accuracy 96.85%\n",
      "Row: 14 | [0, 0.7974, 0.8889, 0.9147, 0.9287, 0.9373, 0.9448, 0.9505, 0.9547, 0.9587, 0.9614, 0.9638, 0.9663, 0.9673, 0.9685]\n"
     ]
    },
    {
     "name": "stderr",
     "output_type": "stream",
     "text": [
      "100%|██████████| 5/5 [00:07<00:00,  1.59s/it]\n",
      "100%|██████████| 5/5 [00:07<00:00,  1.59s/it]\n",
      "100%|██████████| 5/5 [00:08<00:00,  1.62s/it]\n",
      "100%|██████████| 5/5 [00:08<00:00,  1.61s/it]\n",
      "100%|██████████| 5/5 [00:08<00:00,  1.61s/it]\n"
     ]
    },
    {
     "name": "stdout",
     "output_type": "stream",
     "text": [
      "Checking accuracy on test data\n",
      "Got 9694 / 10000 with accuracy 96.94%\n",
      "Row: 15 | [0, 0.7974, 0.8889, 0.9147, 0.9287, 0.9373, 0.9448, 0.9505, 0.9547, 0.9587, 0.9614, 0.9638, 0.9663, 0.9673, 0.9685, 0.9694]\n"
     ]
    },
    {
     "data": {
      "image/png": "[encoded data removed]",
      "text/plain": [
       "<Figure size 640x480 with 1 Axes>"
      ]
     },
     "metadata": {},
     "output_type": "display_data"
    },
    {
     "name": "stdout",
     "output_type": "stream",
     "text": [
      "--- NEW MODEL 1 --- \n"
     ]
    },
    {
     "name": "stderr",
     "output_type": "stream",
     "text": [
      "100%|██████████| 5/5 [00:07<00:00,  1.60s/it]\n",
      "100%|██████████| 5/5 [00:08<00:00,  1.63s/it]\n",
      "100%|██████████| 5/5 [00:08<00:00,  1.63s/it]\n",
      "100%|██████████| 5/5 [00:08<00:00,  1.67s/it]\n",
      "100%|██████████| 5/5 [00:08<00:00,  1.61s/it]\n"
     ]
    },
    {
     "name": "stdout",
     "output_type": "stream",
     "text": [
      "Checking accuracy on test data\n",
      "Got 7973 / 10000 with accuracy 79.73%\n",
      "Row: 1 | [0, 0.7973]\n"
     ]
    },
    {
     "name": "stderr",
     "output_type": "stream",
     "text": [
      "100%|██████████| 5/5 [00:08<00:00,  1.64s/it]\n",
      "100%|██████████| 5/5 [00:07<00:00,  1.59s/it]\n",
      "100%|██████████| 5/5 [00:08<00:00,  1.63s/it]\n",
      "100%|██████████| 5/5 [00:08<00:00,  1.63s/it]\n",
      "100%|██████████| 5/5 [00:08<00:00,  1.75s/it]\n"
     ]
    },
    {
     "name": "stdout",
     "output_type": "stream",
     "text": [
      "Checking accuracy on test data\n",
      "Got 8356 / 10000 with accuracy 83.56%\n",
      "Row: 2 | [0, 0.7973, 0.8356]\n"
     ]
    },
    {
     "name": "stderr",
     "output_type": "stream",
     "text": [
      "100%|██████████| 5/5 [00:08<00:00,  1.63s/it]\n",
      "100%|██████████| 5/5 [00:08<00:00,  1.65s/it]\n",
      "100%|██████████| 5/5 [00:08<00:00,  1.61s/it]\n",
      "100%|██████████| 5/5 [00:08<00:00,  1.66s/it]\n",
      "100%|██████████| 5/5 [00:08<00:00,  1.72s/it]\n"
     ]
    },
    {
     "name": "stdout",
     "output_type": "stream",
     "text": [
      "Checking accuracy on test data\n",
      "Got 8472 / 10000 with accuracy 84.72%\n",
      "Row: 3 | [0, 0.7973, 0.8356, 0.8472]\n"
     ]
    },
    {
     "name": "stderr",
     "output_type": "stream",
     "text": [
      "100%|██████████| 5/5 [00:08<00:00,  1.68s/it]\n",
      "100%|██████████| 5/5 [00:08<00:00,  1.64s/it]\n",
      "100%|██████████| 5/5 [00:08<00:00,  1.64s/it]\n",
      "100%|██████████| 5/5 [00:08<00:00,  1.62s/it]\n",
      "100%|██████████| 5/5 [00:08<00:00,  1.64s/it]\n"
     ]
    },
    {
     "name": "stdout",
     "output_type": "stream",
     "text": [
      "Checking accuracy on test data\n",
      "Got 8548 / 10000 with accuracy 85.48%\n",
      "Row: 4 | [0, 0.7973, 0.8356, 0.8472, 0.8548]\n"
     ]
    },
    {
     "name": "stderr",
     "output_type": "stream",
     "text": [
      "100%|██████████| 5/5 [00:08<00:00,  1.61s/it]\n",
      "100%|██████████| 5/5 [00:08<00:00,  1.62s/it]\n",
      "100%|██████████| 5/5 [00:08<00:00,  1.70s/it]\n",
      "100%|██████████| 5/5 [00:08<00:00,  1.61s/it]\n",
      "100%|██████████| 5/5 [00:07<00:00,  1.60s/it]\n"
     ]
    },
    {
     "name": "stdout",
     "output_type": "stream",
     "text": [
      "Checking accuracy on test data\n",
      "Got 8626 / 10000 with accuracy 86.26%\n",
      "Row: 5 | [0, 0.7973, 0.8356, 0.8472, 0.8548, 0.8626]\n"
     ]
    },
    {
     "name": "stderr",
     "output_type": "stream",
     "text": [
      "100%|██████████| 5/5 [00:08<00:00,  1.60s/it]\n",
      "100%|██████████| 5/5 [00:08<00:00,  1.63s/it]\n",
      "100%|██████████| 5/5 [00:08<00:00,  1.65s/it]\n",
      "100%|██████████| 5/5 [00:08<00:00,  1.66s/it]\n",
      "100%|██████████| 5/5 [00:08<00:00,  1.64s/it]\n"
     ]
    },
    {
     "name": "stdout",
     "output_type": "stream",
     "text": [
      "Checking accuracy on test data\n",
      "Got 8671 / 10000 with accuracy 86.71%\n",
      "Row: 6 | [0, 0.7973, 0.8356, 0.8472, 0.8548, 0.8626, 0.8671]\n"
     ]
    },
    {
     "name": "stderr",
     "output_type": "stream",
     "text": [
      "100%|██████████| 5/5 [00:08<00:00,  1.61s/it]\n",
      "100%|██████████| 5/5 [00:08<00:00,  1.66s/it]\n",
      "100%|██████████| 5/5 [00:07<00:00,  1.58s/it]\n",
      "100%|██████████| 5/5 [00:08<00:00,  1.66s/it]\n",
      "100%|██████████| 5/5 [00:08<00:00,  1.61s/it]\n"
     ]
    },
    {
     "name": "stdout",
     "output_type": "stream",
     "text": [
      "Checking accuracy on test data\n",
      "Got 8708 / 10000 with accuracy 87.08%\n",
      "Row: 7 | [0, 0.7973, 0.8356, 0.8472, 0.8548, 0.8626, 0.8671, 0.8708]\n"
     ]
    },
    {
     "name": "stderr",
     "output_type": "stream",
     "text": [
      "100%|██████████| 5/5 [00:08<00:00,  1.60s/it]\n",
      "100%|██████████| 5/5 [00:08<00:00,  1.62s/it]\n",
      "100%|██████████| 5/5 [00:08<00:00,  1.61s/it]\n",
      "100%|██████████| 5/5 [00:08<00:00,  1.66s/it]\n",
      "100%|██████████| 5/5 [00:08<00:00,  1.64s/it]\n"
     ]
    },
    {
     "name": "stdout",
     "output_type": "stream",
     "text": [
      "Checking accuracy on test data\n",
      "Got 8737 / 10000 with accuracy 87.37%\n",
      "Row: 8 | [0, 0.7973, 0.8356, 0.8472, 0.8548, 0.8626, 0.8671, 0.8708, 0.8737]\n"
     ]
    },
    {
     "name": "stderr",
     "output_type": "stream",
     "text": [
      "100%|██████████| 5/5 [00:08<00:00,  1.61s/it]\n",
      "100%|██████████| 5/5 [00:08<00:00,  1.62s/it]\n",
      "100%|██████████| 5/5 [00:08<00:00,  1.62s/it]\n",
      "100%|██████████| 5/5 [00:08<00:00,  1.66s/it]\n",
      "100%|██████████| 5/5 [00:08<00:00,  1.62s/it]\n"
     ]
    },
    {
     "name": "stdout",
     "output_type": "stream",
     "text": [
      "Checking accuracy on test data\n",
      "Got 8757 / 10000 with accuracy 87.57%\n",
      "Row: 9 | [0, 0.7973, 0.8356, 0.8472, 0.8548, 0.8626, 0.8671, 0.8708, 0.8737, 0.8757]\n"
     ]
    },
    {
     "name": "stderr",
     "output_type": "stream",
     "text": [
      "100%|██████████| 5/5 [00:08<00:00,  1.62s/it]\n",
      "100%|██████████| 5/5 [00:08<00:00,  1.64s/it]\n",
      "100%|██████████| 5/5 [00:08<00:00,  1.63s/it]\n",
      "100%|██████████| 5/5 [00:08<00:00,  1.68s/it]\n",
      "100%|██████████| 5/5 [00:08<00:00,  1.62s/it]\n"
     ]
    },
    {
     "name": "stdout",
     "output_type": "stream",
     "text": [
      "Checking accuracy on test data\n",
      "Got 8778 / 10000 with accuracy 87.78%\n",
      "Row: 10 | [0, 0.7973, 0.8356, 0.8472, 0.8548, 0.8626, 0.8671, 0.8708, 0.8737, 0.8757, 0.8778]\n"
     ]
    },
    {
     "name": "stderr",
     "output_type": "stream",
     "text": [
      "100%|██████████| 5/5 [00:07<00:00,  1.60s/it]\n",
      "100%|██████████| 5/5 [00:08<00:00,  1.64s/it]\n",
      "100%|██████████| 5/5 [00:08<00:00,  1.65s/it]\n",
      "100%|██████████| 5/5 [00:08<00:00,  1.69s/it]\n",
      "100%|██████████| 5/5 [00:08<00:00,  1.62s/it]\n"
     ]
    },
    {
     "name": "stdout",
     "output_type": "stream",
     "text": [
      "Checking accuracy on test data\n",
      "Got 8792 / 10000 with accuracy 87.92%\n",
      "Row: 11 | [0, 0.7973, 0.8356, 0.8472, 0.8548, 0.8626, 0.8671, 0.8708, 0.8737, 0.8757, 0.8778, 0.8792]\n"
     ]
    },
    {
     "name": "stderr",
     "output_type": "stream",
     "text": [
      "100%|██████████| 5/5 [00:08<00:00,  1.64s/it]\n",
      "100%|██████████| 5/5 [00:08<00:00,  1.65s/it]\n",
      "100%|██████████| 5/5 [00:08<00:00,  1.64s/it]\n",
      "100%|██████████| 5/5 [00:08<00:00,  1.69s/it]\n",
      "100%|██████████| 5/5 [00:08<00:00,  1.64s/it]\n"
     ]
    },
    {
     "name": "stdout",
     "output_type": "stream",
     "text": [
      "Checking accuracy on test data\n",
      "Got 8797 / 10000 with accuracy 87.97%\n",
      "Row: 12 | [0, 0.7973, 0.8356, 0.8472, 0.8548, 0.8626, 0.8671, 0.8708, 0.8737, 0.8757, 0.8778, 0.8792, 0.8797]\n"
     ]
    },
    {
     "name": "stderr",
     "output_type": "stream",
     "text": [
      "100%|██████████| 5/5 [00:07<00:00,  1.60s/it]\n",
      "100%|██████████| 5/5 [00:08<00:00,  1.63s/it]\n",
      "100%|██████████| 5/5 [00:08<00:00,  1.63s/it]\n",
      "100%|██████████| 5/5 [00:08<00:00,  1.73s/it]\n",
      "100%|██████████| 5/5 [00:08<00:00,  1.62s/it]\n"
     ]
    },
    {
     "name": "stdout",
     "output_type": "stream",
     "text": [
      "Checking accuracy on test data\n",
      "Got 8810 / 10000 with accuracy 88.10%\n",
      "Row: 13 | [0, 0.7973, 0.8356, 0.8472, 0.8548, 0.8626, 0.8671, 0.8708, 0.8737, 0.8757, 0.8778, 0.8792, 0.8797, 0.881]\n"
     ]
    },
    {
     "name": "stderr",
     "output_type": "stream",
     "text": [
      "100%|██████████| 5/5 [00:08<00:00,  1.61s/it]\n",
      "100%|██████████| 5/5 [00:08<00:00,  1.62s/it]\n",
      "100%|██████████| 5/5 [00:08<00:00,  1.63s/it]\n",
      "100%|██████████| 5/5 [00:08<00:00,  1.67s/it]\n",
      "100%|██████████| 5/5 [00:08<00:00,  1.64s/it]\n"
     ]
    },
    {
     "name": "stdout",
     "output_type": "stream",
     "text": [
      "Checking accuracy on test data\n",
      "Got 8822 / 10000 with accuracy 88.22%\n",
      "Row: 14 | [0, 0.7973, 0.8356, 0.8472, 0.8548, 0.8626, 0.8671, 0.8708, 0.8737, 0.8757, 0.8778, 0.8792, 0.8797, 0.881, 0.8822]\n"
     ]
    },
    {
     "name": "stderr",
     "output_type": "stream",
     "text": [
      "100%|██████████| 5/5 [00:08<00:00,  1.60s/it]\n",
      "100%|██████████| 5/5 [00:08<00:00,  1.62s/it]\n",
      "100%|██████████| 5/5 [00:08<00:00,  1.61s/it]\n",
      "100%|██████████| 5/5 [00:08<00:00,  1.66s/it]\n",
      "100%|██████████| 5/5 [00:08<00:00,  1.61s/it]\n"
     ]
    },
    {
     "name": "stdout",
     "output_type": "stream",
     "text": [
      "Checking accuracy on test data\n",
      "Got 8824 / 10000 with accuracy 88.24%\n",
      "Row: 15 | [0, 0.7973, 0.8356, 0.8472, 0.8548, 0.8626, 0.8671, 0.8708, 0.8737, 0.8757, 0.8778, 0.8792, 0.8797, 0.881, 0.8822, 0.8824]\n"
     ]
    },
    {
     "data": {
      "image/png": "[encoded data removed]",
      "text/plain": [
       "<Figure size 640x480 with 1 Axes>"
      ]
     },
     "metadata": {},
     "output_type": "display_data"
    },
    {
     "name": "stdout",
     "output_type": "stream",
     "text": [
      "--- NEW MODEL 2 --- \n"
     ]
    },
    {
     "name": "stderr",
     "output_type": "stream",
     "text": [
      "100%|██████████| 5/5 [00:07<00:00,  1.60s/it]\n",
      "100%|██████████| 5/5 [00:07<00:00,  1.60s/it]\n",
      "100%|██████████| 5/5 [00:08<00:00,  1.61s/it]\n",
      "100%|██████████| 5/5 [00:08<00:00,  1.61s/it]\n",
      "100%|██████████| 5/5 [00:08<00:00,  1.61s/it]\n"
     ]
    },
    {
     "name": "stdout",
     "output_type": "stream",
     "text": [
      "Checking accuracy on test data\n",
      "Got 8042 / 10000 with accuracy 80.42%\n",
      "Row: 1 | [0, 0.8042]\n"
     ]
    },
    {
     "name": "stderr",
     "output_type": "stream",
     "text": [
      "100%|██████████| 5/5 [00:07<00:00,  1.60s/it]\n",
      "100%|██████████| 5/5 [00:08<00:00,  1.67s/it]\n",
      "100%|██████████| 5/5 [00:08<00:00,  1.60s/it]\n",
      "100%|██████████| 5/5 [00:08<00:00,  1.61s/it]\n",
      "100%|██████████| 5/5 [00:08<00:00,  1.66s/it]\n"
     ]
    },
    {
     "name": "stdout",
     "output_type": "stream",
     "text": [
      "Checking accuracy on test data\n",
      "Got 8341 / 10000 with accuracy 83.41%\n",
      "Row: 2 | [0, 0.8042, 0.8341]\n"
     ]
    },
    {
     "name": "stderr",
     "output_type": "stream",
     "text": [
      "100%|██████████| 5/5 [00:08<00:00,  1.68s/it]\n",
      "100%|██████████| 5/5 [00:08<00:00,  1.66s/it]\n",
      "100%|██████████| 5/5 [00:08<00:00,  1.79s/it]\n",
      "100%|██████████| 5/5 [00:08<00:00,  1.66s/it]\n",
      "100%|██████████| 5/5 [00:08<00:00,  1.70s/it]\n"
     ]
    },
    {
     "name": "stdout",
     "output_type": "stream",
     "text": [
      "Checking accuracy on test data\n",
      "Got 8462 / 10000 with accuracy 84.62%\n",
      "Row: 3 | [0, 0.8042, 0.8341, 0.8462]\n"
     ]
    },
    {
     "name": "stderr",
     "output_type": "stream",
     "text": [
      "100%|██████████| 5/5 [00:08<00:00,  1.66s/it]\n",
      "100%|██████████| 5/5 [00:08<00:00,  1.70s/it]\n",
      "100%|██████████| 5/5 [00:08<00:00,  1.62s/it]\n",
      "100%|██████████| 5/5 [00:08<00:00,  1.62s/it]\n",
      "100%|██████████| 5/5 [00:08<00:00,  1.69s/it]\n"
     ]
    },
    {
     "name": "stdout",
     "output_type": "stream",
     "text": [
      "Checking accuracy on test data\n",
      "Got 8527 / 10000 with accuracy 85.27%\n",
      "Row: 4 | [0, 0.8042, 0.8341, 0.8462, 0.8527]\n"
     ]
    },
    {
     "name": "stderr",
     "output_type": "stream",
     "text": [
      "100%|██████████| 5/5 [00:08<00:00,  1.68s/it]\n",
      "100%|██████████| 5/5 [00:07<00:00,  1.60s/it]\n",
      "100%|██████████| 5/5 [00:08<00:00,  1.66s/it]\n",
      "100%|██████████| 5/5 [00:08<00:00,  1.65s/it]\n",
      "100%|██████████| 5/5 [00:08<00:00,  1.64s/it]\n"
     ]
    },
    {
     "name": "stdout",
     "output_type": "stream",
     "text": [
      "Checking accuracy on test data\n",
      "Got 8581 / 10000 with accuracy 85.81%\n",
      "Row: 5 | [0, 0.8042, 0.8341, 0.8462, 0.8527, 0.8581]\n"
     ]
    },
    {
     "name": "stderr",
     "output_type": "stream",
     "text": [
      "100%|██████████| 5/5 [00:08<00:00,  1.69s/it]\n",
      "100%|██████████| 5/5 [00:08<00:00,  1.65s/it]\n",
      "100%|██████████| 5/5 [00:08<00:00,  1.71s/it]\n",
      "100%|██████████| 5/5 [00:08<00:00,  1.64s/it]\n",
      "100%|██████████| 5/5 [00:08<00:00,  1.67s/it]\n"
     ]
    },
    {
     "name": "stdout",
     "output_type": "stream",
     "text": [
      "Checking accuracy on test data\n",
      "Got 8626 / 10000 with accuracy 86.26%\n",
      "Row: 6 | [0, 0.8042, 0.8341, 0.8462, 0.8527, 0.8581, 0.8626]\n"
     ]
    },
    {
     "name": "stderr",
     "output_type": "stream",
     "text": [
      "100%|██████████| 5/5 [00:08<00:00,  1.67s/it]\n",
      "100%|██████████| 5/5 [00:08<00:00,  1.62s/it]\n",
      "100%|██████████| 5/5 [00:08<00:00,  1.63s/it]\n",
      "100%|██████████| 5/5 [00:08<00:00,  1.63s/it]\n",
      "100%|██████████| 5/5 [00:08<00:00,  1.62s/it]\n"
     ]
    },
    {
     "name": "stdout",
     "output_type": "stream",
     "text": [
      "Checking accuracy on test data\n",
      "Got 8660 / 10000 with accuracy 86.60%\n",
      "Row: 7 | [0, 0.8042, 0.8341, 0.8462, 0.8527, 0.8581, 0.8626, 0.866]\n"
     ]
    },
    {
     "name": "stderr",
     "output_type": "stream",
     "text": [
      "100%|██████████| 5/5 [00:08<00:00,  1.61s/it]\n",
      "100%|██████████| 5/5 [00:08<00:00,  1.67s/it]\n",
      "100%|██████████| 5/5 [00:08<00:00,  1.64s/it]\n",
      "100%|██████████| 5/5 [00:08<00:00,  1.63s/it]\n",
      "100%|██████████| 5/5 [00:08<00:00,  1.63s/it]\n"
     ]
    },
    {
     "name": "stdout",
     "output_type": "stream",
     "text": [
      "Checking accuracy on test data\n",
      "Got 8685 / 10000 with accuracy 86.85%\n",
      "Row: 8 | [0, 0.8042, 0.8341, 0.8462, 0.8527, 0.8581, 0.8626, 0.866, 0.8685]\n"
     ]
    },
    {
     "name": "stderr",
     "output_type": "stream",
     "text": [
      "100%|██████████| 5/5 [00:08<00:00,  1.67s/it]\n",
      "100%|██████████| 5/5 [00:07<00:00,  1.58s/it]\n",
      "100%|██████████| 5/5 [00:08<00:00,  1.62s/it]\n",
      "100%|██████████| 5/5 [00:08<00:00,  1.63s/it]\n",
      "100%|██████████| 5/5 [00:08<00:00,  1.62s/it]\n"
     ]
    },
    {
     "name": "stdout",
     "output_type": "stream",
     "text": [
      "Checking accuracy on test data\n",
      "Got 8701 / 10000 with accuracy 87.01%\n",
      "Row: 9 | [0, 0.8042, 0.8341, 0.8462, 0.8527, 0.8581, 0.8626, 0.866, 0.8685, 0.8701]\n"
     ]
    },
    {
     "name": "stderr",
     "output_type": "stream",
     "text": [
      "100%|██████████| 5/5 [00:07<00:00,  1.59s/it]\n",
      "100%|██████████| 5/5 [00:07<00:00,  1.50s/it]\n",
      "100%|██████████| 5/5 [00:07<00:00,  1.49s/it]\n",
      "100%|██████████| 5/5 [00:07<00:00,  1.48s/it]\n",
      "100%|██████████| 5/5 [00:07<00:00,  1.47s/it]\n"
     ]
    },
    {
     "name": "stdout",
     "output_type": "stream",
     "text": [
      "Checking accuracy on test data\n",
      "Got 8716 / 10000 with accuracy 87.16%\n",
      "Row: 10 | [0, 0.8042, 0.8341, 0.8462, 0.8527, 0.8581, 0.8626, 0.866, 0.8685, 0.8701, 0.8716]\n"
     ]
    },
    {
     "name": "stderr",
     "output_type": "stream",
     "text": [
      "100%|██████████| 5/5 [00:07<00:00,  1.48s/it]\n",
      "100%|██████████| 5/5 [00:07<00:00,  1.48s/it]\n",
      "100%|██████████| 5/5 [00:07<00:00,  1.47s/it]\n",
      "100%|██████████| 5/5 [00:07<00:00,  1.48s/it]\n",
      "100%|██████████| 5/5 [00:07<00:00,  1.50s/it]\n"
     ]
    },
    {
     "name": "stdout",
     "output_type": "stream",
     "text": [
      "Checking accuracy on test data\n",
      "Got 8735 / 10000 with accuracy 87.35%\n",
      "Row: 11 | [0, 0.8042, 0.8341, 0.8462, 0.8527, 0.8581, 0.8626, 0.866, 0.8685, 0.8701, 0.8716, 0.8735]\n"
     ]
    },
    {
     "name": "stderr",
     "output_type": "stream",
     "text": [
      "100%|██████████| 5/5 [00:07<00:00,  1.50s/it]\n",
      "100%|██████████| 5/5 [00:07<00:00,  1.50s/it]\n",
      "100%|██████████| 5/5 [00:07<00:00,  1.50s/it]\n",
      "100%|██████████| 5/5 [00:07<00:00,  1.49s/it]\n",
      "100%|██████████| 5/5 [00:07<00:00,  1.50s/it]\n"
     ]
    },
    {
     "name": "stdout",
     "output_type": "stream",
     "text": [
      "Checking accuracy on test data\n",
      "Got 8743 / 10000 with accuracy 87.43%\n",
      "Row: 12 | [0, 0.8042, 0.8341, 0.8462, 0.8527, 0.8581, 0.8626, 0.866, 0.8685, 0.8701, 0.8716, 0.8735, 0.8743]\n"
     ]
    },
    {
     "name": "stderr",
     "output_type": "stream",
     "text": [
      "100%|██████████| 5/5 [00:07<00:00,  1.48s/it]\n",
      "100%|██████████| 5/5 [00:07<00:00,  1.50s/it]\n",
      "100%|██████████| 5/5 [00:07<00:00,  1.48s/it]\n",
      "100%|██████████| 5/5 [00:07<00:00,  1.51s/it]\n",
      "100%|██████████| 5/5 [00:07<00:00,  1.48s/it]\n"
     ]
    },
    {
     "name": "stdout",
     "output_type": "stream",
     "text": [
      "Checking accuracy on test data\n",
      "Got 8760 / 10000 with accuracy 87.60%\n",
      "Row: 13 | [0, 0.8042, 0.8341, 0.8462, 0.8527, 0.8581, 0.8626, 0.866, 0.8685, 0.8701, 0.8716, 0.8735, 0.8743, 0.876]\n"
     ]
    },
    {
     "name": "stderr",
     "output_type": "stream",
     "text": [
      "100%|██████████| 5/5 [00:07<00:00,  1.49s/it]\n",
      "100%|██████████| 5/5 [00:07<00:00,  1.52s/it]\n",
      "100%|██████████| 5/5 [00:07<00:00,  1.49s/it]\n",
      "100%|██████████| 5/5 [00:07<00:00,  1.49s/it]\n",
      "100%|██████████| 5/5 [00:07<00:00,  1.50s/it]\n"
     ]
    },
    {
     "name": "stdout",
     "output_type": "stream",
     "text": [
      "Checking accuracy on test data\n",
      "Got 8763 / 10000 with accuracy 87.63%\n",
      "Row: 14 | [0, 0.8042, 0.8341, 0.8462, 0.8527, 0.8581, 0.8626, 0.866, 0.8685, 0.8701, 0.8716, 0.8735, 0.8743, 0.876, 0.8763]\n"
     ]
    },
    {
     "name": "stderr",
     "output_type": "stream",
     "text": [
      "100%|██████████| 5/5 [00:07<00:00,  1.48s/it]\n",
      "100%|██████████| 5/5 [00:07<00:00,  1.54s/it]\n",
      "100%|██████████| 5/5 [00:07<00:00,  1.50s/it]\n",
      "100%|██████████| 5/5 [00:07<00:00,  1.49s/it]\n",
      "100%|██████████| 5/5 [00:07<00:00,  1.50s/it]\n"
     ]
    },
    {
     "name": "stdout",
     "output_type": "stream",
     "text": [
      "Checking accuracy on test data\n",
      "Got 8772 / 10000 with accuracy 87.72%\n",
      "Row: 15 | [0, 0.8042, 0.8341, 0.8462, 0.8527, 0.8581, 0.8626, 0.866, 0.8685, 0.8701, 0.8716, 0.8735, 0.8743, 0.876, 0.8763, 0.8772]\n"
     ]
    },
    {
     "data": {
      "image/png": "[encoded data removed]",
      "text/plain": [
       "<Figure size 640x480 with 1 Axes>"
      ]
     },
     "metadata": {},
     "output_type": "display_data"
    },
    {
     "name": "stdout",
     "output_type": "stream",
     "text": [
      "--- NEW MODEL 3 --- \n"
     ]
    },
    {
     "name": "stderr",
     "output_type": "stream",
     "text": [
      "100%|██████████| 5/5 [00:07<00:00,  1.49s/it]\n",
      "100%|██████████| 5/5 [00:07<00:00,  1.49s/it]\n",
      "100%|██████████| 5/5 [00:07<00:00,  1.50s/it]\n",
      "100%|██████████| 5/5 [00:07<00:00,  1.50s/it]\n",
      "100%|██████████| 5/5 [00:07<00:00,  1.49s/it]\n"
     ]
    },
    {
     "name": "stdout",
     "output_type": "stream",
     "text": [
      "Checking accuracy on test data\n",
      "Got 7465 / 10000 with accuracy 74.65%\n",
      "Row: 1 | [0, 0.7465]\n"
     ]
    },
    {
     "name": "stderr",
     "output_type": "stream",
     "text": [
      "100%|██████████| 5/5 [00:07<00:00,  1.50s/it]\n",
      "100%|██████████| 5/5 [00:07<00:00,  1.53s/it]\n",
      "100%|██████████| 5/5 [00:07<00:00,  1.52s/it]\n",
      "100%|██████████| 5/5 [00:07<00:00,  1.53s/it]\n",
      "100%|██████████| 5/5 [00:07<00:00,  1.51s/it]\n"
     ]
    },
    {
     "name": "stdout",
     "output_type": "stream",
     "text": [
      "Checking accuracy on test data\n",
      "Got 7661 / 10000 with accuracy 76.61%\n",
      "Row: 2 | [0, 0.7465, 0.7661]\n"
     ]
    },
    {
     "name": "stderr",
     "output_type": "stream",
     "text": [
      "100%|██████████| 5/5 [00:07<00:00,  1.48s/it]\n",
      "100%|██████████| 5/5 [00:07<00:00,  1.50s/it]\n",
      "100%|██████████| 5/5 [00:07<00:00,  1.48s/it]\n",
      "100%|██████████| 5/5 [00:07<00:00,  1.54s/it]\n",
      "100%|██████████| 5/5 [00:07<00:00,  1.59s/it]\n"
     ]
    },
    {
     "name": "stdout",
     "output_type": "stream",
     "text": [
      "Checking accuracy on test data\n",
      "Got 7718 / 10000 with accuracy 77.18%\n",
      "Row: 3 | [0, 0.7465, 0.7661, 0.7718]\n"
     ]
    },
    {
     "name": "stderr",
     "output_type": "stream",
     "text": [
      "100%|██████████| 5/5 [00:07<00:00,  1.49s/it]\n",
      "100%|██████████| 5/5 [00:07<00:00,  1.48s/it]\n",
      "100%|██████████| 5/5 [00:07<00:00,  1.51s/it]\n",
      "100%|██████████| 5/5 [00:07<00:00,  1.47s/it]\n",
      "100%|██████████| 5/5 [00:07<00:00,  1.53s/it]\n"
     ]
    },
    {
     "name": "stdout",
     "output_type": "stream",
     "text": [
      "Checking accuracy on test data\n",
      "Got 7772 / 10000 with accuracy 77.72%\n",
      "Row: 4 | [0, 0.7465, 0.7661, 0.7718, 0.7772]\n"
     ]
    },
    {
     "name": "stderr",
     "output_type": "stream",
     "text": [
      "100%|██████████| 5/5 [00:07<00:00,  1.50s/it]\n",
      "100%|██████████| 5/5 [00:07<00:00,  1.51s/it]\n",
      "100%|██████████| 5/5 [00:07<00:00,  1.54s/it]\n",
      "100%|██████████| 5/5 [00:07<00:00,  1.51s/it]\n",
      "100%|██████████| 5/5 [00:07<00:00,  1.54s/it]\n"
     ]
    },
    {
     "name": "stdout",
     "output_type": "stream",
     "text": [
      "Checking accuracy on test data\n",
      "Got 7809 / 10000 with accuracy 78.09%\n",
      "Row: 5 | [0, 0.7465, 0.7661, 0.7718, 0.7772, 0.7809]\n"
     ]
    },
    {
     "name": "stderr",
     "output_type": "stream",
     "text": [
      "100%|██████████| 5/5 [00:07<00:00,  1.48s/it]\n",
      "100%|██████████| 5/5 [00:07<00:00,  1.50s/it]\n",
      "100%|██████████| 5/5 [00:07<00:00,  1.50s/it]\n",
      "100%|██████████| 5/5 [00:07<00:00,  1.48s/it]\n",
      "100%|██████████| 5/5 [00:07<00:00,  1.53s/it]\n"
     ]
    },
    {
     "name": "stdout",
     "output_type": "stream",
     "text": [
      "Checking accuracy on test data\n",
      "Got 7836 / 10000 with accuracy 78.36%\n",
      "Row: 6 | [0, 0.7465, 0.7661, 0.7718, 0.7772, 0.7809, 0.7836]\n"
     ]
    },
    {
     "name": "stderr",
     "output_type": "stream",
     "text": [
      "100%|██████████| 5/5 [00:07<00:00,  1.49s/it]\n",
      "100%|██████████| 5/5 [00:07<00:00,  1.50s/it]\n",
      "100%|██████████| 5/5 [00:07<00:00,  1.49s/it]\n",
      "100%|██████████| 5/5 [00:07<00:00,  1.50s/it]\n",
      "100%|██████████| 5/5 [00:07<00:00,  1.57s/it]\n"
     ]
    },
    {
     "name": "stdout",
     "output_type": "stream",
     "text": [
      "Checking accuracy on test data\n",
      "Got 7868 / 10000 with accuracy 78.68%\n",
      "Row: 7 | [0, 0.7465, 0.7661, 0.7718, 0.7772, 0.7809, 0.7836, 0.7868]\n"
     ]
    },
    {
     "name": "stderr",
     "output_type": "stream",
     "text": [
      "100%|██████████| 5/5 [00:07<00:00,  1.49s/it]\n",
      "100%|██████████| 5/5 [00:07<00:00,  1.51s/it]\n",
      "100%|██████████| 5/5 [00:07<00:00,  1.50s/it]\n",
      "100%|██████████| 5/5 [00:07<00:00,  1.50s/it]\n",
      "100%|██████████| 5/5 [00:07<00:00,  1.53s/it]\n"
     ]
    },
    {
     "name": "stdout",
     "output_type": "stream",
     "text": [
      "Checking accuracy on test data\n",
      "Got 7887 / 10000 with accuracy 78.87%\n",
      "Row: 8 | [0, 0.7465, 0.7661, 0.7718, 0.7772, 0.7809, 0.7836, 0.7868, 0.7887]\n"
     ]
    },
    {
     "name": "stderr",
     "output_type": "stream",
     "text": [
      "100%|██████████| 5/5 [00:07<00:00,  1.48s/it]\n",
      "100%|██████████| 5/5 [00:07<00:00,  1.48s/it]\n",
      "100%|██████████| 5/5 [00:07<00:00,  1.49s/it]\n",
      "100%|██████████| 5/5 [00:07<00:00,  1.48s/it]\n",
      "100%|██████████| 5/5 [00:07<00:00,  1.53s/it]\n"
     ]
    },
    {
     "name": "stdout",
     "output_type": "stream",
     "text": [
      "Checking accuracy on test data\n",
      "Got 7911 / 10000 with accuracy 79.11%\n",
      "Row: 9 | [0, 0.7465, 0.7661, 0.7718, 0.7772, 0.7809, 0.7836, 0.7868, 0.7887, 0.7911]\n"
     ]
    },
    {
     "name": "stderr",
     "output_type": "stream",
     "text": [
      "100%|██████████| 5/5 [00:07<00:00,  1.48s/it]\n",
      "100%|██████████| 5/5 [00:07<00:00,  1.49s/it]\n",
      "100%|██████████| 5/5 [00:07<00:00,  1.49s/it]\n",
      "100%|██████████| 5/5 [00:07<00:00,  1.51s/it]\n",
      "100%|██████████| 5/5 [00:07<00:00,  1.52s/it]\n"
     ]
    },
    {
     "name": "stdout",
     "output_type": "stream",
     "text": [
      "Checking accuracy on test data\n",
      "Got 7921 / 10000 with accuracy 79.21%\n",
      "Row: 10 | [0, 0.7465, 0.7661, 0.7718, 0.7772, 0.7809, 0.7836, 0.7868, 0.7887, 0.7911, 0.7921]\n"
     ]
    },
    {
     "name": "stderr",
     "output_type": "stream",
     "text": [
      "100%|██████████| 5/5 [00:07<00:00,  1.48s/it]\n",
      "100%|██████████| 5/5 [00:07<00:00,  1.48s/it]\n",
      "100%|██████████| 5/5 [00:07<00:00,  1.49s/it]\n",
      "100%|██████████| 5/5 [00:07<00:00,  1.49s/it]\n",
      "100%|██████████| 5/5 [00:07<00:00,  1.54s/it]\n"
     ]
    },
    {
     "name": "stdout",
     "output_type": "stream",
     "text": [
      "Checking accuracy on test data\n",
      "Got 7928 / 10000 with accuracy 79.28%\n",
      "Row: 11 | [0, 0.7465, 0.7661, 0.7718, 0.7772, 0.7809, 0.7836, 0.7868, 0.7887, 0.7911, 0.7921, 0.7928]\n"
     ]
    },
    {
     "name": "stderr",
     "output_type": "stream",
     "text": [
      "100%|██████████| 5/5 [00:07<00:00,  1.50s/it]\n",
      "100%|██████████| 5/5 [00:07<00:00,  1.50s/it]\n",
      "100%|██████████| 5/5 [00:07<00:00,  1.55s/it]\n",
      "100%|██████████| 5/5 [00:07<00:00,  1.50s/it]\n",
      "100%|██████████| 5/5 [00:07<00:00,  1.53s/it]\n"
     ]
    },
    {
     "name": "stdout",
     "output_type": "stream",
     "text": [
      "Checking accuracy on test data\n",
      "Got 7932 / 10000 with accuracy 79.32%\n",
      "Row: 12 | [0, 0.7465, 0.7661, 0.7718, 0.7772, 0.7809, 0.7836, 0.7868, 0.7887, 0.7911, 0.7921, 0.7928, 0.7932]\n"
     ]
    },
    {
     "name": "stderr",
     "output_type": "stream",
     "text": [
      "100%|██████████| 5/5 [00:07<00:00,  1.48s/it]\n",
      "100%|██████████| 5/5 [00:07<00:00,  1.49s/it]\n",
      "100%|██████████| 5/5 [00:07<00:00,  1.52s/it]\n",
      "100%|██████████| 5/5 [00:07<00:00,  1.51s/it]\n",
      "100%|██████████| 5/5 [00:07<00:00,  1.55s/it]\n"
     ]
    },
    {
     "name": "stdout",
     "output_type": "stream",
     "text": [
      "Checking accuracy on test data\n",
      "Got 7937 / 10000 with accuracy 79.37%\n",
      "Row: 13 | [0, 0.7465, 0.7661, 0.7718, 0.7772, 0.7809, 0.7836, 0.7868, 0.7887, 0.7911, 0.7921, 0.7928, 0.7932, 0.7937]\n"
     ]
    },
    {
     "name": "stderr",
     "output_type": "stream",
     "text": [
      "100%|██████████| 5/5 [00:07<00:00,  1.50s/it]\n",
      "100%|██████████| 5/5 [00:07<00:00,  1.50s/it]\n",
      "100%|██████████| 5/5 [00:07<00:00,  1.49s/it]\n",
      "100%|██████████| 5/5 [00:07<00:00,  1.49s/it]\n",
      "100%|██████████| 5/5 [00:07<00:00,  1.52s/it]\n"
     ]
    },
    {
     "name": "stdout",
     "output_type": "stream",
     "text": [
      "Checking accuracy on test data\n",
      "Got 7947 / 10000 with accuracy 79.47%\n",
      "Row: 14 | [0, 0.7465, 0.7661, 0.7718, 0.7772, 0.7809, 0.7836, 0.7868, 0.7887, 0.7911, 0.7921, 0.7928, 0.7932, 0.7937, 0.7947]\n"
     ]
    },
    {
     "name": "stderr",
     "output_type": "stream",
     "text": [
      "100%|██████████| 5/5 [00:07<00:00,  1.50s/it]\n",
      "100%|██████████| 5/5 [00:07<00:00,  1.50s/it]\n",
      "100%|██████████| 5/5 [00:07<00:00,  1.50s/it]\n",
      "100%|██████████| 5/5 [00:07<00:00,  1.51s/it]\n",
      "100%|██████████| 5/5 [00:07<00:00,  1.53s/it]\n"
     ]
    },
    {
     "name": "stdout",
     "output_type": "stream",
     "text": [
      "Checking accuracy on test data\n",
      "Got 7949 / 10000 with accuracy 79.49%\n",
      "Row: 15 | [0, 0.7465, 0.7661, 0.7718, 0.7772, 0.7809, 0.7836, 0.7868, 0.7887, 0.7911, 0.7921, 0.7928, 0.7932, 0.7937, 0.7947, 0.7949]\n"
     ]
    },
    {
     "data": {
      "image/png": "[encoded data removed]",
      "text/plain": [
       "<Figure size 640x480 with 1 Axes>"
      ]
     },
     "metadata": {},
     "output_type": "display_data"
    },
    {
     "name": "stdout",
     "output_type": "stream",
     "text": [
      "--- NEW MODEL 4 --- \n"
     ]
    },
    {
     "name": "stderr",
     "output_type": "stream",
     "text": [
      "100%|██████████| 5/5 [00:07<00:00,  1.49s/it]\n",
      "100%|██████████| 5/5 [00:07<00:00,  1.50s/it]\n",
      "100%|██████████| 5/5 [00:07<00:00,  1.50s/it]\n",
      "100%|██████████| 5/5 [00:07<00:00,  1.51s/it]\n",
      "100%|██████████| 5/5 [00:07<00:00,  1.48s/it]\n"
     ]
    },
    {
     "name": "stdout",
     "output_type": "stream",
     "text": [
      "Checking accuracy on test data\n",
      "Got 8906 / 10000 with accuracy 89.06%\n",
      "Row: 1 | [0, 0.8906]\n"
     ]
    },
    {
     "name": "stderr",
     "output_type": "stream",
     "text": [
      "100%|██████████| 5/5 [00:07<00:00,  1.49s/it]\n",
      "100%|██████████| 5/5 [00:07<00:00,  1.48s/it]\n",
      "100%|██████████| 5/5 [00:07<00:00,  1.49s/it]\n",
      "100%|██████████| 5/5 [00:07<00:00,  1.49s/it]\n",
      "100%|██████████| 5/5 [00:07<00:00,  1.51s/it]\n"
     ]
    },
    {
     "name": "stdout",
     "output_type": "stream",
     "text": [
      "Checking accuracy on test data\n",
      "Got 9240 / 10000 with accuracy 92.40%\n",
      "Row: 2 | [0, 0.8906, 0.924]\n"
     ]
    },
    {
     "name": "stderr",
     "output_type": "stream",
     "text": [
      "100%|██████████| 5/5 [00:07<00:00,  1.50s/it]\n",
      "100%|██████████| 5/5 [00:07<00:00,  1.50s/it]\n",
      "100%|██████████| 5/5 [00:07<00:00,  1.49s/it]\n",
      "100%|██████████| 5/5 [00:07<00:00,  1.48s/it]\n",
      "100%|██████████| 5/5 [00:07<00:00,  1.53s/it]\n"
     ]
    },
    {
     "name": "stdout",
     "output_type": "stream",
     "text": [
      "Checking accuracy on test data\n",
      "Got 9382 / 10000 with accuracy 93.82%\n",
      "Row: 3 | [0, 0.8906, 0.924, 0.9382]\n"
     ]
    },
    {
     "name": "stderr",
     "output_type": "stream",
     "text": [
      "100%|██████████| 5/5 [00:07<00:00,  1.48s/it]\n",
      "100%|██████████| 5/5 [00:07<00:00,  1.49s/it]\n",
      "100%|██████████| 5/5 [00:07<00:00,  1.49s/it]\n",
      "100%|██████████| 5/5 [00:07<00:00,  1.51s/it]\n",
      "100%|██████████| 5/5 [00:07<00:00,  1.49s/it]\n"
     ]
    },
    {
     "name": "stdout",
     "output_type": "stream",
     "text": [
      "Checking accuracy on test data\n",
      "Got 9472 / 10000 with accuracy 94.72%\n",
      "Row: 4 | [0, 0.8906, 0.924, 0.9382, 0.9472]\n"
     ]
    },
    {
     "name": "stderr",
     "output_type": "stream",
     "text": [
      "100%|██████████| 5/5 [00:07<00:00,  1.50s/it]\n",
      "100%|██████████| 5/5 [00:07<00:00,  1.52s/it]\n",
      "100%|██████████| 5/5 [00:07<00:00,  1.50s/it]\n",
      "100%|██████████| 5/5 [00:07<00:00,  1.51s/it]\n",
      "100%|██████████| 5/5 [00:07<00:00,  1.52s/it]\n"
     ]
    },
    {
     "name": "stdout",
     "output_type": "stream",
     "text": [
      "Checking accuracy on test data\n",
      "Got 9533 / 10000 with accuracy 95.33%\n",
      "Row: 5 | [0, 0.8906, 0.924, 0.9382, 0.9472, 0.9533]\n"
     ]
    },
    {
     "name": "stderr",
     "output_type": "stream",
     "text": [
      "100%|██████████| 5/5 [00:07<00:00,  1.48s/it]\n",
      "100%|██████████| 5/5 [00:07<00:00,  1.50s/it]\n",
      "100%|██████████| 5/5 [00:07<00:00,  1.49s/it]\n",
      "100%|██████████| 5/5 [00:07<00:00,  1.55s/it]\n",
      "100%|██████████| 5/5 [00:07<00:00,  1.50s/it]\n"
     ]
    },
    {
     "name": "stdout",
     "output_type": "stream",
     "text": [
      "Checking accuracy on test data\n",
      "Got 9579 / 10000 with accuracy 95.79%\n",
      "Row: 6 | [0, 0.8906, 0.924, 0.9382, 0.9472, 0.9533, 0.9579]\n"
     ]
    },
    {
     "name": "stderr",
     "output_type": "stream",
     "text": [
      "100%|██████████| 5/5 [00:07<00:00,  1.49s/it]\n",
      "100%|██████████| 5/5 [00:07<00:00,  1.49s/it]\n",
      "100%|██████████| 5/5 [00:07<00:00,  1.49s/it]\n",
      "100%|██████████| 5/5 [00:07<00:00,  1.50s/it]\n",
      "100%|██████████| 5/5 [00:07<00:00,  1.53s/it]\n"
     ]
    },
    {
     "name": "stdout",
     "output_type": "stream",
     "text": [
      "Checking accuracy on test data\n",
      "Got 9622 / 10000 with accuracy 96.22%\n",
      "Row: 7 | [0, 0.8906, 0.924, 0.9382, 0.9472, 0.9533, 0.9579, 0.9622]\n"
     ]
    },
    {
     "name": "stderr",
     "output_type": "stream",
     "text": [
      "100%|██████████| 5/5 [00:07<00:00,  1.51s/it]\n",
      "100%|██████████| 5/5 [00:07<00:00,  1.48s/it]\n",
      "100%|██████████| 5/5 [00:07<00:00,  1.54s/it]\n",
      "100%|██████████| 5/5 [00:07<00:00,  1.49s/it]\n",
      "100%|██████████| 5/5 [00:07<00:00,  1.51s/it]\n"
     ]
    },
    {
     "name": "stdout",
     "output_type": "stream",
     "text": [
      "Checking accuracy on test data\n",
      "Got 9649 / 10000 with accuracy 96.49%\n",
      "Row: 8 | [0, 0.8906, 0.924, 0.9382, 0.9472, 0.9533, 0.9579, 0.9622, 0.9649]\n"
     ]
    },
    {
     "name": "stderr",
     "output_type": "stream",
     "text": [
      "100%|██████████| 5/5 [00:07<00:00,  1.47s/it]\n",
      "100%|██████████| 5/5 [00:07<00:00,  1.52s/it]\n",
      "100%|██████████| 5/5 [00:07<00:00,  1.51s/it]\n",
      "100%|██████████| 5/5 [00:07<00:00,  1.49s/it]\n",
      "100%|██████████| 5/5 [00:07<00:00,  1.54s/it]\n"
     ]
    },
    {
     "name": "stdout",
     "output_type": "stream",
     "text": [
      "Checking accuracy on test data\n",
      "Got 9664 / 10000 with accuracy 96.64%\n",
      "Row: 9 | [0, 0.8906, 0.924, 0.9382, 0.9472, 0.9533, 0.9579, 0.9622, 0.9649, 0.9664]\n"
     ]
    },
    {
     "name": "stderr",
     "output_type": "stream",
     "text": [
      "100%|██████████| 5/5 [00:07<00:00,  1.49s/it]\n",
      "100%|██████████| 5/5 [00:07<00:00,  1.49s/it]\n",
      "100%|██████████| 5/5 [00:07<00:00,  1.49s/it]\n",
      "100%|██████████| 5/5 [00:07<00:00,  1.50s/it]\n",
      "100%|██████████| 5/5 [00:07<00:00,  1.54s/it]\n"
     ]
    },
    {
     "name": "stdout",
     "output_type": "stream",
     "text": [
      "Checking accuracy on test data\n",
      "Got 9693 / 10000 with accuracy 96.93%\n",
      "Row: 10 | [0, 0.8906, 0.924, 0.9382, 0.9472, 0.9533, 0.9579, 0.9622, 0.9649, 0.9664, 0.9693]\n"
     ]
    },
    {
     "name": "stderr",
     "output_type": "stream",
     "text": [
      "100%|██████████| 5/5 [00:07<00:00,  1.48s/it]\n",
      "100%|██████████| 5/5 [00:07<00:00,  1.51s/it]\n",
      "100%|██████████| 5/5 [00:07<00:00,  1.50s/it]\n",
      "100%|██████████| 5/5 [00:07<00:00,  1.50s/it]\n",
      "100%|██████████| 5/5 [00:07<00:00,  1.52s/it]\n"
     ]
    },
    {
     "name": "stdout",
     "output_type": "stream",
     "text": [
      "Checking accuracy on test data\n",
      "Got 9710 / 10000 with accuracy 97.10%\n",
      "Row: 11 | [0, 0.8906, 0.924, 0.9382, 0.9472, 0.9533, 0.9579, 0.9622, 0.9649, 0.9664, 0.9693, 0.971]\n"
     ]
    },
    {
     "name": "stderr",
     "output_type": "stream",
     "text": [
      "100%|██████████| 5/5 [00:07<00:00,  1.48s/it]\n",
      "100%|██████████| 5/5 [00:07<00:00,  1.49s/it]\n",
      "100%|██████████| 5/5 [00:07<00:00,  1.49s/it]\n",
      "100%|██████████| 5/5 [00:07<00:00,  1.50s/it]\n",
      "100%|██████████| 5/5 [00:07<00:00,  1.53s/it]\n"
     ]
    },
    {
     "name": "stdout",
     "output_type": "stream",
     "text": [
      "Checking accuracy on test data\n",
      "Got 9718 / 10000 with accuracy 97.18%\n",
      "Row: 12 | [0, 0.8906, 0.924, 0.9382, 0.9472, 0.9533, 0.9579, 0.9622, 0.9649, 0.9664, 0.9693, 0.971, 0.9718]\n"
     ]
    },
    {
     "name": "stderr",
     "output_type": "stream",
     "text": [
      "100%|██████████| 5/5 [00:07<00:00,  1.49s/it]\n",
      "100%|██████████| 5/5 [00:07<00:00,  1.49s/it]\n",
      "100%|██████████| 5/5 [00:07<00:00,  1.48s/it]\n",
      "100%|██████████| 5/5 [00:07<00:00,  1.51s/it]\n",
      "100%|██████████| 5/5 [00:07<00:00,  1.54s/it]\n"
     ]
    },
    {
     "name": "stdout",
     "output_type": "stream",
     "text": [
      "Checking accuracy on test data\n",
      "Got 9733 / 10000 with accuracy 97.33%\n",
      "Row: 13 | [0, 0.8906, 0.924, 0.9382, 0.9472, 0.9533, 0.9579, 0.9622, 0.9649, 0.9664, 0.9693, 0.971, 0.9718, 0.9733]\n"
     ]
    },
    {
     "name": "stderr",
     "output_type": "stream",
     "text": [
      "100%|██████████| 5/5 [00:07<00:00,  1.48s/it]\n",
      "100%|██████████| 5/5 [00:07<00:00,  1.49s/it]\n",
      "100%|██████████| 5/5 [00:07<00:00,  1.49s/it]\n",
      "100%|██████████| 5/5 [00:07<00:00,  1.53s/it]\n",
      "100%|██████████| 5/5 [00:07<00:00,  1.54s/it]\n"
     ]
    },
    {
     "name": "stdout",
     "output_type": "stream",
     "text": [
      "Checking accuracy on test data\n",
      "Got 9742 / 10000 with accuracy 97.42%\n",
      "Row: 14 | [0, 0.8906, 0.924, 0.9382, 0.9472, 0.9533, 0.9579, 0.9622, 0.9649, 0.9664, 0.9693, 0.971, 0.9718, 0.9733, 0.9742]\n"
     ]
    },
    {
     "name": "stderr",
     "output_type": "stream",
     "text": [
      "100%|██████████| 5/5 [00:07<00:00,  1.48s/it]\n",
      "100%|██████████| 5/5 [00:07<00:00,  1.49s/it]\n",
      "100%|██████████| 5/5 [00:07<00:00,  1.49s/it]\n",
      "100%|██████████| 5/5 [00:07<00:00,  1.49s/it]\n",
      "100%|██████████| 5/5 [00:07<00:00,  1.52s/it]\n"
     ]
    },
    {
     "name": "stdout",
     "output_type": "stream",
     "text": [
      "Checking accuracy on test data\n",
      "Got 9754 / 10000 with accuracy 97.54%\n",
      "Row: 15 | [0, 0.8906, 0.924, 0.9382, 0.9472, 0.9533, 0.9579, 0.9622, 0.9649, 0.9664, 0.9693, 0.971, 0.9718, 0.9733, 0.9742, 0.9754]\n"
     ]
    },
    {
     "data": {
      "image/png": "[encoded data removed]",
      "text/plain": [
       "<Figure size 640x480 with 1 Axes>"
      ]
     },
     "metadata": {},
     "output_type": "display_data"
    },
    {
     "name": "stdout",
     "output_type": "stream",
     "text": [
      "Test 0: [0, 0.7974, 0.8889, 0.9147, 0.9287, 0.9373, 0.9448, 0.9505, 0.9547, 0.9587, 0.9614, 0.9638, 0.9663, 0.9673, 0.9685, 0.9694]\n",
      "Test 1: [0, 0.7973, 0.8356, 0.8472, 0.8548, 0.8626, 0.8671, 0.8708, 0.8737, 0.8757, 0.8778, 0.8792, 0.8797, 0.881, 0.8822, 0.8824]\n",
      "Test 2: [0, 0.8042, 0.8341, 0.8462, 0.8527, 0.8581, 0.8626, 0.866, 0.8685, 0.8701, 0.8716, 0.8735, 0.8743, 0.876, 0.8763, 0.8772]\n",
      "Test 3: [0, 0.7465, 0.7661, 0.7718, 0.7772, 0.7809, 0.7836, 0.7868, 0.7887, 0.7911, 0.7921, 0.7928, 0.7932, 0.7937, 0.7947, 0.7949]\n",
      "Test 4: [0, 0.8906, 0.924, 0.9382, 0.9472, 0.9533, 0.9579, 0.9622, 0.9649, 0.9664, 0.9693, 0.971, 0.9718, 0.9733, 0.9742, 0.9754]\n"
     ]
    }
   ],
   "source": [
    "num_trainings = 15\n",
    "acc_dict = {}\n",
    "acc_dict[0] = 0\n",
    "\n",
    "num_trials = 5\n",
    "\n",
    "data = {}\n",
    "\n",
    "# Loop through number of trials\n",
    "for trial in range(num_trials):\n",
    "  print(f\"--- NEW MODEL {trial} --- \")\n",
    "  data[trial] = run_trials(num_trainings)\n",
    "\n",
    "# Print data after all runs\n",
    "for i in range(num_trials):\n",
    "  print(f\"Test {i}: {data[i]}\")\n"
   ]
  },
  {
   "cell_type": "code",
   "execution_count": 94,
   "metadata": {},
   "outputs": [
    {
     "name": "stdout",
     "output_type": "stream",
     "text": [
      "         0       1       2       3       4\n",
      "0   0.0000  0.0000  0.0000  0.0000  0.0000\n",
      "1   0.7974  0.7973  0.8042  0.7465  0.8906\n",
      "2   0.8889  0.8356  0.8341  0.7661  0.9240\n",
      "3   0.9147  0.8472  0.8462  0.7718  0.9382\n",
      "4   0.9287  0.8548  0.8527  0.7772  0.9472\n",
      "5   0.9373  0.8626  0.8581  0.7809  0.9533\n",
      "6   0.9448  0.8671  0.8626  0.7836  0.9579\n",
      "7   0.9505  0.8708  0.8660  0.7868  0.9622\n",
      "8   0.9547  0.8737  0.8685  0.7887  0.9649\n",
      "9   0.9587  0.8757  0.8701  0.7911  0.9664\n",
      "10  0.9614  0.8778  0.8716  0.7921  0.9693\n",
      "11  0.9638  0.8792  0.8735  0.7928  0.9710\n",
      "12  0.9663  0.8797  0.8743  0.7932  0.9718\n",
      "13  0.9673  0.8810  0.8760  0.7937  0.9733\n",
      "14  0.9685  0.8822  0.8763  0.7947  0.9742\n",
      "15  0.9694  0.8824  0.8772  0.7949  0.9754\n"
     ]
    },
    {
     "data": {
      "text/plain": [
       "<ErrorbarContainer object of 3 artists>"
      ]
     },
     "execution_count": 94,
     "metadata": {},
     "output_type": "execute_result"
    },
    {
     "data": {
      "image/png": "[encoded data removed]",
      "text/plain": [
       "<Figure size 640x480 with 1 Axes>"
      ]
     },
     "metadata": {},
     "output_type": "display_data"
    }
   ],
   "source": [
    "# Convert list of data over tests into a data frame\n",
    "df = pd.DataFrame(data)\n",
    "print(df)\n",
    "\n",
    "x_values = list(range(len(df)))\n",
    "trial_idx_list = list(range(num_trials))\n",
    "\n",
    "ci_values = []\n",
    "mean_values = df[trial_idx_list].mean(axis=1).tolist()\n",
    "\n",
    "# Calculate confidence intervals for each training\n",
    "for _, row in df[trial_idx_list].iterrows():\n",
    "  mean = row.mean()\n",
    "  sem = row.sem()\n",
    "  ci = sem * 1.96  # 95% confidence interval\n",
    "  ci_values.append(ci)\n",
    "\n",
    "plt.title(f\"Standard Feedforward ANN\\n Average Accuracy Over {num_trials} Trials with {num_tests} Trainings Each\\n 95% Confidence Intervals\")\n",
    "plt.xlabel(\"Number of trainings\")\n",
    "plt.ylabel(\"Accuracy\")\n",
    "plt.xticks(np.arange(0, num_trainings + 1, 1))\n",
    "plt.yticks(np.arange(0, 1.1, 0.1))\n",
    "\n",
    "sns.lineplot(x = x_values, y = mean_values)\n",
    "plt.errorbar(x = x_values, y = mean_values, yerr=ci_values, linestyle='None', color='red')"
   ]
  }
 ],
 "metadata": {
  "colab": {
   "provenance": []
  },
  "kernelspec": {
   "display_name": "Python 3 (ipykernel)",
   "language": "python",
   "name": "python3"
  },
  "language_info": {
   "codemirror_mode": {
    "name": "ipython",
    "version": 3
   },
   "file_extension": ".py",
   "mimetype": "text/x-python",
   "name": "python",
   "nbconvert_exporter": "python",
   "pygments_lexer": "ipython3",
   "version": "3.11.3"
  }
 },
 "nbformat": 4,
 "nbformat_minor": 1
}
