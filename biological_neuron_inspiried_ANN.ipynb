{
 "cells": [
  {
   "cell_type": "code",
   "execution_count": 12,
   "metadata": {},
   "outputs": [],
   "source": [
    "# Imports\n",
    "import torch\n",
    "import torch.nn as nn  # All neural network modules \n",
    "import torch.nn.init as init    # For weight initializations\n",
    "import torch.optim as optim  # For all optimization algorithms, SGD, Adam, etc.\n",
    "import torch.nn.functional as F  # All functions that don't have any parameters\n",
    "from torch.utils.data import (\n",
    "    DataLoader,\n",
    ")  # Gives easier dataset managment and creates mini batches\n",
    "import torchvision.datasets as datasets  # Has standard datasets we can import in a clear way\n",
    "import torchvision.transforms as transforms  # Transformations we can perform on our dataset\n",
    "from tqdm import tqdm # For progress bars \n",
    "import matplotlib.pyplot as plt # For graphing  \n",
    "import numpy as np  # For graphing  \n",
    "import pandas as pd     # For data frames\n",
    "import seaborn as sns   # For graphing\n",
    "\n",
    "device = torch.device(\"cuda\" if torch.cuda.is_available() else \"cpu\") \n"
   ]
  },
  {
   "cell_type": "code",
   "execution_count": 13,
   "metadata": {},
   "outputs": [],
   "source": [
    "# Hyperparameters\n",
    "learning_rate = 1e-3\n",
    "batch_size = 12000\n",
    "num_epoches = 5"
   ]
  },
  {
   "cell_type": "code",
   "execution_count": 14,
   "metadata": {
    "scrolled": true
   },
   "outputs": [
    {
     "name": "stdout",
     "output_type": "stream",
     "text": [
      "Number of training images: 60000\n",
      "Number of test images: 10000\n"
     ]
    }
   ],
   "source": [
    "# Get MNIST data\n",
    "train_ds = datasets.MNIST(\n",
    "    root=\"dataset/\", train=True, transform=transforms.ToTensor(), download=True\n",
    ")\n",
    "train_loader = DataLoader(dataset=train_ds, batch_size=batch_size, shuffle=True)\n",
    "\n",
    "test_ds = datasets.MNIST(\n",
    "    root=\"dataset/\", train=False, transform=transforms.ToTensor(), download=True\n",
    ")\n",
    "test_loader = DataLoader(dataset=test_ds, batch_size=batch_size, shuffle=False)\n",
    "\n",
    "# Print the number of images in the training set\n",
    "print(\"Number of training images:\", len(train_ds))\n",
    "\n",
    "# Print the number of images in the test set\n",
    "print(\"Number of test images:\", len(test_ds))\n"
   ]
  },
  {
   "cell_type": "code",
   "execution_count": 15,
   "metadata": {},
   "outputs": [],
   "source": [
    "class OverallNet(nn.Module):\n",
    "  def __init__(self, num_dendritic_inputs, num_neurons, num_dendrite_neuron_layers):\n",
    "    super().__init__()\n",
    "    # Input: 28 by 28 pixel image = 784 artifical neurons\n",
    "    # Output: Digit from zero to nine\n",
    "    \n",
    "    if num_dendrite_neuron_layers == 1:\n",
    "      self.layer1 = nn.Linear(784, num_dendritic_inputs)\n",
    "      self.layer2 = nn.Linear(num_dendritic_inputs, num_neurons)\n",
    "      self.layer3 = nn.Linear(num_neurons, 10)\n",
    "\n",
    "      # Apply He weight initialization\n",
    "      init.kaiming_uniform_(self.layer1.weight, mode=\"fan_in\", nonlinearity=\"relu\")\n",
    "      init.kaiming_uniform_(self.layer2.weight, mode=\"fan_in\", nonlinearity=\"relu\")\n",
    "      init.kaiming_uniform_(self.layer3.weight, mode=\"fan_in\", nonlinearity=\"relu\")\n",
    "\n",
    "    elif num_dendrite_neuron_layers == 2:\n",
    "      self.layer1 = nn.Linear(784, num_dendritic_inputs)\n",
    "      self.layer2 = nn.Linear(num_dendritic_inputs, num_neurons)\n",
    "      self.layer3 = nn.Linear(num_neurons, num_dendritic_inputs)\n",
    "      self.layer4 = nn.Linear(num_dendritic_inputs, num_neurons)\n",
    "      self.layer5 = nn.Linear(num_neurons, 10)\n",
    "\n",
    "    # Apply He weight initialization\n",
    "      init.kaiming_uniform_(self.layer1.weight, mode=\"fan_in\", nonlinearity=\"relu\")\n",
    "      init.kaiming_uniform_(self.layer2.weight, mode=\"fan_in\", nonlinearity=\"relu\")\n",
    "      init.kaiming_uniform_(self.layer3.weight, mode=\"fan_in\", nonlinearity=\"relu\")\n",
    "      init.kaiming_uniform_(self.layer4.weight, mode=\"fan_in\", nonlinearity=\"relu\")\n",
    "      init.kaiming_uniform_(self.layer5.weight, mode=\"fan_in\", nonlinearity=\"relu\")\n",
    "\n",
    "    self.R = nn.ReLU()\n",
    "\n",
    "  def forward(self, x, num_neurons, chunk_size, num_dendrite_neuron_layers):\n",
    "    x = x.view(-1,28**2)\n",
    "    x = self.R(self.layer1(x))\n",
    "\n",
    "    # Debug only: \n",
    "    # print(x.size())\n",
    "    # print(self.layer2.bias.size())\n",
    "\n",
    "    somas_1 = []\n",
    "  \n",
    "    # Iterate through all output neurons to get their individual feedforward result\n",
    "    # Layer 2 to 3 dendrites to somas\n",
    "    for i in range(num_neurons):\n",
    "      chunk_neuron_input = x[:, (chunk_size * i):(chunk_size * i + chunk_size)]   # Divide chunk of converging inputs by 8\n",
    "      layer2_weights = nn.Parameter(self.layer2.weight[i, (chunk_size * i):(chunk_size * i + chunk_size)].unsqueeze(0))   # Divide chunk of converging weights by 16\n",
    "      layer2_bias = nn.Parameter(self.layer2.bias[i]) # Set bias for the nueron of interest\n",
    "  \n",
    "      # Debug only: \n",
    "      # print(chunk_neuron_input.size())\n",
    "      # print(layer2_weights.size())\n",
    "      # print(layer2_bias.size())\n",
    "      \n",
    "      neuron_forward = self.R(torch.mm(chunk_neuron_input, layer2_weights.t()) + layer2_bias)\n",
    "      \n",
    "      somas_1.append(neuron_forward)\n",
    "      \n",
    "      # Debug only: \n",
    "      # print(somas)\n",
    "\n",
    "    x = torch.cat(somas_1, dim=1) # concatenate the resulting matrices of layer 2\n",
    "    x = self.R(self.layer3(x))\n",
    "\n",
    "    # Debug only: \n",
    "    # print(x.size())\n",
    "    # print(self.layer4.weight.size())\n",
    "    # print(self.layer5.bias.size())\n",
    "    # print(self.layer5.bias)\n",
    "\n",
    "    if num_dendrite_neuron_layers == 2:\n",
    "      somas_2 = []\n",
    "\n",
    "      # Layer 4 to 5 dendrites to somas\n",
    "      for i in range(num_neurons):\n",
    "          # print(i)\n",
    "          chunk_neuron_input = x[:, (chunk_size * i):(chunk_size * i + chunk_size)]   # Divide chunk of converging inputs by 8\n",
    "          layer4_weights = nn.Parameter(self.layer4.weight[i, (chunk_size * i):(chunk_size * i + chunk_size)].unsqueeze(0))   # Divide chunk of converging weights by 16\n",
    "          layer4_bias = nn.Parameter(self.layer4.bias[i]) # Set bias for the nueron of interest\n",
    "      \n",
    "          # Debug only: \n",
    "          # print(layer5_bias)\n",
    "          # print(chunk_neuron_input.size())\n",
    "          # print(layer4_weights.size())\n",
    "          # print(layer5_bias.size())\n",
    "          \n",
    "          neuron_forward = self.R(torch.mm(chunk_neuron_input, layer4_weights.t()) + layer4_bias)\n",
    "          \n",
    "          somas_2.append(neuron_forward)\n",
    "          \n",
    "          # Debug only: \n",
    "          # print(somas)\n",
    "\n",
    "      x = torch.cat(somas_2, dim=1) # concatenate the resulting matrices of layer 4\n",
    "\n",
    "      x = self.R(self.layer5(x))\n",
    "    \n",
    "    return x"
   ]
  },
  {
   "cell_type": "code",
   "execution_count": 16,
   "metadata": {
    "scrolled": true
   },
   "outputs": [],
   "source": [
    "# Check parameter matrix sizes\n",
    "def print_parameter_info(model):\n",
    "    for name, param in model.named_parameters():\n",
    "        print(name)\n",
    "        print(type(param), param.size())"
   ]
  },
  {
   "cell_type": "code",
   "execution_count": 17,
   "metadata": {},
   "outputs": [],
   "source": [
    "def freeze_network_layers(model):\n",
    "  # Freeze weights and biases\n",
    "  for name, param in model.named_parameters():\n",
    "    # Freeze layer 1's weights and biases if set to False\n",
    "    if param.requires_grad and 'layer1' in name:\n",
    "        param.requires_grad = True\n",
    "    # Freeze layer 2's weights and biases\n",
    "    elif param.requires_grad and 'layer2' in name: \n",
    "        param.requires_grad = False               \n",
    "    # # Freeze layer 3's weights and biases if set to False\n",
    "    # elif param.requires_grad and 'layer3' in name:\n",
    "    #     param.requires_grad = True\n",
    "    # # Freeze layer 4's weights and biases \n",
    "    # elif param.requires_grad and 'layer4' in name:\n",
    "    #     # Freeze layer 4's weights and biases if set to False\n",
    "    #     param.requires_grad = True"
   ]
  },
  {
   "cell_type": "code",
   "execution_count": 18,
   "metadata": {},
   "outputs": [],
   "source": [
    "# Train Network\n",
    "def train_network(device, num_epoches, train_loader, model, criterion, optimizer, num_neurons, chunk_size, num_dendrite_neuron_layers):\n",
    "    for epoch in range(num_epoches):\n",
    "        losses = []\n",
    "\n",
    "        for batch_idx, (data, targets) in enumerate(tqdm(train_loader)):\n",
    "            # Get data to cuda if possible\n",
    "            data = data.to(device=device)\n",
    "            targets = targets.to(device=device)\n",
    "\n",
    "            # forward\n",
    "            scores = model(data, num_neurons, chunk_size, num_dendrite_neuron_layers)\n",
    "            loss = criterion(scores, targets)\n",
    "\n",
    "            losses.append(loss.item())\n",
    "            # backward\n",
    "            optimizer.zero_grad()\n",
    "            loss.backward()\n",
    "\n",
    "            # gradient descent or adam step\n",
    "            optimizer.step()\n",
    "\n",
    "        # print(f\"Cost at epoch {epoch} is {sum(losses)/len(losses):.5f}\")\n"
   ]
  },
  {
   "cell_type": "code",
   "execution_count": 19,
   "metadata": {},
   "outputs": [],
   "source": [
    "def check_accuracy(loader, model, num_neurons, chunk_size, num_dendrite_neuron_layers):\n",
    "    if loader.dataset.train:\n",
    "        print(\"Checking accuracy on training data\")\n",
    "    else:\n",
    "        print(\"Checking accuracy on test data\")\n",
    "\n",
    "    num_correct = 0\n",
    "    num_samples = 0\n",
    "    model.eval()\n",
    "\n",
    "    with torch.no_grad():\n",
    "        for x, y in loader:\n",
    "            x = x.to(device=device)\n",
    "            y = y.to(device=device)\n",
    "\n",
    "            scores = model(x, num_neurons, chunk_size, num_dendrite_neuron_layers)\n",
    "            _, predictions = scores.max(1)\n",
    "            num_correct += (predictions == y).sum()\n",
    "            num_samples += predictions.size(0)\n",
    "\n",
    "        accuracy = float(num_correct)/float(num_samples)\n",
    "        print(f\"Got {num_correct} / {num_samples} with accuracy {accuracy*100:.2f}%\")\n",
    "\n",
    "    # Set the model mode to train\n",
    "    model.train()\n",
    "    return accuracy"
   ]
  },
  {
   "cell_type": "code",
   "execution_count": 20,
   "metadata": {
    "scrolled": true
   },
   "outputs": [],
   "source": [
    "def run_trials(num_dendritic_inputs, num_neurons, num_dendrite_neuron_layers, num_trainings):\n",
    "  acc_dict = {}\n",
    "  acc_dict[0] = 0\n",
    "\n",
    "  chunk_size = num_dendritic_inputs // num_neurons\n",
    "  model = OverallNet(num_dendritic_inputs, num_neurons, num_dendrite_neuron_layers)\n",
    "  freeze_network_layers(model)\n",
    "  print_parameter_info(model) \n",
    "  criterion = nn.CrossEntropyLoss()\n",
    "  optimizer = optim.Adam(model.parameters(), lr=learning_rate)\n",
    "  \n",
    "  for training in range(num_trainings):\n",
    "    train_network(device, num_epoches, train_loader, model, criterion, optimizer, num_neurons, chunk_size, num_dendrite_neuron_layers)\n",
    "    \n",
    "    acc_dict[training + 1] = check_accuracy(test_loader, model, num_neurons, chunk_size, num_dendrite_neuron_layers)\n",
    "    print(f\"Row: {training + 1} | {num_dendritic_inputs} | {num_neurons} | {list(acc_dict.values())}\")\n",
    "\n",
    "  # Plot graph of accuracies after the trial\n",
    "  ypoints = np.array(list(acc_dict.values()))\n",
    "  plt.xticks(np.arange(0, len(ypoints), 1.0))\n",
    "  plt.xlabel(\"Number of trainings\")\n",
    "  plt.ylabel(\"Accuracy\")\n",
    "  plt.title(f\"{num_dendrite_neuron_layers} layers of {num_dendritic_inputs} dendrites and {num_neurons} neurons\")\n",
    "  plt.plot(ypoints)\n",
    "  plt.show()\n",
    "\n",
    "  return list(acc_dict.values())"
   ]
  },
  {
   "cell_type": "code",
   "execution_count": 21,
   "metadata": {},
   "outputs": [
    {
     "name": "stdout",
     "output_type": "stream",
     "text": [
      "--- NEW MODEL 0 --- \n",
      "layer1.weight\n",
      "<class 'torch.nn.parameter.Parameter'> torch.Size([392, 784])\n",
      "layer1.bias\n",
      "<class 'torch.nn.parameter.Parameter'> torch.Size([392])\n",
      "layer2.weight\n",
      "<class 'torch.nn.parameter.Parameter'> torch.Size([14, 392])\n",
      "layer2.bias\n",
      "<class 'torch.nn.parameter.Parameter'> torch.Size([14])\n",
      "layer3.weight\n",
      "<class 'torch.nn.parameter.Parameter'> torch.Size([10, 14])\n",
      "layer3.bias\n",
      "<class 'torch.nn.parameter.Parameter'> torch.Size([10])\n"
     ]
    },
    {
     "name": "stderr",
     "output_type": "stream",
     "text": [
      "100%|██████████| 5/5 [00:10<00:00,  2.08s/it]\n",
      "100%|██████████| 5/5 [00:09<00:00,  1.88s/it]\n",
      "100%|██████████| 5/5 [00:09<00:00,  1.93s/it]\n",
      "100%|██████████| 5/5 [00:10<00:00,  2.00s/it]\n",
      "100%|██████████| 5/5 [00:09<00:00,  1.92s/it]\n"
     ]
    },
    {
     "name": "stdout",
     "output_type": "stream",
     "text": [
      "Checking accuracy on test data\n",
      "Got 6054 / 10000 with accuracy 60.54%\n",
      "Row: 1 | 392 | 14 | [0, 0.6054]\n"
     ]
    },
    {
     "name": "stderr",
     "output_type": "stream",
     "text": [
      "100%|██████████| 5/5 [00:09<00:00,  1.94s/it]\n",
      "100%|██████████| 5/5 [00:09<00:00,  1.98s/it]\n",
      "100%|██████████| 5/5 [00:09<00:00,  1.93s/it]\n",
      "100%|██████████| 5/5 [00:09<00:00,  1.94s/it]\n",
      "100%|██████████| 5/5 [00:09<00:00,  1.93s/it]\n"
     ]
    },
    {
     "name": "stdout",
     "output_type": "stream",
     "text": [
      "Checking accuracy on test data\n",
      "Got 7116 / 10000 with accuracy 71.16%\n",
      "Row: 2 | 392 | 14 | [0, 0.6054, 0.7116]\n"
     ]
    },
    {
     "name": "stderr",
     "output_type": "stream",
     "text": [
      "100%|██████████| 5/5 [00:09<00:00,  1.90s/it]\n",
      "100%|██████████| 5/5 [00:09<00:00,  2.00s/it]\n",
      "100%|██████████| 5/5 [00:10<00:00,  2.01s/it]\n",
      "100%|██████████| 5/5 [00:09<00:00,  2.00s/it]\n",
      "100%|██████████| 5/5 [00:09<00:00,  1.97s/it]\n"
     ]
    },
    {
     "name": "stdout",
     "output_type": "stream",
     "text": [
      "Checking accuracy on test data\n",
      "Got 7333 / 10000 with accuracy 73.33%\n",
      "Row: 3 | 392 | 14 | [0, 0.6054, 0.7116, 0.7333]\n"
     ]
    },
    {
     "name": "stderr",
     "output_type": "stream",
     "text": [
      "100%|██████████| 5/5 [00:09<00:00,  1.90s/it]\n",
      "100%|██████████| 5/5 [00:09<00:00,  1.92s/it]\n",
      "100%|██████████| 5/5 [00:09<00:00,  1.93s/it]\n",
      "100%|██████████| 5/5 [00:09<00:00,  1.95s/it]\n",
      "100%|██████████| 5/5 [00:09<00:00,  1.92s/it]\n"
     ]
    },
    {
     "name": "stdout",
     "output_type": "stream",
     "text": [
      "Checking accuracy on test data\n",
      "Got 7677 / 10000 with accuracy 76.77%\n",
      "Row: 4 | 392 | 14 | [0, 0.6054, 0.7116, 0.7333, 0.7677]\n"
     ]
    },
    {
     "name": "stderr",
     "output_type": "stream",
     "text": [
      "100%|██████████| 5/5 [00:09<00:00,  1.87s/it]\n",
      "100%|██████████| 5/5 [00:09<00:00,  1.88s/it]\n",
      "100%|██████████| 5/5 [00:09<00:00,  1.87s/it]\n",
      "100%|██████████| 5/5 [00:09<00:00,  1.90s/it]\n",
      "100%|██████████| 5/5 [00:09<00:00,  1.88s/it]\n"
     ]
    },
    {
     "name": "stdout",
     "output_type": "stream",
     "text": [
      "Checking accuracy on test data\n",
      "Got 7879 / 10000 with accuracy 78.79%\n",
      "Row: 5 | 392 | 14 | [0, 0.6054, 0.7116, 0.7333, 0.7677, 0.7879]\n"
     ]
    },
    {
     "name": "stderr",
     "output_type": "stream",
     "text": [
      "100%|██████████| 5/5 [00:09<00:00,  1.88s/it]\n",
      "100%|██████████| 5/5 [00:09<00:00,  1.91s/it]\n",
      "100%|██████████| 5/5 [00:09<00:00,  1.84s/it]\n",
      "100%|██████████| 5/5 [00:09<00:00,  1.95s/it]\n",
      "100%|██████████| 5/5 [00:09<00:00,  1.87s/it]\n"
     ]
    },
    {
     "name": "stdout",
     "output_type": "stream",
     "text": [
      "Checking accuracy on test data\n",
      "Got 7996 / 10000 with accuracy 79.96%\n",
      "Row: 6 | 392 | 14 | [0, 0.6054, 0.7116, 0.7333, 0.7677, 0.7879, 0.7996]\n"
     ]
    },
    {
     "name": "stderr",
     "output_type": "stream",
     "text": [
      "100%|██████████| 5/5 [00:09<00:00,  1.93s/it]\n",
      "100%|██████████| 5/5 [00:09<00:00,  1.95s/it]\n",
      "100%|██████████| 5/5 [00:09<00:00,  1.91s/it]\n",
      "100%|██████████| 5/5 [00:09<00:00,  1.94s/it]\n",
      "100%|██████████| 5/5 [00:09<00:00,  1.92s/it]\n"
     ]
    },
    {
     "name": "stdout",
     "output_type": "stream",
     "text": [
      "Checking accuracy on test data\n",
      "Got 8084 / 10000 with accuracy 80.84%\n",
      "Row: 7 | 392 | 14 | [0, 0.6054, 0.7116, 0.7333, 0.7677, 0.7879, 0.7996, 0.8084]\n"
     ]
    },
    {
     "name": "stderr",
     "output_type": "stream",
     "text": [
      "100%|██████████| 5/5 [00:09<00:00,  1.94s/it]\n",
      "100%|██████████| 5/5 [00:09<00:00,  1.86s/it]\n",
      "100%|██████████| 5/5 [00:09<00:00,  1.92s/it]\n",
      "100%|██████████| 5/5 [00:09<00:00,  1.85s/it]\n",
      "100%|██████████| 5/5 [00:09<00:00,  1.91s/it]\n"
     ]
    },
    {
     "name": "stdout",
     "output_type": "stream",
     "text": [
      "Checking accuracy on test data\n",
      "Got 8158 / 10000 with accuracy 81.58%\n",
      "Row: 8 | 392 | 14 | [0, 0.6054, 0.7116, 0.7333, 0.7677, 0.7879, 0.7996, 0.8084, 0.8158]\n"
     ]
    },
    {
     "name": "stderr",
     "output_type": "stream",
     "text": [
      "100%|██████████| 5/5 [00:09<00:00,  1.88s/it]\n",
      "100%|██████████| 5/5 [00:09<00:00,  1.86s/it]\n",
      "100%|██████████| 5/5 [00:09<00:00,  1.95s/it]\n",
      "100%|██████████| 5/5 [00:09<00:00,  1.90s/it]\n",
      "100%|██████████| 5/5 [00:09<00:00,  1.86s/it]\n"
     ]
    },
    {
     "name": "stdout",
     "output_type": "stream",
     "text": [
      "Checking accuracy on test data\n",
      "Got 8217 / 10000 with accuracy 82.17%\n",
      "Row: 9 | 392 | 14 | [0, 0.6054, 0.7116, 0.7333, 0.7677, 0.7879, 0.7996, 0.8084, 0.8158, 0.8217]\n"
     ]
    },
    {
     "name": "stderr",
     "output_type": "stream",
     "text": [
      "100%|██████████| 5/5 [00:09<00:00,  1.91s/it]\n",
      "100%|██████████| 5/5 [00:09<00:00,  1.92s/it]\n",
      "100%|██████████| 5/5 [00:09<00:00,  1.90s/it]\n",
      "100%|██████████| 5/5 [00:09<00:00,  1.89s/it]\n",
      "100%|██████████| 5/5 [00:09<00:00,  1.94s/it]\n"
     ]
    },
    {
     "name": "stdout",
     "output_type": "stream",
     "text": [
      "Checking accuracy on test data\n",
      "Got 8260 / 10000 with accuracy 82.60%\n",
      "Row: 10 | 392 | 14 | [0, 0.6054, 0.7116, 0.7333, 0.7677, 0.7879, 0.7996, 0.8084, 0.8158, 0.8217, 0.826]\n"
     ]
    },
    {
     "name": "stderr",
     "output_type": "stream",
     "text": [
      "100%|██████████| 5/5 [00:09<00:00,  1.93s/it]\n",
      "100%|██████████| 5/5 [00:09<00:00,  1.83s/it]\n",
      "100%|██████████| 5/5 [00:09<00:00,  1.87s/it]\n",
      "100%|██████████| 5/5 [00:09<00:00,  1.90s/it]\n",
      "100%|██████████| 5/5 [00:09<00:00,  1.87s/it]\n"
     ]
    },
    {
     "name": "stdout",
     "output_type": "stream",
     "text": [
      "Checking accuracy on test data\n",
      "Got 8308 / 10000 with accuracy 83.08%\n",
      "Row: 11 | 392 | 14 | [0, 0.6054, 0.7116, 0.7333, 0.7677, 0.7879, 0.7996, 0.8084, 0.8158, 0.8217, 0.826, 0.8308]\n"
     ]
    },
    {
     "name": "stderr",
     "output_type": "stream",
     "text": [
      "100%|██████████| 5/5 [00:09<00:00,  1.92s/it]\n",
      "100%|██████████| 5/5 [00:09<00:00,  1.85s/it]\n",
      "100%|██████████| 5/5 [00:09<00:00,  1.87s/it]\n",
      "100%|██████████| 5/5 [00:09<00:00,  1.88s/it]\n",
      "100%|██████████| 5/5 [00:09<00:00,  1.89s/it]\n"
     ]
    },
    {
     "name": "stdout",
     "output_type": "stream",
     "text": [
      "Checking accuracy on test data\n",
      "Got 8335 / 10000 with accuracy 83.35%\n",
      "Row: 12 | 392 | 14 | [0, 0.6054, 0.7116, 0.7333, 0.7677, 0.7879, 0.7996, 0.8084, 0.8158, 0.8217, 0.826, 0.8308, 0.8335]\n"
     ]
    },
    {
     "name": "stderr",
     "output_type": "stream",
     "text": [
      "100%|██████████| 5/5 [00:09<00:00,  1.98s/it]\n",
      "100%|██████████| 5/5 [00:09<00:00,  1.89s/it]\n",
      "100%|██████████| 5/5 [00:09<00:00,  1.91s/it]\n",
      "100%|██████████| 5/5 [00:09<00:00,  1.90s/it]\n",
      "100%|██████████| 5/5 [00:09<00:00,  1.90s/it]\n"
     ]
    },
    {
     "name": "stdout",
     "output_type": "stream",
     "text": [
      "Checking accuracy on test data\n",
      "Got 8357 / 10000 with accuracy 83.57%\n",
      "Row: 13 | 392 | 14 | [0, 0.6054, 0.7116, 0.7333, 0.7677, 0.7879, 0.7996, 0.8084, 0.8158, 0.8217, 0.826, 0.8308, 0.8335, 0.8357]\n"
     ]
    },
    {
     "name": "stderr",
     "output_type": "stream",
     "text": [
      "100%|██████████| 5/5 [00:09<00:00,  1.96s/it]\n",
      "100%|██████████| 5/5 [00:09<00:00,  1.90s/it]\n",
      "100%|██████████| 5/5 [00:09<00:00,  1.95s/it]\n",
      "100%|██████████| 5/5 [00:09<00:00,  1.91s/it]\n",
      "100%|██████████| 5/5 [00:09<00:00,  1.90s/it]\n"
     ]
    },
    {
     "name": "stdout",
     "output_type": "stream",
     "text": [
      "Checking accuracy on test data\n",
      "Got 8382 / 10000 with accuracy 83.82%\n",
      "Row: 14 | 392 | 14 | [0, 0.6054, 0.7116, 0.7333, 0.7677, 0.7879, 0.7996, 0.8084, 0.8158, 0.8217, 0.826, 0.8308, 0.8335, 0.8357, 0.8382]\n"
     ]
    },
    {
     "name": "stderr",
     "output_type": "stream",
     "text": [
      "100%|██████████| 5/5 [00:09<00:00,  1.96s/it]\n",
      "100%|██████████| 5/5 [00:09<00:00,  1.88s/it]\n",
      "100%|██████████| 5/5 [00:09<00:00,  1.89s/it]\n",
      "100%|██████████| 5/5 [00:09<00:00,  1.85s/it]\n",
      "100%|██████████| 5/5 [00:09<00:00,  1.87s/it]\n"
     ]
    },
    {
     "name": "stdout",
     "output_type": "stream",
     "text": [
      "Checking accuracy on test data\n",
      "Got 8407 / 10000 with accuracy 84.07%\n",
      "Row: 15 | 392 | 14 | [0, 0.6054, 0.7116, 0.7333, 0.7677, 0.7879, 0.7996, 0.8084, 0.8158, 0.8217, 0.826, 0.8308, 0.8335, 0.8357, 0.8382, 0.8407]\n"
     ]
    },
    {
     "data": {
      "image/png": "[encoded data removed]",
      "text/plain": [
       "<Figure size 640x480 with 1 Axes>"
      ]
     },
     "metadata": {},
     "output_type": "display_data"
    },
    {
     "name": "stdout",
     "output_type": "stream",
     "text": [
      "--- NEW MODEL 1 --- \n",
      "layer1.weight\n",
      "<class 'torch.nn.parameter.Parameter'> torch.Size([392, 784])\n",
      "layer1.bias\n",
      "<class 'torch.nn.parameter.Parameter'> torch.Size([392])\n",
      "layer2.weight\n",
      "<class 'torch.nn.parameter.Parameter'> torch.Size([14, 392])\n",
      "layer2.bias\n",
      "<class 'torch.nn.parameter.Parameter'> torch.Size([14])\n",
      "layer3.weight\n",
      "<class 'torch.nn.parameter.Parameter'> torch.Size([10, 14])\n",
      "layer3.bias\n",
      "<class 'torch.nn.parameter.Parameter'> torch.Size([10])\n"
     ]
    },
    {
     "name": "stderr",
     "output_type": "stream",
     "text": [
      "100%|██████████| 5/5 [00:09<00:00,  1.91s/it]\n",
      "100%|██████████| 5/5 [00:09<00:00,  1.91s/it]\n",
      "100%|██████████| 5/5 [00:09<00:00,  1.92s/it]\n",
      "100%|██████████| 5/5 [00:09<00:00,  1.93s/it]\n",
      "100%|██████████| 5/5 [00:09<00:00,  1.92s/it]\n"
     ]
    },
    {
     "name": "stdout",
     "output_type": "stream",
     "text": [
      "Checking accuracy on test data\n",
      "Got 5540 / 10000 with accuracy 55.40%\n",
      "Row: 1 | 392 | 14 | [0, 0.554]\n"
     ]
    },
    {
     "name": "stderr",
     "output_type": "stream",
     "text": [
      "100%|██████████| 5/5 [00:09<00:00,  1.92s/it]\n",
      "100%|██████████| 5/5 [00:09<00:00,  1.98s/it]\n",
      "100%|██████████| 5/5 [00:09<00:00,  1.92s/it]\n",
      "100%|██████████| 5/5 [00:09<00:00,  1.99s/it]\n",
      "100%|██████████| 5/5 [00:09<00:00,  1.96s/it]\n"
     ]
    },
    {
     "name": "stdout",
     "output_type": "stream",
     "text": [
      "Checking accuracy on test data\n",
      "Got 6490 / 10000 with accuracy 64.90%\n",
      "Row: 2 | 392 | 14 | [0, 0.554, 0.649]\n"
     ]
    },
    {
     "name": "stderr",
     "output_type": "stream",
     "text": [
      "100%|██████████| 5/5 [00:09<00:00,  1.91s/it]\n",
      "100%|██████████| 5/5 [00:09<00:00,  1.91s/it]\n",
      "100%|██████████| 5/5 [00:09<00:00,  1.92s/it]\n",
      "100%|██████████| 5/5 [00:09<00:00,  1.91s/it]\n",
      "100%|██████████| 5/5 [00:09<00:00,  1.89s/it]\n"
     ]
    },
    {
     "name": "stdout",
     "output_type": "stream",
     "text": [
      "Checking accuracy on test data\n",
      "Got 6592 / 10000 with accuracy 65.92%\n",
      "Row: 3 | 392 | 14 | [0, 0.554, 0.649, 0.6592]\n"
     ]
    },
    {
     "name": "stderr",
     "output_type": "stream",
     "text": [
      "100%|██████████| 5/5 [00:09<00:00,  1.89s/it]\n",
      "100%|██████████| 5/5 [00:09<00:00,  1.98s/it]\n",
      "100%|██████████| 5/5 [00:09<00:00,  1.95s/it]\n",
      "100%|██████████| 5/5 [00:09<00:00,  1.92s/it]\n",
      "100%|██████████| 5/5 [00:09<00:00,  1.96s/it]\n"
     ]
    },
    {
     "name": "stdout",
     "output_type": "stream",
     "text": [
      "Checking accuracy on test data\n",
      "Got 7459 / 10000 with accuracy 74.59%\n",
      "Row: 4 | 392 | 14 | [0, 0.554, 0.649, 0.6592, 0.7459]\n"
     ]
    },
    {
     "name": "stderr",
     "output_type": "stream",
     "text": [
      "100%|██████████| 5/5 [00:09<00:00,  1.93s/it]\n",
      "100%|██████████| 5/5 [00:09<00:00,  1.88s/it]\n",
      "100%|██████████| 5/5 [00:09<00:00,  1.88s/it]\n",
      "100%|██████████| 5/5 [00:09<00:00,  1.89s/it]\n",
      "100%|██████████| 5/5 [00:09<00:00,  1.95s/it]\n"
     ]
    },
    {
     "name": "stdout",
     "output_type": "stream",
     "text": [
      "Checking accuracy on test data\n",
      "Got 7523 / 10000 with accuracy 75.23%\n",
      "Row: 5 | 392 | 14 | [0, 0.554, 0.649, 0.6592, 0.7459, 0.7523]\n"
     ]
    },
    {
     "name": "stderr",
     "output_type": "stream",
     "text": [
      "100%|██████████| 5/5 [00:09<00:00,  1.98s/it]\n",
      "100%|██████████| 5/5 [00:09<00:00,  1.91s/it]\n",
      "100%|██████████| 5/5 [00:09<00:00,  1.97s/it]\n",
      "100%|██████████| 5/5 [00:09<00:00,  1.91s/it]\n",
      "100%|██████████| 5/5 [00:09<00:00,  1.95s/it]\n"
     ]
    },
    {
     "name": "stdout",
     "output_type": "stream",
     "text": [
      "Checking accuracy on test data\n",
      "Got 7553 / 10000 with accuracy 75.53%\n",
      "Row: 6 | 392 | 14 | [0, 0.554, 0.649, 0.6592, 0.7459, 0.7523, 0.7553]\n"
     ]
    },
    {
     "name": "stderr",
     "output_type": "stream",
     "text": [
      "100%|██████████| 5/5 [00:09<00:00,  1.99s/it]\n",
      "100%|██████████| 5/5 [00:12<00:00,  2.50s/it]\n",
      "100%|██████████| 5/5 [00:16<00:00,  3.37s/it]\n",
      "100%|██████████| 5/5 [00:16<00:00,  3.39s/it]\n",
      "100%|██████████| 5/5 [00:15<00:00,  3.14s/it]\n"
     ]
    },
    {
     "name": "stdout",
     "output_type": "stream",
     "text": [
      "Checking accuracy on test data\n",
      "Got 7575 / 10000 with accuracy 75.75%\n",
      "Row: 7 | 392 | 14 | [0, 0.554, 0.649, 0.6592, 0.7459, 0.7523, 0.7553, 0.7575]\n"
     ]
    },
    {
     "name": "stderr",
     "output_type": "stream",
     "text": [
      "100%|██████████| 5/5 [00:16<00:00,  3.39s/it]\n",
      "100%|██████████| 5/5 [00:16<00:00,  3.28s/it]\n",
      "100%|██████████| 5/5 [00:16<00:00,  3.35s/it]\n",
      "100%|██████████| 5/5 [00:16<00:00,  3.28s/it]\n",
      "100%|██████████| 5/5 [00:16<00:00,  3.37s/it]\n"
     ]
    },
    {
     "name": "stdout",
     "output_type": "stream",
     "text": [
      "Checking accuracy on test data\n",
      "Got 7603 / 10000 with accuracy 76.03%\n",
      "Row: 8 | 392 | 14 | [0, 0.554, 0.649, 0.6592, 0.7459, 0.7523, 0.7553, 0.7575, 0.7603]\n"
     ]
    },
    {
     "name": "stderr",
     "output_type": "stream",
     "text": [
      "100%|██████████| 5/5 [00:16<00:00,  3.28s/it]\n",
      "100%|██████████| 5/5 [00:16<00:00,  3.34s/it]\n",
      "100%|██████████| 5/5 [00:17<00:00,  3.42s/it]\n",
      "100%|██████████| 5/5 [00:16<00:00,  3.31s/it]\n",
      "100%|██████████| 5/5 [00:16<00:00,  3.37s/it]\n"
     ]
    },
    {
     "name": "stdout",
     "output_type": "stream",
     "text": [
      "Checking accuracy on test data\n",
      "Got 8396 / 10000 with accuracy 83.96%\n",
      "Row: 9 | 392 | 14 | [0, 0.554, 0.649, 0.6592, 0.7459, 0.7523, 0.7553, 0.7575, 0.7603, 0.8396]\n"
     ]
    },
    {
     "name": "stderr",
     "output_type": "stream",
     "text": [
      "100%|██████████| 5/5 [00:16<00:00,  3.37s/it]\n",
      "100%|██████████| 5/5 [00:16<00:00,  3.33s/it]\n",
      "100%|██████████| 5/5 [00:16<00:00,  3.30s/it]\n",
      "100%|██████████| 5/5 [00:16<00:00,  3.34s/it]\n",
      "100%|██████████| 5/5 [00:16<00:00,  3.27s/it]\n"
     ]
    },
    {
     "name": "stdout",
     "output_type": "stream",
     "text": [
      "Checking accuracy on test data\n",
      "Got 8503 / 10000 with accuracy 85.03%\n",
      "Row: 10 | 392 | 14 | [0, 0.554, 0.649, 0.6592, 0.7459, 0.7523, 0.7553, 0.7575, 0.7603, 0.8396, 0.8503]\n"
     ]
    },
    {
     "name": "stderr",
     "output_type": "stream",
     "text": [
      "100%|██████████| 5/5 [00:17<00:00,  3.40s/it]\n",
      "100%|██████████| 5/5 [00:17<00:00,  3.47s/it]\n",
      "100%|██████████| 5/5 [00:16<00:00,  3.40s/it]\n",
      "100%|██████████| 5/5 [00:17<00:00,  3.44s/it]\n",
      "100%|██████████| 5/5 [00:17<00:00,  3.42s/it]\n"
     ]
    },
    {
     "name": "stdout",
     "output_type": "stream",
     "text": [
      "Checking accuracy on test data\n",
      "Got 8534 / 10000 with accuracy 85.34%\n",
      "Row: 11 | 392 | 14 | [0, 0.554, 0.649, 0.6592, 0.7459, 0.7523, 0.7553, 0.7575, 0.7603, 0.8396, 0.8503, 0.8534]\n"
     ]
    },
    {
     "name": "stderr",
     "output_type": "stream",
     "text": [
      "100%|██████████| 5/5 [00:17<00:00,  3.41s/it]\n",
      "100%|██████████| 5/5 [00:16<00:00,  3.36s/it]\n",
      "100%|██████████| 5/5 [00:16<00:00,  3.30s/it]\n",
      "100%|██████████| 5/5 [00:17<00:00,  3.41s/it]\n",
      "100%|██████████| 5/5 [00:16<00:00,  3.34s/it]\n"
     ]
    },
    {
     "name": "stdout",
     "output_type": "stream",
     "text": [
      "Checking accuracy on test data\n",
      "Got 8546 / 10000 with accuracy 85.46%\n",
      "Row: 12 | 392 | 14 | [0, 0.554, 0.649, 0.6592, 0.7459, 0.7523, 0.7553, 0.7575, 0.7603, 0.8396, 0.8503, 0.8534, 0.8546]\n"
     ]
    },
    {
     "name": "stderr",
     "output_type": "stream",
     "text": [
      "100%|██████████| 5/5 [00:16<00:00,  3.36s/it]\n",
      "100%|██████████| 5/5 [00:16<00:00,  3.37s/it]\n",
      "100%|██████████| 5/5 [00:16<00:00,  3.38s/it]\n",
      "100%|██████████| 5/5 [00:16<00:00,  3.39s/it]\n",
      "100%|██████████| 5/5 [00:17<00:00,  3.50s/it]\n"
     ]
    },
    {
     "name": "stdout",
     "output_type": "stream",
     "text": [
      "Checking accuracy on test data\n",
      "Got 8563 / 10000 with accuracy 85.63%\n",
      "Row: 13 | 392 | 14 | [0, 0.554, 0.649, 0.6592, 0.7459, 0.7523, 0.7553, 0.7575, 0.7603, 0.8396, 0.8503, 0.8534, 0.8546, 0.8563]\n"
     ]
    },
    {
     "name": "stderr",
     "output_type": "stream",
     "text": [
      "100%|██████████| 5/5 [00:17<00:00,  3.45s/it]\n",
      "100%|██████████| 5/5 [00:16<00:00,  3.28s/it]\n",
      "100%|██████████| 5/5 [00:16<00:00,  3.33s/it]\n",
      "100%|██████████| 5/5 [00:16<00:00,  3.32s/it]\n",
      "100%|██████████| 5/5 [00:16<00:00,  3.34s/it]\n"
     ]
    },
    {
     "name": "stdout",
     "output_type": "stream",
     "text": [
      "Checking accuracy on test data\n",
      "Got 8579 / 10000 with accuracy 85.79%\n",
      "Row: 14 | 392 | 14 | [0, 0.554, 0.649, 0.6592, 0.7459, 0.7523, 0.7553, 0.7575, 0.7603, 0.8396, 0.8503, 0.8534, 0.8546, 0.8563, 0.8579]\n"
     ]
    },
    {
     "name": "stderr",
     "output_type": "stream",
     "text": [
      "100%|██████████| 5/5 [00:17<00:00,  3.42s/it]\n",
      "100%|██████████| 5/5 [00:16<00:00,  3.37s/it]\n",
      "100%|██████████| 5/5 [00:16<00:00,  3.34s/it]\n",
      "100%|██████████| 5/5 [00:16<00:00,  3.38s/it]\n",
      "100%|██████████| 5/5 [00:16<00:00,  3.40s/it]\n"
     ]
    },
    {
     "name": "stdout",
     "output_type": "stream",
     "text": [
      "Checking accuracy on test data\n",
      "Got 8600 / 10000 with accuracy 86.00%\n",
      "Row: 15 | 392 | 14 | [0, 0.554, 0.649, 0.6592, 0.7459, 0.7523, 0.7553, 0.7575, 0.7603, 0.8396, 0.8503, 0.8534, 0.8546, 0.8563, 0.8579, 0.86]\n"
     ]
    },
    {
     "data": {
      "image/png": "[encoded data removed]",
      "text/plain": [
       "<Figure size 640x480 with 1 Axes>"
      ]
     },
     "metadata": {},
     "output_type": "display_data"
    },
    {
     "name": "stdout",
     "output_type": "stream",
     "text": [
      "--- NEW MODEL 2 --- \n",
      "layer1.weight\n",
      "<class 'torch.nn.parameter.Parameter'> torch.Size([392, 784])\n",
      "layer1.bias\n",
      "<class 'torch.nn.parameter.Parameter'> torch.Size([392])\n",
      "layer2.weight\n",
      "<class 'torch.nn.parameter.Parameter'> torch.Size([14, 392])\n",
      "layer2.bias\n",
      "<class 'torch.nn.parameter.Parameter'> torch.Size([14])\n",
      "layer3.weight\n",
      "<class 'torch.nn.parameter.Parameter'> torch.Size([10, 14])\n",
      "layer3.bias\n",
      "<class 'torch.nn.parameter.Parameter'> torch.Size([10])\n"
     ]
    },
    {
     "name": "stderr",
     "output_type": "stream",
     "text": [
      "100%|██████████| 5/5 [00:16<00:00,  3.39s/it]\n",
      "100%|██████████| 5/5 [00:16<00:00,  3.39s/it]\n",
      "100%|██████████| 5/5 [00:17<00:00,  3.46s/it]\n",
      "100%|██████████| 5/5 [00:16<00:00,  3.32s/it]\n",
      "100%|██████████| 5/5 [00:16<00:00,  3.40s/it]\n"
     ]
    },
    {
     "name": "stdout",
     "output_type": "stream",
     "text": [
      "Checking accuracy on test data\n",
      "Got 6241 / 10000 with accuracy 62.41%\n",
      "Row: 1 | 392 | 14 | [0, 0.6241]\n"
     ]
    },
    {
     "name": "stderr",
     "output_type": "stream",
     "text": [
      "100%|██████████| 5/5 [00:16<00:00,  3.40s/it]\n",
      "100%|██████████| 5/5 [00:16<00:00,  3.38s/it]\n",
      "100%|██████████| 5/5 [00:16<00:00,  3.39s/it]\n",
      "100%|██████████| 5/5 [00:15<00:00,  3.07s/it]\n",
      "100%|██████████| 5/5 [00:15<00:00,  3.17s/it]\n"
     ]
    },
    {
     "name": "stdout",
     "output_type": "stream",
     "text": [
      "Checking accuracy on test data\n",
      "Got 7667 / 10000 with accuracy 76.67%\n",
      "Row: 2 | 392 | 14 | [0, 0.6241, 0.7667]\n"
     ]
    },
    {
     "name": "stderr",
     "output_type": "stream",
     "text": [
      "100%|██████████| 5/5 [00:16<00:00,  3.39s/it]\n",
      "100%|██████████| 5/5 [00:16<00:00,  3.34s/it]\n",
      "100%|██████████| 5/5 [00:17<00:00,  3.42s/it]\n",
      "100%|██████████| 5/5 [00:16<00:00,  3.35s/it]\n",
      "100%|██████████| 5/5 [00:16<00:00,  3.36s/it]\n"
     ]
    },
    {
     "name": "stdout",
     "output_type": "stream",
     "text": [
      "Checking accuracy on test data\n",
      "Got 8743 / 10000 with accuracy 87.43%\n",
      "Row: 3 | 392 | 14 | [0, 0.6241, 0.7667, 0.8743]\n"
     ]
    },
    {
     "name": "stderr",
     "output_type": "stream",
     "text": [
      "100%|██████████| 5/5 [00:15<00:00,  3.14s/it]\n",
      "100%|██████████| 5/5 [00:16<00:00,  3.36s/it]\n",
      "100%|██████████| 5/5 [00:16<00:00,  3.34s/it]\n",
      "100%|██████████| 5/5 [00:16<00:00,  3.30s/it]\n",
      "100%|██████████| 5/5 [00:16<00:00,  3.32s/it]\n"
     ]
    },
    {
     "name": "stdout",
     "output_type": "stream",
     "text": [
      "Checking accuracy on test data\n",
      "Got 8965 / 10000 with accuracy 89.65%\n",
      "Row: 4 | 392 | 14 | [0, 0.6241, 0.7667, 0.8743, 0.8965]\n"
     ]
    },
    {
     "name": "stderr",
     "output_type": "stream",
     "text": [
      "100%|██████████| 5/5 [00:17<00:00,  3.41s/it]\n",
      "100%|██████████| 5/5 [00:16<00:00,  3.39s/it]\n",
      "100%|██████████| 5/5 [00:16<00:00,  3.26s/it]\n",
      "100%|██████████| 5/5 [00:15<00:00,  3.09s/it]\n",
      "100%|██████████| 5/5 [00:14<00:00,  2.99s/it]\n"
     ]
    },
    {
     "name": "stdout",
     "output_type": "stream",
     "text": [
      "Checking accuracy on test data\n",
      "Got 9085 / 10000 with accuracy 90.85%\n",
      "Row: 5 | 392 | 14 | [0, 0.6241, 0.7667, 0.8743, 0.8965, 0.9085]\n"
     ]
    },
    {
     "name": "stderr",
     "output_type": "stream",
     "text": [
      "100%|██████████| 5/5 [00:16<00:00,  3.34s/it]\n",
      "100%|██████████| 5/5 [00:16<00:00,  3.33s/it]\n",
      "100%|██████████| 5/5 [00:16<00:00,  3.31s/it]\n",
      "100%|██████████| 5/5 [00:16<00:00,  3.31s/it]\n",
      "100%|██████████| 5/5 [00:16<00:00,  3.35s/it]\n"
     ]
    },
    {
     "name": "stdout",
     "output_type": "stream",
     "text": [
      "Checking accuracy on test data\n",
      "Got 9158 / 10000 with accuracy 91.58%\n",
      "Row: 6 | 392 | 14 | [0, 0.6241, 0.7667, 0.8743, 0.8965, 0.9085, 0.9158]\n"
     ]
    },
    {
     "name": "stderr",
     "output_type": "stream",
     "text": [
      "100%|██████████| 5/5 [00:17<00:00,  3.53s/it]\n",
      "100%|██████████| 5/5 [00:17<00:00,  3.52s/it]\n",
      "100%|██████████| 5/5 [00:17<00:00,  3.40s/it]\n",
      "100%|██████████| 5/5 [00:16<00:00,  3.37s/it]\n",
      "100%|██████████| 5/5 [00:16<00:00,  3.37s/it]\n"
     ]
    },
    {
     "name": "stdout",
     "output_type": "stream",
     "text": [
      "Checking accuracy on test data\n",
      "Got 9214 / 10000 with accuracy 92.14%\n",
      "Row: 7 | 392 | 14 | [0, 0.6241, 0.7667, 0.8743, 0.8965, 0.9085, 0.9158, 0.9214]\n"
     ]
    },
    {
     "name": "stderr",
     "output_type": "stream",
     "text": [
      "100%|██████████| 5/5 [00:16<00:00,  3.33s/it]\n",
      "100%|██████████| 5/5 [00:16<00:00,  3.33s/it]\n",
      "100%|██████████| 5/5 [00:16<00:00,  3.37s/it]\n",
      "100%|██████████| 5/5 [00:16<00:00,  3.38s/it]\n",
      "100%|██████████| 5/5 [00:16<00:00,  3.36s/it]\n"
     ]
    },
    {
     "name": "stdout",
     "output_type": "stream",
     "text": [
      "Checking accuracy on test data\n",
      "Got 9257 / 10000 with accuracy 92.57%\n",
      "Row: 8 | 392 | 14 | [0, 0.6241, 0.7667, 0.8743, 0.8965, 0.9085, 0.9158, 0.9214, 0.9257]\n"
     ]
    },
    {
     "name": "stderr",
     "output_type": "stream",
     "text": [
      "100%|██████████| 5/5 [00:15<00:00,  3.11s/it]\n",
      "100%|██████████| 5/5 [00:17<00:00,  3.43s/it]\n",
      "100%|██████████| 5/5 [00:16<00:00,  3.32s/it]\n",
      "100%|██████████| 5/5 [00:16<00:00,  3.38s/it]\n",
      "100%|██████████| 5/5 [00:16<00:00,  3.32s/it]\n"
     ]
    },
    {
     "name": "stdout",
     "output_type": "stream",
     "text": [
      "Checking accuracy on test data\n",
      "Got 9300 / 10000 with accuracy 93.00%\n",
      "Row: 9 | 392 | 14 | [0, 0.6241, 0.7667, 0.8743, 0.8965, 0.9085, 0.9158, 0.9214, 0.9257, 0.93]\n"
     ]
    },
    {
     "name": "stderr",
     "output_type": "stream",
     "text": [
      "100%|██████████| 5/5 [00:16<00:00,  3.38s/it]\n",
      "100%|██████████| 5/5 [00:16<00:00,  3.29s/it]\n",
      "100%|██████████| 5/5 [00:16<00:00,  3.28s/it]\n",
      "100%|██████████| 5/5 [00:16<00:00,  3.36s/it]\n",
      "100%|██████████| 5/5 [00:16<00:00,  3.34s/it]\n"
     ]
    },
    {
     "name": "stdout",
     "output_type": "stream",
     "text": [
      "Checking accuracy on test data\n",
      "Got 9324 / 10000 with accuracy 93.24%\n",
      "Row: 10 | 392 | 14 | [0, 0.6241, 0.7667, 0.8743, 0.8965, 0.9085, 0.9158, 0.9214, 0.9257, 0.93, 0.9324]\n"
     ]
    },
    {
     "name": "stderr",
     "output_type": "stream",
     "text": [
      "100%|██████████| 5/5 [00:16<00:00,  3.33s/it]\n",
      "100%|██████████| 5/5 [00:16<00:00,  3.32s/it]\n",
      "100%|██████████| 5/5 [00:16<00:00,  3.26s/it]\n",
      "100%|██████████| 5/5 [00:16<00:00,  3.28s/it]\n",
      "100%|██████████| 5/5 [00:16<00:00,  3.33s/it]\n"
     ]
    },
    {
     "name": "stdout",
     "output_type": "stream",
     "text": [
      "Checking accuracy on test data\n",
      "Got 9349 / 10000 with accuracy 93.49%\n",
      "Row: 11 | 392 | 14 | [0, 0.6241, 0.7667, 0.8743, 0.8965, 0.9085, 0.9158, 0.9214, 0.9257, 0.93, 0.9324, 0.9349]\n"
     ]
    },
    {
     "name": "stderr",
     "output_type": "stream",
     "text": [
      "100%|██████████| 5/5 [00:16<00:00,  3.30s/it]\n",
      "100%|██████████| 5/5 [00:16<00:00,  3.30s/it]\n",
      "100%|██████████| 5/5 [00:16<00:00,  3.36s/it]\n",
      "100%|██████████| 5/5 [00:16<00:00,  3.39s/it]\n",
      "100%|██████████| 5/5 [00:16<00:00,  3.28s/it]\n"
     ]
    },
    {
     "name": "stdout",
     "output_type": "stream",
     "text": [
      "Checking accuracy on test data\n",
      "Got 9373 / 10000 with accuracy 93.73%\n",
      "Row: 12 | 392 | 14 | [0, 0.6241, 0.7667, 0.8743, 0.8965, 0.9085, 0.9158, 0.9214, 0.9257, 0.93, 0.9324, 0.9349, 0.9373]\n"
     ]
    },
    {
     "name": "stderr",
     "output_type": "stream",
     "text": [
      "100%|██████████| 5/5 [00:16<00:00,  3.34s/it]\n",
      "100%|██████████| 5/5 [00:16<00:00,  3.29s/it]\n",
      "100%|██████████| 5/5 [00:16<00:00,  3.34s/it]\n",
      "100%|██████████| 5/5 [00:16<00:00,  3.27s/it]\n",
      "100%|██████████| 5/5 [00:16<00:00,  3.38s/it]\n"
     ]
    },
    {
     "name": "stdout",
     "output_type": "stream",
     "text": [
      "Checking accuracy on test data\n",
      "Got 9384 / 10000 with accuracy 93.84%\n",
      "Row: 13 | 392 | 14 | [0, 0.6241, 0.7667, 0.8743, 0.8965, 0.9085, 0.9158, 0.9214, 0.9257, 0.93, 0.9324, 0.9349, 0.9373, 0.9384]\n"
     ]
    },
    {
     "name": "stderr",
     "output_type": "stream",
     "text": [
      "100%|██████████| 5/5 [00:16<00:00,  3.39s/it]\n",
      "100%|██████████| 5/5 [00:16<00:00,  3.25s/it]\n",
      "100%|██████████| 5/5 [00:16<00:00,  3.36s/it]\n",
      "100%|██████████| 5/5 [00:16<00:00,  3.30s/it]\n",
      "100%|██████████| 5/5 [00:16<00:00,  3.33s/it]\n"
     ]
    },
    {
     "name": "stdout",
     "output_type": "stream",
     "text": [
      "Checking accuracy on test data\n",
      "Got 9414 / 10000 with accuracy 94.14%\n",
      "Row: 14 | 392 | 14 | [0, 0.6241, 0.7667, 0.8743, 0.8965, 0.9085, 0.9158, 0.9214, 0.9257, 0.93, 0.9324, 0.9349, 0.9373, 0.9384, 0.9414]\n"
     ]
    },
    {
     "name": "stderr",
     "output_type": "stream",
     "text": [
      "100%|██████████| 5/5 [00:17<00:00,  3.47s/it]\n",
      "100%|██████████| 5/5 [00:16<00:00,  3.38s/it]\n",
      "100%|██████████| 5/5 [00:17<00:00,  3.47s/it]\n",
      "100%|██████████| 5/5 [00:16<00:00,  3.33s/it]\n",
      "100%|██████████| 5/5 [00:16<00:00,  3.34s/it]\n"
     ]
    },
    {
     "name": "stdout",
     "output_type": "stream",
     "text": [
      "Checking accuracy on test data\n",
      "Got 9428 / 10000 with accuracy 94.28%\n",
      "Row: 15 | 392 | 14 | [0, 0.6241, 0.7667, 0.8743, 0.8965, 0.9085, 0.9158, 0.9214, 0.9257, 0.93, 0.9324, 0.9349, 0.9373, 0.9384, 0.9414, 0.9428]\n"
     ]
    },
    {
     "data": {
      "image/png": "[encoded data removed]",
      "text/plain": [
       "<Figure size 640x480 with 1 Axes>"
      ]
     },
     "metadata": {},
     "output_type": "display_data"
    },
    {
     "name": "stdout",
     "output_type": "stream",
     "text": [
      "--- NEW MODEL 3 --- \n",
      "layer1.weight\n",
      "<class 'torch.nn.parameter.Parameter'> torch.Size([392, 784])\n",
      "layer1.bias\n",
      "<class 'torch.nn.parameter.Parameter'> torch.Size([392])\n",
      "layer2.weight\n",
      "<class 'torch.nn.parameter.Parameter'> torch.Size([14, 392])\n",
      "layer2.bias\n",
      "<class 'torch.nn.parameter.Parameter'> torch.Size([14])\n",
      "layer3.weight\n",
      "<class 'torch.nn.parameter.Parameter'> torch.Size([10, 14])\n",
      "layer3.bias\n",
      "<class 'torch.nn.parameter.Parameter'> torch.Size([10])\n"
     ]
    },
    {
     "name": "stderr",
     "output_type": "stream",
     "text": [
      "100%|██████████| 5/5 [00:16<00:00,  3.38s/it]\n",
      "100%|██████████| 5/5 [00:17<00:00,  3.42s/it]\n",
      "100%|██████████| 5/5 [00:18<00:00,  3.61s/it]\n",
      "100%|██████████| 5/5 [00:16<00:00,  3.39s/it]\n",
      "100%|██████████| 5/5 [00:16<00:00,  3.38s/it]\n"
     ]
    },
    {
     "name": "stdout",
     "output_type": "stream",
     "text": [
      "Checking accuracy on test data\n",
      "Got 5968 / 10000 with accuracy 59.68%\n",
      "Row: 1 | 392 | 14 | [0, 0.5968]\n"
     ]
    },
    {
     "name": "stderr",
     "output_type": "stream",
     "text": [
      "100%|██████████| 5/5 [00:16<00:00,  3.32s/it]\n",
      "100%|██████████| 5/5 [00:17<00:00,  3.41s/it]\n",
      "100%|██████████| 5/5 [00:16<00:00,  3.30s/it]\n",
      "100%|██████████| 5/5 [00:16<00:00,  3.38s/it]\n",
      "100%|██████████| 5/5 [00:17<00:00,  3.41s/it]\n"
     ]
    },
    {
     "name": "stdout",
     "output_type": "stream",
     "text": [
      "Checking accuracy on test data\n",
      "Got 6947 / 10000 with accuracy 69.47%\n",
      "Row: 2 | 392 | 14 | [0, 0.5968, 0.6947]\n"
     ]
    },
    {
     "name": "stderr",
     "output_type": "stream",
     "text": [
      "100%|██████████| 5/5 [00:16<00:00,  3.27s/it]\n",
      "100%|██████████| 5/5 [00:16<00:00,  3.38s/it]\n",
      "100%|██████████| 5/5 [00:16<00:00,  3.28s/it]\n",
      "100%|██████████| 5/5 [00:16<00:00,  3.32s/it]\n",
      "100%|██████████| 5/5 [00:16<00:00,  3.26s/it]\n"
     ]
    },
    {
     "name": "stdout",
     "output_type": "stream",
     "text": [
      "Checking accuracy on test data\n",
      "Got 7326 / 10000 with accuracy 73.26%\n",
      "Row: 3 | 392 | 14 | [0, 0.5968, 0.6947, 0.7326]\n"
     ]
    },
    {
     "name": "stderr",
     "output_type": "stream",
     "text": [
      "100%|██████████| 5/5 [00:16<00:00,  3.38s/it]\n",
      "100%|██████████| 5/5 [00:16<00:00,  3.26s/it]\n",
      "100%|██████████| 5/5 [00:16<00:00,  3.29s/it]\n",
      "100%|██████████| 5/5 [00:16<00:00,  3.34s/it]\n",
      "100%|██████████| 5/5 [00:16<00:00,  3.28s/it]\n"
     ]
    },
    {
     "name": "stdout",
     "output_type": "stream",
     "text": [
      "Checking accuracy on test data\n",
      "Got 7453 / 10000 with accuracy 74.53%\n",
      "Row: 4 | 392 | 14 | [0, 0.5968, 0.6947, 0.7326, 0.7453]\n"
     ]
    },
    {
     "name": "stderr",
     "output_type": "stream",
     "text": [
      "100%|██████████| 5/5 [00:16<00:00,  3.29s/it]\n",
      "100%|██████████| 5/5 [00:16<00:00,  3.31s/it]\n",
      "100%|██████████| 5/5 [00:16<00:00,  3.27s/it]\n",
      "100%|██████████| 5/5 [00:16<00:00,  3.33s/it]\n",
      "100%|██████████| 5/5 [00:14<00:00,  2.98s/it]\n"
     ]
    },
    {
     "name": "stdout",
     "output_type": "stream",
     "text": [
      "Checking accuracy on test data\n",
      "Got 7520 / 10000 with accuracy 75.20%\n",
      "Row: 5 | 392 | 14 | [0, 0.5968, 0.6947, 0.7326, 0.7453, 0.752]\n"
     ]
    },
    {
     "name": "stderr",
     "output_type": "stream",
     "text": [
      "100%|██████████| 5/5 [00:16<00:00,  3.37s/it]\n",
      "100%|██████████| 5/5 [00:17<00:00,  3.40s/it]\n",
      "100%|██████████| 5/5 [00:15<00:00,  3.00s/it]\n",
      "100%|██████████| 5/5 [00:17<00:00,  3.41s/it]\n",
      "100%|██████████| 5/5 [00:16<00:00,  3.39s/it]\n"
     ]
    },
    {
     "name": "stdout",
     "output_type": "stream",
     "text": [
      "Checking accuracy on test data\n",
      "Got 7566 / 10000 with accuracy 75.66%\n",
      "Row: 6 | 392 | 14 | [0, 0.5968, 0.6947, 0.7326, 0.7453, 0.752, 0.7566]\n"
     ]
    },
    {
     "name": "stderr",
     "output_type": "stream",
     "text": [
      "100%|██████████| 5/5 [00:16<00:00,  3.36s/it]\n",
      "100%|██████████| 5/5 [00:16<00:00,  3.31s/it]\n",
      "100%|██████████| 5/5 [00:16<00:00,  3.35s/it]\n",
      "100%|██████████| 5/5 [00:16<00:00,  3.32s/it]\n",
      "100%|██████████| 5/5 [00:17<00:00,  3.41s/it]\n"
     ]
    },
    {
     "name": "stdout",
     "output_type": "stream",
     "text": [
      "Checking accuracy on test data\n",
      "Got 7607 / 10000 with accuracy 76.07%\n",
      "Row: 7 | 392 | 14 | [0, 0.5968, 0.6947, 0.7326, 0.7453, 0.752, 0.7566, 0.7607]\n"
     ]
    },
    {
     "name": "stderr",
     "output_type": "stream",
     "text": [
      "100%|██████████| 5/5 [00:16<00:00,  3.34s/it]\n",
      "100%|██████████| 5/5 [00:16<00:00,  3.35s/it]\n",
      "100%|██████████| 5/5 [00:16<00:00,  3.35s/it]\n",
      "100%|██████████| 5/5 [00:17<00:00,  3.42s/it]\n",
      "100%|██████████| 5/5 [00:16<00:00,  3.25s/it]\n"
     ]
    },
    {
     "name": "stdout",
     "output_type": "stream",
     "text": [
      "Checking accuracy on test data\n",
      "Got 7630 / 10000 with accuracy 76.30%\n",
      "Row: 8 | 392 | 14 | [0, 0.5968, 0.6947, 0.7326, 0.7453, 0.752, 0.7566, 0.7607, 0.763]\n"
     ]
    },
    {
     "name": "stderr",
     "output_type": "stream",
     "text": [
      "100%|██████████| 5/5 [00:16<00:00,  3.35s/it]\n",
      "100%|██████████| 5/5 [00:16<00:00,  3.31s/it]\n",
      "100%|██████████| 5/5 [00:16<00:00,  3.27s/it]\n",
      "100%|██████████| 5/5 [00:17<00:00,  3.45s/it]\n",
      "100%|██████████| 5/5 [00:16<00:00,  3.29s/it]\n"
     ]
    },
    {
     "name": "stdout",
     "output_type": "stream",
     "text": [
      "Checking accuracy on test data\n",
      "Got 7659 / 10000 with accuracy 76.59%\n",
      "Row: 9 | 392 | 14 | [0, 0.5968, 0.6947, 0.7326, 0.7453, 0.752, 0.7566, 0.7607, 0.763, 0.7659]\n"
     ]
    },
    {
     "name": "stderr",
     "output_type": "stream",
     "text": [
      "100%|██████████| 5/5 [00:18<00:00,  3.60s/it]\n",
      "100%|██████████| 5/5 [00:17<00:00,  3.43s/it]\n",
      "100%|██████████| 5/5 [00:16<00:00,  3.38s/it]\n",
      "100%|██████████| 5/5 [00:16<00:00,  3.32s/it]\n",
      "100%|██████████| 5/5 [00:16<00:00,  3.38s/it]\n"
     ]
    },
    {
     "name": "stdout",
     "output_type": "stream",
     "text": [
      "Checking accuracy on test data\n",
      "Got 7673 / 10000 with accuracy 76.73%\n",
      "Row: 10 | 392 | 14 | [0, 0.5968, 0.6947, 0.7326, 0.7453, 0.752, 0.7566, 0.7607, 0.763, 0.7659, 0.7673]\n"
     ]
    },
    {
     "name": "stderr",
     "output_type": "stream",
     "text": [
      "100%|██████████| 5/5 [00:16<00:00,  3.28s/it]\n",
      "100%|██████████| 5/5 [00:16<00:00,  3.31s/it]\n",
      "100%|██████████| 5/5 [00:16<00:00,  3.27s/it]\n",
      "100%|██████████| 5/5 [00:17<00:00,  3.41s/it]\n",
      "100%|██████████| 5/5 [00:16<00:00,  3.33s/it]\n"
     ]
    },
    {
     "name": "stdout",
     "output_type": "stream",
     "text": [
      "Checking accuracy on test data\n",
      "Got 7684 / 10000 with accuracy 76.84%\n",
      "Row: 11 | 392 | 14 | [0, 0.5968, 0.6947, 0.7326, 0.7453, 0.752, 0.7566, 0.7607, 0.763, 0.7659, 0.7673, 0.7684]\n"
     ]
    },
    {
     "name": "stderr",
     "output_type": "stream",
     "text": [
      "100%|██████████| 5/5 [00:16<00:00,  3.32s/it]\n",
      "100%|██████████| 5/5 [00:16<00:00,  3.40s/it]\n",
      "100%|██████████| 5/5 [00:16<00:00,  3.24s/it]\n",
      "100%|██████████| 5/5 [00:16<00:00,  3.30s/it]\n",
      "100%|██████████| 5/5 [00:16<00:00,  3.31s/it]\n"
     ]
    },
    {
     "name": "stdout",
     "output_type": "stream",
     "text": [
      "Checking accuracy on test data\n",
      "Got 7694 / 10000 with accuracy 76.94%\n",
      "Row: 12 | 392 | 14 | [0, 0.5968, 0.6947, 0.7326, 0.7453, 0.752, 0.7566, 0.7607, 0.763, 0.7659, 0.7673, 0.7684, 0.7694]\n"
     ]
    },
    {
     "name": "stderr",
     "output_type": "stream",
     "text": [
      "100%|██████████| 5/5 [00:16<00:00,  3.29s/it]\n",
      "100%|██████████| 5/5 [00:16<00:00,  3.26s/it]\n",
      "100%|██████████| 5/5 [00:16<00:00,  3.28s/it]\n",
      "100%|██████████| 5/5 [00:16<00:00,  3.31s/it]\n",
      "100%|██████████| 5/5 [00:16<00:00,  3.31s/it]\n"
     ]
    },
    {
     "name": "stdout",
     "output_type": "stream",
     "text": [
      "Checking accuracy on test data\n",
      "Got 7714 / 10000 with accuracy 77.14%\n",
      "Row: 13 | 392 | 14 | [0, 0.5968, 0.6947, 0.7326, 0.7453, 0.752, 0.7566, 0.7607, 0.763, 0.7659, 0.7673, 0.7684, 0.7694, 0.7714]\n"
     ]
    },
    {
     "name": "stderr",
     "output_type": "stream",
     "text": [
      "100%|██████████| 5/5 [00:16<00:00,  3.32s/it]\n",
      "100%|██████████| 5/5 [00:16<00:00,  3.36s/it]\n",
      "100%|██████████| 5/5 [00:16<00:00,  3.30s/it]\n",
      "100%|██████████| 5/5 [00:16<00:00,  3.39s/it]\n",
      "100%|██████████| 5/5 [00:16<00:00,  3.33s/it]\n"
     ]
    },
    {
     "name": "stdout",
     "output_type": "stream",
     "text": [
      "Checking accuracy on test data\n",
      "Got 8499 / 10000 with accuracy 84.99%\n",
      "Row: 14 | 392 | 14 | [0, 0.5968, 0.6947, 0.7326, 0.7453, 0.752, 0.7566, 0.7607, 0.763, 0.7659, 0.7673, 0.7684, 0.7694, 0.7714, 0.8499]\n"
     ]
    },
    {
     "name": "stderr",
     "output_type": "stream",
     "text": [
      "100%|██████████| 5/5 [00:16<00:00,  3.36s/it]\n",
      "100%|██████████| 5/5 [00:16<00:00,  3.30s/it]\n",
      "100%|██████████| 5/5 [00:16<00:00,  3.38s/it]\n",
      "100%|██████████| 5/5 [00:16<00:00,  3.33s/it]\n",
      "100%|██████████| 5/5 [00:17<00:00,  3.43s/it]\n"
     ]
    },
    {
     "name": "stdout",
     "output_type": "stream",
     "text": [
      "Checking accuracy on test data\n",
      "Got 8615 / 10000 with accuracy 86.15%\n",
      "Row: 15 | 392 | 14 | [0, 0.5968, 0.6947, 0.7326, 0.7453, 0.752, 0.7566, 0.7607, 0.763, 0.7659, 0.7673, 0.7684, 0.7694, 0.7714, 0.8499, 0.8615]\n"
     ]
    },
    {
     "data": {
      "image/png": "[encoded data removed]",
      "text/plain": [
       "<Figure size 640x480 with 1 Axes>"
      ]
     },
     "metadata": {},
     "output_type": "display_data"
    },
    {
     "name": "stdout",
     "output_type": "stream",
     "text": [
      "--- NEW MODEL 4 --- \n",
      "layer1.weight\n",
      "<class 'torch.nn.parameter.Parameter'> torch.Size([392, 784])\n",
      "layer1.bias\n",
      "<class 'torch.nn.parameter.Parameter'> torch.Size([392])\n",
      "layer2.weight\n",
      "<class 'torch.nn.parameter.Parameter'> torch.Size([14, 392])\n",
      "layer2.bias\n",
      "<class 'torch.nn.parameter.Parameter'> torch.Size([14])\n",
      "layer3.weight\n",
      "<class 'torch.nn.parameter.Parameter'> torch.Size([10, 14])\n",
      "layer3.bias\n",
      "<class 'torch.nn.parameter.Parameter'> torch.Size([10])\n"
     ]
    },
    {
     "name": "stderr",
     "output_type": "stream",
     "text": [
      "100%|██████████| 5/5 [00:16<00:00,  3.34s/it]\n",
      "100%|██████████| 5/5 [00:16<00:00,  3.32s/it]\n",
      "100%|██████████| 5/5 [00:17<00:00,  3.48s/it]\n",
      "100%|██████████| 5/5 [00:16<00:00,  3.38s/it]\n",
      "100%|██████████| 5/5 [00:16<00:00,  3.35s/it]\n"
     ]
    },
    {
     "name": "stdout",
     "output_type": "stream",
     "text": [
      "Checking accuracy on test data\n",
      "Got 5685 / 10000 with accuracy 56.85%\n",
      "Row: 1 | 392 | 14 | [0, 0.5685]\n"
     ]
    },
    {
     "name": "stderr",
     "output_type": "stream",
     "text": [
      "100%|██████████| 5/5 [00:16<00:00,  3.34s/it]\n",
      "100%|██████████| 5/5 [00:16<00:00,  3.31s/it]\n",
      "100%|██████████| 5/5 [00:16<00:00,  3.36s/it]\n",
      "100%|██████████| 5/5 [00:16<00:00,  3.29s/it]\n",
      "100%|██████████| 5/5 [00:16<00:00,  3.26s/it]\n"
     ]
    },
    {
     "name": "stdout",
     "output_type": "stream",
     "text": [
      "Checking accuracy on test data\n",
      "Got 7306 / 10000 with accuracy 73.06%\n",
      "Row: 2 | 392 | 14 | [0, 0.5685, 0.7306]\n"
     ]
    },
    {
     "name": "stderr",
     "output_type": "stream",
     "text": [
      "100%|██████████| 5/5 [00:16<00:00,  3.38s/it]\n",
      "100%|██████████| 5/5 [00:16<00:00,  3.22s/it]\n",
      "100%|██████████| 5/5 [00:16<00:00,  3.34s/it]\n",
      "100%|██████████| 5/5 [00:16<00:00,  3.28s/it]\n",
      "100%|██████████| 5/5 [00:16<00:00,  3.30s/it]\n"
     ]
    },
    {
     "name": "stdout",
     "output_type": "stream",
     "text": [
      "Checking accuracy on test data\n",
      "Got 8060 / 10000 with accuracy 80.60%\n",
      "Row: 3 | 392 | 14 | [0, 0.5685, 0.7306, 0.806]\n"
     ]
    },
    {
     "name": "stderr",
     "output_type": "stream",
     "text": [
      "100%|██████████| 5/5 [00:16<00:00,  3.29s/it]\n",
      "100%|██████████| 5/5 [00:16<00:00,  3.24s/it]\n",
      "100%|██████████| 5/5 [00:16<00:00,  3.30s/it]\n",
      "100%|██████████| 5/5 [00:16<00:00,  3.22s/it]\n",
      "100%|██████████| 5/5 [00:16<00:00,  3.27s/it]\n"
     ]
    },
    {
     "name": "stdout",
     "output_type": "stream",
     "text": [
      "Checking accuracy on test data\n",
      "Got 8202 / 10000 with accuracy 82.02%\n",
      "Row: 4 | 392 | 14 | [0, 0.5685, 0.7306, 0.806, 0.8202]\n"
     ]
    },
    {
     "name": "stderr",
     "output_type": "stream",
     "text": [
      "100%|██████████| 5/5 [00:16<00:00,  3.21s/it]\n",
      "100%|██████████| 5/5 [00:13<00:00,  2.66s/it]\n",
      "100%|██████████| 5/5 [00:16<00:00,  3.39s/it]\n",
      "100%|██████████| 5/5 [00:16<00:00,  3.34s/it]\n",
      "100%|██████████| 5/5 [00:16<00:00,  3.31s/it]\n"
     ]
    },
    {
     "name": "stdout",
     "output_type": "stream",
     "text": [
      "Checking accuracy on test data\n",
      "Got 8288 / 10000 with accuracy 82.88%\n",
      "Row: 5 | 392 | 14 | [0, 0.5685, 0.7306, 0.806, 0.8202, 0.8288]\n"
     ]
    },
    {
     "name": "stderr",
     "output_type": "stream",
     "text": [
      "100%|██████████| 5/5 [00:16<00:00,  3.39s/it]\n",
      "100%|██████████| 5/5 [00:16<00:00,  3.26s/it]\n",
      "100%|██████████| 5/5 [00:16<00:00,  3.35s/it]\n",
      "100%|██████████| 5/5 [00:14<00:00,  2.95s/it]\n",
      "100%|██████████| 5/5 [00:16<00:00,  3.26s/it]\n"
     ]
    },
    {
     "name": "stdout",
     "output_type": "stream",
     "text": [
      "Checking accuracy on test data\n",
      "Got 8346 / 10000 with accuracy 83.46%\n",
      "Row: 6 | 392 | 14 | [0, 0.5685, 0.7306, 0.806, 0.8202, 0.8288, 0.8346]\n"
     ]
    },
    {
     "name": "stderr",
     "output_type": "stream",
     "text": [
      "100%|██████████| 5/5 [00:16<00:00,  3.32s/it]\n",
      "100%|██████████| 5/5 [00:16<00:00,  3.36s/it]\n",
      "100%|██████████| 5/5 [00:14<00:00,  3.00s/it]\n",
      "100%|██████████| 5/5 [00:16<00:00,  3.22s/it]\n",
      "100%|██████████| 5/5 [00:16<00:00,  3.30s/it]\n"
     ]
    },
    {
     "name": "stdout",
     "output_type": "stream",
     "text": [
      "Checking accuracy on test data\n",
      "Got 8395 / 10000 with accuracy 83.95%\n",
      "Row: 7 | 392 | 14 | [0, 0.5685, 0.7306, 0.806, 0.8202, 0.8288, 0.8346, 0.8395]\n"
     ]
    },
    {
     "name": "stderr",
     "output_type": "stream",
     "text": [
      "100%|██████████| 5/5 [00:16<00:00,  3.24s/it]\n",
      "100%|██████████| 5/5 [00:14<00:00,  2.96s/it]\n",
      "100%|██████████| 5/5 [00:17<00:00,  3.43s/it]\n",
      "100%|██████████| 5/5 [00:16<00:00,  3.35s/it]\n",
      "100%|██████████| 5/5 [00:16<00:00,  3.37s/it]\n"
     ]
    },
    {
     "name": "stdout",
     "output_type": "stream",
     "text": [
      "Checking accuracy on test data\n",
      "Got 8433 / 10000 with accuracy 84.33%\n",
      "Row: 8 | 392 | 14 | [0, 0.5685, 0.7306, 0.806, 0.8202, 0.8288, 0.8346, 0.8395, 0.8433]\n"
     ]
    },
    {
     "name": "stderr",
     "output_type": "stream",
     "text": [
      "100%|██████████| 5/5 [00:16<00:00,  3.30s/it]\n",
      "100%|██████████| 5/5 [00:16<00:00,  3.24s/it]\n",
      "100%|██████████| 5/5 [00:13<00:00,  2.67s/it]\n",
      "100%|██████████| 5/5 [00:13<00:00,  2.68s/it]\n",
      "100%|██████████| 5/5 [00:13<00:00,  2.67s/it]\n"
     ]
    },
    {
     "name": "stdout",
     "output_type": "stream",
     "text": [
      "Checking accuracy on test data\n",
      "Got 8453 / 10000 with accuracy 84.53%\n",
      "Row: 9 | 392 | 14 | [0, 0.5685, 0.7306, 0.806, 0.8202, 0.8288, 0.8346, 0.8395, 0.8433, 0.8453]\n"
     ]
    },
    {
     "name": "stderr",
     "output_type": "stream",
     "text": [
      "100%|██████████| 5/5 [00:11<00:00,  2.32s/it]\n",
      "100%|██████████| 5/5 [00:09<00:00,  1.81s/it]\n",
      "100%|██████████| 5/5 [00:08<00:00,  1.73s/it]\n",
      "100%|██████████| 5/5 [00:08<00:00,  1.72s/it]\n",
      "100%|██████████| 5/5 [00:08<00:00,  1.69s/it]\n"
     ]
    },
    {
     "name": "stdout",
     "output_type": "stream",
     "text": [
      "Checking accuracy on test data\n",
      "Got 8469 / 10000 with accuracy 84.69%\n",
      "Row: 10 | 392 | 14 | [0, 0.5685, 0.7306, 0.806, 0.8202, 0.8288, 0.8346, 0.8395, 0.8433, 0.8453, 0.8469]\n"
     ]
    },
    {
     "name": "stderr",
     "output_type": "stream",
     "text": [
      "100%|██████████| 5/5 [00:08<00:00,  1.70s/it]\n",
      "100%|██████████| 5/5 [00:08<00:00,  1.76s/it]\n",
      "100%|██████████| 5/5 [00:08<00:00,  1.72s/it]\n",
      "100%|██████████| 5/5 [00:08<00:00,  1.75s/it]\n",
      "100%|██████████| 5/5 [00:08<00:00,  1.72s/it]\n"
     ]
    },
    {
     "name": "stdout",
     "output_type": "stream",
     "text": [
      "Checking accuracy on test data\n",
      "Got 8485 / 10000 with accuracy 84.85%\n",
      "Row: 11 | 392 | 14 | [0, 0.5685, 0.7306, 0.806, 0.8202, 0.8288, 0.8346, 0.8395, 0.8433, 0.8453, 0.8469, 0.8485]\n"
     ]
    },
    {
     "name": "stderr",
     "output_type": "stream",
     "text": [
      "100%|██████████| 5/5 [00:08<00:00,  1.74s/it]\n",
      "100%|██████████| 5/5 [00:08<00:00,  1.69s/it]\n",
      "100%|██████████| 5/5 [00:08<00:00,  1.77s/it]\n",
      "100%|██████████| 5/5 [00:08<00:00,  1.71s/it]\n",
      "100%|██████████| 5/5 [00:08<00:00,  1.79s/it]\n"
     ]
    },
    {
     "name": "stdout",
     "output_type": "stream",
     "text": [
      "Checking accuracy on test data\n",
      "Got 8505 / 10000 with accuracy 85.05%\n",
      "Row: 12 | 392 | 14 | [0, 0.5685, 0.7306, 0.806, 0.8202, 0.8288, 0.8346, 0.8395, 0.8433, 0.8453, 0.8469, 0.8485, 0.8505]\n"
     ]
    },
    {
     "name": "stderr",
     "output_type": "stream",
     "text": [
      "100%|██████████| 5/5 [00:08<00:00,  1.77s/it]\n",
      "100%|██████████| 5/5 [00:08<00:00,  1.74s/it]\n",
      "100%|██████████| 5/5 [00:08<00:00,  1.72s/it]\n",
      "100%|██████████| 5/5 [00:08<00:00,  1.76s/it]\n",
      "100%|██████████| 5/5 [00:08<00:00,  1.72s/it]\n"
     ]
    },
    {
     "name": "stdout",
     "output_type": "stream",
     "text": [
      "Checking accuracy on test data\n",
      "Got 8514 / 10000 with accuracy 85.14%\n",
      "Row: 13 | 392 | 14 | [0, 0.5685, 0.7306, 0.806, 0.8202, 0.8288, 0.8346, 0.8395, 0.8433, 0.8453, 0.8469, 0.8485, 0.8505, 0.8514]\n"
     ]
    },
    {
     "name": "stderr",
     "output_type": "stream",
     "text": [
      "100%|██████████| 5/5 [00:08<00:00,  1.73s/it]\n",
      "100%|██████████| 5/5 [00:08<00:00,  1.77s/it]\n",
      "100%|██████████| 5/5 [00:08<00:00,  1.74s/it]\n",
      "100%|██████████| 5/5 [00:08<00:00,  1.74s/it]\n",
      "100%|██████████| 5/5 [00:08<00:00,  1.73s/it]\n"
     ]
    },
    {
     "name": "stdout",
     "output_type": "stream",
     "text": [
      "Checking accuracy on test data\n",
      "Got 8533 / 10000 with accuracy 85.33%\n",
      "Row: 14 | 392 | 14 | [0, 0.5685, 0.7306, 0.806, 0.8202, 0.8288, 0.8346, 0.8395, 0.8433, 0.8453, 0.8469, 0.8485, 0.8505, 0.8514, 0.8533]\n"
     ]
    },
    {
     "name": "stderr",
     "output_type": "stream",
     "text": [
      "100%|██████████| 5/5 [00:08<00:00,  1.75s/it]\n",
      "100%|██████████| 5/5 [00:08<00:00,  1.75s/it]\n",
      "100%|██████████| 5/5 [00:08<00:00,  1.77s/it]\n",
      "100%|██████████| 5/5 [00:08<00:00,  1.70s/it]\n",
      "100%|██████████| 5/5 [00:08<00:00,  1.76s/it]\n"
     ]
    },
    {
     "name": "stdout",
     "output_type": "stream",
     "text": [
      "Checking accuracy on test data\n",
      "Got 8548 / 10000 with accuracy 85.48%\n",
      "Row: 15 | 392 | 14 | [0, 0.5685, 0.7306, 0.806, 0.8202, 0.8288, 0.8346, 0.8395, 0.8433, 0.8453, 0.8469, 0.8485, 0.8505, 0.8514, 0.8533, 0.8548]\n"
     ]
    },
    {
     "data": {
      "image/png": "[encoded data removed]",
      "text/plain": [
       "<Figure size 640x480 with 1 Axes>"
      ]
     },
     "metadata": {},
     "output_type": "display_data"
    },
    {
     "name": "stdout",
     "output_type": "stream",
     "text": [
      "--- NEW MODEL 5 --- \n",
      "layer1.weight\n",
      "<class 'torch.nn.parameter.Parameter'> torch.Size([392, 784])\n",
      "layer1.bias\n",
      "<class 'torch.nn.parameter.Parameter'> torch.Size([392])\n",
      "layer2.weight\n",
      "<class 'torch.nn.parameter.Parameter'> torch.Size([14, 392])\n",
      "layer2.bias\n",
      "<class 'torch.nn.parameter.Parameter'> torch.Size([14])\n",
      "layer3.weight\n",
      "<class 'torch.nn.parameter.Parameter'> torch.Size([10, 14])\n",
      "layer3.bias\n",
      "<class 'torch.nn.parameter.Parameter'> torch.Size([10])\n"
     ]
    },
    {
     "name": "stderr",
     "output_type": "stream",
     "text": [
      "100%|██████████| 5/5 [00:08<00:00,  1.79s/it]\n",
      "100%|██████████| 5/5 [00:08<00:00,  1.72s/it]\n",
      "100%|██████████| 5/5 [00:08<00:00,  1.78s/it]\n",
      "100%|██████████| 5/5 [00:08<00:00,  1.74s/it]\n",
      "100%|██████████| 5/5 [00:08<00:00,  1.74s/it]\n"
     ]
    },
    {
     "name": "stdout",
     "output_type": "stream",
     "text": [
      "Checking accuracy on test data\n",
      "Got 6329 / 10000 with accuracy 63.29%\n",
      "Row: 1 | 392 | 14 | [0, 0.6329]\n"
     ]
    },
    {
     "name": "stderr",
     "output_type": "stream",
     "text": [
      "100%|██████████| 5/5 [00:08<00:00,  1.72s/it]\n",
      "100%|██████████| 5/5 [00:08<00:00,  1.76s/it]\n",
      "100%|██████████| 5/5 [00:08<00:00,  1.78s/it]\n",
      "100%|██████████| 5/5 [00:08<00:00,  1.68s/it]\n",
      "100%|██████████| 5/5 [00:08<00:00,  1.71s/it]\n"
     ]
    },
    {
     "name": "stdout",
     "output_type": "stream",
     "text": [
      "Checking accuracy on test data\n",
      "Got 7312 / 10000 with accuracy 73.12%\n",
      "Row: 2 | 392 | 14 | [0, 0.6329, 0.7312]\n"
     ]
    },
    {
     "name": "stderr",
     "output_type": "stream",
     "text": [
      "100%|██████████| 5/5 [00:08<00:00,  1.71s/it]\n",
      "100%|██████████| 5/5 [00:08<00:00,  1.68s/it]\n",
      "100%|██████████| 5/5 [00:08<00:00,  1.74s/it]\n",
      "100%|██████████| 5/5 [00:08<00:00,  1.67s/it]\n",
      "100%|██████████| 5/5 [00:08<00:00,  1.74s/it]\n"
     ]
    },
    {
     "name": "stdout",
     "output_type": "stream",
     "text": [
      "Checking accuracy on test data\n",
      "Got 7491 / 10000 with accuracy 74.91%\n",
      "Row: 3 | 392 | 14 | [0, 0.6329, 0.7312, 0.7491]\n"
     ]
    },
    {
     "name": "stderr",
     "output_type": "stream",
     "text": [
      "100%|██████████| 5/5 [00:08<00:00,  1.76s/it]\n",
      "100%|██████████| 5/5 [00:08<00:00,  1.71s/it]\n",
      "100%|██████████| 5/5 [00:08<00:00,  1.73s/it]\n",
      "100%|██████████| 5/5 [00:08<00:00,  1.71s/it]\n",
      "100%|██████████| 5/5 [00:08<00:00,  1.67s/it]\n"
     ]
    },
    {
     "name": "stdout",
     "output_type": "stream",
     "text": [
      "Checking accuracy on test data\n",
      "Got 7571 / 10000 with accuracy 75.71%\n",
      "Row: 4 | 392 | 14 | [0, 0.6329, 0.7312, 0.7491, 0.7571]\n"
     ]
    },
    {
     "name": "stderr",
     "output_type": "stream",
     "text": [
      "100%|██████████| 5/5 [00:08<00:00,  1.71s/it]\n",
      "100%|██████████| 5/5 [00:08<00:00,  1.72s/it]\n",
      "100%|██████████| 5/5 [00:08<00:00,  1.72s/it]\n",
      "100%|██████████| 5/5 [00:08<00:00,  1.69s/it]\n",
      "100%|██████████| 5/5 [00:08<00:00,  1.74s/it]\n"
     ]
    },
    {
     "name": "stdout",
     "output_type": "stream",
     "text": [
      "Checking accuracy on test data\n",
      "Got 8159 / 10000 with accuracy 81.59%\n",
      "Row: 5 | 392 | 14 | [0, 0.6329, 0.7312, 0.7491, 0.7571, 0.8159]\n"
     ]
    },
    {
     "name": "stderr",
     "output_type": "stream",
     "text": [
      "100%|██████████| 5/5 [00:08<00:00,  1.74s/it]\n",
      "100%|██████████| 5/5 [00:08<00:00,  1.71s/it]\n",
      "100%|██████████| 5/5 [00:08<00:00,  1.73s/it]\n",
      "100%|██████████| 5/5 [00:08<00:00,  1.74s/it]\n",
      "100%|██████████| 5/5 [00:09<00:00,  1.87s/it]\n"
     ]
    },
    {
     "name": "stdout",
     "output_type": "stream",
     "text": [
      "Checking accuracy on test data\n",
      "Got 8421 / 10000 with accuracy 84.21%\n",
      "Row: 6 | 392 | 14 | [0, 0.6329, 0.7312, 0.7491, 0.7571, 0.8159, 0.8421]\n"
     ]
    },
    {
     "name": "stderr",
     "output_type": "stream",
     "text": [
      "100%|██████████| 5/5 [00:08<00:00,  1.78s/it]\n",
      "100%|██████████| 5/5 [00:08<00:00,  1.69s/it]\n",
      "100%|██████████| 5/5 [00:08<00:00,  1.71s/it]\n",
      "100%|██████████| 5/5 [00:08<00:00,  1.67s/it]\n",
      "100%|██████████| 5/5 [00:08<00:00,  1.71s/it]\n"
     ]
    },
    {
     "name": "stdout",
     "output_type": "stream",
     "text": [
      "Checking accuracy on test data\n",
      "Got 8473 / 10000 with accuracy 84.73%\n",
      "Row: 7 | 392 | 14 | [0, 0.6329, 0.7312, 0.7491, 0.7571, 0.8159, 0.8421, 0.8473]\n"
     ]
    },
    {
     "name": "stderr",
     "output_type": "stream",
     "text": [
      "100%|██████████| 5/5 [00:08<00:00,  1.72s/it]\n",
      "100%|██████████| 5/5 [00:09<00:00,  1.85s/it]\n",
      "100%|██████████| 5/5 [00:08<00:00,  1.73s/it]\n",
      "100%|██████████| 5/5 [00:08<00:00,  1.74s/it]\n",
      "100%|██████████| 5/5 [00:08<00:00,  1.71s/it]\n"
     ]
    },
    {
     "name": "stdout",
     "output_type": "stream",
     "text": [
      "Checking accuracy on test data\n",
      "Got 8520 / 10000 with accuracy 85.20%\n",
      "Row: 8 | 392 | 14 | [0, 0.6329, 0.7312, 0.7491, 0.7571, 0.8159, 0.8421, 0.8473, 0.852]\n"
     ]
    },
    {
     "name": "stderr",
     "output_type": "stream",
     "text": [
      "100%|██████████| 5/5 [00:08<00:00,  1.78s/it]\n",
      "100%|██████████| 5/5 [00:08<00:00,  1.71s/it]\n",
      "100%|██████████| 5/5 [00:08<00:00,  1.68s/it]\n",
      "100%|██████████| 5/5 [00:08<00:00,  1.72s/it]\n",
      "100%|██████████| 5/5 [00:08<00:00,  1.71s/it]\n"
     ]
    },
    {
     "name": "stdout",
     "output_type": "stream",
     "text": [
      "Checking accuracy on test data\n",
      "Got 8557 / 10000 with accuracy 85.57%\n",
      "Row: 9 | 392 | 14 | [0, 0.6329, 0.7312, 0.7491, 0.7571, 0.8159, 0.8421, 0.8473, 0.852, 0.8557]\n"
     ]
    },
    {
     "name": "stderr",
     "output_type": "stream",
     "text": [
      "100%|██████████| 5/5 [00:08<00:00,  1.73s/it]\n",
      "100%|██████████| 5/5 [00:08<00:00,  1.69s/it]\n",
      "100%|██████████| 5/5 [00:08<00:00,  1.74s/it]\n",
      "100%|██████████| 5/5 [00:08<00:00,  1.72s/it]\n",
      "100%|██████████| 5/5 [00:08<00:00,  1.71s/it]\n"
     ]
    },
    {
     "name": "stdout",
     "output_type": "stream",
     "text": [
      "Checking accuracy on test data\n",
      "Got 8578 / 10000 with accuracy 85.78%\n",
      "Row: 10 | 392 | 14 | [0, 0.6329, 0.7312, 0.7491, 0.7571, 0.8159, 0.8421, 0.8473, 0.852, 0.8557, 0.8578]\n"
     ]
    },
    {
     "name": "stderr",
     "output_type": "stream",
     "text": [
      "100%|██████████| 5/5 [00:08<00:00,  1.72s/it]\n",
      "100%|██████████| 5/5 [00:08<00:00,  1.75s/it]\n",
      "100%|██████████| 5/5 [00:08<00:00,  1.74s/it]\n",
      "100%|██████████| 5/5 [00:08<00:00,  1.72s/it]\n",
      "100%|██████████| 5/5 [00:08<00:00,  1.76s/it]\n"
     ]
    },
    {
     "name": "stdout",
     "output_type": "stream",
     "text": [
      "Checking accuracy on test data\n",
      "Got 8595 / 10000 with accuracy 85.95%\n",
      "Row: 11 | 392 | 14 | [0, 0.6329, 0.7312, 0.7491, 0.7571, 0.8159, 0.8421, 0.8473, 0.852, 0.8557, 0.8578, 0.8595]\n"
     ]
    },
    {
     "name": "stderr",
     "output_type": "stream",
     "text": [
      "100%|██████████| 5/5 [00:09<00:00,  1.80s/it]\n",
      "100%|██████████| 5/5 [00:08<00:00,  1.73s/it]\n",
      "100%|██████████| 5/5 [00:09<00:00,  1.80s/it]\n",
      "100%|██████████| 5/5 [00:08<00:00,  1.75s/it]\n",
      "100%|██████████| 5/5 [00:08<00:00,  1.74s/it]\n"
     ]
    },
    {
     "name": "stdout",
     "output_type": "stream",
     "text": [
      "Checking accuracy on test data\n",
      "Got 8613 / 10000 with accuracy 86.13%\n",
      "Row: 12 | 392 | 14 | [0, 0.6329, 0.7312, 0.7491, 0.7571, 0.8159, 0.8421, 0.8473, 0.852, 0.8557, 0.8578, 0.8595, 0.8613]\n"
     ]
    },
    {
     "name": "stderr",
     "output_type": "stream",
     "text": [
      "100%|██████████| 5/5 [00:08<00:00,  1.75s/it]\n",
      "100%|██████████| 5/5 [00:08<00:00,  1.73s/it]\n",
      "100%|██████████| 5/5 [00:08<00:00,  1.76s/it]\n",
      "100%|██████████| 5/5 [00:08<00:00,  1.77s/it]\n",
      "100%|██████████| 5/5 [00:08<00:00,  1.73s/it]\n"
     ]
    },
    {
     "name": "stdout",
     "output_type": "stream",
     "text": [
      "Checking accuracy on test data\n",
      "Got 8639 / 10000 with accuracy 86.39%\n",
      "Row: 13 | 392 | 14 | [0, 0.6329, 0.7312, 0.7491, 0.7571, 0.8159, 0.8421, 0.8473, 0.852, 0.8557, 0.8578, 0.8595, 0.8613, 0.8639]\n"
     ]
    },
    {
     "name": "stderr",
     "output_type": "stream",
     "text": [
      "100%|██████████| 5/5 [00:08<00:00,  1.76s/it]\n",
      "100%|██████████| 5/5 [00:10<00:00,  2.01s/it]\n",
      "100%|██████████| 5/5 [00:09<00:00,  1.94s/it]\n",
      "100%|██████████| 5/5 [00:08<00:00,  1.78s/it]\n",
      "100%|██████████| 5/5 [00:08<00:00,  1.79s/it]\n"
     ]
    },
    {
     "name": "stdout",
     "output_type": "stream",
     "text": [
      "Checking accuracy on test data\n",
      "Got 8654 / 10000 with accuracy 86.54%\n",
      "Row: 14 | 392 | 14 | [0, 0.6329, 0.7312, 0.7491, 0.7571, 0.8159, 0.8421, 0.8473, 0.852, 0.8557, 0.8578, 0.8595, 0.8613, 0.8639, 0.8654]\n"
     ]
    },
    {
     "name": "stderr",
     "output_type": "stream",
     "text": [
      "100%|██████████| 5/5 [00:08<00:00,  1.73s/it]\n",
      "100%|██████████| 5/5 [00:08<00:00,  1.75s/it]\n",
      "100%|██████████| 5/5 [00:08<00:00,  1.75s/it]\n",
      "100%|██████████| 5/5 [00:08<00:00,  1.72s/it]\n",
      "100%|██████████| 5/5 [00:08<00:00,  1.75s/it]\n"
     ]
    },
    {
     "name": "stdout",
     "output_type": "stream",
     "text": [
      "Checking accuracy on test data\n",
      "Got 8666 / 10000 with accuracy 86.66%\n",
      "Row: 15 | 392 | 14 | [0, 0.6329, 0.7312, 0.7491, 0.7571, 0.8159, 0.8421, 0.8473, 0.852, 0.8557, 0.8578, 0.8595, 0.8613, 0.8639, 0.8654, 0.8666]\n"
     ]
    },
    {
     "data": {
      "image/png": "[encoded data removed]",
      "text/plain": [
       "<Figure size 640x480 with 1 Axes>"
      ]
     },
     "metadata": {},
     "output_type": "display_data"
    },
    {
     "name": "stdout",
     "output_type": "stream",
     "text": [
      "--- NEW MODEL 6 --- \n",
      "layer1.weight\n",
      "<class 'torch.nn.parameter.Parameter'> torch.Size([392, 784])\n",
      "layer1.bias\n",
      "<class 'torch.nn.parameter.Parameter'> torch.Size([392])\n",
      "layer2.weight\n",
      "<class 'torch.nn.parameter.Parameter'> torch.Size([14, 392])\n",
      "layer2.bias\n",
      "<class 'torch.nn.parameter.Parameter'> torch.Size([14])\n",
      "layer3.weight\n",
      "<class 'torch.nn.parameter.Parameter'> torch.Size([10, 14])\n",
      "layer3.bias\n",
      "<class 'torch.nn.parameter.Parameter'> torch.Size([10])\n"
     ]
    },
    {
     "name": "stderr",
     "output_type": "stream",
     "text": [
      "100%|██████████| 5/5 [00:08<00:00,  1.72s/it]\n",
      "100%|██████████| 5/5 [00:08<00:00,  1.76s/it]\n",
      "100%|██████████| 5/5 [00:08<00:00,  1.71s/it]\n",
      "100%|██████████| 5/5 [00:08<00:00,  1.77s/it]\n",
      "100%|██████████| 5/5 [00:08<00:00,  1.71s/it]\n"
     ]
    },
    {
     "name": "stdout",
     "output_type": "stream",
     "text": [
      "Checking accuracy on test data\n",
      "Got 6095 / 10000 with accuracy 60.95%\n",
      "Row: 1 | 392 | 14 | [0, 0.6095]\n"
     ]
    },
    {
     "name": "stderr",
     "output_type": "stream",
     "text": [
      "100%|██████████| 5/5 [00:08<00:00,  1.70s/it]\n",
      "100%|██████████| 5/5 [00:08<00:00,  1.78s/it]\n",
      "100%|██████████| 5/5 [00:08<00:00,  1.72s/it]\n",
      "100%|██████████| 5/5 [00:08<00:00,  1.75s/it]\n",
      "100%|██████████| 5/5 [00:08<00:00,  1.76s/it]\n"
     ]
    },
    {
     "name": "stdout",
     "output_type": "stream",
     "text": [
      "Checking accuracy on test data\n",
      "Got 7645 / 10000 with accuracy 76.45%\n",
      "Row: 2 | 392 | 14 | [0, 0.6095, 0.7645]\n"
     ]
    },
    {
     "name": "stderr",
     "output_type": "stream",
     "text": [
      "100%|██████████| 5/5 [00:08<00:00,  1.73s/it]\n",
      "100%|██████████| 5/5 [00:08<00:00,  1.75s/it]\n",
      "100%|██████████| 5/5 [00:08<00:00,  1.73s/it]\n",
      "100%|██████████| 5/5 [00:08<00:00,  1.74s/it]\n",
      "100%|██████████| 5/5 [00:08<00:00,  1.74s/it]\n"
     ]
    },
    {
     "name": "stdout",
     "output_type": "stream",
     "text": [
      "Checking accuracy on test data\n",
      "Got 7950 / 10000 with accuracy 79.50%\n",
      "Row: 3 | 392 | 14 | [0, 0.6095, 0.7645, 0.795]\n"
     ]
    },
    {
     "name": "stderr",
     "output_type": "stream",
     "text": [
      "100%|██████████| 5/5 [00:08<00:00,  1.74s/it]\n",
      "100%|██████████| 5/5 [00:08<00:00,  1.73s/it]\n",
      "100%|██████████| 5/5 [00:08<00:00,  1.69s/it]\n",
      "100%|██████████| 5/5 [00:08<00:00,  1.75s/it]\n",
      "100%|██████████| 5/5 [00:08<00:00,  1.70s/it]\n"
     ]
    },
    {
     "name": "stdout",
     "output_type": "stream",
     "text": [
      "Checking accuracy on test data\n",
      "Got 8124 / 10000 with accuracy 81.24%\n",
      "Row: 4 | 392 | 14 | [0, 0.6095, 0.7645, 0.795, 0.8124]\n"
     ]
    },
    {
     "name": "stderr",
     "output_type": "stream",
     "text": [
      "100%|██████████| 5/5 [00:08<00:00,  1.73s/it]\n",
      "100%|██████████| 5/5 [00:08<00:00,  1.73s/it]\n",
      "100%|██████████| 5/5 [00:08<00:00,  1.68s/it]\n",
      "100%|██████████| 5/5 [00:08<00:00,  1.76s/it]\n",
      "100%|██████████| 5/5 [00:08<00:00,  1.73s/it]\n"
     ]
    },
    {
     "name": "stdout",
     "output_type": "stream",
     "text": [
      "Checking accuracy on test data\n",
      "Got 8205 / 10000 with accuracy 82.05%\n",
      "Row: 5 | 392 | 14 | [0, 0.6095, 0.7645, 0.795, 0.8124, 0.8205]\n"
     ]
    },
    {
     "name": "stderr",
     "output_type": "stream",
     "text": [
      "100%|██████████| 5/5 [00:08<00:00,  1.76s/it]\n",
      "100%|██████████| 5/5 [00:08<00:00,  1.73s/it]\n",
      "100%|██████████| 5/5 [00:08<00:00,  1.73s/it]\n",
      "100%|██████████| 5/5 [00:08<00:00,  1.72s/it]\n",
      "100%|██████████| 5/5 [00:08<00:00,  1.75s/it]\n"
     ]
    },
    {
     "name": "stdout",
     "output_type": "stream",
     "text": [
      "Checking accuracy on test data\n",
      "Got 9009 / 10000 with accuracy 90.09%\n",
      "Row: 6 | 392 | 14 | [0, 0.6095, 0.7645, 0.795, 0.8124, 0.8205, 0.9009]\n"
     ]
    },
    {
     "name": "stderr",
     "output_type": "stream",
     "text": [
      "100%|██████████| 5/5 [00:08<00:00,  1.72s/it]\n",
      "100%|██████████| 5/5 [00:08<00:00,  1.71s/it]\n",
      "100%|██████████| 5/5 [00:08<00:00,  1.77s/it]\n",
      "100%|██████████| 5/5 [00:08<00:00,  1.76s/it]\n",
      "100%|██████████| 5/5 [00:08<00:00,  1.73s/it]\n"
     ]
    },
    {
     "name": "stdout",
     "output_type": "stream",
     "text": [
      "Checking accuracy on test data\n",
      "Got 9165 / 10000 with accuracy 91.65%\n",
      "Row: 7 | 392 | 14 | [0, 0.6095, 0.7645, 0.795, 0.8124, 0.8205, 0.9009, 0.9165]\n"
     ]
    },
    {
     "name": "stderr",
     "output_type": "stream",
     "text": [
      "100%|██████████| 5/5 [00:08<00:00,  1.68s/it]\n",
      "100%|██████████| 5/5 [00:08<00:00,  1.75s/it]\n",
      "100%|██████████| 5/5 [00:08<00:00,  1.69s/it]\n",
      "100%|██████████| 5/5 [00:08<00:00,  1.74s/it]\n",
      "100%|██████████| 5/5 [00:08<00:00,  1.71s/it]\n"
     ]
    },
    {
     "name": "stdout",
     "output_type": "stream",
     "text": [
      "Checking accuracy on test data\n",
      "Got 9220 / 10000 with accuracy 92.20%\n",
      "Row: 8 | 392 | 14 | [0, 0.6095, 0.7645, 0.795, 0.8124, 0.8205, 0.9009, 0.9165, 0.922]\n"
     ]
    },
    {
     "name": "stderr",
     "output_type": "stream",
     "text": [
      "100%|██████████| 5/5 [00:08<00:00,  1.77s/it]\n",
      "100%|██████████| 5/5 [00:08<00:00,  1.72s/it]\n",
      "100%|██████████| 5/5 [00:08<00:00,  1.72s/it]\n",
      "100%|██████████| 5/5 [00:08<00:00,  1.73s/it]\n",
      "100%|██████████| 5/5 [00:08<00:00,  1.70s/it]\n"
     ]
    },
    {
     "name": "stdout",
     "output_type": "stream",
     "text": [
      "Checking accuracy on test data\n",
      "Got 9281 / 10000 with accuracy 92.81%\n",
      "Row: 9 | 392 | 14 | [0, 0.6095, 0.7645, 0.795, 0.8124, 0.8205, 0.9009, 0.9165, 0.922, 0.9281]\n"
     ]
    },
    {
     "name": "stderr",
     "output_type": "stream",
     "text": [
      "100%|██████████| 5/5 [00:08<00:00,  1.72s/it]\n",
      "100%|██████████| 5/5 [00:08<00:00,  1.69s/it]\n",
      "100%|██████████| 5/5 [00:08<00:00,  1.73s/it]\n",
      "100%|██████████| 5/5 [00:08<00:00,  1.68s/it]\n",
      "100%|██████████| 5/5 [00:08<00:00,  1.73s/it]\n"
     ]
    },
    {
     "name": "stdout",
     "output_type": "stream",
     "text": [
      "Checking accuracy on test data\n",
      "Got 9317 / 10000 with accuracy 93.17%\n",
      "Row: 10 | 392 | 14 | [0, 0.6095, 0.7645, 0.795, 0.8124, 0.8205, 0.9009, 0.9165, 0.922, 0.9281, 0.9317]\n"
     ]
    },
    {
     "name": "stderr",
     "output_type": "stream",
     "text": [
      "100%|██████████| 5/5 [00:08<00:00,  1.69s/it]\n",
      "100%|██████████| 5/5 [00:08<00:00,  1.72s/it]\n",
      "100%|██████████| 5/5 [00:08<00:00,  1.67s/it]\n",
      "100%|██████████| 5/5 [00:08<00:00,  1.74s/it]\n",
      "100%|██████████| 5/5 [00:08<00:00,  1.70s/it]\n"
     ]
    },
    {
     "name": "stdout",
     "output_type": "stream",
     "text": [
      "Checking accuracy on test data\n",
      "Got 9348 / 10000 with accuracy 93.48%\n",
      "Row: 11 | 392 | 14 | [0, 0.6095, 0.7645, 0.795, 0.8124, 0.8205, 0.9009, 0.9165, 0.922, 0.9281, 0.9317, 0.9348]\n"
     ]
    },
    {
     "name": "stderr",
     "output_type": "stream",
     "text": [
      "100%|██████████| 5/5 [00:08<00:00,  1.70s/it]\n",
      "100%|██████████| 5/5 [00:09<00:00,  1.85s/it]\n",
      "100%|██████████| 5/5 [00:09<00:00,  1.94s/it]\n",
      "100%|██████████| 5/5 [00:08<00:00,  1.76s/it]\n",
      "100%|██████████| 5/5 [00:08<00:00,  1.78s/it]\n"
     ]
    },
    {
     "name": "stdout",
     "output_type": "stream",
     "text": [
      "Checking accuracy on test data\n",
      "Got 9381 / 10000 with accuracy 93.81%\n",
      "Row: 12 | 392 | 14 | [0, 0.6095, 0.7645, 0.795, 0.8124, 0.8205, 0.9009, 0.9165, 0.922, 0.9281, 0.9317, 0.9348, 0.9381]\n"
     ]
    },
    {
     "name": "stderr",
     "output_type": "stream",
     "text": [
      "100%|██████████| 5/5 [00:08<00:00,  1.76s/it]\n",
      "100%|██████████| 5/5 [00:08<00:00,  1.79s/it]\n",
      "100%|██████████| 5/5 [00:08<00:00,  1.77s/it]\n",
      "100%|██████████| 5/5 [00:08<00:00,  1.71s/it]\n",
      "100%|██████████| 5/5 [00:08<00:00,  1.77s/it]\n"
     ]
    },
    {
     "name": "stdout",
     "output_type": "stream",
     "text": [
      "Checking accuracy on test data\n",
      "Got 9402 / 10000 with accuracy 94.02%\n",
      "Row: 13 | 392 | 14 | [0, 0.6095, 0.7645, 0.795, 0.8124, 0.8205, 0.9009, 0.9165, 0.922, 0.9281, 0.9317, 0.9348, 0.9381, 0.9402]\n"
     ]
    },
    {
     "name": "stderr",
     "output_type": "stream",
     "text": [
      "100%|██████████| 5/5 [00:08<00:00,  1.72s/it]\n",
      "100%|██████████| 5/5 [00:08<00:00,  1.78s/it]\n",
      "100%|██████████| 5/5 [00:08<00:00,  1.74s/it]\n",
      "100%|██████████| 5/5 [00:08<00:00,  1.77s/it]\n",
      "100%|██████████| 5/5 [00:08<00:00,  1.77s/it]\n"
     ]
    },
    {
     "name": "stdout",
     "output_type": "stream",
     "text": [
      "Checking accuracy on test data\n",
      "Got 9423 / 10000 with accuracy 94.23%\n",
      "Row: 14 | 392 | 14 | [0, 0.6095, 0.7645, 0.795, 0.8124, 0.8205, 0.9009, 0.9165, 0.922, 0.9281, 0.9317, 0.9348, 0.9381, 0.9402, 0.9423]\n"
     ]
    },
    {
     "name": "stderr",
     "output_type": "stream",
     "text": [
      "100%|██████████| 5/5 [00:08<00:00,  1.76s/it]\n",
      "100%|██████████| 5/5 [00:08<00:00,  1.77s/it]\n",
      "100%|██████████| 5/5 [00:08<00:00,  1.80s/it]\n",
      "100%|██████████| 5/5 [00:08<00:00,  1.78s/it]\n",
      "100%|██████████| 5/5 [00:08<00:00,  1.72s/it]\n"
     ]
    },
    {
     "name": "stdout",
     "output_type": "stream",
     "text": [
      "Checking accuracy on test data\n",
      "Got 9442 / 10000 with accuracy 94.42%\n",
      "Row: 15 | 392 | 14 | [0, 0.6095, 0.7645, 0.795, 0.8124, 0.8205, 0.9009, 0.9165, 0.922, 0.9281, 0.9317, 0.9348, 0.9381, 0.9402, 0.9423, 0.9442]\n"
     ]
    },
    {
     "data": {
      "image/png": "[encoded data removed]",
      "text/plain": [
       "<Figure size 640x480 with 1 Axes>"
      ]
     },
     "metadata": {},
     "output_type": "display_data"
    },
    {
     "name": "stdout",
     "output_type": "stream",
     "text": [
      "--- NEW MODEL 7 --- \n",
      "layer1.weight\n",
      "<class 'torch.nn.parameter.Parameter'> torch.Size([392, 784])\n",
      "layer1.bias\n",
      "<class 'torch.nn.parameter.Parameter'> torch.Size([392])\n",
      "layer2.weight\n",
      "<class 'torch.nn.parameter.Parameter'> torch.Size([14, 392])\n",
      "layer2.bias\n",
      "<class 'torch.nn.parameter.Parameter'> torch.Size([14])\n",
      "layer3.weight\n",
      "<class 'torch.nn.parameter.Parameter'> torch.Size([10, 14])\n",
      "layer3.bias\n",
      "<class 'torch.nn.parameter.Parameter'> torch.Size([10])\n"
     ]
    },
    {
     "name": "stderr",
     "output_type": "stream",
     "text": [
      "100%|██████████| 5/5 [00:08<00:00,  1.75s/it]\n",
      "100%|██████████| 5/5 [00:08<00:00,  1.74s/it]\n",
      "100%|██████████| 5/5 [00:08<00:00,  1.80s/it]\n",
      "100%|██████████| 5/5 [00:08<00:00,  1.79s/it]\n",
      "100%|██████████| 5/5 [00:09<00:00,  1.85s/it]\n"
     ]
    },
    {
     "name": "stdout",
     "output_type": "stream",
     "text": [
      "Checking accuracy on test data\n",
      "Got 6727 / 10000 with accuracy 67.27%\n",
      "Row: 1 | 392 | 14 | [0, 0.6727]\n"
     ]
    },
    {
     "name": "stderr",
     "output_type": "stream",
     "text": [
      "100%|██████████| 5/5 [00:08<00:00,  1.79s/it]\n",
      "100%|██████████| 5/5 [00:08<00:00,  1.78s/it]\n",
      "100%|██████████| 5/5 [00:08<00:00,  1.76s/it]\n",
      "100%|██████████| 5/5 [00:08<00:00,  1.77s/it]\n",
      "100%|██████████| 5/5 [00:08<00:00,  1.76s/it]\n"
     ]
    },
    {
     "name": "stdout",
     "output_type": "stream",
     "text": [
      "Checking accuracy on test data\n",
      "Got 7800 / 10000 with accuracy 78.00%\n",
      "Row: 2 | 392 | 14 | [0, 0.6727, 0.78]\n"
     ]
    },
    {
     "name": "stderr",
     "output_type": "stream",
     "text": [
      "100%|██████████| 5/5 [00:08<00:00,  1.79s/it]\n",
      "100%|██████████| 5/5 [00:08<00:00,  1.72s/it]\n",
      "100%|██████████| 5/5 [00:08<00:00,  1.76s/it]\n",
      "100%|██████████| 5/5 [00:08<00:00,  1.74s/it]\n",
      "100%|██████████| 5/5 [00:08<00:00,  1.76s/it]\n"
     ]
    },
    {
     "name": "stdout",
     "output_type": "stream",
     "text": [
      "Checking accuracy on test data\n",
      "Got 8074 / 10000 with accuracy 80.74%\n",
      "Row: 3 | 392 | 14 | [0, 0.6727, 0.78, 0.8074]\n"
     ]
    },
    {
     "name": "stderr",
     "output_type": "stream",
     "text": [
      "100%|██████████| 5/5 [00:08<00:00,  1.78s/it]\n",
      "100%|██████████| 5/5 [00:08<00:00,  1.76s/it]\n",
      "100%|██████████| 5/5 [00:08<00:00,  1.77s/it]\n",
      "100%|██████████| 5/5 [00:09<00:00,  1.80s/it]\n",
      "100%|██████████| 5/5 [00:08<00:00,  1.75s/it]\n"
     ]
    },
    {
     "name": "stdout",
     "output_type": "stream",
     "text": [
      "Checking accuracy on test data\n",
      "Got 8222 / 10000 with accuracy 82.22%\n",
      "Row: 4 | 392 | 14 | [0, 0.6727, 0.78, 0.8074, 0.8222]\n"
     ]
    },
    {
     "name": "stderr",
     "output_type": "stream",
     "text": [
      "100%|██████████| 5/5 [00:08<00:00,  1.71s/it]\n",
      "100%|██████████| 5/5 [00:08<00:00,  1.77s/it]\n",
      "100%|██████████| 5/5 [00:08<00:00,  1.75s/it]\n",
      "100%|██████████| 5/5 [00:08<00:00,  1.71s/it]\n",
      "100%|██████████| 5/5 [00:08<00:00,  1.75s/it]\n"
     ]
    },
    {
     "name": "stdout",
     "output_type": "stream",
     "text": [
      "Checking accuracy on test data\n",
      "Got 8407 / 10000 with accuracy 84.07%\n",
      "Row: 5 | 392 | 14 | [0, 0.6727, 0.78, 0.8074, 0.8222, 0.8407]\n"
     ]
    },
    {
     "name": "stderr",
     "output_type": "stream",
     "text": [
      "100%|██████████| 5/5 [00:08<00:00,  1.76s/it]\n",
      "100%|██████████| 5/5 [00:08<00:00,  1.72s/it]\n",
      "100%|██████████| 5/5 [00:08<00:00,  1.79s/it]\n",
      "100%|██████████| 5/5 [00:08<00:00,  1.69s/it]\n",
      "100%|██████████| 5/5 [00:08<00:00,  1.73s/it]\n"
     ]
    },
    {
     "name": "stdout",
     "output_type": "stream",
     "text": [
      "Checking accuracy on test data\n",
      "Got 9139 / 10000 with accuracy 91.39%\n",
      "Row: 6 | 392 | 14 | [0, 0.6727, 0.78, 0.8074, 0.8222, 0.8407, 0.9139]\n"
     ]
    },
    {
     "name": "stderr",
     "output_type": "stream",
     "text": [
      "100%|██████████| 5/5 [00:08<00:00,  1.77s/it]\n",
      "100%|██████████| 5/5 [00:08<00:00,  1.78s/it]\n",
      "100%|██████████| 5/5 [00:08<00:00,  1.76s/it]\n",
      "100%|██████████| 5/5 [00:08<00:00,  1.75s/it]\n",
      "100%|██████████| 5/5 [00:08<00:00,  1.75s/it]\n"
     ]
    },
    {
     "name": "stdout",
     "output_type": "stream",
     "text": [
      "Checking accuracy on test data\n",
      "Got 9248 / 10000 with accuracy 92.48%\n",
      "Row: 7 | 392 | 14 | [0, 0.6727, 0.78, 0.8074, 0.8222, 0.8407, 0.9139, 0.9248]\n"
     ]
    },
    {
     "name": "stderr",
     "output_type": "stream",
     "text": [
      "100%|██████████| 5/5 [00:08<00:00,  1.74s/it]\n",
      "100%|██████████| 5/5 [00:08<00:00,  1.75s/it]\n",
      "100%|██████████| 5/5 [00:08<00:00,  1.78s/it]\n",
      "100%|██████████| 5/5 [00:08<00:00,  1.74s/it]\n",
      "100%|██████████| 5/5 [00:08<00:00,  1.77s/it]\n"
     ]
    },
    {
     "name": "stdout",
     "output_type": "stream",
     "text": [
      "Checking accuracy on test data\n",
      "Got 9282 / 10000 with accuracy 92.82%\n",
      "Row: 8 | 392 | 14 | [0, 0.6727, 0.78, 0.8074, 0.8222, 0.8407, 0.9139, 0.9248, 0.9282]\n"
     ]
    },
    {
     "name": "stderr",
     "output_type": "stream",
     "text": [
      "100%|██████████| 5/5 [00:08<00:00,  1.71s/it]\n",
      "100%|██████████| 5/5 [00:08<00:00,  1.78s/it]\n",
      "100%|██████████| 5/5 [00:08<00:00,  1.76s/it]\n",
      "100%|██████████| 5/5 [00:08<00:00,  1.77s/it]\n",
      "100%|██████████| 5/5 [00:08<00:00,  1.74s/it]\n"
     ]
    },
    {
     "name": "stdout",
     "output_type": "stream",
     "text": [
      "Checking accuracy on test data\n",
      "Got 9310 / 10000 with accuracy 93.10%\n",
      "Row: 9 | 392 | 14 | [0, 0.6727, 0.78, 0.8074, 0.8222, 0.8407, 0.9139, 0.9248, 0.9282, 0.931]\n"
     ]
    },
    {
     "name": "stderr",
     "output_type": "stream",
     "text": [
      "100%|██████████| 5/5 [00:08<00:00,  1.79s/it]\n",
      "100%|██████████| 5/5 [00:08<00:00,  1.75s/it]\n",
      "100%|██████████| 5/5 [00:08<00:00,  1.75s/it]\n",
      "100%|██████████| 5/5 [00:08<00:00,  1.73s/it]\n",
      "100%|██████████| 5/5 [00:08<00:00,  1.74s/it]\n"
     ]
    },
    {
     "name": "stdout",
     "output_type": "stream",
     "text": [
      "Checking accuracy on test data\n",
      "Got 9346 / 10000 with accuracy 93.46%\n",
      "Row: 10 | 392 | 14 | [0, 0.6727, 0.78, 0.8074, 0.8222, 0.8407, 0.9139, 0.9248, 0.9282, 0.931, 0.9346]\n"
     ]
    },
    {
     "name": "stderr",
     "output_type": "stream",
     "text": [
      "100%|██████████| 5/5 [00:08<00:00,  1.76s/it]\n",
      "100%|██████████| 5/5 [00:08<00:00,  1.74s/it]\n",
      "100%|██████████| 5/5 [00:08<00:00,  1.75s/it]\n",
      "100%|██████████| 5/5 [00:08<00:00,  1.76s/it]\n",
      "100%|██████████| 5/5 [00:08<00:00,  1.71s/it]\n"
     ]
    },
    {
     "name": "stdout",
     "output_type": "stream",
     "text": [
      "Checking accuracy on test data\n",
      "Got 9377 / 10000 with accuracy 93.77%\n",
      "Row: 11 | 392 | 14 | [0, 0.6727, 0.78, 0.8074, 0.8222, 0.8407, 0.9139, 0.9248, 0.9282, 0.931, 0.9346, 0.9377]\n"
     ]
    },
    {
     "name": "stderr",
     "output_type": "stream",
     "text": [
      "100%|██████████| 5/5 [00:08<00:00,  1.73s/it]\n",
      "100%|██████████| 5/5 [00:08<00:00,  1.72s/it]\n",
      "100%|██████████| 5/5 [00:08<00:00,  1.78s/it]\n",
      "100%|██████████| 5/5 [00:08<00:00,  1.71s/it]\n",
      "100%|██████████| 5/5 [00:08<00:00,  1.77s/it]\n"
     ]
    },
    {
     "name": "stdout",
     "output_type": "stream",
     "text": [
      "Checking accuracy on test data\n",
      "Got 9399 / 10000 with accuracy 93.99%\n",
      "Row: 12 | 392 | 14 | [0, 0.6727, 0.78, 0.8074, 0.8222, 0.8407, 0.9139, 0.9248, 0.9282, 0.931, 0.9346, 0.9377, 0.9399]\n"
     ]
    },
    {
     "name": "stderr",
     "output_type": "stream",
     "text": [
      "100%|██████████| 5/5 [00:08<00:00,  1.77s/it]\n",
      "100%|██████████| 5/5 [00:08<00:00,  1.69s/it]\n",
      "100%|██████████| 5/5 [00:08<00:00,  1.78s/it]\n",
      "100%|██████████| 5/5 [00:08<00:00,  1.73s/it]\n",
      "100%|██████████| 5/5 [00:08<00:00,  1.75s/it]\n"
     ]
    },
    {
     "name": "stdout",
     "output_type": "stream",
     "text": [
      "Checking accuracy on test data\n",
      "Got 9406 / 10000 with accuracy 94.06%\n",
      "Row: 13 | 392 | 14 | [0, 0.6727, 0.78, 0.8074, 0.8222, 0.8407, 0.9139, 0.9248, 0.9282, 0.931, 0.9346, 0.9377, 0.9399, 0.9406]\n"
     ]
    },
    {
     "name": "stderr",
     "output_type": "stream",
     "text": [
      "100%|██████████| 5/5 [00:08<00:00,  1.75s/it]\n",
      "100%|██████████| 5/5 [00:08<00:00,  1.73s/it]\n",
      "100%|██████████| 5/5 [00:08<00:00,  1.78s/it]\n",
      "100%|██████████| 5/5 [00:08<00:00,  1.75s/it]\n",
      "100%|██████████| 5/5 [00:08<00:00,  1.73s/it]\n"
     ]
    },
    {
     "name": "stdout",
     "output_type": "stream",
     "text": [
      "Checking accuracy on test data\n",
      "Got 9421 / 10000 with accuracy 94.21%\n",
      "Row: 14 | 392 | 14 | [0, 0.6727, 0.78, 0.8074, 0.8222, 0.8407, 0.9139, 0.9248, 0.9282, 0.931, 0.9346, 0.9377, 0.9399, 0.9406, 0.9421]\n"
     ]
    },
    {
     "name": "stderr",
     "output_type": "stream",
     "text": [
      "100%|██████████| 5/5 [00:08<00:00,  1.72s/it]\n",
      "100%|██████████| 5/5 [00:08<00:00,  1.75s/it]\n",
      "100%|██████████| 5/5 [00:08<00:00,  1.78s/it]\n",
      "100%|██████████| 5/5 [00:08<00:00,  1.72s/it]\n",
      "100%|██████████| 5/5 [00:08<00:00,  1.76s/it]\n"
     ]
    },
    {
     "name": "stdout",
     "output_type": "stream",
     "text": [
      "Checking accuracy on test data\n",
      "Got 9440 / 10000 with accuracy 94.40%\n",
      "Row: 15 | 392 | 14 | [0, 0.6727, 0.78, 0.8074, 0.8222, 0.8407, 0.9139, 0.9248, 0.9282, 0.931, 0.9346, 0.9377, 0.9399, 0.9406, 0.9421, 0.944]\n"
     ]
    },
    {
     "data": {
      "image/png": "[encoded data removed]",
      "text/plain": [
       "<Figure size 640x480 with 1 Axes>"
      ]
     },
     "metadata": {},
     "output_type": "display_data"
    },
    {
     "name": "stdout",
     "output_type": "stream",
     "text": [
      "--- NEW MODEL 8 --- \n",
      "layer1.weight\n",
      "<class 'torch.nn.parameter.Parameter'> torch.Size([392, 784])\n",
      "layer1.bias\n",
      "<class 'torch.nn.parameter.Parameter'> torch.Size([392])\n",
      "layer2.weight\n",
      "<class 'torch.nn.parameter.Parameter'> torch.Size([14, 392])\n",
      "layer2.bias\n",
      "<class 'torch.nn.parameter.Parameter'> torch.Size([14])\n",
      "layer3.weight\n",
      "<class 'torch.nn.parameter.Parameter'> torch.Size([10, 14])\n",
      "layer3.bias\n",
      "<class 'torch.nn.parameter.Parameter'> torch.Size([10])\n"
     ]
    },
    {
     "name": "stderr",
     "output_type": "stream",
     "text": [
      "100%|██████████| 5/5 [00:08<00:00,  1.79s/it]\n",
      "100%|██████████| 5/5 [00:08<00:00,  1.75s/it]\n",
      "100%|██████████| 5/5 [00:08<00:00,  1.77s/it]\n",
      "100%|██████████| 5/5 [00:08<00:00,  1.76s/it]\n",
      "100%|██████████| 5/5 [00:08<00:00,  1.76s/it]\n"
     ]
    },
    {
     "name": "stdout",
     "output_type": "stream",
     "text": [
      "Checking accuracy on test data\n",
      "Got 6049 / 10000 with accuracy 60.49%\n",
      "Row: 1 | 392 | 14 | [0, 0.6049]\n"
     ]
    },
    {
     "name": "stderr",
     "output_type": "stream",
     "text": [
      "100%|██████████| 5/5 [00:08<00:00,  1.74s/it]\n",
      "100%|██████████| 5/5 [00:08<00:00,  1.73s/it]\n",
      "100%|██████████| 5/5 [00:08<00:00,  1.75s/it]\n",
      "100%|██████████| 5/5 [00:08<00:00,  1.72s/it]\n",
      "100%|██████████| 5/5 [00:08<00:00,  1.77s/it]\n"
     ]
    },
    {
     "name": "stdout",
     "output_type": "stream",
     "text": [
      "Checking accuracy on test data\n",
      "Got 6489 / 10000 with accuracy 64.89%\n",
      "Row: 2 | 392 | 14 | [0, 0.6049, 0.6489]\n"
     ]
    },
    {
     "name": "stderr",
     "output_type": "stream",
     "text": [
      "100%|██████████| 5/5 [00:08<00:00,  1.74s/it]\n",
      "100%|██████████| 5/5 [00:08<00:00,  1.78s/it]\n",
      "100%|██████████| 5/5 [00:08<00:00,  1.75s/it]\n",
      "100%|██████████| 5/5 [00:08<00:00,  1.73s/it]\n",
      "100%|██████████| 5/5 [00:08<00:00,  1.79s/it]\n"
     ]
    },
    {
     "name": "stdout",
     "output_type": "stream",
     "text": [
      "Checking accuracy on test data\n",
      "Got 6915 / 10000 with accuracy 69.15%\n",
      "Row: 3 | 392 | 14 | [0, 0.6049, 0.6489, 0.6915]\n"
     ]
    },
    {
     "name": "stderr",
     "output_type": "stream",
     "text": [
      "100%|██████████| 5/5 [00:08<00:00,  1.76s/it]\n",
      "100%|██████████| 5/5 [00:08<00:00,  1.77s/it]\n",
      "100%|██████████| 5/5 [00:08<00:00,  1.79s/it]\n",
      "100%|██████████| 5/5 [00:08<00:00,  1.78s/it]\n",
      "100%|██████████| 5/5 [00:08<00:00,  1.76s/it]\n"
     ]
    },
    {
     "name": "stdout",
     "output_type": "stream",
     "text": [
      "Checking accuracy on test data\n",
      "Got 7518 / 10000 with accuracy 75.18%\n",
      "Row: 4 | 392 | 14 | [0, 0.6049, 0.6489, 0.6915, 0.7518]\n"
     ]
    },
    {
     "name": "stderr",
     "output_type": "stream",
     "text": [
      "100%|██████████| 5/5 [00:08<00:00,  1.72s/it]\n",
      "100%|██████████| 5/5 [00:08<00:00,  1.74s/it]\n",
      "100%|██████████| 5/5 [00:08<00:00,  1.73s/it]\n",
      "100%|██████████| 5/5 [00:08<00:00,  1.70s/it]\n",
      "100%|██████████| 5/5 [00:08<00:00,  1.74s/it]\n"
     ]
    },
    {
     "name": "stdout",
     "output_type": "stream",
     "text": [
      "Checking accuracy on test data\n",
      "Got 7789 / 10000 with accuracy 77.89%\n",
      "Row: 5 | 392 | 14 | [0, 0.6049, 0.6489, 0.6915, 0.7518, 0.7789]\n"
     ]
    },
    {
     "name": "stderr",
     "output_type": "stream",
     "text": [
      "100%|██████████| 5/5 [00:08<00:00,  1.77s/it]\n",
      "100%|██████████| 5/5 [00:08<00:00,  1.72s/it]\n",
      "100%|██████████| 5/5 [00:08<00:00,  1.76s/it]\n",
      "100%|██████████| 5/5 [00:08<00:00,  1.71s/it]\n",
      "100%|██████████| 5/5 [00:08<00:00,  1.77s/it]\n"
     ]
    },
    {
     "name": "stdout",
     "output_type": "stream",
     "text": [
      "Checking accuracy on test data\n",
      "Got 7948 / 10000 with accuracy 79.48%\n",
      "Row: 6 | 392 | 14 | [0, 0.6049, 0.6489, 0.6915, 0.7518, 0.7789, 0.7948]\n"
     ]
    },
    {
     "name": "stderr",
     "output_type": "stream",
     "text": [
      "100%|██████████| 5/5 [00:08<00:00,  1.75s/it]\n",
      "100%|██████████| 5/5 [00:08<00:00,  1.76s/it]\n",
      "100%|██████████| 5/5 [00:08<00:00,  1.77s/it]\n",
      "100%|██████████| 5/5 [00:08<00:00,  1.76s/it]\n",
      "100%|██████████| 5/5 [00:08<00:00,  1.79s/it]\n"
     ]
    },
    {
     "name": "stdout",
     "output_type": "stream",
     "text": [
      "Checking accuracy on test data\n",
      "Got 8031 / 10000 with accuracy 80.31%\n",
      "Row: 7 | 392 | 14 | [0, 0.6049, 0.6489, 0.6915, 0.7518, 0.7789, 0.7948, 0.8031]\n"
     ]
    },
    {
     "name": "stderr",
     "output_type": "stream",
     "text": [
      "100%|██████████| 5/5 [00:08<00:00,  1.70s/it]\n",
      "100%|██████████| 5/5 [00:08<00:00,  1.77s/it]\n",
      "100%|██████████| 5/5 [00:08<00:00,  1.75s/it]\n",
      "100%|██████████| 5/5 [00:08<00:00,  1.75s/it]\n",
      "100%|██████████| 5/5 [00:08<00:00,  1.72s/it]\n"
     ]
    },
    {
     "name": "stdout",
     "output_type": "stream",
     "text": [
      "Checking accuracy on test data\n",
      "Got 8104 / 10000 with accuracy 81.04%\n",
      "Row: 8 | 392 | 14 | [0, 0.6049, 0.6489, 0.6915, 0.7518, 0.7789, 0.7948, 0.8031, 0.8104]\n"
     ]
    },
    {
     "name": "stderr",
     "output_type": "stream",
     "text": [
      "100%|██████████| 5/5 [00:08<00:00,  1.74s/it]\n",
      "100%|██████████| 5/5 [00:08<00:00,  1.76s/it]\n",
      "100%|██████████| 5/5 [00:08<00:00,  1.72s/it]\n",
      "100%|██████████| 5/5 [00:08<00:00,  1.75s/it]\n",
      "100%|██████████| 5/5 [00:08<00:00,  1.76s/it]\n"
     ]
    },
    {
     "name": "stdout",
     "output_type": "stream",
     "text": [
      "Checking accuracy on test data\n",
      "Got 8157 / 10000 with accuracy 81.57%\n",
      "Row: 9 | 392 | 14 | [0, 0.6049, 0.6489, 0.6915, 0.7518, 0.7789, 0.7948, 0.8031, 0.8104, 0.8157]\n"
     ]
    },
    {
     "name": "stderr",
     "output_type": "stream",
     "text": [
      "100%|██████████| 5/5 [00:08<00:00,  1.78s/it]\n",
      "100%|██████████| 5/5 [00:08<00:00,  1.73s/it]\n",
      "100%|██████████| 5/5 [00:08<00:00,  1.72s/it]\n",
      "100%|██████████| 5/5 [00:08<00:00,  1.78s/it]\n",
      "100%|██████████| 5/5 [00:08<00:00,  1.73s/it]\n"
     ]
    },
    {
     "name": "stdout",
     "output_type": "stream",
     "text": [
      "Checking accuracy on test data\n",
      "Got 8197 / 10000 with accuracy 81.97%\n",
      "Row: 10 | 392 | 14 | [0, 0.6049, 0.6489, 0.6915, 0.7518, 0.7789, 0.7948, 0.8031, 0.8104, 0.8157, 0.8197]\n"
     ]
    },
    {
     "name": "stderr",
     "output_type": "stream",
     "text": [
      "100%|██████████| 5/5 [00:08<00:00,  1.75s/it]\n",
      "100%|██████████| 5/5 [00:08<00:00,  1.78s/it]\n",
      "100%|██████████| 5/5 [00:08<00:00,  1.74s/it]\n",
      "100%|██████████| 5/5 [00:08<00:00,  1.74s/it]\n",
      "100%|██████████| 5/5 [00:09<00:00,  1.81s/it]\n"
     ]
    },
    {
     "name": "stdout",
     "output_type": "stream",
     "text": [
      "Checking accuracy on test data\n",
      "Got 8256 / 10000 with accuracy 82.56%\n",
      "Row: 11 | 392 | 14 | [0, 0.6049, 0.6489, 0.6915, 0.7518, 0.7789, 0.7948, 0.8031, 0.8104, 0.8157, 0.8197, 0.8256]\n"
     ]
    },
    {
     "name": "stderr",
     "output_type": "stream",
     "text": [
      "100%|██████████| 5/5 [00:09<00:00,  1.91s/it]\n",
      "100%|██████████| 5/5 [00:09<00:00,  1.82s/it]\n",
      "100%|██████████| 5/5 [00:09<00:00,  1.84s/it]\n",
      "100%|██████████| 5/5 [00:08<00:00,  1.79s/it]\n",
      "100%|██████████| 5/5 [00:08<00:00,  1.79s/it]\n"
     ]
    },
    {
     "name": "stdout",
     "output_type": "stream",
     "text": [
      "Checking accuracy on test data\n",
      "Got 8282 / 10000 with accuracy 82.82%\n",
      "Row: 12 | 392 | 14 | [0, 0.6049, 0.6489, 0.6915, 0.7518, 0.7789, 0.7948, 0.8031, 0.8104, 0.8157, 0.8197, 0.8256, 0.8282]\n"
     ]
    },
    {
     "name": "stderr",
     "output_type": "stream",
     "text": [
      "100%|██████████| 5/5 [00:09<00:00,  1.82s/it]\n",
      "100%|██████████| 5/5 [00:08<00:00,  1.77s/it]\n",
      "100%|██████████| 5/5 [00:08<00:00,  1.78s/it]\n",
      "100%|██████████| 5/5 [00:08<00:00,  1.79s/it]\n",
      "100%|██████████| 5/5 [00:08<00:00,  1.77s/it]\n"
     ]
    },
    {
     "name": "stdout",
     "output_type": "stream",
     "text": [
      "Checking accuracy on test data\n",
      "Got 8315 / 10000 with accuracy 83.15%\n",
      "Row: 13 | 392 | 14 | [0, 0.6049, 0.6489, 0.6915, 0.7518, 0.7789, 0.7948, 0.8031, 0.8104, 0.8157, 0.8197, 0.8256, 0.8282, 0.8315]\n"
     ]
    },
    {
     "name": "stderr",
     "output_type": "stream",
     "text": [
      "100%|██████████| 5/5 [00:08<00:00,  1.72s/it]\n",
      "100%|██████████| 5/5 [00:08<00:00,  1.75s/it]\n",
      "100%|██████████| 5/5 [00:09<00:00,  1.91s/it]\n",
      "100%|██████████| 5/5 [00:09<00:00,  1.94s/it]\n",
      "100%|██████████| 5/5 [00:09<00:00,  1.91s/it]\n"
     ]
    },
    {
     "name": "stdout",
     "output_type": "stream",
     "text": [
      "Checking accuracy on test data\n",
      "Got 8347 / 10000 with accuracy 83.47%\n",
      "Row: 14 | 392 | 14 | [0, 0.6049, 0.6489, 0.6915, 0.7518, 0.7789, 0.7948, 0.8031, 0.8104, 0.8157, 0.8197, 0.8256, 0.8282, 0.8315, 0.8347]\n"
     ]
    },
    {
     "name": "stderr",
     "output_type": "stream",
     "text": [
      "100%|██████████| 5/5 [00:09<00:00,  1.90s/it]\n",
      "100%|██████████| 5/5 [00:09<00:00,  1.94s/it]\n",
      "100%|██████████| 5/5 [00:09<00:00,  1.89s/it]\n",
      "100%|██████████| 5/5 [00:09<00:00,  1.90s/it]\n",
      "100%|██████████| 5/5 [00:09<00:00,  1.90s/it]\n"
     ]
    },
    {
     "name": "stdout",
     "output_type": "stream",
     "text": [
      "Checking accuracy on test data\n",
      "Got 8366 / 10000 with accuracy 83.66%\n",
      "Row: 15 | 392 | 14 | [0, 0.6049, 0.6489, 0.6915, 0.7518, 0.7789, 0.7948, 0.8031, 0.8104, 0.8157, 0.8197, 0.8256, 0.8282, 0.8315, 0.8347, 0.8366]\n"
     ]
    },
    {
     "data": {
      "image/png": "[encoded data removed]",
      "text/plain": [
       "<Figure size 640x480 with 1 Axes>"
      ]
     },
     "metadata": {},
     "output_type": "display_data"
    },
    {
     "name": "stdout",
     "output_type": "stream",
     "text": [
      "--- NEW MODEL 9 --- \n",
      "layer1.weight\n",
      "<class 'torch.nn.parameter.Parameter'> torch.Size([392, 784])\n",
      "layer1.bias\n",
      "<class 'torch.nn.parameter.Parameter'> torch.Size([392])\n",
      "layer2.weight\n",
      "<class 'torch.nn.parameter.Parameter'> torch.Size([14, 392])\n",
      "layer2.bias\n",
      "<class 'torch.nn.parameter.Parameter'> torch.Size([14])\n",
      "layer3.weight\n",
      "<class 'torch.nn.parameter.Parameter'> torch.Size([10, 14])\n",
      "layer3.bias\n",
      "<class 'torch.nn.parameter.Parameter'> torch.Size([10])\n"
     ]
    },
    {
     "name": "stderr",
     "output_type": "stream",
     "text": [
      "100%|██████████| 5/5 [00:09<00:00,  1.89s/it]\n",
      "100%|██████████| 5/5 [00:09<00:00,  1.91s/it]\n",
      "100%|██████████| 5/5 [00:09<00:00,  1.88s/it]\n",
      "100%|██████████| 5/5 [00:09<00:00,  1.92s/it]\n",
      "100%|██████████| 5/5 [00:09<00:00,  1.88s/it]\n"
     ]
    },
    {
     "name": "stdout",
     "output_type": "stream",
     "text": [
      "Checking accuracy on test data\n",
      "Got 6105 / 10000 with accuracy 61.05%\n",
      "Row: 1 | 392 | 14 | [0, 0.6105]\n"
     ]
    },
    {
     "name": "stderr",
     "output_type": "stream",
     "text": [
      "100%|██████████| 5/5 [00:09<00:00,  1.91s/it]\n",
      "100%|██████████| 5/5 [00:09<00:00,  1.91s/it]\n",
      "100%|██████████| 5/5 [00:09<00:00,  1.90s/it]\n",
      "100%|██████████| 5/5 [00:09<00:00,  1.89s/it]\n",
      "100%|██████████| 5/5 [00:09<00:00,  1.90s/it]\n"
     ]
    },
    {
     "name": "stdout",
     "output_type": "stream",
     "text": [
      "Checking accuracy on test data\n",
      "Got 6465 / 10000 with accuracy 64.65%\n",
      "Row: 2 | 392 | 14 | [0, 0.6105, 0.6465]\n"
     ]
    },
    {
     "name": "stderr",
     "output_type": "stream",
     "text": [
      "100%|██████████| 5/5 [00:09<00:00,  1.88s/it]\n",
      "100%|██████████| 5/5 [00:09<00:00,  1.95s/it]\n",
      "100%|██████████| 5/5 [00:09<00:00,  1.93s/it]\n",
      "100%|██████████| 5/5 [00:09<00:00,  1.94s/it]\n",
      "100%|██████████| 5/5 [00:09<00:00,  1.91s/it]\n"
     ]
    },
    {
     "name": "stdout",
     "output_type": "stream",
     "text": [
      "Checking accuracy on test data\n",
      "Got 6570 / 10000 with accuracy 65.70%\n",
      "Row: 3 | 392 | 14 | [0, 0.6105, 0.6465, 0.657]\n"
     ]
    },
    {
     "name": "stderr",
     "output_type": "stream",
     "text": [
      "100%|██████████| 5/5 [00:09<00:00,  1.89s/it]\n",
      "100%|██████████| 5/5 [00:09<00:00,  1.87s/it]\n",
      "100%|██████████| 5/5 [00:09<00:00,  1.95s/it]\n",
      "100%|██████████| 5/5 [00:09<00:00,  1.89s/it]\n",
      "100%|██████████| 5/5 [00:09<00:00,  1.92s/it]\n"
     ]
    },
    {
     "name": "stdout",
     "output_type": "stream",
     "text": [
      "Checking accuracy on test data\n",
      "Got 6607 / 10000 with accuracy 66.07%\n",
      "Row: 4 | 392 | 14 | [0, 0.6105, 0.6465, 0.657, 0.6607]\n"
     ]
    },
    {
     "name": "stderr",
     "output_type": "stream",
     "text": [
      "100%|██████████| 5/5 [00:09<00:00,  1.91s/it]\n",
      "100%|██████████| 5/5 [00:09<00:00,  2.00s/it]\n",
      "100%|██████████| 5/5 [00:10<00:00,  2.04s/it]\n",
      "100%|██████████| 5/5 [00:09<00:00,  1.81s/it]\n",
      "100%|██████████| 5/5 [00:08<00:00,  1.77s/it]\n"
     ]
    },
    {
     "name": "stdout",
     "output_type": "stream",
     "text": [
      "Checking accuracy on test data\n",
      "Got 6649 / 10000 with accuracy 66.49%\n",
      "Row: 5 | 392 | 14 | [0, 0.6105, 0.6465, 0.657, 0.6607, 0.6649]\n"
     ]
    },
    {
     "name": "stderr",
     "output_type": "stream",
     "text": [
      "100%|██████████| 5/5 [00:08<00:00,  1.78s/it]\n",
      "100%|██████████| 5/5 [00:09<00:00,  1.83s/it]\n",
      "100%|██████████| 5/5 [00:09<00:00,  1.91s/it]\n",
      "100%|██████████| 5/5 [00:09<00:00,  1.81s/it]\n",
      "100%|██████████| 5/5 [00:09<00:00,  1.82s/it]\n"
     ]
    },
    {
     "name": "stdout",
     "output_type": "stream",
     "text": [
      "Checking accuracy on test data\n",
      "Got 6681 / 10000 with accuracy 66.81%\n",
      "Row: 6 | 392 | 14 | [0, 0.6105, 0.6465, 0.657, 0.6607, 0.6649, 0.6681]\n"
     ]
    },
    {
     "name": "stderr",
     "output_type": "stream",
     "text": [
      "100%|██████████| 5/5 [00:09<00:00,  1.81s/it]\n",
      "100%|██████████| 5/5 [00:09<00:00,  1.82s/it]\n",
      "100%|██████████| 5/5 [00:09<00:00,  1.89s/it]\n",
      "100%|██████████| 5/5 [00:08<00:00,  1.78s/it]\n",
      "100%|██████████| 5/5 [00:09<00:00,  1.81s/it]\n"
     ]
    },
    {
     "name": "stdout",
     "output_type": "stream",
     "text": [
      "Checking accuracy on test data\n",
      "Got 6708 / 10000 with accuracy 67.08%\n",
      "Row: 7 | 392 | 14 | [0, 0.6105, 0.6465, 0.657, 0.6607, 0.6649, 0.6681, 0.6708]\n"
     ]
    },
    {
     "name": "stderr",
     "output_type": "stream",
     "text": [
      "100%|██████████| 5/5 [00:09<00:00,  1.86s/it]\n",
      "100%|██████████| 5/5 [00:09<00:00,  1.81s/it]\n",
      "100%|██████████| 5/5 [00:08<00:00,  1.80s/it]\n",
      "100%|██████████| 5/5 [00:08<00:00,  1.78s/it]\n",
      "100%|██████████| 5/5 [00:09<00:00,  1.85s/it]\n"
     ]
    },
    {
     "name": "stdout",
     "output_type": "stream",
     "text": [
      "Checking accuracy on test data\n",
      "Got 6720 / 10000 with accuracy 67.20%\n",
      "Row: 8 | 392 | 14 | [0, 0.6105, 0.6465, 0.657, 0.6607, 0.6649, 0.6681, 0.6708, 0.672]\n"
     ]
    },
    {
     "name": "stderr",
     "output_type": "stream",
     "text": [
      "100%|██████████| 5/5 [00:08<00:00,  1.78s/it]\n",
      "100%|██████████| 5/5 [00:09<00:00,  1.82s/it]\n",
      "100%|██████████| 5/5 [00:09<00:00,  1.86s/it]\n",
      "100%|██████████| 5/5 [00:09<00:00,  1.85s/it]\n",
      "100%|██████████| 5/5 [00:09<00:00,  1.83s/it]\n"
     ]
    },
    {
     "name": "stdout",
     "output_type": "stream",
     "text": [
      "Checking accuracy on test data\n",
      "Got 6734 / 10000 with accuracy 67.34%\n",
      "Row: 9 | 392 | 14 | [0, 0.6105, 0.6465, 0.657, 0.6607, 0.6649, 0.6681, 0.6708, 0.672, 0.6734]\n"
     ]
    },
    {
     "name": "stderr",
     "output_type": "stream",
     "text": [
      "100%|██████████| 5/5 [00:09<00:00,  1.86s/it]\n",
      "100%|██████████| 5/5 [00:09<00:00,  1.81s/it]\n",
      "100%|██████████| 5/5 [00:08<00:00,  1.79s/it]\n",
      "100%|██████████| 5/5 [00:08<00:00,  1.78s/it]\n",
      "100%|██████████| 5/5 [00:08<00:00,  1.76s/it]\n"
     ]
    },
    {
     "name": "stdout",
     "output_type": "stream",
     "text": [
      "Checking accuracy on test data\n",
      "Got 6741 / 10000 with accuracy 67.41%\n",
      "Row: 10 | 392 | 14 | [0, 0.6105, 0.6465, 0.657, 0.6607, 0.6649, 0.6681, 0.6708, 0.672, 0.6734, 0.6741]\n"
     ]
    },
    {
     "name": "stderr",
     "output_type": "stream",
     "text": [
      "100%|██████████| 5/5 [00:09<00:00,  1.84s/it]\n",
      "100%|██████████| 5/5 [00:09<00:00,  1.81s/it]\n",
      "100%|██████████| 5/5 [00:08<00:00,  1.79s/it]\n",
      "100%|██████████| 5/5 [00:09<00:00,  1.82s/it]\n",
      "100%|██████████| 5/5 [00:08<00:00,  1.80s/it]\n"
     ]
    },
    {
     "name": "stdout",
     "output_type": "stream",
     "text": [
      "Checking accuracy on test data\n",
      "Got 6762 / 10000 with accuracy 67.62%\n",
      "Row: 11 | 392 | 14 | [0, 0.6105, 0.6465, 0.657, 0.6607, 0.6649, 0.6681, 0.6708, 0.672, 0.6734, 0.6741, 0.6762]\n"
     ]
    },
    {
     "name": "stderr",
     "output_type": "stream",
     "text": [
      "100%|██████████| 5/5 [00:08<00:00,  1.77s/it]\n",
      "100%|██████████| 5/5 [00:09<00:00,  1.83s/it]\n",
      "100%|██████████| 5/5 [00:09<00:00,  1.93s/it]\n",
      "100%|██████████| 5/5 [00:09<00:00,  1.83s/it]\n",
      "100%|██████████| 5/5 [00:09<00:00,  1.85s/it]\n"
     ]
    },
    {
     "name": "stdout",
     "output_type": "stream",
     "text": [
      "Checking accuracy on test data\n",
      "Got 6770 / 10000 with accuracy 67.70%\n",
      "Row: 12 | 392 | 14 | [0, 0.6105, 0.6465, 0.657, 0.6607, 0.6649, 0.6681, 0.6708, 0.672, 0.6734, 0.6741, 0.6762, 0.677]\n"
     ]
    },
    {
     "name": "stderr",
     "output_type": "stream",
     "text": [
      "100%|██████████| 5/5 [00:09<00:00,  1.85s/it]\n",
      "100%|██████████| 5/5 [00:09<00:00,  1.83s/it]\n",
      "100%|██████████| 5/5 [00:09<00:00,  1.87s/it]\n",
      "100%|██████████| 5/5 [00:09<00:00,  1.84s/it]\n",
      "100%|██████████| 5/5 [00:08<00:00,  1.75s/it]\n"
     ]
    },
    {
     "name": "stdout",
     "output_type": "stream",
     "text": [
      "Checking accuracy on test data\n",
      "Got 6781 / 10000 with accuracy 67.81%\n",
      "Row: 13 | 392 | 14 | [0, 0.6105, 0.6465, 0.657, 0.6607, 0.6649, 0.6681, 0.6708, 0.672, 0.6734, 0.6741, 0.6762, 0.677, 0.6781]\n"
     ]
    },
    {
     "name": "stderr",
     "output_type": "stream",
     "text": [
      "100%|██████████| 5/5 [00:09<00:00,  1.84s/it]\n",
      "100%|██████████| 5/5 [00:09<00:00,  1.88s/it]\n",
      "100%|██████████| 5/5 [00:09<00:00,  1.86s/it]\n",
      "100%|██████████| 5/5 [00:08<00:00,  1.79s/it]\n",
      "100%|██████████| 5/5 [00:08<00:00,  1.77s/it]\n"
     ]
    },
    {
     "name": "stdout",
     "output_type": "stream",
     "text": [
      "Checking accuracy on test data\n",
      "Got 6790 / 10000 with accuracy 67.90%\n",
      "Row: 14 | 392 | 14 | [0, 0.6105, 0.6465, 0.657, 0.6607, 0.6649, 0.6681, 0.6708, 0.672, 0.6734, 0.6741, 0.6762, 0.677, 0.6781, 0.679]\n"
     ]
    },
    {
     "name": "stderr",
     "output_type": "stream",
     "text": [
      "100%|██████████| 5/5 [00:09<00:00,  1.84s/it]\n",
      "100%|██████████| 5/5 [00:08<00:00,  1.78s/it]\n",
      "100%|██████████| 5/5 [00:08<00:00,  1.79s/it]\n",
      "100%|██████████| 5/5 [00:08<00:00,  1.77s/it]\n",
      "100%|██████████| 5/5 [00:08<00:00,  1.79s/it]\n"
     ]
    },
    {
     "name": "stdout",
     "output_type": "stream",
     "text": [
      "Checking accuracy on test data\n",
      "Got 6799 / 10000 with accuracy 67.99%\n",
      "Row: 15 | 392 | 14 | [0, 0.6105, 0.6465, 0.657, 0.6607, 0.6649, 0.6681, 0.6708, 0.672, 0.6734, 0.6741, 0.6762, 0.677, 0.6781, 0.679, 0.6799]\n"
     ]
    },
    {
     "data": {
      "image/png": "[encoded data removed]",
      "text/plain": [
       "<Figure size 640x480 with 1 Axes>"
      ]
     },
     "metadata": {},
     "output_type": "display_data"
    },
    {
     "name": "stdout",
     "output_type": "stream",
     "text": [
      "Test 0: [0, 0.6054, 0.7116, 0.7333, 0.7677, 0.7879, 0.7996, 0.8084, 0.8158, 0.8217, 0.826, 0.8308, 0.8335, 0.8357, 0.8382, 0.8407]\n",
      "Test 1: [0, 0.554, 0.649, 0.6592, 0.7459, 0.7523, 0.7553, 0.7575, 0.7603, 0.8396, 0.8503, 0.8534, 0.8546, 0.8563, 0.8579, 0.86]\n",
      "Test 2: [0, 0.6241, 0.7667, 0.8743, 0.8965, 0.9085, 0.9158, 0.9214, 0.9257, 0.93, 0.9324, 0.9349, 0.9373, 0.9384, 0.9414, 0.9428]\n",
      "Test 3: [0, 0.5968, 0.6947, 0.7326, 0.7453, 0.752, 0.7566, 0.7607, 0.763, 0.7659, 0.7673, 0.7684, 0.7694, 0.7714, 0.8499, 0.8615]\n",
      "Test 4: [0, 0.5685, 0.7306, 0.806, 0.8202, 0.8288, 0.8346, 0.8395, 0.8433, 0.8453, 0.8469, 0.8485, 0.8505, 0.8514, 0.8533, 0.8548]\n",
      "Test 5: [0, 0.6329, 0.7312, 0.7491, 0.7571, 0.8159, 0.8421, 0.8473, 0.852, 0.8557, 0.8578, 0.8595, 0.8613, 0.8639, 0.8654, 0.8666]\n",
      "Test 6: [0, 0.6095, 0.7645, 0.795, 0.8124, 0.8205, 0.9009, 0.9165, 0.922, 0.9281, 0.9317, 0.9348, 0.9381, 0.9402, 0.9423, 0.9442]\n",
      "Test 7: [0, 0.6727, 0.78, 0.8074, 0.8222, 0.8407, 0.9139, 0.9248, 0.9282, 0.931, 0.9346, 0.9377, 0.9399, 0.9406, 0.9421, 0.944]\n",
      "Test 8: [0, 0.6049, 0.6489, 0.6915, 0.7518, 0.7789, 0.7948, 0.8031, 0.8104, 0.8157, 0.8197, 0.8256, 0.8282, 0.8315, 0.8347, 0.8366]\n",
      "Test 9: [0, 0.6105, 0.6465, 0.657, 0.6607, 0.6649, 0.6681, 0.6708, 0.672, 0.6734, 0.6741, 0.6762, 0.677, 0.6781, 0.679, 0.6799]\n"
     ]
    }
   ],
   "source": [
    "# Factors of 392\n",
    "# 1, 2, 4, 7, 8, 14, 28, 49, 56, 98, 196, 392.\n",
    "\n",
    "num_dendritic_inputs = 392\n",
    "num_neurons = 14\n",
    "num_dendrite_neuron_layers = 1\n",
    "\n",
    "num_trials = 10\n",
    "num_trainings = 15 \n",
    "data = {}\n",
    "\n",
    "for trial in range(num_trials):\n",
    "  print(f\"--- NEW MODEL {trial} --- \")\n",
    "  data[trial] = run_trials(num_dendritic_inputs, num_neurons, num_dendrite_neuron_layers, num_trainings)\n",
    "\n",
    "# Print data after all runs\n",
    "for i in range(num_trials):\n",
    "  print(f\"Test {i}: {data[i]}\")"
   ]
  },
  {
   "cell_type": "code",
   "execution_count": 22,
   "metadata": {},
   "outputs": [
    {
     "data": {
      "image/png": "[encoded data removed]",
      "text/plain": [
       "<Figure size 640x480 with 1 Axes>"
      ]
     },
     "metadata": {},
     "output_type": "display_data"
    }
   ],
   "source": [
    "# Convert list of data over tests into a data frame\n",
    "df = pd.DataFrame(data)\n",
    "\n",
    "# Set up x axis ticks\n",
    "x_values = list(range(len(df)))\n",
    "trial_idx_list = list(range(num_trials))\n",
    "\n",
    "# List of confidence intervals at each training\n",
    "ci_values = []\n",
    "\n",
    "mean_values = df[trial_idx_list].mean(axis=1).tolist()\n",
    "\n",
    "for _, row in df[trial_idx_list].iterrows():\n",
    "  mean = row.mean()\n",
    "  sem = row.sem()\n",
    "  ci = sem * 1.96  # 95% confidence interval\n",
    "  ci_values.append(ci)\n",
    "\n",
    "# Plot styling\n",
    "plt.title(f\"Biological Neuron Inspired ANN\\n Average Accuracy Over {num_trials} Trials with {num_trainings} Trainings Per Trial\\n 95% Confidence Intervals\", fontsize = 17)\n",
    "plt.xlabel(\"Number of trainings\", fontsize = 16)\n",
    "plt.ylabel(\"Accuracy\", fontsize = 16)\n",
    "\n",
    "plt.xticks(np.arange(0, 16, 1), fontsize = 13)\n",
    "plt.yticks(np.arange(0, 1.1, 0.1), fontsize = 13)\n",
    "\n",
    "sns.lineplot(x = x_values, y = mean_values)\n",
    "plt.errorbar(x = x_values, y = mean_values, yerr=ci_values, linestyle='None', color='red')\n",
    "plt.show()\n"
   ]
  },
  {
   "cell_type": "code",
   "execution_count": null,
   "metadata": {},
   "outputs": [],
   "source": []
  }
 ],
 "metadata": {
  "kernelspec": {
   "display_name": "Python 3 (ipykernel)",
   "language": "python",
   "name": "python3"
  },
  "language_info": {
   "codemirror_mode": {
    "name": "ipython",
    "version": 3
   },
   "file_extension": ".py",
   "mimetype": "text/x-python",
   "name": "python",
   "nbconvert_exporter": "python",
   "pygments_lexer": "ipython3",
   "version": "3.11.3"
  }
 },
 "nbformat": 4,
 "nbformat_minor": 2
}
